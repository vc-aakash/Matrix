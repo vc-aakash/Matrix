{
 "cells": [
  {
   "cell_type": "code",
   "execution_count": 37,
   "metadata": {},
   "outputs": [],
   "source": [
    "from cryptography.fernet import Fernet"
   ]
  },
  {
   "cell_type": "code",
   "execution_count": 38,
   "metadata": {},
   "outputs": [],
   "source": [
    "def generate_key():\n",
    "    key = Fernet.generate_key()\n",
    "    with open(\"encryption_key.key\", \"wb\") as key_file:\n",
    "        key_file.write(key)\n",
    "    print(\"Encryption key generated\")"
   ]
  },
  {
   "cell_type": "code",
   "execution_count": 39,
   "metadata": {},
   "outputs": [],
   "source": [
    "def load_key():\n",
    "    try:\n",
    "        with open(\"encryption_key.key\", \"rb\") as key_file:\n",
    "            return key_file.read()\n",
    "    except FileNotFoundError:\n",
    "        print(\"Key not found. Generate key\")\n",
    "        return None"
   ]
  },
  {
   "cell_type": "code",
   "execution_count": 40,
   "metadata": {},
   "outputs": [],
   "source": [
    "def encrypt_message(message, key):\n",
    "    fernet = Fernet(key)\n",
    "    encrypted_message = fernet.encrypt(message.encode())\n",
    "    return encrypted_message"
   ]
  },
  {
   "cell_type": "code",
   "execution_count": 41,
   "metadata": {},
   "outputs": [],
   "source": [
    "def decrypt_message(message, key):\n",
    "    fernet = Fernet(key)\n",
    "    decrypted_message = fernet.decrypt(message).decode()\n",
    "    return decrypted_message"
   ]
  },
  {
   "cell_type": "code",
   "execution_count": 42,
   "metadata": {},
   "outputs": [
    {
     "name": "stdout",
     "output_type": "stream",
     "text": [
      "Encryption Agent\n",
      "1. Generate Key\n",
      "2. Encrypt Message\n",
      "3. Decrypt Message\n",
      "4. Exit\n",
      "Encrypted message: gAAAAABntgeKjMCwAhpYYqteSFbXgeCWKsZM-KbhN1Tuy9D5S9EiPwA0JBvrco73_4Ah6zRdp2VGqikwkO0xKk3S3jverRtKDw==\n",
      "Decrypted message: df\n",
      "Encrypted message: gAAAAABntgecTFXg8GyYBODuDQiHGKRGwZOeMCWFDflgf18POJ8GtR9AVfoKFCuHHwpBOp_lOfhRiWJBlvWz6dcd7-TY6unFtA==\n",
      "Decrypted message: test2\n",
      "Encrypted message: gAAAAABntgeqTyjbic79wlFQhpUic7xbJG0pt3pI30iMumFVyioqG5ukwdNDO5aElbxwnJcYlTrP73myPcDN2b3q-Ln8vE4lvA==\n",
      "Invalid choice\n",
      "Decrypted message: test3\n",
      "Invalid choice\n"
     ]
    }
   ],
   "source": [
    "if __name__ == \"__main__\":\n",
    "    print(\"Encryption Agent\")\n",
    "    print(\"1. Generate Key\")\n",
    "    print(\"2. Encrypt Message\")\n",
    "    print(\"3. Decrypt Message\")\n",
    "    print(\"4. Exit\")\n",
    "\n",
    "    while True:\n",
    "        choice = input(\"Choose an option:\")\n",
    "\n",
    "        if (choice == \"1\"):\n",
    "            generate_key()\n",
    "        elif (choice == \"2\"):\n",
    "            key = load_key()\n",
    "            if key:\n",
    "                message = input(\"Enter message to encrypt: \")\n",
    "                encrypted_message = encrypt_message(message, key)\n",
    "                print(f\"Encrypted message: {encrypted_message.decode()}\")\n",
    "        elif (choice == \"3\"):\n",
    "            key = load_key()\n",
    "            if key:\n",
    "                message = input(\"Enter encrypted message: \")\n",
    "                try:\n",
    "                    decrypted_message = decrypt_message(message, key)\n",
    "                    print(f\"Decrypted message: {decrypted_message}\")\n",
    "                except Exception as e:\n",
    "                    print(f\"Decryption failed: {e}\")\n",
    "        elif (choice == \"4\"):\n",
    "            break\n",
    "\n",
    "        else:\n",
    "            print(\"Invalid choice\")"
   ]
  },
  {
   "cell_type": "markdown",
   "metadata": {},
   "source": []
  }
 ],
 "metadata": {
  "kernelspec": {
   "display_name": "ml_env",
   "language": "python",
   "name": "python3"
  },
  "language_info": {
   "codemirror_mode": {
    "name": "ipython",
    "version": 3
   },
   "file_extension": ".py",
   "mimetype": "text/x-python",
   "name": "python",
   "nbconvert_exporter": "python",
   "pygments_lexer": "ipython3",
   "version": "3.10.11"
  }
 },
 "nbformat": 4,
 "nbformat_minor": 2
}
