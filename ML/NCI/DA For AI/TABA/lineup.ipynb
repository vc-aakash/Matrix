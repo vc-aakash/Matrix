{
 "cells": [
  {
   "cell_type": "code",
   "execution_count": null,
   "metadata": {},
   "outputs": [
    {
     "ename": "ImportError",
     "evalue": "cannot import name 'boxscorestarterbenchstats' from 'nba_api.stats.endpoints' (d:\\Cerberus\\Assets\\Code\\ML\\NCI\\DA For AI\\TABA\\taba\\lib\\site-packages\\nba_api\\stats\\endpoints\\__init__.py)",
     "output_type": "error",
     "traceback": [
      "\u001b[1;31m---------------------------------------------------------------------------\u001b[0m",
      "\u001b[1;31mImportError\u001b[0m                               Traceback (most recent call last)",
      "Cell \u001b[1;32mIn[5], line 3\u001b[0m\n\u001b[0;32m      1\u001b[0m \u001b[38;5;28;01mimport\u001b[39;00m\u001b[38;5;250m \u001b[39m\u001b[38;5;21;01mpandas\u001b[39;00m\u001b[38;5;250m \u001b[39m\u001b[38;5;28;01mas\u001b[39;00m\u001b[38;5;250m \u001b[39m\u001b[38;5;21;01mpd\u001b[39;00m\n\u001b[0;32m      2\u001b[0m \u001b[38;5;28;01mimport\u001b[39;00m\u001b[38;5;250m \u001b[39m\u001b[38;5;21;01mnumpy\u001b[39;00m\u001b[38;5;250m \u001b[39m\u001b[38;5;28;01mas\u001b[39;00m\u001b[38;5;250m \u001b[39m\u001b[38;5;21;01mnp\u001b[39;00m\n\u001b[1;32m----> 3\u001b[0m \u001b[38;5;28;01mfrom\u001b[39;00m\u001b[38;5;250m \u001b[39m\u001b[38;5;21;01mnba_api\u001b[39;00m\u001b[38;5;21;01m.\u001b[39;00m\u001b[38;5;21;01mstats\u001b[39;00m\u001b[38;5;21;01m.\u001b[39;00m\u001b[38;5;21;01mendpoints\u001b[39;00m\u001b[38;5;250m \u001b[39m\u001b[38;5;28;01mimport\u001b[39;00m playbyplayv2, boxscorestarterbenchstats\n\u001b[0;32m      5\u001b[0m \u001b[38;5;28;01mdef\u001b[39;00m\u001b[38;5;250m \u001b[39m\u001b[38;5;21mextract_sub_players\u001b[39m(description):\n\u001b[0;32m      6\u001b[0m \u001b[38;5;250m    \u001b[39m\u001b[38;5;124;03m\"\"\"Extract player IDs for substitution plays (who goes in, who comes out)\"\"\"\u001b[39;00m\n",
      "\u001b[1;31mImportError\u001b[0m: cannot import name 'boxscorestarterbenchstats' from 'nba_api.stats.endpoints' (d:\\Cerberus\\Assets\\Code\\ML\\NCI\\DA For AI\\TABA\\taba\\lib\\site-packages\\nba_api\\stats\\endpoints\\__init__.py)"
     ]
    }
   ],
   "source": [
    "import pandas as pd\n",
    "import numpy as np\n",
    "from nba_api.stats.endpoints import playbyplayv2, boxscorestarterbenchstats\n",
    "\n",
    "def extract_sub_players(description):\n",
    "    \"\"\"Extract player IDs for substitution plays (who goes in, who comes out)\"\"\"\n",
    "    if pd.isna(description) or 'SUB' not in description:\n",
    "        return None, None\n",
    "        \n",
    "    # The description format is typically: \"SUB: PLAYER_OUT OUT, PLAYER_IN IN\"\n",
    "    parts = description.split(', ')\n",
    "    if len(parts) != 2:\n",
    "        return None, None\n",
    "        \n",
    "    try:\n",
    "        out_part = parts[0].split(': ')[1] if ': ' in parts[0] else parts[0]\n",
    "        out_player = out_part.split(' OUT')[0].strip()\n",
    "        in_player = parts[1].split(' IN')[0].strip()\n",
    "        return out_player, in_player\n",
    "    except Exception:\n",
    "        return None, None\n",
    "        \n",
    "def convert_to_seconds(time_str):\n",
    "    \"\"\"Convert MM:SS format to seconds\"\"\"\n",
    "    if pd.isna(time_str):\n",
    "        return 0\n",
    "    minutes, seconds = map(float, time_str.split(':'))\n",
    "    return minutes * 60 + seconds\n",
    "\n",
    "def calculate_duration(start_period, start_time, end_period, end_time):\n",
    "    \"\"\"Calculate duration between two game clock times, handling period changes\"\"\"\n",
    "    # NBA periods are 12 minutes in regulation\n",
    "    PERIOD_LENGTH = 12 * 60  # 12 minutes in seconds\n",
    "    # Overtime periods are 5 minutes\n",
    "    OT_LENGTH = 5 * 60  # 5 minutes in seconds\n",
    "    \n",
    "    if start_period == end_period:\n",
    "        # Simple case: same period\n",
    "        return start_time - end_time\n",
    "    else:\n",
    "        duration = start_time  # Remaining time in start period\n",
    "        \n",
    "        # Add full periods in between\n",
    "        for period in range(start_period + 1, end_period):\n",
    "            if period <= 4:  # Regulation\n",
    "                duration += PERIOD_LENGTH\n",
    "            else:  # Overtime\n",
    "                duration += OT_LENGTH\n",
    "                \n",
    "        # Add time elapsed in the final period\n",
    "        if end_period <= 4:  # Regulation\n",
    "            duration += (PERIOD_LENGTH - end_time)\n",
    "        else:  # Overtime\n",
    "            duration += (OT_LENGTH - end_time)\n",
    "            \n",
    "        return duration\n",
    "\n",
    "def get_player_ids_from_names(pbp_df, team_id):\n",
    "    \"\"\"Get player IDs from player names for a specific team\"\"\"\n",
    "    # Create a mapping from player names to IDs\n",
    "    player_mapping = {}\n",
    "    \n",
    "    # Look for all player entries for the given team\n",
    "    team_plays = pbp_df[\n",
    "        (pbp_df['PLAYER1_TEAM_ID'] == team_id) | \n",
    "        (pbp_df['PLAYER2_TEAM_ID'] == team_id) | \n",
    "        (pbp_df['PLAYER3_TEAM_ID'] == team_id)\n",
    "    ]\n",
    "    \n",
    "    # Add Player 1 mappings\n",
    "    p1_df = team_plays[team_plays['PLAYER1_TEAM_ID'] == team_id]\n",
    "    for _, row in p1_df.iterrows():\n",
    "        if not pd.isna(row['PLAYER1_NAME']) and not pd.isna(row['PLAYER1_ID']):\n",
    "            player_mapping[row['PLAYER1_NAME']] = row['PLAYER1_ID']\n",
    "    \n",
    "    # Add Player 2 mappings\n",
    "    p2_df = team_plays[team_plays['PLAYER2_TEAM_ID'] == team_id]\n",
    "    for _, row in p2_df.iterrows():\n",
    "        if not pd.isna(row['PLAYER2_NAME']) and not pd.isna(row['PLAYER2_ID']):\n",
    "            player_mapping[row['PLAYER2_NAME']] = row['PLAYER2_ID']\n",
    "    \n",
    "    # Add Player 3 mappings\n",
    "    p3_df = team_plays[team_plays['PLAYER3_TEAM_ID'] == team_id]\n",
    "    for _, row in p3_df.iterrows():\n",
    "        if not pd.isna(row['PLAYER3_NAME']) and not pd.isna(row['PLAYER3_ID']):\n",
    "            player_mapping[row['PLAYER3_NAME']] = row['PLAYER3_ID']\n",
    "    \n",
    "    return player_mapping\n",
    "\n",
    "def track_lineups_with_stats(game_id):\n",
    "    \"\"\"\n",
    "    Track all lineups throughout a game with detailed statistics\n",
    "    \n",
    "    Parameters:\n",
    "    game_id (str): NBA game ID\n",
    "    \n",
    "    Returns:\n",
    "    pd.DataFrame: Timeline of lineup segments with stats\n",
    "    \"\"\"\n",
    "    # Get play-by-play data\n",
    "    pbp = playbyplayv2.PlayByPlayV2(game_id=game_id)\n",
    "    pbp_df = pbp.get_data_frames()[0]\n",
    "    \n",
    "    # Get team IDs\n",
    "    home_team_id = pbp_df['PLAYER1_TEAM_ID'].iloc[0]\n",
    "    for i in range(len(pbp_df)):\n",
    "        if pbp_df['PLAYER1_TEAM_ID'].iloc[i] != home_team_id and not pd.isna(pbp_df['PLAYER1_TEAM_ID'].iloc[i]):\n",
    "            away_team_id = pbp_df['PLAYER1_TEAM_ID'].iloc[i]\n",
    "            break\n",
    "    \n",
    "    # Get player name to ID mappings for substitutions\n",
    "    home_player_map = get_player_ids_from_names(pbp_df, home_team_id)\n",
    "    away_player_map = get_player_ids_from_names(pbp_df, away_team_id)\n",
    "    \n",
    "    # Get starting lineups\n",
    "    try:\n",
    "        # Try to get starters from box score\n",
    "        starters = boxscorestarterbenchstats.BoxScoreStarterBenchStats(game_id=game_id)\n",
    "        starters_df = starters.get_data_frames()[0]\n",
    "        \n",
    "        home_starters = starters_df[starters_df['TEAM_ID'] == home_team_id]['PLAYER_ID'].tolist()[:5]\n",
    "        away_starters = starters_df[starters_df['TEAM_ID'] == away_team_id]['PLAYER_ID'].tolist()[:5]\n",
    "    except:\n",
    "        # Fallback: infer starters from the first few plays\n",
    "        home_starters = []\n",
    "        away_starters = []\n",
    "        \n",
    "        for _, play in pbp_df.iterrows():\n",
    "            if play['EVENTMSGTYPE'] not in [8, 10]:  # Skip non-player events\n",
    "                if not pd.isna(play['PLAYER1_TEAM_ID']):\n",
    "                    if play['PLAYER1_TEAM_ID'] == home_team_id and play['PLAYER1_ID'] not in home_starters:\n",
    "                        home_starters.append(play['PLAYER1_ID'])\n",
    "                    elif play['PLAYER1_TEAM_ID'] == away_team_id and play['PLAYER1_ID'] not in away_starters:\n",
    "                        away_starters.append(play['PLAYER1_ID'])\n",
    "                        \n",
    "                if not pd.isna(play['PLAYER2_TEAM_ID']):\n",
    "                    if play['PLAYER2_TEAM_ID'] == home_team_id and play['PLAYER2_ID'] not in home_starters:\n",
    "                        home_starters.append(play['PLAYER2_ID'])\n",
    "                    elif play['PLAYER2_TEAM_ID'] == away_team_id and play['PLAYER2_ID'] not in away_starters:\n",
    "                        away_starters.append(play['PLAYER2_ID'])\n",
    "                        \n",
    "                if not pd.isna(play['PLAYER3_TEAM_ID']):\n",
    "                    if play['PLAYER3_TEAM_ID'] == home_team_id and play['PLAYER3_ID'] not in home_starters:\n",
    "                        home_starters.append(play['PLAYER3_ID'])\n",
    "                    elif play['PLAYER3_TEAM_ID'] == away_team_id and play['PLAYER3_ID'] not in away_starters:\n",
    "                        away_starters.append(play['PLAYER3_ID'])\n",
    "            \n",
    "            # Stop once we have 5 players for each team\n",
    "            if len(home_starters) >= 5 and len(away_starters) >= 5:\n",
    "                break\n",
    "        \n",
    "        # Ensure we have exactly 5 players\n",
    "        home_starters = home_starters[:5]\n",
    "        away_starters = away_starters[:5]\n",
    "    \n",
    "    # Initialize current lineups\n",
    "    current_home_lineup = set(home_starters)\n",
    "    current_away_lineup = set(away_starters)\n",
    "    \n",
    "    # Initialize stats trackers for current lineup\n",
    "    home_stats = {\n",
    "        'PTS': 0, 'FGM': 0, 'FGA': 0, 'FG3M': 0, 'FG3A': 0, 'FTM': 0, 'FTA': 0,\n",
    "        'OREB': 0, 'DREB': 0, 'REB': 0, 'AST': 0, 'STL': 0, 'BLK': 0, 'BLKA': 0, \n",
    "        'TOV': 0, 'PF': 0, 'PFD': 0, 'PLUS_MINUS': 0\n",
    "    }\n",
    "    \n",
    "    away_stats = {\n",
    "        'PTS': 0, 'FGM': 0, 'FGA': 0, 'FG3M': 0, 'FG3A': 0, 'FTM': 0, 'FTA': 0,\n",
    "        'OREB': 0, 'DREB': 0, 'REB': 0, 'AST': 0, 'STL': 0, 'BLK': 0, 'BLKA': 0, \n",
    "        'TOV': 0, 'PF': 0, 'PFD': 0, 'PLUS_MINUS': 0\n",
    "    }\n",
    "    \n",
    "    # Track lineups over time\n",
    "    lineups_timeline = []\n",
    "    current_lineup_start_event = 0\n",
    "    \n",
    "    # Extract starting score\n",
    "    starting_score = \"0 - 0\"\n",
    "    start_home, start_away = 0, 0\n",
    "    \n",
    "    for idx, play in pbp_df.iterrows():\n",
    "        # Check if lineup changed due to substitution\n",
    "        lineup_changed = False\n",
    "        \n",
    "        # Handle home team substitution\n",
    "        if not pd.isna(play['HOMEDESCRIPTION']) and 'SUB' in str(play['HOMEDESCRIPTION']):\n",
    "            out_name, in_name = extract_sub_players(play['HOMEDESCRIPTION'])\n",
    "            \n",
    "            if out_name in home_player_map and in_name in home_player_map:\n",
    "                out_id = home_player_map[out_name]\n",
    "                in_id = home_player_map[in_name]\n",
    "                \n",
    "                if out_id in current_home_lineup:\n",
    "                    current_home_lineup.remove(out_id)\n",
    "                    current_home_lineup.add(in_id)\n",
    "                    lineup_changed = True\n",
    "        \n",
    "        # Handle away team substitution\n",
    "        if not pd.isna(play['VISITORDESCRIPTION']) and 'SUB' in str(play['VISITORDESCRIPTION']):\n",
    "            out_name, in_name = extract_sub_players(play['VISITORDESCRIPTION'])\n",
    "            \n",
    "            if out_name in away_player_map and in_name in away_player_map:\n",
    "                out_id = away_player_map[out_name]\n",
    "                in_id = away_player_map[in_name]\n",
    "                \n",
    "                if out_id in current_away_lineup:\n",
    "                    current_away_lineup.remove(out_id)\n",
    "                    current_away_lineup.add(in_id)\n",
    "                    lineup_changed = True\n",
    "        \n",
    "        # If lineup changed or end of game, record the segment\n",
    "        if (lineup_changed or idx == len(pbp_df) - 1) and idx > 0:\n",
    "            # Get the previous play for timing\n",
    "            prev_play = pbp_df.iloc[current_lineup_start_event]\n",
    "            \n",
    "            # Calculate time duration\n",
    "            start_period = prev_play['PERIOD']\n",
    "            start_time = convert_to_seconds(prev_play['PCTIMESTRING'])\n",
    "            end_period = play['PERIOD']\n",
    "            end_time = convert_to_seconds(play['PCTIMESTRING'])\n",
    "            \n",
    "            duration = calculate_duration(start_period, start_time, end_period, end_time)\n",
    "            \n",
    "            # Get score change\n",
    "            if not pd.isna(prev_play['SCORE']):\n",
    "                prev_score = prev_play['SCORE']\n",
    "                prev_home, prev_away = map(int, prev_score.split(' - '))\n",
    "            else:\n",
    "                # Use the global starting score\n",
    "                prev_home, prev_away = start_home, start_away\n",
    "            \n",
    "            if not pd.isna(play['SCORE']):\n",
    "                end_score = play['SCORE']\n",
    "                end_home, end_away = map(int, end_score.split(' - '))\n",
    "            else:\n",
    "                # Use the previous known score\n",
    "                end_home, end_away = prev_home, prev_away\n",
    "            \n",
    "            # Update plus/minus\n",
    "            home_stats['PLUS_MINUS'] = (end_home - prev_home) - (end_away - prev_away)\n",
    "            away_stats['PLUS_MINUS'] = (end_away - prev_away) - (end_home - prev_home)\n",
    "            \n",
    "            # Create unique lineup instance IDs\n",
    "            home_lineup_instance_id = f\"{game_id}-HOME-{current_lineup_start_event}-{idx}\"\n",
    "            away_lineup_instance_id = f\"{game_id}-AWAY-{current_lineup_start_event}-{idx}\"\n",
    "            \n",
    "            # Create entries for home and away lineups\n",
    "            home_lineup_entry = {\n",
    "                'GAME_ID': game_id,\n",
    "                'LINEUP_ID': home_lineup_instance_id,\n",
    "                'TEAM_ID': home_team_id,\n",
    "                'START_EVENTNUM': current_lineup_start_event,\n",
    "                'END_EVENTNUM': idx,\n",
    "                'START_PERIOD': start_period,\n",
    "                'END_PERIOD': end_period,\n",
    "                'START_TIME': prev_play['PCTIMESTRING'],\n",
    "                'END_TIME': play['PCTIMESTRING'],\n",
    "                'DURATION_SECONDS': duration,\n",
    "                'LINEUP': tuple(sorted(current_home_lineup)),\n",
    "                'SCORE_START': prev_home,\n",
    "                'SCORE_END': end_home,\n",
    "                'PLUS_MINUS': home_stats['PLUS_MINUS']\n",
    "            }\n",
    "            \n",
    "            away_lineup_entry = {\n",
    "                'GAME_ID': game_id,\n",
    "                'LINEUP_ID': away_lineup_instance_id,\n",
    "                'TEAM_ID': away_team_id,\n",
    "                'START_EVENTNUM': current_lineup_start_event,\n",
    "                'END_EVENTNUM': idx,\n",
    "                'START_PERIOD': start_period,\n",
    "                'END_PERIOD': end_period,\n",
    "                'START_TIME': prev_play['PCTIMESTRING'],\n",
    "                'END_TIME': play['PCTIMESTRING'],\n",
    "                'DURATION_SECONDS': duration,\n",
    "                'LINEUP': tuple(sorted(current_away_lineup)),\n",
    "                'SCORE_START': prev_away,\n",
    "                'SCORE_END': end_away,\n",
    "                'PLUS_MINUS': away_stats['PLUS_MINUS']\n",
    "            }\n",
    "            \n",
    "            # Add all the collected stats\n",
    "            for stat, value in home_stats.items():\n",
    "                home_lineup_entry[stat] = value\n",
    "            \n",
    "            for stat, value in away_stats.items():\n",
    "                away_lineup_entry[stat] = value\n",
    "            \n",
    "            lineups_timeline.append(home_lineup_entry)\n",
    "            lineups_timeline.append(away_lineup_entry)\n",
    "            \n",
    "            # Reset stats for the new lineup\n",
    "            home_stats = {stat: 0 for stat in home_stats}\n",
    "            away_stats = {stat: 0 for stat in away_stats}\n",
    "            \n",
    "            # Update lineup start event\n",
    "            current_lineup_start_event = idx\n",
    "            \n",
    "            # Update global starting score\n",
    "            start_home, start_away = end_home, end_away\n",
    "    \n",
    "    return pd.DataFrame(lineups_timeline)\n"
   ]
  },
  {
   "cell_type": "code",
   "execution_count": null,
   "metadata": {},
   "outputs": [],
   "source": [
    "update the code to create separate entries for the home and away lineups with unique lineup ids and add a team_id field to identify which team a lineup is associated with"
   ]
  },
  {
   "cell_type": "code",
   "execution_count": 4,
   "metadata": {},
   "outputs": [
    {
     "name": "stdout",
     "output_type": "stream",
     "text": [
      "1230 games found for season 2023-24\n"
     ]
    },
    {
     "name": "stderr",
     "output_type": "stream",
     "text": [
      "  0%|          | 1/1230 [00:00<10:36,  1.93it/s]"
     ]
    },
    {
     "name": "stdout",
     "output_type": "stream",
     "text": [
      "Error processing game 0022301196: name 'get_player_ids_from_names' is not defined\n"
     ]
    },
    {
     "name": "stderr",
     "output_type": "stream",
     "text": [
      "  0%|          | 2/1230 [00:00<09:29,  2.16it/s]"
     ]
    },
    {
     "name": "stdout",
     "output_type": "stream",
     "text": [
      "Error processing game 0022301188: name 'get_player_ids_from_names' is not defined\n"
     ]
    },
    {
     "name": "stderr",
     "output_type": "stream",
     "text": [
      "  0%|          | 3/1230 [00:01<11:42,  1.75it/s]"
     ]
    },
    {
     "name": "stdout",
     "output_type": "stream",
     "text": [
      "Error processing game 0022301192: name 'get_player_ids_from_names' is not defined\n"
     ]
    },
    {
     "name": "stderr",
     "output_type": "stream",
     "text": [
      "  0%|          | 4/1230 [00:02<11:21,  1.80it/s]"
     ]
    },
    {
     "name": "stdout",
     "output_type": "stream",
     "text": [
      "Error processing game 0022301187: name 'get_player_ids_from_names' is not defined\n"
     ]
    },
    {
     "name": "stderr",
     "output_type": "stream",
     "text": [
      "  0%|          | 5/1230 [00:03<13:34,  1.50it/s]"
     ]
    },
    {
     "name": "stdout",
     "output_type": "stream",
     "text": [
      "Error processing game 0022301190: name 'get_player_ids_from_names' is not defined\n"
     ]
    },
    {
     "name": "stderr",
     "output_type": "stream",
     "text": [
      "  0%|          | 6/1230 [00:03<12:24,  1.64it/s]"
     ]
    },
    {
     "name": "stdout",
     "output_type": "stream",
     "text": [
      "Error processing game 0022301195: name 'get_player_ids_from_names' is not defined\n"
     ]
    },
    {
     "name": "stderr",
     "output_type": "stream",
     "text": [
      "  1%|          | 7/1230 [00:04<11:39,  1.75it/s]"
     ]
    },
    {
     "name": "stdout",
     "output_type": "stream",
     "text": [
      "Error processing game 0022301200: name 'get_player_ids_from_names' is not defined\n"
     ]
    },
    {
     "name": "stderr",
     "output_type": "stream",
     "text": [
      "  1%|          | 8/1230 [00:04<11:25,  1.78it/s]"
     ]
    },
    {
     "name": "stdout",
     "output_type": "stream",
     "text": [
      "Error processing game 0022301197: name 'get_player_ids_from_names' is not defined\n"
     ]
    },
    {
     "name": "stderr",
     "output_type": "stream",
     "text": [
      "  1%|          | 9/1230 [00:05<10:45,  1.89it/s]"
     ]
    },
    {
     "name": "stdout",
     "output_type": "stream",
     "text": [
      "Error processing game 0022301189: name 'get_player_ids_from_names' is not defined\n"
     ]
    },
    {
     "name": "stderr",
     "output_type": "stream",
     "text": [
      "  1%|          | 10/1230 [00:06<15:40,  1.30it/s]"
     ]
    },
    {
     "name": "stdout",
     "output_type": "stream",
     "text": [
      "Error processing game 0022301194: name 'get_player_ids_from_names' is not defined\n"
     ]
    },
    {
     "name": "stderr",
     "output_type": "stream",
     "text": [
      "  1%|          | 11/1230 [00:07<15:03,  1.35it/s]"
     ]
    },
    {
     "name": "stdout",
     "output_type": "stream",
     "text": [
      "Error processing game 0022301193: name 'get_player_ids_from_names' is not defined\n"
     ]
    },
    {
     "name": "stderr",
     "output_type": "stream",
     "text": [
      "  1%|          | 12/1230 [00:07<13:17,  1.53it/s]"
     ]
    },
    {
     "name": "stdout",
     "output_type": "stream",
     "text": [
      "Error processing game 0022301199: name 'get_player_ids_from_names' is not defined\n"
     ]
    },
    {
     "name": "stderr",
     "output_type": "stream",
     "text": [
      "  1%|          | 13/1230 [00:07<11:50,  1.71it/s]"
     ]
    },
    {
     "name": "stdout",
     "output_type": "stream",
     "text": [
      "Error processing game 0022301186: name 'get_player_ids_from_names' is not defined\n"
     ]
    },
    {
     "name": "stderr",
     "output_type": "stream",
     "text": [
      "  1%|          | 14/1230 [00:08<10:44,  1.89it/s]"
     ]
    },
    {
     "name": "stdout",
     "output_type": "stream",
     "text": [
      "Error processing game 0022301191: name 'get_player_ids_from_names' is not defined\n"
     ]
    },
    {
     "name": "stderr",
     "output_type": "stream",
     "text": [
      "  1%|          | 15/1230 [00:08<11:30,  1.76it/s]"
     ]
    },
    {
     "name": "stdout",
     "output_type": "stream",
     "text": [
      "Error processing game 0022301198: name 'get_player_ids_from_names' is not defined\n"
     ]
    },
    {
     "name": "stderr",
     "output_type": "stream",
     "text": [
      "  1%|▏         | 16/1230 [00:09<10:41,  1.89it/s]"
     ]
    },
    {
     "name": "stdout",
     "output_type": "stream",
     "text": [
      "Error processing game 0022301171: name 'get_player_ids_from_names' is not defined\n"
     ]
    },
    {
     "name": "stderr",
     "output_type": "stream",
     "text": [
      "  1%|▏         | 16/1230 [00:09<12:25,  1.63it/s]\n"
     ]
    },
    {
     "ename": "KeyboardInterrupt",
     "evalue": "",
     "output_type": "error",
     "traceback": [
      "\u001b[1;31m---------------------------------------------------------------------------\u001b[0m",
      "\u001b[1;31mKeyboardInterrupt\u001b[0m                         Traceback (most recent call last)",
      "Cell \u001b[1;32mIn[4], line 53\u001b[0m\n\u001b[0;32m     51\u001b[0m \u001b[38;5;28;01mfor\u001b[39;00m game_id \u001b[38;5;129;01min\u001b[39;00m tqdm(game_ids):\n\u001b[0;32m     52\u001b[0m     \u001b[38;5;28;01mtry\u001b[39;00m:\n\u001b[1;32m---> 53\u001b[0m         \u001b[43mprocess_game_lineups\u001b[49m\u001b[43m(\u001b[49m\u001b[43mgame_id\u001b[49m\u001b[43m)\u001b[49m\n\u001b[0;32m     54\u001b[0m     \u001b[38;5;28;01mexcept\u001b[39;00m \u001b[38;5;167;01mException\u001b[39;00m \u001b[38;5;28;01mas\u001b[39;00m e:\n\u001b[0;32m     55\u001b[0m         \u001b[38;5;28mprint\u001b[39m(\u001b[38;5;124mf\u001b[39m\u001b[38;5;124m\"\u001b[39m\u001b[38;5;124mError processing game \u001b[39m\u001b[38;5;132;01m{\u001b[39;00mgame_id\u001b[38;5;132;01m}\u001b[39;00m\u001b[38;5;124m: \u001b[39m\u001b[38;5;132;01m{\u001b[39;00me\u001b[38;5;132;01m}\u001b[39;00m\u001b[38;5;124m\"\u001b[39m)\n",
      "Cell \u001b[1;32mIn[4], line 33\u001b[0m, in \u001b[0;36mprocess_game_lineups\u001b[1;34m(game_id)\u001b[0m\n\u001b[0;32m     30\u001b[0m     existing_data \u001b[38;5;241m=\u001b[39m pd\u001b[38;5;241m.\u001b[39mDataFrame()\n\u001b[0;32m     32\u001b[0m \u001b[38;5;66;03m# Get the lineup timeline\u001b[39;00m\n\u001b[1;32m---> 33\u001b[0m lineup_timeline \u001b[38;5;241m=\u001b[39m \u001b[43mtrack_lineups_with_stats\u001b[49m\u001b[43m(\u001b[49m\u001b[43mgame_id\u001b[49m\u001b[43m)\u001b[49m\n\u001b[0;32m     35\u001b[0m \u001b[38;5;66;03m# Append the new data to the existing data\u001b[39;00m\n\u001b[0;32m     36\u001b[0m updated_data \u001b[38;5;241m=\u001b[39m pd\u001b[38;5;241m.\u001b[39mconcat([existing_data, lineup_timeline], ignore_index\u001b[38;5;241m=\u001b[39m\u001b[38;5;28;01mTrue\u001b[39;00m)\n",
      "Cell \u001b[1;32mIn[1], line 12\u001b[0m, in \u001b[0;36mtrack_lineups_with_stats\u001b[1;34m(game_id)\u001b[0m\n\u001b[0;32m      2\u001b[0m \u001b[38;5;250m\u001b[39m\u001b[38;5;124;03m\"\"\"\u001b[39;00m\n\u001b[0;32m      3\u001b[0m \u001b[38;5;124;03mTrack all lineups throughout a game with detailed statistics\u001b[39;00m\n\u001b[0;32m      4\u001b[0m \u001b[38;5;124;03m\u001b[39;00m\n\u001b[1;32m   (...)\u001b[0m\n\u001b[0;32m      9\u001b[0m \u001b[38;5;124;03mpd.DataFrame: Timeline of lineup segments with stats\u001b[39;00m\n\u001b[0;32m     10\u001b[0m \u001b[38;5;124;03m\"\"\"\u001b[39;00m\n\u001b[0;32m     11\u001b[0m \u001b[38;5;66;03m# Get play-by-play data\u001b[39;00m\n\u001b[1;32m---> 12\u001b[0m pbp \u001b[38;5;241m=\u001b[39m \u001b[43mplaybyplayv2\u001b[49m\u001b[38;5;241;43m.\u001b[39;49m\u001b[43mPlayByPlayV2\u001b[49m\u001b[43m(\u001b[49m\u001b[43mgame_id\u001b[49m\u001b[38;5;241;43m=\u001b[39;49m\u001b[43mgame_id\u001b[49m\u001b[43m)\u001b[49m\n\u001b[0;32m     13\u001b[0m pbp_df \u001b[38;5;241m=\u001b[39m pbp\u001b[38;5;241m.\u001b[39mget_data_frames()[\u001b[38;5;241m0\u001b[39m]\n\u001b[0;32m     15\u001b[0m \u001b[38;5;66;03m# Get team IDs\u001b[39;00m\n",
      "File \u001b[1;32md:\\Cerberus\\Assets\\Code\\ML\\NCI\\DA For AI\\TABA\\taba\\lib\\site-packages\\nba_api\\stats\\endpoints\\playbyplayv2.py:74\u001b[0m, in \u001b[0;36mPlayByPlayV2.__init__\u001b[1;34m(self, game_id, end_period, start_period, proxy, headers, timeout, get_request)\u001b[0m\n\u001b[0;32m     68\u001b[0m \u001b[38;5;28mself\u001b[39m\u001b[38;5;241m.\u001b[39mparameters \u001b[38;5;241m=\u001b[39m {\n\u001b[0;32m     69\u001b[0m     \u001b[38;5;124m\"\u001b[39m\u001b[38;5;124mGameID\u001b[39m\u001b[38;5;124m\"\u001b[39m: game_id,\n\u001b[0;32m     70\u001b[0m     \u001b[38;5;124m\"\u001b[39m\u001b[38;5;124mEndPeriod\u001b[39m\u001b[38;5;124m\"\u001b[39m: end_period,\n\u001b[0;32m     71\u001b[0m     \u001b[38;5;124m\"\u001b[39m\u001b[38;5;124mStartPeriod\u001b[39m\u001b[38;5;124m\"\u001b[39m: start_period,\n\u001b[0;32m     72\u001b[0m }\n\u001b[0;32m     73\u001b[0m \u001b[38;5;28;01mif\u001b[39;00m get_request:\n\u001b[1;32m---> 74\u001b[0m     \u001b[38;5;28;43mself\u001b[39;49m\u001b[38;5;241;43m.\u001b[39;49m\u001b[43mget_request\u001b[49m\u001b[43m(\u001b[49m\u001b[43m)\u001b[49m\n",
      "File \u001b[1;32md:\\Cerberus\\Assets\\Code\\ML\\NCI\\DA For AI\\TABA\\taba\\lib\\site-packages\\nba_api\\stats\\endpoints\\playbyplayv2.py:77\u001b[0m, in \u001b[0;36mPlayByPlayV2.get_request\u001b[1;34m(self)\u001b[0m\n\u001b[0;32m     76\u001b[0m \u001b[38;5;28;01mdef\u001b[39;00m\u001b[38;5;250m \u001b[39m\u001b[38;5;21mget_request\u001b[39m(\u001b[38;5;28mself\u001b[39m):\n\u001b[1;32m---> 77\u001b[0m     \u001b[38;5;28mself\u001b[39m\u001b[38;5;241m.\u001b[39mnba_response \u001b[38;5;241m=\u001b[39m \u001b[43mNBAStatsHTTP\u001b[49m\u001b[43m(\u001b[49m\u001b[43m)\u001b[49m\u001b[38;5;241;43m.\u001b[39;49m\u001b[43msend_api_request\u001b[49m\u001b[43m(\u001b[49m\n\u001b[0;32m     78\u001b[0m \u001b[43m        \u001b[49m\u001b[43mendpoint\u001b[49m\u001b[38;5;241;43m=\u001b[39;49m\u001b[38;5;28;43mself\u001b[39;49m\u001b[38;5;241;43m.\u001b[39;49m\u001b[43mendpoint\u001b[49m\u001b[43m,\u001b[49m\n\u001b[0;32m     79\u001b[0m \u001b[43m        \u001b[49m\u001b[43mparameters\u001b[49m\u001b[38;5;241;43m=\u001b[39;49m\u001b[38;5;28;43mself\u001b[39;49m\u001b[38;5;241;43m.\u001b[39;49m\u001b[43mparameters\u001b[49m\u001b[43m,\u001b[49m\n\u001b[0;32m     80\u001b[0m \u001b[43m        \u001b[49m\u001b[43mproxy\u001b[49m\u001b[38;5;241;43m=\u001b[39;49m\u001b[38;5;28;43mself\u001b[39;49m\u001b[38;5;241;43m.\u001b[39;49m\u001b[43mproxy\u001b[49m\u001b[43m,\u001b[49m\n\u001b[0;32m     81\u001b[0m \u001b[43m        \u001b[49m\u001b[43mheaders\u001b[49m\u001b[38;5;241;43m=\u001b[39;49m\u001b[38;5;28;43mself\u001b[39;49m\u001b[38;5;241;43m.\u001b[39;49m\u001b[43mheaders\u001b[49m\u001b[43m,\u001b[49m\n\u001b[0;32m     82\u001b[0m \u001b[43m        \u001b[49m\u001b[43mtimeout\u001b[49m\u001b[38;5;241;43m=\u001b[39;49m\u001b[38;5;28;43mself\u001b[39;49m\u001b[38;5;241;43m.\u001b[39;49m\u001b[43mtimeout\u001b[49m\u001b[43m,\u001b[49m\n\u001b[0;32m     83\u001b[0m \u001b[43m    \u001b[49m\u001b[43m)\u001b[49m\n\u001b[0;32m     84\u001b[0m     \u001b[38;5;28mself\u001b[39m\u001b[38;5;241m.\u001b[39mload_response()\n",
      "File \u001b[1;32md:\\Cerberus\\Assets\\Code\\ML\\NCI\\DA For AI\\TABA\\taba\\lib\\site-packages\\nba_api\\library\\http.py:160\u001b[0m, in \u001b[0;36mNBAHTTP.send_api_request\u001b[1;34m(self, endpoint, parameters, referer, proxy, headers, timeout, raise_exception_on_error)\u001b[0m\n\u001b[0;32m    157\u001b[0m         \u001b[38;5;28mprint\u001b[39m(\u001b[38;5;124m\"\u001b[39m\u001b[38;5;124mloading from file...\u001b[39m\u001b[38;5;124m\"\u001b[39m)\n\u001b[0;32m    159\u001b[0m \u001b[38;5;28;01mif\u001b[39;00m \u001b[38;5;129;01mnot\u001b[39;00m contents:\n\u001b[1;32m--> 160\u001b[0m     response \u001b[38;5;241m=\u001b[39m \u001b[38;5;28;43mself\u001b[39;49m\u001b[38;5;241;43m.\u001b[39;49m\u001b[43mget_session\u001b[49m\u001b[43m(\u001b[49m\u001b[43m)\u001b[49m\u001b[38;5;241;43m.\u001b[39;49m\u001b[43mget\u001b[49m\u001b[43m(\u001b[49m\n\u001b[0;32m    161\u001b[0m \u001b[43m        \u001b[49m\u001b[43murl\u001b[49m\u001b[38;5;241;43m=\u001b[39;49m\u001b[43mbase_url\u001b[49m\u001b[43m,\u001b[49m\n\u001b[0;32m    162\u001b[0m \u001b[43m        \u001b[49m\u001b[43mparams\u001b[49m\u001b[38;5;241;43m=\u001b[39;49m\u001b[43mparameters\u001b[49m\u001b[43m,\u001b[49m\n\u001b[0;32m    163\u001b[0m \u001b[43m        \u001b[49m\u001b[43mheaders\u001b[49m\u001b[38;5;241;43m=\u001b[39;49m\u001b[43mrequest_headers\u001b[49m\u001b[43m,\u001b[49m\n\u001b[0;32m    164\u001b[0m \u001b[43m        \u001b[49m\u001b[43mproxies\u001b[49m\u001b[38;5;241;43m=\u001b[39;49m\u001b[43mproxies\u001b[49m\u001b[43m,\u001b[49m\n\u001b[0;32m    165\u001b[0m \u001b[43m        \u001b[49m\u001b[43mtimeout\u001b[49m\u001b[38;5;241;43m=\u001b[39;49m\u001b[43mtimeout\u001b[49m\u001b[43m,\u001b[49m\n\u001b[0;32m    166\u001b[0m \u001b[43m    \u001b[49m\u001b[43m)\u001b[49m\n\u001b[0;32m    167\u001b[0m     url \u001b[38;5;241m=\u001b[39m response\u001b[38;5;241m.\u001b[39murl\n\u001b[0;32m    168\u001b[0m     status_code \u001b[38;5;241m=\u001b[39m response\u001b[38;5;241m.\u001b[39mstatus_code\n",
      "File \u001b[1;32md:\\Cerberus\\Assets\\Code\\ML\\NCI\\DA For AI\\TABA\\taba\\lib\\site-packages\\requests\\sessions.py:602\u001b[0m, in \u001b[0;36mSession.get\u001b[1;34m(self, url, **kwargs)\u001b[0m\n\u001b[0;32m    594\u001b[0m \u001b[38;5;250m\u001b[39m\u001b[38;5;124mr\u001b[39m\u001b[38;5;124;03m\"\"\"Sends a GET request. Returns :class:`Response` object.\u001b[39;00m\n\u001b[0;32m    595\u001b[0m \n\u001b[0;32m    596\u001b[0m \u001b[38;5;124;03m:param url: URL for the new :class:`Request` object.\u001b[39;00m\n\u001b[0;32m    597\u001b[0m \u001b[38;5;124;03m:param \\*\\*kwargs: Optional arguments that ``request`` takes.\u001b[39;00m\n\u001b[0;32m    598\u001b[0m \u001b[38;5;124;03m:rtype: requests.Response\u001b[39;00m\n\u001b[0;32m    599\u001b[0m \u001b[38;5;124;03m\"\"\"\u001b[39;00m\n\u001b[0;32m    601\u001b[0m kwargs\u001b[38;5;241m.\u001b[39msetdefault(\u001b[38;5;124m\"\u001b[39m\u001b[38;5;124mallow_redirects\u001b[39m\u001b[38;5;124m\"\u001b[39m, \u001b[38;5;28;01mTrue\u001b[39;00m)\n\u001b[1;32m--> 602\u001b[0m \u001b[38;5;28;01mreturn\u001b[39;00m \u001b[38;5;28mself\u001b[39m\u001b[38;5;241m.\u001b[39mrequest(\u001b[38;5;124m\"\u001b[39m\u001b[38;5;124mGET\u001b[39m\u001b[38;5;124m\"\u001b[39m, url, \u001b[38;5;241m*\u001b[39m\u001b[38;5;241m*\u001b[39mkwargs)\n",
      "File \u001b[1;32md:\\Cerberus\\Assets\\Code\\ML\\NCI\\DA For AI\\TABA\\taba\\lib\\site-packages\\requests\\sessions.py:589\u001b[0m, in \u001b[0;36mSession.request\u001b[1;34m(self, method, url, params, data, headers, cookies, files, auth, timeout, allow_redirects, proxies, hooks, stream, verify, cert, json)\u001b[0m\n\u001b[0;32m    584\u001b[0m send_kwargs \u001b[38;5;241m=\u001b[39m {\n\u001b[0;32m    585\u001b[0m     \u001b[38;5;124m\"\u001b[39m\u001b[38;5;124mtimeout\u001b[39m\u001b[38;5;124m\"\u001b[39m: timeout,\n\u001b[0;32m    586\u001b[0m     \u001b[38;5;124m\"\u001b[39m\u001b[38;5;124mallow_redirects\u001b[39m\u001b[38;5;124m\"\u001b[39m: allow_redirects,\n\u001b[0;32m    587\u001b[0m }\n\u001b[0;32m    588\u001b[0m send_kwargs\u001b[38;5;241m.\u001b[39mupdate(settings)\n\u001b[1;32m--> 589\u001b[0m resp \u001b[38;5;241m=\u001b[39m \u001b[38;5;28mself\u001b[39m\u001b[38;5;241m.\u001b[39msend(prep, \u001b[38;5;241m*\u001b[39m\u001b[38;5;241m*\u001b[39msend_kwargs)\n\u001b[0;32m    591\u001b[0m \u001b[38;5;28;01mreturn\u001b[39;00m resp\n",
      "File \u001b[1;32md:\\Cerberus\\Assets\\Code\\ML\\NCI\\DA For AI\\TABA\\taba\\lib\\site-packages\\requests\\sessions.py:703\u001b[0m, in \u001b[0;36mSession.send\u001b[1;34m(self, request, **kwargs)\u001b[0m\n\u001b[0;32m    700\u001b[0m start \u001b[38;5;241m=\u001b[39m preferred_clock()\n\u001b[0;32m    702\u001b[0m \u001b[38;5;66;03m# Send the request\u001b[39;00m\n\u001b[1;32m--> 703\u001b[0m r \u001b[38;5;241m=\u001b[39m adapter\u001b[38;5;241m.\u001b[39msend(request, \u001b[38;5;241m*\u001b[39m\u001b[38;5;241m*\u001b[39mkwargs)\n\u001b[0;32m    705\u001b[0m \u001b[38;5;66;03m# Total elapsed time of the request (approximately)\u001b[39;00m\n\u001b[0;32m    706\u001b[0m elapsed \u001b[38;5;241m=\u001b[39m preferred_clock() \u001b[38;5;241m-\u001b[39m start\n",
      "File \u001b[1;32md:\\Cerberus\\Assets\\Code\\ML\\NCI\\DA For AI\\TABA\\taba\\lib\\site-packages\\requests\\adapters.py:667\u001b[0m, in \u001b[0;36mHTTPAdapter.send\u001b[1;34m(self, request, stream, timeout, verify, cert, proxies)\u001b[0m\n\u001b[0;32m    664\u001b[0m     timeout \u001b[38;5;241m=\u001b[39m TimeoutSauce(connect\u001b[38;5;241m=\u001b[39mtimeout, read\u001b[38;5;241m=\u001b[39mtimeout)\n\u001b[0;32m    666\u001b[0m \u001b[38;5;28;01mtry\u001b[39;00m:\n\u001b[1;32m--> 667\u001b[0m     resp \u001b[38;5;241m=\u001b[39m \u001b[43mconn\u001b[49m\u001b[38;5;241;43m.\u001b[39;49m\u001b[43murlopen\u001b[49m\u001b[43m(\u001b[49m\n\u001b[0;32m    668\u001b[0m \u001b[43m        \u001b[49m\u001b[43mmethod\u001b[49m\u001b[38;5;241;43m=\u001b[39;49m\u001b[43mrequest\u001b[49m\u001b[38;5;241;43m.\u001b[39;49m\u001b[43mmethod\u001b[49m\u001b[43m,\u001b[49m\n\u001b[0;32m    669\u001b[0m \u001b[43m        \u001b[49m\u001b[43murl\u001b[49m\u001b[38;5;241;43m=\u001b[39;49m\u001b[43murl\u001b[49m\u001b[43m,\u001b[49m\n\u001b[0;32m    670\u001b[0m \u001b[43m        \u001b[49m\u001b[43mbody\u001b[49m\u001b[38;5;241;43m=\u001b[39;49m\u001b[43mrequest\u001b[49m\u001b[38;5;241;43m.\u001b[39;49m\u001b[43mbody\u001b[49m\u001b[43m,\u001b[49m\n\u001b[0;32m    671\u001b[0m \u001b[43m        \u001b[49m\u001b[43mheaders\u001b[49m\u001b[38;5;241;43m=\u001b[39;49m\u001b[43mrequest\u001b[49m\u001b[38;5;241;43m.\u001b[39;49m\u001b[43mheaders\u001b[49m\u001b[43m,\u001b[49m\n\u001b[0;32m    672\u001b[0m \u001b[43m        \u001b[49m\u001b[43mredirect\u001b[49m\u001b[38;5;241;43m=\u001b[39;49m\u001b[38;5;28;43;01mFalse\u001b[39;49;00m\u001b[43m,\u001b[49m\n\u001b[0;32m    673\u001b[0m \u001b[43m        \u001b[49m\u001b[43massert_same_host\u001b[49m\u001b[38;5;241;43m=\u001b[39;49m\u001b[38;5;28;43;01mFalse\u001b[39;49;00m\u001b[43m,\u001b[49m\n\u001b[0;32m    674\u001b[0m \u001b[43m        \u001b[49m\u001b[43mpreload_content\u001b[49m\u001b[38;5;241;43m=\u001b[39;49m\u001b[38;5;28;43;01mFalse\u001b[39;49;00m\u001b[43m,\u001b[49m\n\u001b[0;32m    675\u001b[0m \u001b[43m        \u001b[49m\u001b[43mdecode_content\u001b[49m\u001b[38;5;241;43m=\u001b[39;49m\u001b[38;5;28;43;01mFalse\u001b[39;49;00m\u001b[43m,\u001b[49m\n\u001b[0;32m    676\u001b[0m \u001b[43m        \u001b[49m\u001b[43mretries\u001b[49m\u001b[38;5;241;43m=\u001b[39;49m\u001b[38;5;28;43mself\u001b[39;49m\u001b[38;5;241;43m.\u001b[39;49m\u001b[43mmax_retries\u001b[49m\u001b[43m,\u001b[49m\n\u001b[0;32m    677\u001b[0m \u001b[43m        \u001b[49m\u001b[43mtimeout\u001b[49m\u001b[38;5;241;43m=\u001b[39;49m\u001b[43mtimeout\u001b[49m\u001b[43m,\u001b[49m\n\u001b[0;32m    678\u001b[0m \u001b[43m        \u001b[49m\u001b[43mchunked\u001b[49m\u001b[38;5;241;43m=\u001b[39;49m\u001b[43mchunked\u001b[49m\u001b[43m,\u001b[49m\n\u001b[0;32m    679\u001b[0m \u001b[43m    \u001b[49m\u001b[43m)\u001b[49m\n\u001b[0;32m    681\u001b[0m \u001b[38;5;28;01mexcept\u001b[39;00m (ProtocolError, \u001b[38;5;167;01mOSError\u001b[39;00m) \u001b[38;5;28;01mas\u001b[39;00m err:\n\u001b[0;32m    682\u001b[0m     \u001b[38;5;28;01mraise\u001b[39;00m \u001b[38;5;167;01mConnectionError\u001b[39;00m(err, request\u001b[38;5;241m=\u001b[39mrequest)\n",
      "File \u001b[1;32md:\\Cerberus\\Assets\\Code\\ML\\NCI\\DA For AI\\TABA\\taba\\lib\\site-packages\\urllib3\\connectionpool.py:787\u001b[0m, in \u001b[0;36mHTTPConnectionPool.urlopen\u001b[1;34m(self, method, url, body, headers, retries, redirect, assert_same_host, timeout, pool_timeout, release_conn, chunked, body_pos, preload_content, decode_content, **response_kw)\u001b[0m\n\u001b[0;32m    784\u001b[0m response_conn \u001b[38;5;241m=\u001b[39m conn \u001b[38;5;28;01mif\u001b[39;00m \u001b[38;5;129;01mnot\u001b[39;00m release_conn \u001b[38;5;28;01melse\u001b[39;00m \u001b[38;5;28;01mNone\u001b[39;00m\n\u001b[0;32m    786\u001b[0m \u001b[38;5;66;03m# Make the request on the HTTPConnection object\u001b[39;00m\n\u001b[1;32m--> 787\u001b[0m response \u001b[38;5;241m=\u001b[39m \u001b[38;5;28mself\u001b[39m\u001b[38;5;241m.\u001b[39m_make_request(\n\u001b[0;32m    788\u001b[0m     conn,\n\u001b[0;32m    789\u001b[0m     method,\n\u001b[0;32m    790\u001b[0m     url,\n\u001b[0;32m    791\u001b[0m     timeout\u001b[38;5;241m=\u001b[39mtimeout_obj,\n\u001b[0;32m    792\u001b[0m     body\u001b[38;5;241m=\u001b[39mbody,\n\u001b[0;32m    793\u001b[0m     headers\u001b[38;5;241m=\u001b[39mheaders,\n\u001b[0;32m    794\u001b[0m     chunked\u001b[38;5;241m=\u001b[39mchunked,\n\u001b[0;32m    795\u001b[0m     retries\u001b[38;5;241m=\u001b[39mretries,\n\u001b[0;32m    796\u001b[0m     response_conn\u001b[38;5;241m=\u001b[39mresponse_conn,\n\u001b[0;32m    797\u001b[0m     preload_content\u001b[38;5;241m=\u001b[39mpreload_content,\n\u001b[0;32m    798\u001b[0m     decode_content\u001b[38;5;241m=\u001b[39mdecode_content,\n\u001b[0;32m    799\u001b[0m     \u001b[38;5;241m*\u001b[39m\u001b[38;5;241m*\u001b[39mresponse_kw,\n\u001b[0;32m    800\u001b[0m )\n\u001b[0;32m    802\u001b[0m \u001b[38;5;66;03m# Everything went great!\u001b[39;00m\n\u001b[0;32m    803\u001b[0m clean_exit \u001b[38;5;241m=\u001b[39m \u001b[38;5;28;01mTrue\u001b[39;00m\n",
      "File \u001b[1;32md:\\Cerberus\\Assets\\Code\\ML\\NCI\\DA For AI\\TABA\\taba\\lib\\site-packages\\urllib3\\connectionpool.py:534\u001b[0m, in \u001b[0;36mHTTPConnectionPool._make_request\u001b[1;34m(self, conn, method, url, body, headers, retries, timeout, chunked, response_conn, preload_content, decode_content, enforce_content_length)\u001b[0m\n\u001b[0;32m    532\u001b[0m \u001b[38;5;66;03m# Receive the response from the server\u001b[39;00m\n\u001b[0;32m    533\u001b[0m \u001b[38;5;28;01mtry\u001b[39;00m:\n\u001b[1;32m--> 534\u001b[0m     response \u001b[38;5;241m=\u001b[39m \u001b[43mconn\u001b[49m\u001b[38;5;241;43m.\u001b[39;49m\u001b[43mgetresponse\u001b[49m\u001b[43m(\u001b[49m\u001b[43m)\u001b[49m\n\u001b[0;32m    535\u001b[0m \u001b[38;5;28;01mexcept\u001b[39;00m (BaseSSLError, \u001b[38;5;167;01mOSError\u001b[39;00m) \u001b[38;5;28;01mas\u001b[39;00m e:\n\u001b[0;32m    536\u001b[0m     \u001b[38;5;28mself\u001b[39m\u001b[38;5;241m.\u001b[39m_raise_timeout(err\u001b[38;5;241m=\u001b[39me, url\u001b[38;5;241m=\u001b[39murl, timeout_value\u001b[38;5;241m=\u001b[39mread_timeout)\n",
      "File \u001b[1;32md:\\Cerberus\\Assets\\Code\\ML\\NCI\\DA For AI\\TABA\\taba\\lib\\site-packages\\urllib3\\connection.py:516\u001b[0m, in \u001b[0;36mHTTPConnection.getresponse\u001b[1;34m(self)\u001b[0m\n\u001b[0;32m    513\u001b[0m _shutdown \u001b[38;5;241m=\u001b[39m \u001b[38;5;28mgetattr\u001b[39m(\u001b[38;5;28mself\u001b[39m\u001b[38;5;241m.\u001b[39msock, \u001b[38;5;124m\"\u001b[39m\u001b[38;5;124mshutdown\u001b[39m\u001b[38;5;124m\"\u001b[39m, \u001b[38;5;28;01mNone\u001b[39;00m)\n\u001b[0;32m    515\u001b[0m \u001b[38;5;66;03m# Get the response from http.client.HTTPConnection\u001b[39;00m\n\u001b[1;32m--> 516\u001b[0m httplib_response \u001b[38;5;241m=\u001b[39m \u001b[38;5;28;43msuper\u001b[39;49m\u001b[43m(\u001b[49m\u001b[43m)\u001b[49m\u001b[38;5;241;43m.\u001b[39;49m\u001b[43mgetresponse\u001b[49m\u001b[43m(\u001b[49m\u001b[43m)\u001b[49m\n\u001b[0;32m    518\u001b[0m \u001b[38;5;28;01mtry\u001b[39;00m:\n\u001b[0;32m    519\u001b[0m     assert_header_parsing(httplib_response\u001b[38;5;241m.\u001b[39mmsg)\n",
      "File \u001b[1;32m~\\AppData\\Local\\Programs\\Python\\Python310\\lib\\http\\client.py:1375\u001b[0m, in \u001b[0;36mHTTPConnection.getresponse\u001b[1;34m(self)\u001b[0m\n\u001b[0;32m   1373\u001b[0m \u001b[38;5;28;01mtry\u001b[39;00m:\n\u001b[0;32m   1374\u001b[0m     \u001b[38;5;28;01mtry\u001b[39;00m:\n\u001b[1;32m-> 1375\u001b[0m         \u001b[43mresponse\u001b[49m\u001b[38;5;241;43m.\u001b[39;49m\u001b[43mbegin\u001b[49m\u001b[43m(\u001b[49m\u001b[43m)\u001b[49m\n\u001b[0;32m   1376\u001b[0m     \u001b[38;5;28;01mexcept\u001b[39;00m \u001b[38;5;167;01mConnectionError\u001b[39;00m:\n\u001b[0;32m   1377\u001b[0m         \u001b[38;5;28mself\u001b[39m\u001b[38;5;241m.\u001b[39mclose()\n",
      "File \u001b[1;32m~\\AppData\\Local\\Programs\\Python\\Python310\\lib\\http\\client.py:318\u001b[0m, in \u001b[0;36mHTTPResponse.begin\u001b[1;34m(self)\u001b[0m\n\u001b[0;32m    316\u001b[0m \u001b[38;5;66;03m# read until we get a non-100 response\u001b[39;00m\n\u001b[0;32m    317\u001b[0m \u001b[38;5;28;01mwhile\u001b[39;00m \u001b[38;5;28;01mTrue\u001b[39;00m:\n\u001b[1;32m--> 318\u001b[0m     version, status, reason \u001b[38;5;241m=\u001b[39m \u001b[38;5;28;43mself\u001b[39;49m\u001b[38;5;241;43m.\u001b[39;49m\u001b[43m_read_status\u001b[49m\u001b[43m(\u001b[49m\u001b[43m)\u001b[49m\n\u001b[0;32m    319\u001b[0m     \u001b[38;5;28;01mif\u001b[39;00m status \u001b[38;5;241m!=\u001b[39m CONTINUE:\n\u001b[0;32m    320\u001b[0m         \u001b[38;5;28;01mbreak\u001b[39;00m\n",
      "File \u001b[1;32m~\\AppData\\Local\\Programs\\Python\\Python310\\lib\\http\\client.py:279\u001b[0m, in \u001b[0;36mHTTPResponse._read_status\u001b[1;34m(self)\u001b[0m\n\u001b[0;32m    278\u001b[0m \u001b[38;5;28;01mdef\u001b[39;00m\u001b[38;5;250m \u001b[39m\u001b[38;5;21m_read_status\u001b[39m(\u001b[38;5;28mself\u001b[39m):\n\u001b[1;32m--> 279\u001b[0m     line \u001b[38;5;241m=\u001b[39m \u001b[38;5;28mstr\u001b[39m(\u001b[38;5;28;43mself\u001b[39;49m\u001b[38;5;241;43m.\u001b[39;49m\u001b[43mfp\u001b[49m\u001b[38;5;241;43m.\u001b[39;49m\u001b[43mreadline\u001b[49m\u001b[43m(\u001b[49m\u001b[43m_MAXLINE\u001b[49m\u001b[43m \u001b[49m\u001b[38;5;241;43m+\u001b[39;49m\u001b[43m \u001b[49m\u001b[38;5;241;43m1\u001b[39;49m\u001b[43m)\u001b[49m, \u001b[38;5;124m\"\u001b[39m\u001b[38;5;124miso-8859-1\u001b[39m\u001b[38;5;124m\"\u001b[39m)\n\u001b[0;32m    280\u001b[0m     \u001b[38;5;28;01mif\u001b[39;00m \u001b[38;5;28mlen\u001b[39m(line) \u001b[38;5;241m>\u001b[39m _MAXLINE:\n\u001b[0;32m    281\u001b[0m         \u001b[38;5;28;01mraise\u001b[39;00m LineTooLong(\u001b[38;5;124m\"\u001b[39m\u001b[38;5;124mstatus line\u001b[39m\u001b[38;5;124m\"\u001b[39m)\n",
      "File \u001b[1;32m~\\AppData\\Local\\Programs\\Python\\Python310\\lib\\socket.py:705\u001b[0m, in \u001b[0;36mSocketIO.readinto\u001b[1;34m(self, b)\u001b[0m\n\u001b[0;32m    703\u001b[0m \u001b[38;5;28;01mwhile\u001b[39;00m \u001b[38;5;28;01mTrue\u001b[39;00m:\n\u001b[0;32m    704\u001b[0m     \u001b[38;5;28;01mtry\u001b[39;00m:\n\u001b[1;32m--> 705\u001b[0m         \u001b[38;5;28;01mreturn\u001b[39;00m \u001b[38;5;28;43mself\u001b[39;49m\u001b[38;5;241;43m.\u001b[39;49m\u001b[43m_sock\u001b[49m\u001b[38;5;241;43m.\u001b[39;49m\u001b[43mrecv_into\u001b[49m\u001b[43m(\u001b[49m\u001b[43mb\u001b[49m\u001b[43m)\u001b[49m\n\u001b[0;32m    706\u001b[0m     \u001b[38;5;28;01mexcept\u001b[39;00m timeout:\n\u001b[0;32m    707\u001b[0m         \u001b[38;5;28mself\u001b[39m\u001b[38;5;241m.\u001b[39m_timeout_occurred \u001b[38;5;241m=\u001b[39m \u001b[38;5;28;01mTrue\u001b[39;00m\n",
      "File \u001b[1;32m~\\AppData\\Local\\Programs\\Python\\Python310\\lib\\ssl.py:1274\u001b[0m, in \u001b[0;36mSSLSocket.recv_into\u001b[1;34m(self, buffer, nbytes, flags)\u001b[0m\n\u001b[0;32m   1270\u001b[0m     \u001b[38;5;28;01mif\u001b[39;00m flags \u001b[38;5;241m!=\u001b[39m \u001b[38;5;241m0\u001b[39m:\n\u001b[0;32m   1271\u001b[0m         \u001b[38;5;28;01mraise\u001b[39;00m \u001b[38;5;167;01mValueError\u001b[39;00m(\n\u001b[0;32m   1272\u001b[0m           \u001b[38;5;124m\"\u001b[39m\u001b[38;5;124mnon-zero flags not allowed in calls to recv_into() on \u001b[39m\u001b[38;5;132;01m%s\u001b[39;00m\u001b[38;5;124m\"\u001b[39m \u001b[38;5;241m%\u001b[39m\n\u001b[0;32m   1273\u001b[0m           \u001b[38;5;28mself\u001b[39m\u001b[38;5;241m.\u001b[39m\u001b[38;5;18m__class__\u001b[39m)\n\u001b[1;32m-> 1274\u001b[0m     \u001b[38;5;28;01mreturn\u001b[39;00m \u001b[38;5;28;43mself\u001b[39;49m\u001b[38;5;241;43m.\u001b[39;49m\u001b[43mread\u001b[49m\u001b[43m(\u001b[49m\u001b[43mnbytes\u001b[49m\u001b[43m,\u001b[49m\u001b[43m \u001b[49m\u001b[43mbuffer\u001b[49m\u001b[43m)\u001b[49m\n\u001b[0;32m   1275\u001b[0m \u001b[38;5;28;01melse\u001b[39;00m:\n\u001b[0;32m   1276\u001b[0m     \u001b[38;5;28;01mreturn\u001b[39;00m \u001b[38;5;28msuper\u001b[39m()\u001b[38;5;241m.\u001b[39mrecv_into(buffer, nbytes, flags)\n",
      "File \u001b[1;32m~\\AppData\\Local\\Programs\\Python\\Python310\\lib\\ssl.py:1130\u001b[0m, in \u001b[0;36mSSLSocket.read\u001b[1;34m(self, len, buffer)\u001b[0m\n\u001b[0;32m   1128\u001b[0m \u001b[38;5;28;01mtry\u001b[39;00m:\n\u001b[0;32m   1129\u001b[0m     \u001b[38;5;28;01mif\u001b[39;00m buffer \u001b[38;5;129;01mis\u001b[39;00m \u001b[38;5;129;01mnot\u001b[39;00m \u001b[38;5;28;01mNone\u001b[39;00m:\n\u001b[1;32m-> 1130\u001b[0m         \u001b[38;5;28;01mreturn\u001b[39;00m \u001b[38;5;28;43mself\u001b[39;49m\u001b[38;5;241;43m.\u001b[39;49m\u001b[43m_sslobj\u001b[49m\u001b[38;5;241;43m.\u001b[39;49m\u001b[43mread\u001b[49m\u001b[43m(\u001b[49m\u001b[38;5;28;43mlen\u001b[39;49m\u001b[43m,\u001b[49m\u001b[43m \u001b[49m\u001b[43mbuffer\u001b[49m\u001b[43m)\u001b[49m\n\u001b[0;32m   1131\u001b[0m     \u001b[38;5;28;01melse\u001b[39;00m:\n\u001b[0;32m   1132\u001b[0m         \u001b[38;5;28;01mreturn\u001b[39;00m \u001b[38;5;28mself\u001b[39m\u001b[38;5;241m.\u001b[39m_sslobj\u001b[38;5;241m.\u001b[39mread(\u001b[38;5;28mlen\u001b[39m)\n",
      "\u001b[1;31mKeyboardInterrupt\u001b[0m: "
     ]
    }
   ],
   "source": [
    "from nba_api.stats.endpoints import leaguegamefinder, boxscoreplayertrackv2, playbyplayv2\n",
    "import pandas as pd\n",
    "import time\n",
    "import os\n",
    "from tqdm import tqdm\n",
    "\n",
    "def process_game_lineups(game_id):\n",
    "    \"\"\"\n",
    "    Process a single game and return lineup analysis\n",
    "    \n",
    "    Parameters:\n",
    "    game_id (str): NBA game ID\n",
    "    \n",
    "    Returns:\n",
    "    None\n",
    "    \"\"\"\n",
    "    # Define the CSV file path\n",
    "    csv_file = \"lineup_analysis.csv\"\n",
    "\n",
    "    # Check if the file exists\n",
    "    if os.path.exists(csv_file):\n",
    "        # Read the existing file\n",
    "        existing_data = pd.read_csv(csv_file)\n",
    "        # Check if the game_id is already processed\n",
    "        if game_id in existing_data['GAME_ID'].values:\n",
    "            print(f\"Game ID {game_id} is already processed. Skipping...\")\n",
    "            return\n",
    "    else:\n",
    "        # Create an empty DataFrame if the file does not exist\n",
    "        existing_data = pd.DataFrame()\n",
    "\n",
    "    # Get the lineup timeline\n",
    "    lineup_timeline = track_lineups_with_stats(game_id)\n",
    "\n",
    "    # Append the new data to the existing data\n",
    "    updated_data = pd.concat([existing_data, lineup_timeline], ignore_index=True)\n",
    "\n",
    "    # Save the updated data back to the CSV file\n",
    "    updated_data.to_csv(csv_file, index=False)\n",
    "    print(f\"Game ID {game_id} has been processed and saved to {csv_file}.\")\n",
    "\n",
    "season = \"2023-24\"\n",
    "gamefinder = leaguegamefinder.LeagueGameFinder(\n",
    "    season_nullable=season,\n",
    "    season_type_nullable=\"Regular Season\",\n",
    "    league_id_nullable=\"00\"  # NBA league ID\n",
    ")\n",
    "games_df = gamefinder.get_data_frames()[0]\n",
    "game_ids = games_df[\"GAME_ID\"].unique().tolist()\n",
    "print(len(game_ids), \"games found for season\", season)\n",
    "for game_id in tqdm(game_ids):\n",
    "    try:\n",
    "        process_game_lineups(game_id)\n",
    "    except Exception as e:\n",
    "        print(f\"Error processing game {game_id}: {e}\")\n",
    "        continue\n",
    "    time.sleep(1)  # Avoid hitting the API too quickly\n"
   ]
  },
  {
   "cell_type": "code",
   "execution_count": 11,
   "metadata": {},
   "outputs": [
    {
     "name": "stdout",
     "output_type": "stream",
     "text": [
      "Total Games in the Season: 1230\n"
     ]
    }
   ],
   "source": [
    "from nba_api.stats.endpoints import leaguegamefinder, playbyplayv2, boxscoretraditionalv2\n",
    "import pandas as pd\n",
    "import time\n",
    "import os\n",
    "from tqdm import tqdm\n",
    "\n",
    "# Define season and save file\n",
    "season = \"2023-24\"\n",
    "file_name = \"per_game_lineup_stats.csv\"\n",
    "\n",
    "# Get all games for the season\n",
    "gamefinder = leaguegamefinder.LeagueGameFinder(\n",
    "    season_nullable=season,\n",
    "    season_type_nullable=\"Regular Season\",\n",
    "    league_id_nullable=\"00\"\n",
    ")\n",
    "games_df = gamefinder.get_data_frames()[0]\n",
    "game_ids = games_df[\"GAME_ID\"].unique().tolist()\n",
    "\n",
    "print(f\"Total Games in the Season: {len(game_ids)}\")\n",
    "\n",
    "# Load existing progress\n",
    "if os.path.exists(file_name):\n",
    "    existing_data = pd.read_csv(file_name)\n",
    "    completed_game_ids = set(existing_data[\"GAME_ID\"].unique())\n",
    "else:\n",
    "    completed_game_ids = set()\n",
    "\n",
    "# Open the file in append mode after headers are written (if needed)"
   ]
  },
  {
   "cell_type": "code",
   "execution_count": 12,
   "metadata": {},
   "outputs": [
    {
     "name": "stdout",
     "output_type": "stream",
     "text": [
      "1230 games found for season 2023-24\n"
     ]
    }
   ],
   "source": [
    "print(len(game_ids), \"games found for season\", season)"
   ]
  },
  {
   "cell_type": "code",
   "execution_count": 13,
   "metadata": {},
   "outputs": [
    {
     "name": "stdout",
     "output_type": "stream",
     "text": [
      "2\n"
     ]
    }
   ],
   "source": [
    "print(len(completed_game_ids))"
   ]
  },
  {
   "cell_type": "code",
   "execution_count": 10,
   "metadata": {},
   "outputs": [
    {
     "name": "stderr",
     "output_type": "stream",
     "text": [
      "Processing Games:   0%|          | 1/1230 [00:01<40:49,  1.99s/it]"
     ]
    },
    {
     "name": "stdout",
     "output_type": "stream",
     "text": [
      "⚠️ Error fetching 0022301188, retrying in 2s... (1/5)\n",
      "⚠️ Error fetching 0022301188, retrying in 4s... (2/5)\n",
      "⚠️ Error fetching 0022301188, retrying in 8s... (3/5)\n",
      "⚠️ Error fetching 0022301188, retrying in 16s... (4/5)\n",
      "⚠️ Error fetching 0022301188, retrying in 32s... (5/5)\n"
     ]
    },
    {
     "name": "stderr",
     "output_type": "stream",
     "text": [
      "Processing Games:   0%|          | 1/1230 [01:04<22:08:58, 64.88s/it]\n"
     ]
    },
    {
     "ename": "KeyboardInterrupt",
     "evalue": "",
     "output_type": "error",
     "traceback": [
      "\u001b[1;31m---------------------------------------------------------------------------\u001b[0m",
      "\u001b[1;31mUnicodeEncodeError\u001b[0m                        Traceback (most recent call last)",
      "Cell \u001b[1;32mIn[10], line 61\u001b[0m\n\u001b[0;32m     60\u001b[0m df \u001b[38;5;241m=\u001b[39m pd\u001b[38;5;241m.\u001b[39mconcat(final_data, ignore_index\u001b[38;5;241m=\u001b[39m\u001b[38;5;28;01mTrue\u001b[39;00m)\n\u001b[1;32m---> 61\u001b[0m \u001b[43mdf\u001b[49m\u001b[38;5;241;43m.\u001b[39;49m\u001b[43mto_csv\u001b[49m\u001b[43m(\u001b[49m\u001b[43mf\u001b[49m\u001b[43m,\u001b[49m\u001b[43m \u001b[49m\u001b[43mindex\u001b[49m\u001b[38;5;241;43m=\u001b[39;49m\u001b[38;5;28;43;01mFalse\u001b[39;49;00m\u001b[43m,\u001b[49m\u001b[43m \u001b[49m\u001b[43mheader\u001b[49m\u001b[38;5;241;43m=\u001b[39;49m\u001b[43mfirst_write\u001b[49m\u001b[43m,\u001b[49m\u001b[43m \u001b[49m\u001b[43mmode\u001b[49m\u001b[38;5;241;43m=\u001b[39;49m\u001b[38;5;124;43m\"\u001b[39;49m\u001b[38;5;124;43ma\u001b[39;49m\u001b[38;5;124;43m\"\u001b[39;49m\u001b[43m)\u001b[49m\n\u001b[0;32m     62\u001b[0m first_write \u001b[38;5;241m=\u001b[39m \u001b[38;5;28;01mFalse\u001b[39;00m  \u001b[38;5;66;03m# Ensure headers are written only once\u001b[39;00m\n",
      "File \u001b[1;32md:\\Cerberus\\Assets\\Code\\ML\\NCI\\DA For AI\\TABA\\taba\\lib\\site-packages\\pandas\\util\\_decorators.py:333\u001b[0m, in \u001b[0;36mdeprecate_nonkeyword_arguments.<locals>.decorate.<locals>.wrapper\u001b[1;34m(*args, **kwargs)\u001b[0m\n\u001b[0;32m    328\u001b[0m     warnings\u001b[38;5;241m.\u001b[39mwarn(\n\u001b[0;32m    329\u001b[0m         msg\u001b[38;5;241m.\u001b[39mformat(arguments\u001b[38;5;241m=\u001b[39m_format_argument_list(allow_args)),\n\u001b[0;32m    330\u001b[0m         \u001b[38;5;167;01mFutureWarning\u001b[39;00m,\n\u001b[0;32m    331\u001b[0m         stacklevel\u001b[38;5;241m=\u001b[39mfind_stack_level(),\n\u001b[0;32m    332\u001b[0m     )\n\u001b[1;32m--> 333\u001b[0m \u001b[38;5;28;01mreturn\u001b[39;00m func(\u001b[38;5;241m*\u001b[39margs, \u001b[38;5;241m*\u001b[39m\u001b[38;5;241m*\u001b[39mkwargs)\n",
      "File \u001b[1;32md:\\Cerberus\\Assets\\Code\\ML\\NCI\\DA For AI\\TABA\\taba\\lib\\site-packages\\pandas\\core\\generic.py:3967\u001b[0m, in \u001b[0;36mNDFrame.to_csv\u001b[1;34m(self, path_or_buf, sep, na_rep, float_format, columns, header, index, index_label, mode, encoding, compression, quoting, quotechar, lineterminator, chunksize, date_format, doublequote, escapechar, decimal, errors, storage_options)\u001b[0m\n\u001b[0;32m   3958\u001b[0m formatter \u001b[38;5;241m=\u001b[39m DataFrameFormatter(\n\u001b[0;32m   3959\u001b[0m     frame\u001b[38;5;241m=\u001b[39mdf,\n\u001b[0;32m   3960\u001b[0m     header\u001b[38;5;241m=\u001b[39mheader,\n\u001b[1;32m   (...)\u001b[0m\n\u001b[0;32m   3964\u001b[0m     decimal\u001b[38;5;241m=\u001b[39mdecimal,\n\u001b[0;32m   3965\u001b[0m )\n\u001b[1;32m-> 3967\u001b[0m \u001b[38;5;28;01mreturn\u001b[39;00m \u001b[43mDataFrameRenderer\u001b[49m\u001b[43m(\u001b[49m\u001b[43mformatter\u001b[49m\u001b[43m)\u001b[49m\u001b[38;5;241;43m.\u001b[39;49m\u001b[43mto_csv\u001b[49m\u001b[43m(\u001b[49m\n\u001b[0;32m   3968\u001b[0m \u001b[43m    \u001b[49m\u001b[43mpath_or_buf\u001b[49m\u001b[43m,\u001b[49m\n\u001b[0;32m   3969\u001b[0m \u001b[43m    \u001b[49m\u001b[43mlineterminator\u001b[49m\u001b[38;5;241;43m=\u001b[39;49m\u001b[43mlineterminator\u001b[49m\u001b[43m,\u001b[49m\n\u001b[0;32m   3970\u001b[0m \u001b[43m    \u001b[49m\u001b[43msep\u001b[49m\u001b[38;5;241;43m=\u001b[39;49m\u001b[43msep\u001b[49m\u001b[43m,\u001b[49m\n\u001b[0;32m   3971\u001b[0m \u001b[43m    \u001b[49m\u001b[43mencoding\u001b[49m\u001b[38;5;241;43m=\u001b[39;49m\u001b[43mencoding\u001b[49m\u001b[43m,\u001b[49m\n\u001b[0;32m   3972\u001b[0m \u001b[43m    \u001b[49m\u001b[43merrors\u001b[49m\u001b[38;5;241;43m=\u001b[39;49m\u001b[43merrors\u001b[49m\u001b[43m,\u001b[49m\n\u001b[0;32m   3973\u001b[0m \u001b[43m    \u001b[49m\u001b[43mcompression\u001b[49m\u001b[38;5;241;43m=\u001b[39;49m\u001b[43mcompression\u001b[49m\u001b[43m,\u001b[49m\n\u001b[0;32m   3974\u001b[0m \u001b[43m    \u001b[49m\u001b[43mquoting\u001b[49m\u001b[38;5;241;43m=\u001b[39;49m\u001b[43mquoting\u001b[49m\u001b[43m,\u001b[49m\n\u001b[0;32m   3975\u001b[0m \u001b[43m    \u001b[49m\u001b[43mcolumns\u001b[49m\u001b[38;5;241;43m=\u001b[39;49m\u001b[43mcolumns\u001b[49m\u001b[43m,\u001b[49m\n\u001b[0;32m   3976\u001b[0m \u001b[43m    \u001b[49m\u001b[43mindex_label\u001b[49m\u001b[38;5;241;43m=\u001b[39;49m\u001b[43mindex_label\u001b[49m\u001b[43m,\u001b[49m\n\u001b[0;32m   3977\u001b[0m \u001b[43m    \u001b[49m\u001b[43mmode\u001b[49m\u001b[38;5;241;43m=\u001b[39;49m\u001b[43mmode\u001b[49m\u001b[43m,\u001b[49m\n\u001b[0;32m   3978\u001b[0m \u001b[43m    \u001b[49m\u001b[43mchunksize\u001b[49m\u001b[38;5;241;43m=\u001b[39;49m\u001b[43mchunksize\u001b[49m\u001b[43m,\u001b[49m\n\u001b[0;32m   3979\u001b[0m \u001b[43m    \u001b[49m\u001b[43mquotechar\u001b[49m\u001b[38;5;241;43m=\u001b[39;49m\u001b[43mquotechar\u001b[49m\u001b[43m,\u001b[49m\n\u001b[0;32m   3980\u001b[0m \u001b[43m    \u001b[49m\u001b[43mdate_format\u001b[49m\u001b[38;5;241;43m=\u001b[39;49m\u001b[43mdate_format\u001b[49m\u001b[43m,\u001b[49m\n\u001b[0;32m   3981\u001b[0m \u001b[43m    \u001b[49m\u001b[43mdoublequote\u001b[49m\u001b[38;5;241;43m=\u001b[39;49m\u001b[43mdoublequote\u001b[49m\u001b[43m,\u001b[49m\n\u001b[0;32m   3982\u001b[0m \u001b[43m    \u001b[49m\u001b[43mescapechar\u001b[49m\u001b[38;5;241;43m=\u001b[39;49m\u001b[43mescapechar\u001b[49m\u001b[43m,\u001b[49m\n\u001b[0;32m   3983\u001b[0m \u001b[43m    \u001b[49m\u001b[43mstorage_options\u001b[49m\u001b[38;5;241;43m=\u001b[39;49m\u001b[43mstorage_options\u001b[49m\u001b[43m,\u001b[49m\n\u001b[0;32m   3984\u001b[0m \u001b[43m\u001b[49m\u001b[43m)\u001b[49m\n",
      "File \u001b[1;32md:\\Cerberus\\Assets\\Code\\ML\\NCI\\DA For AI\\TABA\\taba\\lib\\site-packages\\pandas\\io\\formats\\format.py:1014\u001b[0m, in \u001b[0;36mDataFrameRenderer.to_csv\u001b[1;34m(self, path_or_buf, encoding, sep, columns, index_label, mode, compression, quoting, quotechar, lineterminator, chunksize, date_format, doublequote, escapechar, errors, storage_options)\u001b[0m\n\u001b[0;32m    995\u001b[0m csv_formatter \u001b[38;5;241m=\u001b[39m CSVFormatter(\n\u001b[0;32m    996\u001b[0m     path_or_buf\u001b[38;5;241m=\u001b[39mpath_or_buf,\n\u001b[0;32m    997\u001b[0m     lineterminator\u001b[38;5;241m=\u001b[39mlineterminator,\n\u001b[1;32m   (...)\u001b[0m\n\u001b[0;32m   1012\u001b[0m     formatter\u001b[38;5;241m=\u001b[39m\u001b[38;5;28mself\u001b[39m\u001b[38;5;241m.\u001b[39mfmt,\n\u001b[0;32m   1013\u001b[0m )\n\u001b[1;32m-> 1014\u001b[0m \u001b[43mcsv_formatter\u001b[49m\u001b[38;5;241;43m.\u001b[39;49m\u001b[43msave\u001b[49m\u001b[43m(\u001b[49m\u001b[43m)\u001b[49m\n\u001b[0;32m   1016\u001b[0m \u001b[38;5;28;01mif\u001b[39;00m created_buffer:\n",
      "File \u001b[1;32md:\\Cerberus\\Assets\\Code\\ML\\NCI\\DA For AI\\TABA\\taba\\lib\\site-packages\\pandas\\io\\formats\\csvs.py:270\u001b[0m, in \u001b[0;36mCSVFormatter.save\u001b[1;34m(self)\u001b[0m\n\u001b[0;32m    260\u001b[0m \u001b[38;5;28mself\u001b[39m\u001b[38;5;241m.\u001b[39mwriter \u001b[38;5;241m=\u001b[39m csvlib\u001b[38;5;241m.\u001b[39mwriter(\n\u001b[0;32m    261\u001b[0m     handles\u001b[38;5;241m.\u001b[39mhandle,\n\u001b[0;32m    262\u001b[0m     lineterminator\u001b[38;5;241m=\u001b[39m\u001b[38;5;28mself\u001b[39m\u001b[38;5;241m.\u001b[39mlineterminator,\n\u001b[1;32m   (...)\u001b[0m\n\u001b[0;32m    267\u001b[0m     quotechar\u001b[38;5;241m=\u001b[39m\u001b[38;5;28mself\u001b[39m\u001b[38;5;241m.\u001b[39mquotechar,\n\u001b[0;32m    268\u001b[0m )\n\u001b[1;32m--> 270\u001b[0m \u001b[38;5;28;43mself\u001b[39;49m\u001b[38;5;241;43m.\u001b[39;49m\u001b[43m_save\u001b[49m\u001b[43m(\u001b[49m\u001b[43m)\u001b[49m\n",
      "File \u001b[1;32md:\\Cerberus\\Assets\\Code\\ML\\NCI\\DA For AI\\TABA\\taba\\lib\\site-packages\\pandas\\io\\formats\\csvs.py:275\u001b[0m, in \u001b[0;36mCSVFormatter._save\u001b[1;34m(self)\u001b[0m\n\u001b[0;32m    274\u001b[0m     \u001b[38;5;28mself\u001b[39m\u001b[38;5;241m.\u001b[39m_save_header()\n\u001b[1;32m--> 275\u001b[0m \u001b[38;5;28;43mself\u001b[39;49m\u001b[38;5;241;43m.\u001b[39;49m\u001b[43m_save_body\u001b[49m\u001b[43m(\u001b[49m\u001b[43m)\u001b[49m\n",
      "File \u001b[1;32md:\\Cerberus\\Assets\\Code\\ML\\NCI\\DA For AI\\TABA\\taba\\lib\\site-packages\\pandas\\io\\formats\\csvs.py:313\u001b[0m, in \u001b[0;36mCSVFormatter._save_body\u001b[1;34m(self)\u001b[0m\n\u001b[0;32m    312\u001b[0m     \u001b[38;5;28;01mbreak\u001b[39;00m\n\u001b[1;32m--> 313\u001b[0m \u001b[38;5;28;43mself\u001b[39;49m\u001b[38;5;241;43m.\u001b[39;49m\u001b[43m_save_chunk\u001b[49m\u001b[43m(\u001b[49m\u001b[43mstart_i\u001b[49m\u001b[43m,\u001b[49m\u001b[43m \u001b[49m\u001b[43mend_i\u001b[49m\u001b[43m)\u001b[49m\n",
      "File \u001b[1;32md:\\Cerberus\\Assets\\Code\\ML\\NCI\\DA For AI\\TABA\\taba\\lib\\site-packages\\pandas\\io\\formats\\csvs.py:324\u001b[0m, in \u001b[0;36mCSVFormatter._save_chunk\u001b[1;34m(self, start_i, end_i)\u001b[0m\n\u001b[0;32m    323\u001b[0m ix \u001b[38;5;241m=\u001b[39m \u001b[38;5;28mself\u001b[39m\u001b[38;5;241m.\u001b[39mdata_index[slicer]\u001b[38;5;241m.\u001b[39m_get_values_for_csv(\u001b[38;5;241m*\u001b[39m\u001b[38;5;241m*\u001b[39m\u001b[38;5;28mself\u001b[39m\u001b[38;5;241m.\u001b[39m_number_format)\n\u001b[1;32m--> 324\u001b[0m \u001b[43mlibwriters\u001b[49m\u001b[38;5;241;43m.\u001b[39;49m\u001b[43mwrite_csv_rows\u001b[49m\u001b[43m(\u001b[49m\n\u001b[0;32m    325\u001b[0m \u001b[43m    \u001b[49m\u001b[43mdata\u001b[49m\u001b[43m,\u001b[49m\n\u001b[0;32m    326\u001b[0m \u001b[43m    \u001b[49m\u001b[43mix\u001b[49m\u001b[43m,\u001b[49m\n\u001b[0;32m    327\u001b[0m \u001b[43m    \u001b[49m\u001b[38;5;28;43mself\u001b[39;49m\u001b[38;5;241;43m.\u001b[39;49m\u001b[43mnlevels\u001b[49m\u001b[43m,\u001b[49m\n\u001b[0;32m    328\u001b[0m \u001b[43m    \u001b[49m\u001b[38;5;28;43mself\u001b[39;49m\u001b[38;5;241;43m.\u001b[39;49m\u001b[43mcols\u001b[49m\u001b[43m,\u001b[49m\n\u001b[0;32m    329\u001b[0m \u001b[43m    \u001b[49m\u001b[38;5;28;43mself\u001b[39;49m\u001b[38;5;241;43m.\u001b[39;49m\u001b[43mwriter\u001b[49m\u001b[43m,\u001b[49m\n\u001b[0;32m    330\u001b[0m \u001b[43m\u001b[49m\u001b[43m)\u001b[49m\n",
      "File \u001b[1;32mwriters.pyx:76\u001b[0m, in \u001b[0;36mpandas._libs.writers.write_csv_rows\u001b[1;34m()\u001b[0m\n",
      "File \u001b[1;32m~\\AppData\\Local\\Programs\\Python\\Python310\\lib\\encodings\\cp1252.py:19\u001b[0m, in \u001b[0;36mIncrementalEncoder.encode\u001b[1;34m(self, input, final)\u001b[0m\n\u001b[0;32m     18\u001b[0m \u001b[38;5;28;01mdef\u001b[39;00m\u001b[38;5;250m \u001b[39m\u001b[38;5;21mencode\u001b[39m(\u001b[38;5;28mself\u001b[39m, \u001b[38;5;28minput\u001b[39m, final\u001b[38;5;241m=\u001b[39m\u001b[38;5;28;01mFalse\u001b[39;00m):\n\u001b[1;32m---> 19\u001b[0m     \u001b[38;5;28;01mreturn\u001b[39;00m \u001b[43mcodecs\u001b[49m\u001b[38;5;241;43m.\u001b[39;49m\u001b[43mcharmap_encode\u001b[49m\u001b[43m(\u001b[49m\u001b[38;5;28;43minput\u001b[39;49m\u001b[43m,\u001b[49m\u001b[38;5;28;43mself\u001b[39;49m\u001b[38;5;241;43m.\u001b[39;49m\u001b[43merrors\u001b[49m\u001b[43m,\u001b[49m\u001b[43mencoding_table\u001b[49m\u001b[43m)\u001b[49m[\u001b[38;5;241m0\u001b[39m]\n",
      "\u001b[1;31mUnicodeEncodeError\u001b[0m: 'charmap' codec can't encode character '\\u010d' in position 93: character maps to <undefined>",
      "\nDuring handling of the above exception, another exception occurred:\n",
      "\u001b[1;31mKeyboardInterrupt\u001b[0m                         Traceback (most recent call last)",
      "Cell \u001b[1;32mIn[10], line 71\u001b[0m\n\u001b[0;32m     69\u001b[0m                 wait_time \u001b[38;5;241m=\u001b[39m \u001b[38;5;241m2\u001b[39m \u001b[38;5;241m*\u001b[39m\u001b[38;5;241m*\u001b[39m attempt\n\u001b[0;32m     70\u001b[0m                 \u001b[38;5;28mprint\u001b[39m(\u001b[38;5;124mf\u001b[39m\u001b[38;5;124m\"\u001b[39m\u001b[38;5;124m⚠️ Error fetching \u001b[39m\u001b[38;5;132;01m{\u001b[39;00mgame_id\u001b[38;5;132;01m}\u001b[39;00m\u001b[38;5;124m, retrying in \u001b[39m\u001b[38;5;132;01m{\u001b[39;00mwait_time\u001b[38;5;132;01m}\u001b[39;00m\u001b[38;5;124ms... (\u001b[39m\u001b[38;5;132;01m{\u001b[39;00mattempt\u001b[38;5;132;01m}\u001b[39;00m\u001b[38;5;124m/5)\u001b[39m\u001b[38;5;124m\"\u001b[39m)\n\u001b[1;32m---> 71\u001b[0m                 \u001b[43mtime\u001b[49m\u001b[38;5;241;43m.\u001b[39;49m\u001b[43msleep\u001b[49m\u001b[43m(\u001b[49m\u001b[43mwait_time\u001b[49m\u001b[43m)\u001b[49m\n\u001b[0;32m     73\u001b[0m \u001b[38;5;28mprint\u001b[39m(\u001b[38;5;124m\"\u001b[39m\u001b[38;5;124m✅ Dynamic per-game lineup stats saved successfully!\u001b[39m\u001b[38;5;124m\"\u001b[39m)\n",
      "\u001b[1;31mKeyboardInterrupt\u001b[0m: "
     ]
    }
   ],
   "source": [
    "first_write = not os.path.exists(file_name)\n",
    "\n",
    "with open(file_name, \"a\", newline=\"\") as f:\n",
    "    # Iterate through games\n",
    "    for game_id in tqdm(game_ids, desc=\"Processing Games\"):\n",
    "        if game_id in completed_game_ids:\n",
    "            continue  # Skip already processed games\n",
    "\n",
    "        attempt = 0\n",
    "        while attempt < 5:  # Retry up to 5 times\n",
    "            try:\n",
    "                # Step 1: Fetch Play-by-Play Data to Identify Lineups\n",
    "                pbp_data = playbyplayv2.PlayByPlayV2(game_id=game_id)\n",
    "                pbp_df = pbp_data.get_data_frames()[0]\n",
    "\n",
    "                # Identify unique lineup changes based on substitutions\n",
    "                sub_events = pbp_df[pbp_df[\"EVENTMSGTYPE\"] == 8]  # Substitutions\n",
    "                lineups = {}  # {Team_ID: Active Lineup (set of player IDs)}\n",
    "\n",
    "                for index, row in sub_events.iterrows():\n",
    "                    team_id = row[\"PLAYER1_TEAM_ID\"]\n",
    "                    in_player = row[\"PLAYER2_ID\"]\n",
    "                    out_player = row[\"PLAYER1_ID\"]\n",
    "\n",
    "                    if team_id not in lineups:\n",
    "                        lineups[team_id] = set()\n",
    "\n",
    "                    lineups[team_id].discard(out_player)\n",
    "                    lineups[team_id].add(in_player)\n",
    "\n",
    "                # Step 2: Fetch Box Score Data for Player Performance\n",
    "                boxscore_data = boxscoretraditionalv2.BoxScoreTraditionalV2(game_id=game_id)\n",
    "                boxscore_df = boxscore_data.get_data_frames()[0]\n",
    "\n",
    "                # Step 3: Aggregate Player Stats Based on Active Lineups\n",
    "                final_data = []\n",
    "                team_ids = list(lineups.keys())\n",
    "\n",
    "                for team_id in team_ids:\n",
    "                    opponent_team_id = [tid for tid in team_ids if tid != team_id][0]  # Find opponent team\n",
    "                    lineup_players = lineups[team_id]\n",
    "                    opponent_lineup_players = lineups[opponent_team_id]\n",
    "\n",
    "                    lineup_stats = boxscore_df[boxscore_df[\"PLAYER_ID\"].isin(lineup_players)].copy()\n",
    "                    opponent_stats = boxscore_df[boxscore_df[\"PLAYER_ID\"].isin(opponent_lineup_players)].copy()\n",
    "\n",
    "                    if lineup_stats.empty or opponent_stats.empty:\n",
    "                        continue\n",
    "\n",
    "                    # Aggregate lineup performance\n",
    "                    aggregated_stats = lineup_stats.groupby(\"TEAM_ID\").sum()\n",
    "                    aggregated_stats[\"GAME_ID\"] = game_id\n",
    "                    aggregated_stats[\"LINEUP\"] = \", \".join(map(str, lineup_players))\n",
    "                    aggregated_stats[\"OPPONENT_LINEUP\"] = \", \".join(map(str, opponent_lineup_players))\n",
    "\n",
    "                    final_data.append(aggregated_stats)\n",
    "\n",
    "                # Convert to DataFrame and append to CSV\n",
    "                if final_data:\n",
    "                    df = pd.concat(final_data, ignore_index=True)\n",
    "                    df.to_csv(f, index=False, header=first_write, mode=\"a\")\n",
    "                    first_write = False  # Ensure headers are written only once\n",
    "\n",
    "                time.sleep(1.5)  # Sleep to avoid rate limits\n",
    "                break  # Exit retry loop\n",
    "\n",
    "            except Exception as e:\n",
    "                attempt += 1\n",
    "                wait_time = 2 ** attempt\n",
    "                print(f\"⚠️ Error fetching {game_id}, retrying in {wait_time}s... ({attempt}/5)\")\n",
    "                print(e)\n",
    "                time.sleep(wait_time)\n",
    "\n",
    "print(\"✅ Dynamic per-game lineup stats saved successfully!\")"
   ]
  },
  {
   "cell_type": "code",
   "execution_count": 15,
   "metadata": {},
   "outputs": [
    {
     "data": {
      "text/html": [
       "<div>\n",
       "<style scoped>\n",
       "    .dataframe tbody tr th:only-of-type {\n",
       "        vertical-align: middle;\n",
       "    }\n",
       "\n",
       "    .dataframe tbody tr th {\n",
       "        vertical-align: top;\n",
       "    }\n",
       "\n",
       "    .dataframe thead th {\n",
       "        text-align: right;\n",
       "    }\n",
       "</style>\n",
       "<table border=\"1\" class=\"dataframe\">\n",
       "  <thead>\n",
       "    <tr style=\"text-align: right;\">\n",
       "      <th></th>\n",
       "      <th>GAME_ID</th>\n",
       "      <th>EVENTNUM</th>\n",
       "      <th>EVENTMSGTYPE</th>\n",
       "      <th>EVENTMSGACTIONTYPE</th>\n",
       "      <th>PERIOD</th>\n",
       "      <th>WCTIMESTRING</th>\n",
       "      <th>PCTIMESTRING</th>\n",
       "      <th>HOMEDESCRIPTION</th>\n",
       "      <th>NEUTRALDESCRIPTION</th>\n",
       "      <th>VISITORDESCRIPTION</th>\n",
       "      <th>...</th>\n",
       "      <th>CFGM</th>\n",
       "      <th>CFGA</th>\n",
       "      <th>CFG_PCT</th>\n",
       "      <th>UFGM</th>\n",
       "      <th>UFGA</th>\n",
       "      <th>UFG_PCT</th>\n",
       "      <th>FG_PCT</th>\n",
       "      <th>DFGM</th>\n",
       "      <th>DFGA</th>\n",
       "      <th>DFG_PCT</th>\n",
       "    </tr>\n",
       "  </thead>\n",
       "  <tbody>\n",
       "    <tr>\n",
       "      <th>0</th>\n",
       "      <td>0022301196</td>\n",
       "      <td>2</td>\n",
       "      <td>12</td>\n",
       "      <td>0</td>\n",
       "      <td>1</td>\n",
       "      <td>3:41 PM</td>\n",
       "      <td>12:00</td>\n",
       "      <td>None</td>\n",
       "      <td>Start of 1st Period (3:41 PM EST)</td>\n",
       "      <td>None</td>\n",
       "      <td>...</td>\n",
       "      <td>0</td>\n",
       "      <td>1</td>\n",
       "      <td>0.000</td>\n",
       "      <td>1</td>\n",
       "      <td>7</td>\n",
       "      <td>0.143</td>\n",
       "      <td>0.125</td>\n",
       "      <td>0</td>\n",
       "      <td>0</td>\n",
       "      <td>0.000</td>\n",
       "    </tr>\n",
       "    <tr>\n",
       "      <th>1</th>\n",
       "      <td>0022301196</td>\n",
       "      <td>2</td>\n",
       "      <td>12</td>\n",
       "      <td>0</td>\n",
       "      <td>1</td>\n",
       "      <td>3:41 PM</td>\n",
       "      <td>12:00</td>\n",
       "      <td>None</td>\n",
       "      <td>Start of 1st Period (3:41 PM EST)</td>\n",
       "      <td>None</td>\n",
       "      <td>...</td>\n",
       "      <td>2</td>\n",
       "      <td>5</td>\n",
       "      <td>0.400</td>\n",
       "      <td>3</td>\n",
       "      <td>9</td>\n",
       "      <td>0.333</td>\n",
       "      <td>0.356</td>\n",
       "      <td>7</td>\n",
       "      <td>8</td>\n",
       "      <td>0.875</td>\n",
       "    </tr>\n",
       "    <tr>\n",
       "      <th>2</th>\n",
       "      <td>0022301196</td>\n",
       "      <td>2</td>\n",
       "      <td>12</td>\n",
       "      <td>0</td>\n",
       "      <td>1</td>\n",
       "      <td>3:41 PM</td>\n",
       "      <td>12:00</td>\n",
       "      <td>None</td>\n",
       "      <td>Start of 1st Period (3:41 PM EST)</td>\n",
       "      <td>None</td>\n",
       "      <td>...</td>\n",
       "      <td>1</td>\n",
       "      <td>1</td>\n",
       "      <td>1.000</td>\n",
       "      <td>0</td>\n",
       "      <td>1</td>\n",
       "      <td>0.000</td>\n",
       "      <td>0.500</td>\n",
       "      <td>4</td>\n",
       "      <td>6</td>\n",
       "      <td>0.667</td>\n",
       "    </tr>\n",
       "    <tr>\n",
       "      <th>3</th>\n",
       "      <td>0022301196</td>\n",
       "      <td>2</td>\n",
       "      <td>12</td>\n",
       "      <td>0</td>\n",
       "      <td>1</td>\n",
       "      <td>3:41 PM</td>\n",
       "      <td>12:00</td>\n",
       "      <td>None</td>\n",
       "      <td>Start of 1st Period (3:41 PM EST)</td>\n",
       "      <td>None</td>\n",
       "      <td>...</td>\n",
       "      <td>0</td>\n",
       "      <td>4</td>\n",
       "      <td>0.000</td>\n",
       "      <td>1</td>\n",
       "      <td>5</td>\n",
       "      <td>0.200</td>\n",
       "      <td>0.111</td>\n",
       "      <td>4</td>\n",
       "      <td>4</td>\n",
       "      <td>1.000</td>\n",
       "    </tr>\n",
       "    <tr>\n",
       "      <th>4</th>\n",
       "      <td>0022301196</td>\n",
       "      <td>2</td>\n",
       "      <td>12</td>\n",
       "      <td>0</td>\n",
       "      <td>1</td>\n",
       "      <td>3:41 PM</td>\n",
       "      <td>12:00</td>\n",
       "      <td>None</td>\n",
       "      <td>Start of 1st Period (3:41 PM EST)</td>\n",
       "      <td>None</td>\n",
       "      <td>...</td>\n",
       "      <td>1</td>\n",
       "      <td>7</td>\n",
       "      <td>0.143</td>\n",
       "      <td>3</td>\n",
       "      <td>7</td>\n",
       "      <td>0.429</td>\n",
       "      <td>0.285</td>\n",
       "      <td>3</td>\n",
       "      <td>3</td>\n",
       "      <td>1.000</td>\n",
       "    </tr>\n",
       "  </tbody>\n",
       "</table>\n",
       "<p>5 rows × 63 columns</p>\n",
       "</div>"
      ],
      "text/plain": [
       "      GAME_ID  EVENTNUM  EVENTMSGTYPE  EVENTMSGACTIONTYPE  PERIOD  \\\n",
       "0  0022301196         2            12                   0       1   \n",
       "1  0022301196         2            12                   0       1   \n",
       "2  0022301196         2            12                   0       1   \n",
       "3  0022301196         2            12                   0       1   \n",
       "4  0022301196         2            12                   0       1   \n",
       "\n",
       "  WCTIMESTRING PCTIMESTRING HOMEDESCRIPTION  \\\n",
       "0      3:41 PM        12:00            None   \n",
       "1      3:41 PM        12:00            None   \n",
       "2      3:41 PM        12:00            None   \n",
       "3      3:41 PM        12:00            None   \n",
       "4      3:41 PM        12:00            None   \n",
       "\n",
       "                  NEUTRALDESCRIPTION VISITORDESCRIPTION  ... CFGM CFGA  \\\n",
       "0  Start of 1st Period (3:41 PM EST)               None  ...    0    1   \n",
       "1  Start of 1st Period (3:41 PM EST)               None  ...    2    5   \n",
       "2  Start of 1st Period (3:41 PM EST)               None  ...    1    1   \n",
       "3  Start of 1st Period (3:41 PM EST)               None  ...    0    4   \n",
       "4  Start of 1st Period (3:41 PM EST)               None  ...    1    7   \n",
       "\n",
       "   CFG_PCT  UFGM UFGA  UFG_PCT FG_PCT DFGM DFGA  DFG_PCT  \n",
       "0    0.000     1    7    0.143  0.125    0    0    0.000  \n",
       "1    0.400     3    9    0.333  0.356    7    8    0.875  \n",
       "2    1.000     0    1    0.000  0.500    4    6    0.667  \n",
       "3    0.000     1    5    0.200  0.111    4    4    1.000  \n",
       "4    0.143     3    7    0.429  0.285    3    3    1.000  \n",
       "\n",
       "[5 rows x 63 columns]"
      ]
     },
     "execution_count": 15,
     "metadata": {},
     "output_type": "execute_result"
    }
   ],
   "source": [
    "from nba_api.stats.endpoints import playbyplayv2, boxscoreplayertrackv2\n",
    "import pandas as pd\n",
    "import time\n",
    "\n",
    "game_id = \"0022301196\"  # Example Game ID\n",
    "\n",
    "# Step 1: Get Play-by-Play Data\n",
    "pbp_data = playbyplayv2.PlayByPlayV2(game_id=game_id)\n",
    "pbp_df = pbp_data.get_data_frames()[0]\n",
    "\n",
    "# Step 2: Identify Possessions\n",
    "pbp_df[\"POSSESSION_CHANGE\"] = pbp_df[\"EVENTMSGTYPE\"].isin([1, 5, 6, 7, 8])  # Shot, Turnover, Foul, etc.\n",
    "\n",
    "# Step 3: Get Player Tracking Data\n",
    "tracking_data = boxscoreplayertrackv2.BoxScorePlayerTrackV2(game_id=game_id)\n",
    "tracking_df = tracking_data.get_data_frames()[0]\n",
    "\n",
    "# Merge both datasets based on timestamps (approximate)\n",
    "merged_df = pbp_df.merge(tracking_df, on=\"GAME_ID\", how=\"left\")\n",
    "merged_df.head() # View possession-level stats\n"
   ]
  },
  {
   "cell_type": "code",
   "execution_count": 1,
   "metadata": {},
   "outputs": [
    {
     "name": "stdout",
     "output_type": "stream",
     "text": [
      "Total Games in 2023-24 (Regular Season): 1230\n"
     ]
    }
   ],
   "source": [
    "from nba_api.stats.endpoints import leaguegamefinder, boxscoreadvancedv2\n",
    "import pandas as pd\n",
    "import time\n",
    "import os\n",
    "\n",
    "# Define the season to retrieve data for\n",
    "SEASON = \"2023-24\"\n",
    "SEASON_TYPE = \"Regular Season\"  # Change to \"Playoffs\" if needed\n",
    "OUTPUT_FILE = \"possession_based_analysis.csv\"\n",
    "\n",
    "# Retrieve all game IDs for the season\n",
    "gamefinder = leaguegamefinder.LeagueGameFinder(\n",
    "    season_nullable=SEASON, season_type_nullable=SEASON_TYPE, league_id_nullable=\"00\"\n",
    ")\n",
    "games = gamefinder.get_data_frames()[0]\n",
    "game_ids = games[\"GAME_ID\"].unique().tolist()\n",
    "print(f\"Total Games in {SEASON} ({SEASON_TYPE}): {len(game_ids)}\")\n",
    "\n",
    "# Load existing data to avoid duplicate API calls\n",
    "if os.path.exists(OUTPUT_FILE):\n",
    "    existing_data = pd.read_csv(OUTPUT_FILE)\n",
    "    processed_game_ids = existing_data[\"GAME_ID\"].unique().tolist()\n",
    "else:\n",
    "    existing_data = pd.DataFrame()\n",
    "    processed_game_ids = []\n",
    "\n",
    "# List to store new data\n",
    "all_data = []\n",
    "\n",
    "# Loop through all game IDs\n"
   ]
  },
  {
   "cell_type": "code",
   "execution_count": 2,
   "metadata": {},
   "outputs": [
    {
     "name": "stdout",
     "output_type": "stream",
     "text": [
      "994\n"
     ]
    }
   ],
   "source": [
    "print(len(processed_game_ids))"
   ]
  },
  {
   "cell_type": "code",
   "execution_count": 3,
   "metadata": {},
   "outputs": [
    {
     "name": "stdout",
     "output_type": "stream",
     "text": [
      "['0022301200', '0022301192', '0022301196', '0022301194', '0022301197', '0022301190', '0022301193', '0022301187', '0022301189', '0022301191', '0022301199', '0022301198', '0022301195', '0022301186', '0022301188', '0022301182', '0022301179', '0022301175', '0022301172', '0022301177', '0022301184', '0022301185', '0022301180', '0022301173', '0022301183', '0022301176', '0022301171', '0022301181', '0022301174', '0022301178', '0022301168', '0022301170', '0022301166', '0022301169', '0022301167', '0022301159', '0022301165', '0022301162', '0022301163', '0022301164', '0022301158', '0022301161', '0022301160', '0022301153', '0022301156', '0022301152', '0022301154', '0022301148', '0022301145', '0022301146', '0022301144', '0022301151', '0022301150', '0022301155', '0022301147', '0022301149', '0022301157', '0022301139', '0022301140', '0022301138', '0022301131', '0022301143', '0022301135', '0022301134', '0022301133', '0022301136', '0022301141', '0022301132', '0022301142', '0022301137', '0022301130', '0022301129', '0022301127', '0022301128', '0022301121', '0022301123', '0022301097', '0022301125', '0022301117', '0022301115', '0022301118', '0022301116', '0022301119', '0022301120', '0022301122', '0022301126', '0022301111', '0022301124', '0022301112', '0022301113', '0022301114', '0022301106', '0022301107', '0022301105', '0022301108', '0022301103', '0022301104', '0022301110', '0022301109', '0022301102', '0022301100', '0022301098', '0022300589', '0022301099', '0022301093', '0022301094', '0022301096', '0022301095', '0022301101', '0022301091', '0022301087', '0022301092', '0022301089', '0022301090', '0022301088', '0022301078', '0022301077', '0022301079', '0022301086', '0022301082', '0022301084', '0022301080', '0022301081', '0022301085', '0022301083', '0022301074', '0022301076', '0022301075', '0022301065', '0022301067', '0022301066', '0022301070', '0022301072', '0022301062', '0022301064', '0022301071', '0022301063', '0022301073', '0022301068', '0022301069', '0022301061', '0022301060', '0022301051', '0022301052', '0022301053', '0022301050', '0022301057', '0022301059', '0022301049', '0022301056', '0022301058', '0022301054', '0022301048', '0022301055', '0022301044', '0022301047', '0022301045', '0022301046', '0022301035', '0022301043', '0022301037', '0022301036', '0022301034', '0022301038', '0022301039', '0022301040', '0022301033', '0022301042', '0022301041', '0022301027', '0022301029', '0022301030', '0022301028', '0022301032', '0022301031', '0022301025', '0022301022', '0022301024', '0022301020', '0022301023', '0022301021', '0022301026', '0022301019', '0022301017', '0022301011', '0022301012', '0022301016', '0022301014', '0022301018', '0022301013', '0022301015', '0022301009', '0022301004', '0022301008', '0022301007', '0022301006', '0022301010', '0022301005', '0022301000', '0022301001', '0022300999', '0022301003', '0022300997', '0022300998', '0022301002', '0022300996', '0022300991', '0022300993', '0022300995', '0022300992', '0022300994', '0022300986', '0022300989', '0022300988', '0022300984', '0022300983', '0022300985', '0022300987', '0022300990', '0022300980', '0022300978', '0022300976', '0022300979', '0022300977', '0022300981', '0022300982', '0022300975', '0022300968', '0022300974', '0022300967', '0022300973', '0022300970', '0022300971', '0022300972', '0022300969', '0022300965', '0022300964', '0022300962', '0022300963', '0022300966', '0022300961', '0022300956', '0022300955', '0022300959', '0022300957', '0022300958', '0022300960', '0022300952', '0022300950', '0022300953', '0022300951', '0022300954', '0022300947', '0022300946', '0022300949', '0022300948', '0022300941', '0022300942', '0022300944', '0022300939', '0022300940', '0022300945', '0022300943', '0022300937', '0022300934', '0022300935', '0022300938', '0022300936', '0022300933', '0022300928', '0022300930', '0022300931', '0022300929', '0022300932', '0022300927', '0022300926', '0022300924', '0022300925', '0022300919', '0022300921', '0022300922', '0022300917', '0022300923', '0022300918', '0022300920', '0022300910', '0022300911', '0022300913', '0022300909', '0022300916', '0022300915', '0022300914', '0022300912', '0022300908', '0022300903', '0022300906', '0022300902', '0022300907', '0022300904', '0022300905', '0022300895', '0022300897', '0022300899', '0022300898', '0022300896', '0022300900', '0022300894', '0022300901', '0022300892', '0022300885', '0022300890', '0022300891', '0022300887', '0022300886', '0022300893', '0022300888', '0022300889', '0022300881', '0022300879', '0022300882', '0022300884', '0022300880', '0022300883', '0022300875', '0022300874', '0022300876', '0022300872', '0022300878', '0022300871', '0022300873', '0022300877', '0022300869', '0022300868', '0022300867', '0022300866', '0022300870', '0022300859', '0022300864', '0022300862', '0022300863', '0022300861', '0022300865', '0022300860', '0022300857', '0022300858', '0022300850', '0022300854', '0022300856', '0022300855', '0022300851', '0022300852', '0022300853', '0022300849', '0022300846', '0022300847', '0022300845', '0022300844', '0022300843', '0022300848', '0022300841', '0022300838', '0022300834', '0022300836', '0022300839', '0022300833', '0022300837', '0022300842', '0022300832', '0022300835', '0022300840', '0022300828', '0022300831', '0022300830', '0022300829', '0022300823', '0022300820', '0022300822', '0022300817', '0022300827', '0022300819', '0022300826', '0022300825', '0022300824', '0022300818', '0022300821', '0022300816', '0022300815', '0022300814', '0022300806', '0022300813', '0022300804', '0022300812', '0022300807', '0022300805', '0022300811', '0022300809', '0022300810', '0022300808', '0022300797', '0022300799', '0022300801', '0022300793', '0022300792', '0022300794', '0022300802', '0022300795', '0022300798', '0022300803', '0022300800', '0022300796', '0022300576', '0022300791', '0022300790', '0022300779', '0022300782', '0022300780', '0022300787', '0022300784', '0022300788', '0022300778', '0022300777', '0022300781', '0022300783', '0022300786', '0022300789', '0022300785', '0022300776', '0022300773', '0022300775', '0022300771', '0022300772', '0022300774', '0022300764', '0022300766', '0022300761', '0022300765', '0022300770', '0022300763', '0022300769', '0022300762', '0022300768', '0022300767', '0022300759', '0022300760', '0022300754', '0022300757', '0022300752', '0022300756', '0022300753', '0022300748', '0022300749', '0022300750', '0022300751', '0022300758', '0022300755', '0022300746', '0022300744', '0022300745', '0022300742', '0022300743', '0022300747', '0022300733', '0022300735', '0022300740', '0022300741', '0022300736', '0022300737', '0022300734', '0022300738', '0022300739', '0022300726', '0022300728', '0022300732', '0022300731', '0022300727', '0022300730', '0022300729', '0022300724', '0022300722', '0022300721', '0022300720', '0022300723', '0022300725', '0022300719', '0022300715', '0022300714', '0022300717', '0022300718', '0022300713', '0022300716', '0022300704', '0022300708', '0022300706', '0022300705', '0022300711', '0022300710', '0022300712', '0022300707', '0022300709', '0022300701', '0022300700', '0022300698', '0022300703', '0022300702', '0022300699', '0022300691', '0022300694', '0022300689', '0022300695', '0022300690', '0022300696', '0022300688', '0022300693', '0022300697', '0022300692', '0022300687', '0022300685', '0022300686', '0022300684', '0022300681', '0022300683', '0022300678', '0022300676', '0022300680', '0022300675', '0022300679', '0022300674', '0022300677', '0022300682', '0022300669', '0022300670', '0022300671', '0022300673', '0022300672', '0022300667', '0022300661', '0022300660', '0022300663', '0022300664', '0022300662', '0022300658', '0022300666', '0022300657', '0022300659', '0022300665', '0022300668', '0022300656', '0022300654', '0022300653', '0022300652', '0022300655', '0022300646', '0022300649', '0022300642', '0022300650', '0022300643', '0022300647', '0022300648', '0022300644', '0022300651', '0022300645', '0022300634', '0022300639', '0022300641', '0022300636', '0022300638', '0022300640', '0022300637', '0022300635', '0022300633', '0022300627', '0022300628', '0022300629', '0022300630', '0022300632', '0022300631', '0022300621', '0022300624', '0022300622', '0022300625', '0022300626', '0022300620', '0022300623', '0022300619', '0022300616', '0022300614', '0022300615', '0022300618', '0022300617', '0022300607', '0022300606', '0022300612', '0022300613', '0022300608', '0022300609', '0022300610', '0022300611', '0022300604', '0022300602', '0022300601', '0022300600', '0022300603', '0022300605', '0022300592', '0022300595', '0022300599', '0022300598', '0022300594', '0022300597', '0022300596', '0022300593', '0022300588', '0022300587', '0022300590', '0022300591', '0022300585', '0022300586', '0022300584', '0022300583', '0022300582', '0022300579', '0022300580', '0022300581', '0022300569', '0022300572', '0022300570', '0022300577', '0022300574', '0022300575', '0022300578', '0022300573', '0022300571', '0022300567', '0022300568', '0022300566', '0022300556', '0022300560', '0022300555', '0022300562', '0022300561', '0022300557', '0022300563', '0022300565', '0022300558', '0022300559', '0022300564', '0022300554', '0022300550', '0022300552', '0022300551', '0022300553', '0022300544', '0022300543', '0022300546', '0022300549', '0022300542', '0022300547', '0022300548', '0022300545', '0022300539', '0022300533', '0022300534', '0022300532', '0022300536', '0022300541', '0022300535', '0022300537', '0022300540', '0022300538', '0022300527', '0022300531', '0022300529', '0022300528', '0022300530', '0022300520', '0022300526', '0022300525', '0022300523', '0022300518', '0022300524', '0022300521', '0022300519', '0022300522', '0022300517', '0022300513', '0022300516', '0022300515', '0022300514', '0022300512', '0022300508', '0022300506', '0022300510', '0022300511', '0022300507', '0022300509', '0022300502', '0022300498', '0022300499', '0022300503', '0022300500', '0022300505', '0022300504', '0022300497', '0022300501', '0022300496', '0022300494', '0022300495', '0022300493', '0022300489', '0022300479', '0022300492', '0022300481', '0022300488', '0022300482', '0022300483', '0022300480', '0022300491', '0022300487', '0022300485', '0022300490', '0022300486', '0022300484', '0022300478', '0022300477', '0022300466', '0022300469', '0022300467', '0022300470', '0022300468', '0022300472', '0022300475', '0022300473', '0022300471', '0022300476', '0022300465', '0022300474', '0022300460', '0022300461', '0022300463', '0022300459', '0022300462', '0022300464', '0022300458', '0022300455', '0022300457', '0022300452', '0022300456', '0022300454', '0022300451', '0022300453', '0022300445', '0022300450', '0022300446', '0022300448', '0022300449', '0022300447', '0022300442', '0022300441', '0022300444', '0022300440', '0022300439', '0022300443', '0022300436', '0022300434', '0022300430', '0022300435', '0022300437', '0022300429', '0022300431', '0022300432', '0022300438', '0022300433', '0022300428', '0022300423', '0022300425', '0022300422', '0022300424', '0022300426', '0022300427', '0022300421', '0022300417', '0022300419', '0022300420', '0022300416', '0022300415', '0022300418', '0022300414', '0022300413', '0022300408', '0022300409', '0022300412', '0022300406', '0022300410', '0022300411', '0022300407', '0022300404', '0022300401', '0022300403', '0022300405', '0022300402', '0022300397', '0022300389', '0022300396', '0022300398', '0022300390', '0022300388', '0022300392', '0022300399', '0022300400', '0022300394', '0022300395', '0022300393', '0022300391', '0022300383', '0022300382', '0022300385', '0022300387', '0022300384', '0022300386', '0022300375', '0022300379', '0022300374', '0022300378', '0022300381', '0022300377', '0022300376', '0022300380', '0022300369', '0022300373', '0022300372', '0022300367', '0022300365', '0022300371', '0022300366', '0022300364', '0022300368', '0022300370', '0022300363', '0022300360', '0022300362', '0022300361', '0022300352', '0022300358', '0022300353', '0022300356', '0022300350', '0022300354', '0022300357', '0022300351', '0022300359', '0022300349', '0022300355', '0022300346', '0022300345', '0022300348', '0022300347', '0022300344', '0022300338', '0022300342', '0022300337', '0022300336', '0022300339', '0022300341', '0022300343', '0022300340', '0022300335', '0022300334', '0022300331', '0022300333', '0022300326', '0022300330', '0022300332', '0022300329', '0022300327', '0022300328', '0022300323', '0022300322', '0022300321', '0022300324', '0022300320', '0022300325', '0022300319', '0022300315', '0022300312', '0022300311', '0022300316', '0022300318', '0022300314', '0022300313', '0022300310', '0022300317', '0022300308', '0022300305', '0022300306', '0022300307', '0022300309', '0022300301', '0022300298', '0022300300', '0022300292', '0022300293', '0022300295', '0022300304', '0022300296', '0022300294', '0022300303', '0022300302', '0022300299', '0022300297', '0022301219', '0022301217', '0022301227', '0022301224', '0022301221', '0022301222', '0022301216', '0022301220', '0022301223', '0022301225', '0022301228', '0022301226', '0022301218', '0022301230', '0022301229', '0022301212', '0022301213', '0022301208', '0022301214', '0022301215', '0022301205', '0022301207', '0022301210', '0022301206', '0022301209', '0022301211', '0022301203', '0022301201', '0022301202', '0022301204', '0022300288', '0022300290', '0022300285', '0022300280', '0022300291', '0022300287', '0022300289', '0022300284', '0022300286', '0022300283', '0022300281', '0022300282', '0022300275', '0022300279', '0022300278', '0022300277', '0022300274', '0022300276', '0022300266', '0022300268', '0022300272', '0022300265', '0022300273', '0022300270', '0022300269', '0022300267', '0022300271', '0022300259', '0022300258', '0022300260', '0022300262', '0022300263', '0022300264', '0022300261', '0022300055', '0022300056', '0022300057', '0022300059', '0022300053', '0022300060', '0022300054', '0022300058', '0022300254', '0022300255', '0022300257', '0022300256', '0022300253', '0022300245', '0022300247', '0022300252', '0022300248', '0022300246', '0022300250', '0022300251', '0022300249', '0022300244', '0022300239', '0022300241', '0022300240', '0022300242', '0022300243', '0022300046', '0022300049', '0022300052', '0022300047', '0022300051', '0022300050', '0022300044', '0022300048', '0022300043', '0022300045', '0022300235', '0022300226', '0022300229', '0022300228', '0022300232', '0022300234', '0022300233', '0022300227', '0022300238', '0022300230', '0022300237', '0022300236', '0022300231', '0022300225', '0022300042', '0022300041', '0022300039', '0022300038', '0022300040', '0022300220', '0022300221', '0022300217', '0022300219', '0022300218', '0022300222', '0022300223', '0022300224', '0022300212', '0022300210', '0022300215', '0022300213', '0022300214', '0022300211', '0022300209', '0022300208', '0022300216', '0022300204', '0022300206', '0022300207', '0022300205', '0022300202', '0022300203', '0022300034', '0022300028', '0022300032', '0022300031', '0022300030', '0022300033', '0022300035', '0022300037', '0022300027', '0022300036', '0022300029', '0022300201', '0022300200', '0022300192', '0022300199', '0022300194', '0022300193', '0022300195', '0022300198', '0022300197', '0022300196', '0022300020', '0022300018', '0022300025', '0022300024', '0022300023', '0022300017', '0022300021', '0022300026', '0022300022', '0022300019', '0022300189', '0022300191', '0022300190', '0022300188', '0022300183', '0022300187', '0022300177', '0022300186', '0022300182', '0022300180', '0022300184', '0022300185', '0022300181', '0022300179', '0022300178', '0022300174', '0022300173', '0022300175', '0022300176', '0022300008', '0022300013', '0022300009', '0022300014', '0022300011', '0022300012', '0022300016', '0022300015', '0022300010', '0022300172', '0022300171', '0022300168', '0022300158', '0022300162', '0022300157', '0022300165', '0022300166', '0022300169', '0022300163', '0022300161', '0022300159', '0022300160', '0022300164', '0022300167', '0022300170', '0022300146', '0022300156', '0022300150', '0022300151', '0022300149', '0022300155', '0022300145', '0022300152', '0022300153', '0022300147', '0022300154', '0022300148', '0022300142', '0022300144', '0022300140', '0022300141', '0022300143', '0022300139', '0022300136', '0022300132', '0022300138', '0022300134', '0022300133', '0022300135', '0022300137', '0022300005', '0022300002', '0022300006', '0022300004', '0022300003', '0022300001', '0022300007', '0022300130', '0022300129', '0022300128', '0022300131', '0022300122', '0022300119', '0022300116', '0022300121', '0022300117', '0022300124', '0022300126', '0022300115', '0022300118', '0022300127', '0022300125', '0022300123', '0022300120', '0022300114', '0022300112', '0022300113', '0022300111', '0022300104', '0022300106', '0022300107', '0022300108', '0022300110', '0022300101', '0022300102', '0022300109', '0022300105', '0022300103', '0022300097', '0022300095', '0022300098', '0022300099', '0022300096', '0022300100', '0022300093', '0022300089', '0022300088', '0022300090', '0022300092', '0022300091', '0022300094', '0022300080', '0022300082', '0022300085', '0022300081', '0022300078', '0022300084', '0022300086', '0022300077', '0022300087', '0022300079', '0022300083', '0022300075', '0022300076', '0022300066', '0022300073', '0022300070', '0022300069', '0022300064', '0022300068', '0022300072', '0022300065', '0022300074', '0022300063', '0022300067', '0022300071', '0022300061', '0022300062']\n"
     ]
    }
   ],
   "source": [
    "print(game_ids)"
   ]
  },
  {
   "cell_type": "code",
   "execution_count": 4,
   "metadata": {},
   "outputs": [
    {
     "name": "stdout",
     "output_type": "stream",
     "text": [
      "[22301178, 22301194, 22301189, 22301191, 22301198, 22301195, 22301192, 22301190, 22301187, 22301197, 22301188, 22301193, 22301186, 22301200, 22301199, 22301196, 22301185, 22301183, 22301171, 22301172, 22301173, 22301176, 22301177, 22301179, 22301184, 22301175, 22301174, 22301182, 22301180, 22301181, 22301169, 22301168, 22301170, 22301166, 22301167, 22301163, 22301162, 22301158, 22301159, 22301161, 22301160, 22301164, 22301165, 22301147, 22301152, 22301154, 22301157, 22301148, 22301156, 22301150, 22301144, 22301149, 22301151, 22301146, 22301155, 22301145, 22301153, 22301134, 22301143, 22301140, 22301141, 22301138, 22301131, 22301135, 22301137, 22301136, 22301139, 22301142, 22301133, 22301132, 22301130, 22301127, 22301128, 22301129, 22301122, 22301119, 22301123, 22301120, 22301117, 22301097, 22301115, 22301125, 22301118, 22301116, 22301126, 22301121, 22301113, 22301114, 22301112, 22301111, 22301124, 22301109, 22301106, 22301107, 22301108, 22301104, 22301110, 22301105, 22301102, 22301103, 22301095, 22301096, 22301099, 22300589, 22301100, 22301093, 22301101, 22301094, 22301098, 22301090, 22301092, 22301089, 22301088, 22301087, 22301091, 22301079, 22301080, 22301085, 22301081, 22301084, 22301082, 22301077, 22301078, 22301086, 22301083, 22301076, 22301075, 22301074, 22301069, 22301064, 22301073, 22301062, 22301066, 22301063, 22301072, 22301068, 22301065, 22301071, 22301067, 22301070, 22301061, 22301060, 22301049, 22301051, 22301055, 22301053, 22301050, 22301057, 22301054, 22301048, 22301056, 22301052, 22301059, 22301058, 22301046, 22301047, 22301044, 22301045, 22301040, 22301039, 22301042, 22301033, 22301037, 22301043, 22301034, 22301038, 22301041, 22301035, 22301036, 22301030, 22301028, 22301027, 22301029, 22301031, 22301032, 22301024, 22301023, 22301020, 22301019, 22301021, 22301022, 22301025, 22301026, 22301016, 22301011, 22301014, 22301015, 22301017, 22301012, 22301018, 22301013, 22301004, 22301008, 22301009, 22301006, 22301010, 22301007, 22301005, 22300996, 22301003, 22301001, 22300999, 22301000, 22301002, 22300997, 22300998, 22300993, 22300994, 22300995, 22300991, 22300992, 22300989, 22300985, 22300984, 22300986, 22300988, 22300983, 22300987, 22300990, 22300978, 22300976, 22300982, 22300980, 22300981, 22300979, 22300977, 22300968, 22300974, 22300975, 22300967, 22300970, 22300969, 22300973, 22300972, 22300971, 22300966, 22300963, 22300965, 22300961, 22300964, 22300962, 22300957, 22300958, 22300960, 22300959, 22300955, 22300956, 22300948, 22300947, 22300950, 22300952, 22300953, 22300954, 22300949, 22300951, 22300946, 22300939, 22300942, 22300943, 22300945, 22300944, 22300941, 22300940, 22300933, 22300936, 22300938, 22300937, 22300935, 22300934, 22300930, 22300924, 22300932, 22300925, 22300928, 22300926, 22300927, 22300931, 22300929, 22300919, 22300922, 22300917, 22300918, 22300921, 22300920, 22300923, 22300913, 22300914, 22300909, 22300911, 22300915, 22300910, 22300916, 22300912, 22300904, 22300908, 22300905, 22300902, 22300906, 22300903, 22300907, 22300895, 22300899, 22300894, 22300900, 22300901, 22300898, 22300897, 22300896, 22300888, 22300886, 22300885, 22300890, 22300892, 22300893, 22300887, 22300889, 22300891, 22300882, 22300884, 22300879, 22300881, 22300883, 22300880, 22300871, 22300873, 22300877, 22300875, 22300878, 22300876, 22300872, 22300874, 22300867, 22300866, 22300869, 22300868, 22300870, 22300858, 22300864, 22300860, 22300859, 22300862, 22300861, 22300857, 22300865, 22300863, 22300851, 22300854, 22300855, 22300853, 22300849, 22300850, 22300856, 22300852, 22300846, 22300847, 22300843, 22300848, 22300844, 22300845, 22300840, 22300839, 22300834, 22300832, 22300833, 22300842, 22300837, 22300836, 22300841, 22300835, 22300838, 22300830, 22300829, 22300831, 22300828, 22300818, 22300825, 22300823, 22300824, 22300819, 22300817, 22300820, 22300821, 22300822, 22300827, 22300826, 22300815, 22300816, 22300814, 22300811, 22300810, 22300812, 22300807, 22300805, 22300813, 22300808, 22300806, 22300809, 22300804, 22300794, 22300802, 22300792, 22300801, 22300793, 22300796, 22300800, 22300797, 22300803, 22300795, 22300799, 22300798, 22300576, 22300791, 22300790, 22300777, 22300782, 22300784, 22300778, 22300788, 22300789, 22300786, 22300785, 22300780, 22300781, 22300787, 22300783, 22300779, 22300772, 22300774, 22300771, 22300773, 22300776, 22300775, 22300765, 22300770, 22300767, 22300762, 22300764, 22300768, 22300763, 22300769, 22300766, 22300761, 22300760, 22300759, 22300755, 22300753, 22300754, 22300757, 22300749, 22300750, 22300752, 22300751, 22300758, 22300756, 22300748, 22300745, 22300744, 22300746, 22300743, 22300747, 22300742, 22300737, 22300740, 22300733, 22300735, 22300741, 22300736, 22300738, 22300734, 22300739, 22300730, 22300731, 22300727, 22300728, 22300732, 22300729, 22300726, 22300725, 22300721, 22300720, 22300719, 22300723, 22300724, 22300722, 22300714, 22300718, 22300716, 22300717, 22300713, 22300715, 22300710, 22300709, 22300707, 22300705, 22300704, 22300708, 22300706, 22300711, 22300712, 22300699, 22300698, 22300702, 22300700, 22300701, 22300703, 22300689, 22300690, 22300693, 22300695, 22300697, 22300696, 22300692, 22300688, 22300694, 22300691, 22300685, 22300687, 22300686, 22300684, 22300682, 22300676, 22300681, 22300683, 22300680, 22300679, 22300678, 22300677, 22300674, 22300675, 22300669, 22300673, 22300672, 22300671, 22300670, 22300662, 22300660, 22300664, 22300665, 22300663, 22300657, 22300667, 22300668, 22300661, 22300659, 22300658, 22300666, 22300655, 22300654, 22300653, 22300652, 22300656, 22300648, 22300643, 22300645, 22300651, 22300649, 22300644, 22300650, 22300647, 22300642, 22300646, 22300635, 22300636, 22300637, 22300640, 22300641, 22300639, 22300638, 22300634, 22300633, 22300632, 22300629, 22300630, 22300628, 22300631, 22300627, 22300621, 22300626, 22300624, 22300622, 22300619, 22300620, 22300623, 22300625, 22300616, 22300615, 22300614, 22300618, 22300617, 22300611, 22300613, 22300612, 22300610, 22300606, 22300607, 22300609, 22300608, 22300603, 22300600, 22300601, 22300604, 22300602, 22300605, 22300594, 22300598, 22300595, 22300597, 22300596, 22300593, 22300592, 22300599, 22300585, 22300586, 22300584, 22300587, 22300588, 22300591, 22300590, 22300580, 22300581, 22300582, 22300583, 22300579, 22300575, 22300577, 22300578, 22300569, 22300573, 22300574, 22300571, 22300572, 22300570, 22300566, 22300567, 22300568, 22300564, 22300556, 22300561, 22300559, 22300565, 22300560, 22300562, 22300558, 22300555, 22300557, 22300563, 22300550, 22300553, 22300551, 22300552, 22300554, 22300545, 22300544, 22300548, 22300547, 22300549, 22300543, 22300546, 22300542, 22300541, 22300538, 22300535, 22300532, 22300537, 22300540, 22300533, 22300536, 22300539, 22300534, 22300531, 22300529, 22300530, 22300528, 22300527, 22300525, 22300526, 22300522, 22300524, 22300519, 22300523, 22300521, 22300517, 22300520, 22300518, 22300514, 22300516, 22300515, 22300512, 22300513, 22300506, 22300508, 22300511, 22300509, 22300510, 22300504, 22300497, 22300501, 22300499, 22300502, 22300500, 22300498, 22300505, 22300503, 22300496, 22300495, 22300493, 22300494, 22300487, 22300480, 22300483, 22300485, 22300481, 22300489, 22300482, 22300492, 22300491, 22300488, 22300490, 22300479, 22300484, 22300486, 22300477, 22300478, 22300471, 22300469, 22300475, 22300470, 22300476, 22300472, 22300465, 22300467, 22300466, 22300473, 22300468, 22300474, 22300464, 22300459, 22300462, 22300461, 22300460, 22300463, 22300457, 22300458, 22300452, 22300453, 22300451, 22300456, 22300454, 22300455, 22300447, 22300450, 22300445, 22300449, 22300446, 22300448, 22300440, 22300443, 22300441, 22300444, 22300442, 22300439, 22300429, 22300438, 22300434, 22300436, 22300437, 22300435, 22300432, 22300433, 22300431, 22300430, 22300425, 22300428, 22300426, 22300427, 22300421, 22300422, 22300423, 22300424, 22300418, 22300420, 22300417, 22300419, 22300415, 22300416, 22300410, 22300414, 22300411, 22300412, 22300413, 22300407, 22300408, 22300409, 22300406, 22300405, 22300402, 22300401, 22300404, 22300403, 22300394, 22300393, 22300400, 22300391, 22300388, 22300389, 22300398, 22300399, 22300390, 22300396, 22300397, 22300395, 22300392, 22300386, 22300384, 22300383, 22300382, 22300385, 22300387, 22300377, 22300374, 22300376, 22300381, 22300380, 22300378, 22300375, 22300379, 22300364, 22300372, 22300368, 22300366, 22300365, 22300370, 22300373, 22300371, 22300369, 22300367, 22300361, 22300362, 22300360, 22300363, 22300355, 22300353, 22300359, 22300356, 22300349, 22300354, 22300357, 22300350, 22300351, 22300352, 22300358, 22300346, 22300344, 22300345, 22300348, 22300347, 22300334, 22300337, 22300339, 22300340, 22300341, 22300342, 22300338, 22300343, 22300335, 22300336, 22300329, 22300332, 22300331, 22300328, 22300327, 22300333, 22300326, 22300330, 22300320, 22300323, 22300322, 22300324, 22300321, 22300325, 22300319, 22300315, 22300314, 22300318, 22300311, 22300310, 22300313, 22300312, 22300316, 22300317, 22300309, 22300306, 22300307, 22300305, 22300308, 22300300, 22300301, 22300295, 22300303, 22300296, 22300297, 22300293, 22300292, 22300294, 22300304, 22300302, 22300298, 22300299, 22301216, 22301228, 22301222, 22301223, 22301227, 22301224, 22301217, 22301218, 22301220, 22301225, 22301226, 22301221, 22301219, 22301230, 22301229, 22301213, 22301215, 22301211, 22301208, 22301212, 22301205, 22301209, 22301206, 22301207, 22301210, 22301214, 22301203, 22301201, 22301204, 22301202, 22300288, 22300280, 22300284, 22300285, 22300286, 22300290, 22300281, 22300287, 22300289, 22300291, 22300282, 22300283, 22300279, 22300278, 22300275, 22300276, 22300274, 22300277, 22300269, 22300272, 22300268, 22300270, 22300267, 22300271, 22300273, 22300265, 22300266, 22300261, 22300258, 22300262, 22300260, 22300263, 22300259, 22300264, 22300054, 22300053, 22300059, 22300060, 22300058, 22300057, 22300056, 22300055, 22300257, 22300255, 22300256, 22300254, 22300253, 22300247, 22300250, 22300249, 22300251, 22300245, 22300248, 22300252, 22300246, 22300240]\n"
     ]
    }
   ],
   "source": [
    "print(processed_game_ids)"
   ]
  },
  {
   "cell_type": "code",
   "execution_count": 5,
   "metadata": {},
   "outputs": [
    {
     "name": "stderr",
     "output_type": "stream",
     "text": [
      "Processing Games: 100%|██████████| 1230/1230 [09:42<00:00,  2.11it/s]"
     ]
    },
    {
     "name": "stdout",
     "output_type": "stream",
     "text": [
      "✅ Data retrieval complete!\n"
     ]
    },
    {
     "name": "stderr",
     "output_type": "stream",
     "text": [
      "\n"
     ]
    }
   ],
   "source": [
    "from tqdm import tqdm\n",
    "\n",
    "# Wrap the game_ids list with tqdm for a progress bar\n",
    "for game_id in tqdm(game_ids, desc=\"Processing Games\"):\n",
    "    if int(game_id) in processed_game_ids:\n",
    "        continue  # Skip already processed games\n",
    "\n",
    "    try:\n",
    "        # Retrieve possession-based stats\n",
    "        boxscore = boxscoreadvancedv2.BoxScoreAdvancedV2(game_id=game_id)\n",
    "        df = boxscore.get_data_frames()[0]\n",
    "\n",
    "        # Check if the file exists\n",
    "        if os.path.exists(OUTPUT_FILE):\n",
    "            # Load existing data\n",
    "            existing_data = pd.read_csv(OUTPUT_FILE)\n",
    "            # Check if the game_id is already processed\n",
    "            if game_id in existing_data['GAME_ID'].values:\n",
    "                continue\n",
    "        else:\n",
    "            # Create an empty DataFrame if the file does not exist\n",
    "            existing_data = pd.DataFrame()\n",
    "\n",
    "        # Append new data\n",
    "        updated_data = pd.concat([existing_data, df], ignore_index=True)\n",
    "\n",
    "        # Save the updated data back to the file\n",
    "        updated_data.to_csv(OUTPUT_FILE, index=False)\n",
    "\n",
    "        # Sleep to avoid rate limit\n",
    "        time.sleep(1.5)\n",
    "    except Exception as e:\n",
    "        print(f\"⚠️ Error retrieving data for Game ID {game_id}: {e}\")\n",
    "\n",
    "print(\"✅ Data retrieval complete!\")\n"
   ]
  }
 ],
 "metadata": {
  "kernelspec": {
   "display_name": "taba",
   "language": "python",
   "name": "python3"
  },
  "language_info": {
   "codemirror_mode": {
    "name": "ipython",
    "version": 3
   },
   "file_extension": ".py",
   "mimetype": "text/x-python",
   "name": "python",
   "nbconvert_exporter": "python",
   "pygments_lexer": "ipython3",
   "version": "3.10.11"
  }
 },
 "nbformat": 4,
 "nbformat_minor": 2
}
