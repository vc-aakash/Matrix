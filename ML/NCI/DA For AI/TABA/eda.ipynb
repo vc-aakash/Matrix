{
 "cells": [
  {
   "cell_type": "code",
   "execution_count": 2,
   "metadata": {},
   "outputs": [],
   "source": [
    "import pandas as pd"
   ]
  },
  {
   "cell_type": "code",
   "execution_count": 3,
   "metadata": {},
   "outputs": [],
   "source": [
    "shot = pd.read_csv('nba_shot_data_2023_24.csv')\n",
    "pbp = pd.read_csv('filtered_playbyplay_playoffs.csv')\n",
    "track = pd.read_csv('player_tracking_data.csv')\n",
    "possession = pd.read_csv('possession_based_analysis.csv')"
   ]
  },
  {
   "cell_type": "code",
   "execution_count": 7,
   "metadata": {},
   "outputs": [
    {
     "name": "stdout",
     "output_type": "stream",
     "text": [
      "1230\n",
      "45\n",
      "1230\n",
      "1230\n"
     ]
    }
   ],
   "source": [
    "print(shot['GAME_ID'].nunique())\n",
    "print(pbp['GAME_ID'].nunique())\n",
    "print(track['GAME_ID'].nunique())\n",
    "print(possession['GAME_ID'].nunique())"
   ]
  },
  {
   "cell_type": "code",
   "execution_count": null,
   "metadata": {},
   "outputs": [],
   "source": []
  }
 ],
 "metadata": {
  "kernelspec": {
   "display_name": "ml_env",
   "language": "python",
   "name": "python3"
  },
  "language_info": {
   "codemirror_mode": {
    "name": "ipython",
    "version": 3
   },
   "file_extension": ".py",
   "mimetype": "text/x-python",
   "name": "python",
   "nbconvert_exporter": "python",
   "pygments_lexer": "ipython3",
   "version": "3.10.11"
  }
 },
 "nbformat": 4,
 "nbformat_minor": 2
}
