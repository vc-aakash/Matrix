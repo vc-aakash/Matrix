{
 "cells": [
  {
   "cell_type": "code",
   "execution_count": 1,
   "metadata": {},
   "outputs": [],
   "source": [
    "from nba_api.stats.endpoints import ShotChartDetail\n",
    "import pandas as pd"
   ]
  },
  {
   "cell_type": "code",
   "execution_count": 2,
   "metadata": {},
   "outputs": [],
   "source": [
    "# Define the last completed season\n",
    "season = \"2023-24\"  # Adjust if needed\n",
    "\n",
    "# Fetch all shot data (League-wide)\n",
    "shot_data = ShotChartDetail(\n",
    "    player_id=0,  # 0 means all players\n",
    "    team_id=0,  # 0 means all teams\n",
    "    season_nullable=season,\n",
    "    context_measure_simple=\"FGA\",  # Field Goal Attempts\n",
    ")\n",
    "\n",
    "# Convert to DataFrame\n",
    "df = shot_data.get_data_frames()[0]\n",
    "\n",
    "# Save to CSV\n",
    "df.to_csv(\"nba_shot_data_2023_24.csv\", index=False)"
   ]
  },
  {
   "cell_type": "code",
   "execution_count": 3,
   "metadata": {},
   "outputs": [
    {
     "name": "stdout",
     "output_type": "stream",
     "text": [
      "Processing batch 1 of 642...\n",
      "Processing batch 2 of 642...\n",
      "Processing batch 3 of 642...\n",
      "Processing batch 4 of 642...\n",
      "Processing batch 5 of 642...\n",
      "Processing batch 6 of 642...\n",
      "Processing batch 7 of 642...\n",
      "Processing batch 8 of 642...\n",
      "Processing batch 9 of 642...\n",
      "Processing batch 10 of 642...\n",
      "Processing batch 11 of 642...\n",
      "Processing batch 12 of 642...\n",
      "Processing batch 13 of 642...\n",
      "Processing batch 14 of 642...\n",
      "Processing batch 15 of 642...\n",
      "Processing batch 16 of 642...\n",
      "Processing batch 17 of 642...\n",
      "Processing batch 18 of 642...\n",
      "Processing batch 19 of 642...\n",
      "Processing batch 20 of 642...\n",
      "Processing batch 21 of 642...\n",
      "Processing batch 22 of 642...\n",
      "Processing batch 23 of 642...\n",
      "Processing batch 24 of 642...\n",
      "Processing batch 25 of 642...\n",
      "Processing batch 26 of 642...\n",
      "Processing batch 27 of 642...\n",
      "Processing batch 28 of 642...\n",
      "Processing batch 29 of 642...\n",
      "Processing batch 30 of 642...\n",
      "Processing batch 31 of 642...\n",
      "Processing batch 32 of 642...\n",
      "Processing batch 33 of 642...\n",
      "Processing batch 34 of 642...\n",
      "Processing batch 35 of 642...\n",
      "Processing batch 36 of 642...\n",
      "Processing batch 37 of 642...\n",
      "Processing batch 38 of 642...\n",
      "Processing batch 39 of 642...\n",
      "Processing batch 40 of 642...\n",
      "Processing batch 41 of 642...\n",
      "Processing batch 42 of 642...\n",
      "Processing batch 43 of 642...\n",
      "Processing batch 44 of 642...\n",
      "Processing batch 45 of 642...\n",
      "Processing batch 46 of 642...\n",
      "Processing batch 47 of 642...\n",
      "Processing batch 48 of 642...\n",
      "Processing batch 49 of 642...\n",
      "Processing batch 50 of 642...\n",
      "Processing batch 51 of 642...\n",
      "Processing batch 52 of 642...\n",
      "Processing batch 53 of 642...\n",
      "Processing batch 54 of 642...\n",
      "Processing batch 55 of 642...\n",
      "Processing batch 56 of 642...\n",
      "Processing batch 57 of 642...\n",
      "Processing batch 58 of 642...\n",
      "Processing batch 59 of 642...\n",
      "Error fetching data for game ID 0042000212: HTTPSConnectionPool(host='stats.nba.com', port=443): Read timed out. (read timeout=30)\n",
      "Error fetching data for game ID 0042000177: ('Connection aborted.', RemoteDisconnected('Remote end closed connection without response'))\n",
      "Error fetching data for game ID 0042000177: ('Connection aborted.', RemoteDisconnected('Remote end closed connection without response'))\n",
      "Error fetching data for game ID 0042000201: HTTPSConnectionPool(host='stats.nba.com', port=443): Read timed out. (read timeout=30)\n",
      "Error fetching data for game ID 0042000201: ('Connection aborted.', RemoteDisconnected('Remote end closed connection without response'))\n",
      "Processing batch 60 of 642...\n",
      "Error fetching data for game ID 0042000211: ('Connection aborted.', RemoteDisconnected('Remote end closed connection without response'))\n",
      "Error fetching data for game ID 0042000211: ('Connection aborted.', RemoteDisconnected('Remote end closed connection without response'))\n",
      "Error fetching data for game ID 0042000176: ('Connection aborted.', RemoteDisconnected('Remote end closed connection without response'))\n",
      "Error fetching data for game ID 0042000176: HTTPSConnectionPool(host='stats.nba.com', port=443): Read timed out. (read timeout=30)\n",
      "Error fetching data for game ID 0042000156: ('Connection aborted.', RemoteDisconnected('Remote end closed connection without response'))\n",
      "Error fetching data for game ID 0042000166: ('Connection aborted.', RemoteDisconnected('Remote end closed connection without response'))\n",
      "Error fetching data for game ID 0042000156: ('Connection aborted.', RemoteDisconnected('Remote end closed connection without response'))\n",
      "Error fetching data for game ID 0042000166: ('Connection aborted.', RemoteDisconnected('Remote end closed connection without response'))\n",
      "Error fetching data for game ID 0042000175: HTTPSConnectionPool(host='stats.nba.com', port=443): Read timed out. (read timeout=30)\n",
      "Error fetching data for game ID 0042000145: ('Connection aborted.', RemoteDisconnected('Remote end closed connection without response'))\n"
     ]
    },
    {
     "ename": "ValueError",
     "evalue": "No objects to concatenate",
     "output_type": "error",
     "traceback": [
      "\u001b[1;31m---------------------------------------------------------------------------\u001b[0m",
      "\u001b[1;31mValueError\u001b[0m                                Traceback (most recent call last)",
      "Cell \u001b[1;32mIn[3], line 49\u001b[0m\n\u001b[0;32m     46\u001b[0m     \u001b[38;5;28mprint\u001b[39m(\u001b[38;5;124mf\u001b[39m\u001b[38;5;124m\"\u001b[39m\u001b[38;5;124mPlay-by-play data for playoffs saved successfully to \u001b[39m\u001b[38;5;132;01m{\u001b[39;00moutput_file\u001b[38;5;132;01m}\u001b[39;00m\u001b[38;5;124m!\u001b[39m\u001b[38;5;124m\"\u001b[39m)\n\u001b[0;32m     48\u001b[0m \u001b[38;5;66;03m# Call the function to fetch data and save it\u001b[39;00m\n\u001b[1;32m---> 49\u001b[0m \u001b[43mfetch_play_by_play_data_in_batches\u001b[49m\u001b[43m(\u001b[49m\u001b[43mgame_ids\u001b[49m\u001b[43m,\u001b[49m\u001b[43m \u001b[49m\u001b[43mbatch_size\u001b[49m\u001b[38;5;241;43m=\u001b[39;49m\u001b[38;5;241;43m10\u001b[39;49m\u001b[43m,\u001b[49m\u001b[43m \u001b[49m\u001b[43moutput_file\u001b[49m\u001b[38;5;241;43m=\u001b[39;49m\u001b[38;5;124;43m\"\u001b[39;49m\u001b[38;5;124;43mnba_playoffs_play_by_play.csv\u001b[39;49m\u001b[38;5;124;43m\"\u001b[39;49m\u001b[43m)\u001b[49m\n",
      "Cell \u001b[1;32mIn[3], line 37\u001b[0m, in \u001b[0;36mfetch_play_by_play_data_in_batches\u001b[1;34m(game_ids, batch_size, output_file)\u001b[0m\n\u001b[0;32m     34\u001b[0m         \u001b[38;5;28;01mcontinue\u001b[39;00m\n\u001b[0;32m     36\u001b[0m \u001b[38;5;66;03m# Combine the batch data and append to CSV\u001b[39;00m\n\u001b[1;32m---> 37\u001b[0m batch_df \u001b[38;5;241m=\u001b[39m \u001b[43mpd\u001b[49m\u001b[38;5;241;43m.\u001b[39;49m\u001b[43mconcat\u001b[49m\u001b[43m(\u001b[49m\u001b[43mplay_by_play_data\u001b[49m\u001b[43m,\u001b[49m\u001b[43m \u001b[49m\u001b[43mignore_index\u001b[49m\u001b[38;5;241;43m=\u001b[39;49m\u001b[38;5;28;43;01mTrue\u001b[39;49;00m\u001b[43m)\u001b[49m\n\u001b[0;32m     38\u001b[0m batch_df\u001b[38;5;241m.\u001b[39mto_csv(output_file, mode\u001b[38;5;241m=\u001b[39m\u001b[38;5;124m'\u001b[39m\u001b[38;5;124ma\u001b[39m\u001b[38;5;124m'\u001b[39m, header\u001b[38;5;241m=\u001b[39m\u001b[38;5;129;01mnot\u001b[39;00m \u001b[38;5;28mbool\u001b[39m(i), index\u001b[38;5;241m=\u001b[39m\u001b[38;5;28;01mFalse\u001b[39;00m)  \u001b[38;5;66;03m# Append mode, write header once\u001b[39;00m\n\u001b[0;32m     40\u001b[0m \u001b[38;5;66;03m# Clear the batch data list for the next batch\u001b[39;00m\n",
      "File \u001b[1;32md:\\Cerberus\\Assets\\Code\\ML\\NCI\\DA For AI\\TABA\\taba\\lib\\site-packages\\pandas\\core\\reshape\\concat.py:382\u001b[0m, in \u001b[0;36mconcat\u001b[1;34m(objs, axis, join, ignore_index, keys, levels, names, verify_integrity, sort, copy)\u001b[0m\n\u001b[0;32m    379\u001b[0m \u001b[38;5;28;01melif\u001b[39;00m copy \u001b[38;5;129;01mand\u001b[39;00m using_copy_on_write():\n\u001b[0;32m    380\u001b[0m     copy \u001b[38;5;241m=\u001b[39m \u001b[38;5;28;01mFalse\u001b[39;00m\n\u001b[1;32m--> 382\u001b[0m op \u001b[38;5;241m=\u001b[39m \u001b[43m_Concatenator\u001b[49m\u001b[43m(\u001b[49m\n\u001b[0;32m    383\u001b[0m \u001b[43m    \u001b[49m\u001b[43mobjs\u001b[49m\u001b[43m,\u001b[49m\n\u001b[0;32m    384\u001b[0m \u001b[43m    \u001b[49m\u001b[43maxis\u001b[49m\u001b[38;5;241;43m=\u001b[39;49m\u001b[43maxis\u001b[49m\u001b[43m,\u001b[49m\n\u001b[0;32m    385\u001b[0m \u001b[43m    \u001b[49m\u001b[43mignore_index\u001b[49m\u001b[38;5;241;43m=\u001b[39;49m\u001b[43mignore_index\u001b[49m\u001b[43m,\u001b[49m\n\u001b[0;32m    386\u001b[0m \u001b[43m    \u001b[49m\u001b[43mjoin\u001b[49m\u001b[38;5;241;43m=\u001b[39;49m\u001b[43mjoin\u001b[49m\u001b[43m,\u001b[49m\n\u001b[0;32m    387\u001b[0m \u001b[43m    \u001b[49m\u001b[43mkeys\u001b[49m\u001b[38;5;241;43m=\u001b[39;49m\u001b[43mkeys\u001b[49m\u001b[43m,\u001b[49m\n\u001b[0;32m    388\u001b[0m \u001b[43m    \u001b[49m\u001b[43mlevels\u001b[49m\u001b[38;5;241;43m=\u001b[39;49m\u001b[43mlevels\u001b[49m\u001b[43m,\u001b[49m\n\u001b[0;32m    389\u001b[0m \u001b[43m    \u001b[49m\u001b[43mnames\u001b[49m\u001b[38;5;241;43m=\u001b[39;49m\u001b[43mnames\u001b[49m\u001b[43m,\u001b[49m\n\u001b[0;32m    390\u001b[0m \u001b[43m    \u001b[49m\u001b[43mverify_integrity\u001b[49m\u001b[38;5;241;43m=\u001b[39;49m\u001b[43mverify_integrity\u001b[49m\u001b[43m,\u001b[49m\n\u001b[0;32m    391\u001b[0m \u001b[43m    \u001b[49m\u001b[43mcopy\u001b[49m\u001b[38;5;241;43m=\u001b[39;49m\u001b[43mcopy\u001b[49m\u001b[43m,\u001b[49m\n\u001b[0;32m    392\u001b[0m \u001b[43m    \u001b[49m\u001b[43msort\u001b[49m\u001b[38;5;241;43m=\u001b[39;49m\u001b[43msort\u001b[49m\u001b[43m,\u001b[49m\n\u001b[0;32m    393\u001b[0m \u001b[43m\u001b[49m\u001b[43m)\u001b[49m\n\u001b[0;32m    395\u001b[0m \u001b[38;5;28;01mreturn\u001b[39;00m op\u001b[38;5;241m.\u001b[39mget_result()\n",
      "File \u001b[1;32md:\\Cerberus\\Assets\\Code\\ML\\NCI\\DA For AI\\TABA\\taba\\lib\\site-packages\\pandas\\core\\reshape\\concat.py:445\u001b[0m, in \u001b[0;36m_Concatenator.__init__\u001b[1;34m(self, objs, axis, join, keys, levels, names, ignore_index, verify_integrity, copy, sort)\u001b[0m\n\u001b[0;32m    442\u001b[0m \u001b[38;5;28mself\u001b[39m\u001b[38;5;241m.\u001b[39mverify_integrity \u001b[38;5;241m=\u001b[39m verify_integrity\n\u001b[0;32m    443\u001b[0m \u001b[38;5;28mself\u001b[39m\u001b[38;5;241m.\u001b[39mcopy \u001b[38;5;241m=\u001b[39m copy\n\u001b[1;32m--> 445\u001b[0m objs, keys \u001b[38;5;241m=\u001b[39m \u001b[38;5;28;43mself\u001b[39;49m\u001b[38;5;241;43m.\u001b[39;49m\u001b[43m_clean_keys_and_objs\u001b[49m\u001b[43m(\u001b[49m\u001b[43mobjs\u001b[49m\u001b[43m,\u001b[49m\u001b[43m \u001b[49m\u001b[43mkeys\u001b[49m\u001b[43m)\u001b[49m\n\u001b[0;32m    447\u001b[0m \u001b[38;5;66;03m# figure out what our result ndim is going to be\u001b[39;00m\n\u001b[0;32m    448\u001b[0m ndims \u001b[38;5;241m=\u001b[39m \u001b[38;5;28mself\u001b[39m\u001b[38;5;241m.\u001b[39m_get_ndims(objs)\n",
      "File \u001b[1;32md:\\Cerberus\\Assets\\Code\\ML\\NCI\\DA For AI\\TABA\\taba\\lib\\site-packages\\pandas\\core\\reshape\\concat.py:507\u001b[0m, in \u001b[0;36m_Concatenator._clean_keys_and_objs\u001b[1;34m(self, objs, keys)\u001b[0m\n\u001b[0;32m    504\u001b[0m     objs_list \u001b[38;5;241m=\u001b[39m \u001b[38;5;28mlist\u001b[39m(objs)\n\u001b[0;32m    506\u001b[0m \u001b[38;5;28;01mif\u001b[39;00m \u001b[38;5;28mlen\u001b[39m(objs_list) \u001b[38;5;241m==\u001b[39m \u001b[38;5;241m0\u001b[39m:\n\u001b[1;32m--> 507\u001b[0m     \u001b[38;5;28;01mraise\u001b[39;00m \u001b[38;5;167;01mValueError\u001b[39;00m(\u001b[38;5;124m\"\u001b[39m\u001b[38;5;124mNo objects to concatenate\u001b[39m\u001b[38;5;124m\"\u001b[39m)\n\u001b[0;32m    509\u001b[0m \u001b[38;5;28;01mif\u001b[39;00m keys \u001b[38;5;129;01mis\u001b[39;00m \u001b[38;5;28;01mNone\u001b[39;00m:\n\u001b[0;32m    510\u001b[0m     objs_list \u001b[38;5;241m=\u001b[39m \u001b[38;5;28mlist\u001b[39m(com\u001b[38;5;241m.\u001b[39mnot_none(\u001b[38;5;241m*\u001b[39mobjs_list))\n",
      "\u001b[1;31mValueError\u001b[0m: No objects to concatenate"
     ]
    }
   ],
   "source": [
    "import pandas as pd\n",
    "from nba_api.stats.endpoints import LeagueGameFinder, PlayByPlayV2\n",
    "import time\n",
    "\n",
    "# Get all playoff games for a specific season\n",
    "season = \"2023-24\"  # Change to desired season\n",
    "gamefinder = LeagueGameFinder(season_type_nullable=\"Playoffs\", league_id_nullable=\"00\")\n",
    "games = gamefinder.get_data_frames()[0]\n",
    "\n",
    "# Extract game IDs\n",
    "game_ids = games[\"GAME_ID\"].tolist()\n",
    "\n",
    "# Function to fetch play-by-play data in batches\n",
    "def fetch_play_by_play_data_in_batches(game_ids, batch_size=10, output_file=\"nba_playoffs_play_by_play.csv\"):\n",
    "    play_by_play_data = []\n",
    "    total_games = len(game_ids)\n",
    "\n",
    "    # Loop through the game IDs in batches\n",
    "    for i in range(0, total_games, batch_size):\n",
    "        print(f\"Processing batch {i // batch_size + 1} of {total_games // batch_size + 1}...\")\n",
    "        batch_game_ids = game_ids[i:i + batch_size]\n",
    "\n",
    "        # Fetch play-by-play data for each game in the batch\n",
    "        for game_id in batch_game_ids:\n",
    "            try:\n",
    "                pbp = PlayByPlayV2(game_id=game_id)\n",
    "                df = pbp.get_data_frames()[0]\n",
    "                df[\"GAME_ID\"] = game_id  # Keep track of which game each row belongs to\n",
    "                play_by_play_data.append(df)\n",
    "                time.sleep(1)  # Sleep to avoid API rate limits\n",
    "\n",
    "            except Exception as e:\n",
    "                print(f\"Error fetching data for game ID {game_id}: {e}\")\n",
    "                continue\n",
    "\n",
    "        # Combine the batch data and append to CSV\n",
    "        batch_df = pd.concat(play_by_play_data, ignore_index=True)\n",
    "        batch_df.to_csv(output_file, mode='a', header=not bool(i), index=False)  # Append mode, write header once\n",
    "\n",
    "        # Clear the batch data list for the next batch\n",
    "        play_by_play_data.clear()\n",
    "\n",
    "        # Sleep between batches to avoid overuse\n",
    "        time.sleep(5)\n",
    "\n",
    "    print(f\"Play-by-play data for playoffs saved successfully to {output_file}!\")\n",
    "\n",
    "# Call the function to fetch data and save it\n",
    "fetch_play_by_play_data_in_batches(game_ids, batch_size=10, output_file=\"nba_playoffs_play_by_play.csv\")\n"
   ]
  },
  {
   "cell_type": "code",
   "execution_count": 3,
   "metadata": {},
   "outputs": [
    {
     "ename": "NameError",
     "evalue": "name 'PlayerDashPtStats' is not defined",
     "output_type": "error",
     "traceback": [
      "\u001b[1;31m---------------------------------------------------------------------------\u001b[0m",
      "\u001b[1;31mNameError\u001b[0m                                 Traceback (most recent call last)",
      "Cell \u001b[1;32mIn[3], line 4\u001b[0m\n\u001b[0;32m      1\u001b[0m season_type \u001b[38;5;241m=\u001b[39m \u001b[38;5;124m\"\u001b[39m\u001b[38;5;124mRegular Season\u001b[39m\u001b[38;5;124m\"\u001b[39m  \u001b[38;5;66;03m# Fetch data for Regular Season\u001b[39;00m\n\u001b[0;32m      3\u001b[0m \u001b[38;5;66;03m# Fetch Player Tracking Data\u001b[39;00m\n\u001b[1;32m----> 4\u001b[0m player_tracking_full \u001b[38;5;241m=\u001b[39m \u001b[43mPlayerDashPtStats\u001b[49m(season\u001b[38;5;241m=\u001b[39mseason, season_type_all_star\u001b[38;5;241m=\u001b[39mseason_type)\n\u001b[0;32m      6\u001b[0m \u001b[38;5;66;03m# Convert to DataFrame\u001b[39;00m\n\u001b[0;32m      7\u001b[0m df_full \u001b[38;5;241m=\u001b[39m player_tracking_full\u001b[38;5;241m.\u001b[39mget_data_frames()[\u001b[38;5;241m0\u001b[39m]\n",
      "\u001b[1;31mNameError\u001b[0m: name 'PlayerDashPtStats' is not defined"
     ]
    }
   ],
   "source": [
    "season_type = \"Regular Season\"  # Fetch data for Regular Season\n",
    "\n",
    "# Fetch Player Tracking Data\n",
    "player_tracking_full = PlayerDashPtStats(season=season, season_type_all_star=season_type)\n",
    "\n",
    "# Convert to DataFrame\n",
    "df_full = player_tracking_full.get_data_frames()[0]\n",
    "\n",
    "# Save to CSV\n",
    "df_full.to_csv(\"nba_full_season_player_tracking.csv\", index=False)"
   ]
  },
  {
   "cell_type": "code",
   "execution_count": null,
   "metadata": {},
   "outputs": [],
   "source": [
    "pip install nba_api pandas tqdm\n",
    "\n",
    "\n",
    "from nba_api.stats.endpoints import teamdashlineups, leaguegamefinder\n",
    "import pandas as pd\n",
    "import time\n",
    "from tqdm import tqdm  # For progress bar\n",
    "\n",
    "# Fetch team lineup data for the full season\n",
    "season = \"2023-24\"  # Change to the required season\n",
    "\n",
    "all_team_data = []\n",
    "\n",
    "teams = [str(team_id) for team_id in range(1610612737, 1610612766)]  # NBA team IDs\n",
    "\n",
    "for team_id in tqdm(teams, desc=\"Fetching Team Lineup Data\"):\n",
    "    try:\n",
    "        lineup_data = teamdashlineups.TeamDashLineups(team_id=team_id, season=season)\n",
    "        df = lineup_data.get_data_frames()[0]  # Convert response to DataFrame\n",
    "\n",
    "        all_team_data.append(df)\n",
    "\n",
    "        time.sleep(1)  # Sleep to avoid rate limits\n",
    "    except Exception as e:\n",
    "        print(f\"Error fetching Team ID {team_id}: {e}\")\n",
    "\n",
    "# Combine all data\n",
    "lineup_df = pd.concat(all_team_data, ignore_index=True)\n",
    "\n",
    "# Save to CSV\n",
    "lineup_df.to_csv(\"team_lineups_season.csv\", index=False)\n",
    "\n",
    "print(\"✅ Team lineup data for the full season saved!\")\n"
   ]
  },
  {
   "cell_type": "code",
   "execution_count": 21,
   "metadata": {},
   "outputs": [
    {
     "name": "stdout",
     "output_type": "stream",
     "text": [
      "Total Games in the Season: 3206\n"
     ]
    },
    {
     "name": "stderr",
     "output_type": "stream",
     "text": [
      "Fetching Player Tracking Data:   1%|          | 20/3206 [00:29<1:17:35,  1.46s/it]\n"
     ]
    },
    {
     "ename": "KeyboardInterrupt",
     "evalue": "",
     "output_type": "error",
     "traceback": [
      "\u001b[1;31m---------------------------------------------------------------------------\u001b[0m",
      "\u001b[1;31mKeyboardInterrupt\u001b[0m                         Traceback (most recent call last)",
      "Cell \u001b[1;32mIn[21], line 33\u001b[0m\n\u001b[0;32m     29\u001b[0m     df \u001b[38;5;241m=\u001b[39m tracking_data\u001b[38;5;241m.\u001b[39mget_data_frames()[\u001b[38;5;241m0\u001b[39m]  \u001b[38;5;66;03m# Convert response to DataFrame\u001b[39;00m\n\u001b[0;32m     31\u001b[0m     all_tracking_data\u001b[38;5;241m.\u001b[39mappend(df)\n\u001b[1;32m---> 33\u001b[0m     \u001b[43mtime\u001b[49m\u001b[38;5;241;43m.\u001b[39;49m\u001b[43msleep\u001b[49m\u001b[43m(\u001b[49m\u001b[38;5;241;43m1\u001b[39;49m\u001b[43m)\u001b[49m  \u001b[38;5;66;03m# Sleep to avoid rate limits\u001b[39;00m\n\u001b[0;32m     34\u001b[0m \u001b[38;5;28;01mexcept\u001b[39;00m \u001b[38;5;167;01mException\u001b[39;00m \u001b[38;5;28;01mas\u001b[39;00m e:\n\u001b[0;32m     35\u001b[0m     \u001b[38;5;28mprint\u001b[39m(\u001b[38;5;124mf\u001b[39m\u001b[38;5;124m\"\u001b[39m\u001b[38;5;124mError fetching Game ID \u001b[39m\u001b[38;5;132;01m{\u001b[39;00mgame_id\u001b[38;5;132;01m}\u001b[39;00m\u001b[38;5;124m: \u001b[39m\u001b[38;5;132;01m{\u001b[39;00me\u001b[38;5;132;01m}\u001b[39;00m\u001b[38;5;124m\"\u001b[39m)\n",
      "\u001b[1;31mKeyboardInterrupt\u001b[0m: "
     ]
    }
   ],
   "source": [
    "from nba_api.stats.endpoints import leaguegamefinder, boxscoreplayertrackv2\n",
    "import pandas as pd\n",
    "import time\n",
    "from tqdm import tqdm  # Progress bar for fetching data\n",
    "\n",
    "# Get all games for the season (Regular + Playoffs)\n",
    "# gamefinder = leaguegamefinder.LeagueGameFinder(\n",
    "#     season_type_nullable=\"Regular Season\", league_id_nullable=\"00\"\n",
    "# )\n",
    "# regular_season_games = gamefinder.get_data_frames()[0]\n",
    "\n",
    "gamefinder_playoffs = leaguegamefinder.LeagueGameFinder(\n",
    "    season_type_nullable=\"Playoffs\", league_id_nullable=\"00\"\n",
    ")\n",
    "playoff_games = gamefinder_playoffs.get_data_frames()[0]\n",
    "\n",
    "# Combine both datasets\n",
    "# all_games = pd.concat([regular_season_games, playoff_games], ignore_index=True)\n",
    "\n",
    "# Extract unique Game IDs\n",
    "game_ids = playoff_games[\"GAME_ID\"].unique().tolist()\n",
    "print(f\"Total Games in the Season: {len(game_ids)}\")\n",
    "\n",
    "all_tracking_data = []\n",
    "\n",
    "for game_id in tqdm(game_ids, desc=\"Fetching Player Tracking Data\"):\n",
    "    try:\n",
    "        tracking_data = boxscoreplayertrackv2.BoxScorePlayerTrackV2(game_id=game_id)\n",
    "        df = tracking_data.get_data_frames()[0]  # Convert response to DataFrame\n",
    "        \n",
    "        all_tracking_data.append(df)\n",
    "\n",
    "        time.sleep(1)  # Sleep to avoid rate limits\n",
    "    except Exception as e:\n",
    "        print(f\"Error fetching Game ID {game_id}: {e}\")\n",
    "\n",
    "# Combine all data\n",
    "tracking_df = pd.concat(all_tracking_data, ignore_index=True)\n",
    "\n",
    "# Save to CSV\n",
    "tracking_df.to_csv(\"full_season_player_tracking.csv\", index=False)\n",
    "\n",
    "print(\"✅ Full season player tracking data saved!\")\n"
   ]
  },
  {
   "cell_type": "code",
   "execution_count": 19,
   "metadata": {},
   "outputs": [
    {
     "name": "stdout",
     "output_type": "stream",
     "text": [
      "<class 'pandas.core.frame.DataFrame'>\n",
      "RangeIndex: 6412 entries, 0 to 6411\n",
      "Data columns (total 28 columns):\n",
      " #   Column             Non-Null Count  Dtype  \n",
      "---  ------             --------------  -----  \n",
      " 0   SEASON_ID          6412 non-null   object \n",
      " 1   TEAM_ID            6412 non-null   int64  \n",
      " 2   TEAM_ABBREVIATION  6412 non-null   object \n",
      " 3   TEAM_NAME          6412 non-null   object \n",
      " 4   GAME_ID            6412 non-null   object \n",
      " 5   GAME_DATE          6412 non-null   object \n",
      " 6   MATCHUP            6412 non-null   object \n",
      " 7   WL                 6412 non-null   object \n",
      " 8   MIN                6412 non-null   int64  \n",
      " 9   PTS                6412 non-null   int64  \n",
      " 10  FGM                6412 non-null   int64  \n",
      " 11  FGA                6412 non-null   int64  \n",
      " 12  FG_PCT             6412 non-null   float64\n",
      " 13  FG3M               6412 non-null   int64  \n",
      " 14  FG3A               6412 non-null   int64  \n",
      " 15  FG3_PCT            6390 non-null   float64\n",
      " 16  FTM                6412 non-null   int64  \n",
      " 17  FTA                6412 non-null   int64  \n",
      " 18  FT_PCT             6412 non-null   float64\n",
      " 19  OREB               6412 non-null   int64  \n",
      " 20  DREB               6412 non-null   int64  \n",
      " 21  REB                6412 non-null   int64  \n",
      " 22  AST                6412 non-null   int64  \n",
      " 23  STL                6412 non-null   int64  \n",
      " 24  BLK                6412 non-null   int64  \n",
      " 25  TOV                6412 non-null   int64  \n",
      " 26  PF                 6412 non-null   int64  \n",
      " 27  PLUS_MINUS         4542 non-null   float64\n",
      "dtypes: float64(4), int64(17), object(7)\n",
      "memory usage: 1.4+ MB\n",
      "None\n"
     ]
    }
   ],
   "source": [
    "print(playoff_games.info())"
   ]
  },
  {
   "cell_type": "code",
   "execution_count": 20,
   "metadata": {},
   "outputs": [
    {
     "name": "stdout",
     "output_type": "stream",
     "text": [
      "<class 'pandas.core.frame.DataFrame'>\n",
      "RangeIndex: 30000 entries, 0 to 29999\n",
      "Data columns (total 28 columns):\n",
      " #   Column             Non-Null Count  Dtype  \n",
      "---  ------             --------------  -----  \n",
      " 0   SEASON_ID          30000 non-null  object \n",
      " 1   TEAM_ID            30000 non-null  int64  \n",
      " 2   TEAM_ABBREVIATION  30000 non-null  object \n",
      " 3   TEAM_NAME          30000 non-null  object \n",
      " 4   GAME_ID            30000 non-null  object \n",
      " 5   GAME_DATE          30000 non-null  object \n",
      " 6   MATCHUP            30000 non-null  object \n",
      " 7   WL                 29998 non-null  object \n",
      " 8   MIN                30000 non-null  int64  \n",
      " 9   PTS                30000 non-null  int64  \n",
      " 10  FGM                30000 non-null  int64  \n",
      " 11  FGA                30000 non-null  int64  \n",
      " 12  FG_PCT             30000 non-null  float64\n",
      " 13  FG3M               30000 non-null  int64  \n",
      " 14  FG3A               30000 non-null  int64  \n",
      " 15  FG3_PCT            30000 non-null  float64\n",
      " 16  FTM                30000 non-null  int64  \n",
      " 17  FTA                30000 non-null  int64  \n",
      " 18  FT_PCT             29999 non-null  float64\n",
      " 19  OREB               30000 non-null  int64  \n",
      " 20  DREB               30000 non-null  int64  \n",
      " 21  REB                30000 non-null  int64  \n",
      " 22  AST                30000 non-null  int64  \n",
      " 23  STL                30000 non-null  int64  \n",
      " 24  BLK                30000 non-null  int64  \n",
      " 25  TOV                30000 non-null  int64  \n",
      " 26  PF                 30000 non-null  int64  \n",
      " 27  PLUS_MINUS         30000 non-null  float64\n",
      "dtypes: float64(4), int64(17), object(7)\n",
      "memory usage: 6.4+ MB\n",
      "None\n"
     ]
    }
   ],
   "source": [
    "print(regular_season_games.info())"
   ]
  },
  {
   "cell_type": "code",
   "execution_count": 10,
   "metadata": {},
   "outputs": [],
   "source": [
    "import pandas as pd\n",
    "import time\n",
    "import os\n",
    "from tqdm import tqdm\n",
    "from nba_api.stats.endpoints import leaguegamefinder, playbyplayv2\n",
    "\n",
    "# Fetch playoff games for the given season\n",
    "season = \"2023-24\"  # Change this as needed\n",
    "\n",
    "gamefinder = leaguegamefinder.LeagueGameFinder(\n",
    "    season_type_nullable=\"Playoffs\",\n",
    "    league_id_nullable=\"00\",\n",
    "    season_nullable=season\n",
    ")\n"
   ]
  },
  {
   "cell_type": "code",
   "execution_count": 14,
   "metadata": {},
   "outputs": [
    {
     "name": "stdout",
     "output_type": "stream",
     "text": [
      "<class 'pandas.core.frame.DataFrame'>\n",
      "RangeIndex: 164 entries, 0 to 163\n",
      "Data columns (total 28 columns):\n",
      " #   Column             Non-Null Count  Dtype  \n",
      "---  ------             --------------  -----  \n",
      " 0   SEASON_ID          164 non-null    object \n",
      " 1   TEAM_ID            164 non-null    int64  \n",
      " 2   TEAM_ABBREVIATION  164 non-null    object \n",
      " 3   TEAM_NAME          164 non-null    object \n",
      " 4   GAME_ID            164 non-null    object \n",
      " 5   GAME_DATE          164 non-null    object \n",
      " 6   MATCHUP            164 non-null    object \n",
      " 7   WL                 164 non-null    object \n",
      " 8   MIN                164 non-null    int64  \n",
      " 9   PTS                164 non-null    int64  \n",
      " 10  FGM                164 non-null    int64  \n",
      " 11  FGA                164 non-null    int64  \n",
      " 12  FG_PCT             164 non-null    float64\n",
      " 13  FG3M               164 non-null    int64  \n",
      " 14  FG3A               164 non-null    int64  \n",
      " 15  FG3_PCT            164 non-null    float64\n",
      " 16  FTM                164 non-null    int64  \n",
      " 17  FTA                164 non-null    int64  \n",
      " 18  FT_PCT             164 non-null    float64\n",
      " 19  OREB               164 non-null    int64  \n",
      " 20  DREB               164 non-null    int64  \n",
      " 21  REB                164 non-null    int64  \n",
      " 22  AST                164 non-null    int64  \n",
      " 23  STL                164 non-null    int64  \n",
      " 24  BLK                164 non-null    int64  \n",
      " 25  TOV                164 non-null    int64  \n",
      " 26  PF                 164 non-null    int64  \n",
      " 27  PLUS_MINUS         164 non-null    float64\n",
      "dtypes: float64(4), int64(17), object(7)\n",
      "memory usage: 36.0+ KB\n",
      "None\n"
     ]
    }
   ],
   "source": [
    "print(gamefinder.get_data_frames()[0].info())  # Check the data structure"
   ]
  },
  {
   "cell_type": "code",
   "execution_count": null,
   "metadata": {},
   "outputs": [],
   "source": [
    "games = gamefinder.get_data_frames()[0]\n",
    "\n",
    "# Filter out less relevant games (e.g., blowouts, low-possession games)\n",
    "games[\"POINT_DIFF\"] = abs(games[\"PTS\"] - games[\"PTS_OPP\"])  # Margin of victory\n",
    "filtered_games = games[(games[\"POINT_DIFF\"] <= 15) & (games[\"PTS\"] >= 90)]  # Close & high-scoring games\n",
    "\n",
    "game_ids = filtered_games[\"GAME_ID\"].unique().tolist()\n",
    "\n",
    "print(f\"Total Playoff Games: {len(games)}\")\n",
    "print(f\"Filtered Games for Analysis: {len(game_ids)} (Close & High-Scoring Games)\")\n",
    "\n",
    "return game_ids"
   ]
  },
  {
   "cell_type": "code",
   "execution_count": null,
   "metadata": {},
   "outputs": [],
   "source": [
    "SAVE_FILE = \"filtered_playbyplay_playoffs.csv\"\n",
    "\n",
    "def fetch_playbyplay(game_ids, save_file, target_rows=15000):\n",
    "    all_data = []\n",
    "\n",
    "    # Load previously saved data if available\n",
    "    if os.path.exists(save_file):\n",
    "        existing_df = pd.read_csv(save_file)\n",
    "        completed_games = existing_df[\"GAME_ID\"].unique().tolist()\n",
    "        print(f\"🔄 Resuming from last saved progress ({len(completed_games)} games already processed).\")\n",
    "    else:\n",
    "        existing_df = pd.DataFrame()\n",
    "        completed_games = []\n",
    "\n",
    "    # Filter out already processed games\n",
    "    pending_game_ids = [gid for gid in game_ids if gid not in completed_games]\n",
    "    print(f\"🎯 Fetching {len(pending_game_ids)} remaining games...\")\n",
    "\n",
    "    total_entries = len(existing_df)  # Track total rows collected\n",
    "    for game_id in tqdm(pending_game_ids, desc=\"Fetching Play-by-Play Data\"):\n",
    "        try:\n",
    "            pbp = playbyplayv2.PlayByPlayV2(game_id=game_id)\n",
    "            df = pbp.get_data_frames()[0]\n",
    "            df[\"GAME_ID\"] = game_id  # Add game ID for reference\n",
    "            \n",
    "            all_data.append(df)\n",
    "            total_entries += len(df)\n",
    "\n",
    "            # Save after every 5 games or if we reach the target row count\n",
    "            if len(all_data) % 5 == 0 or total_entries >= target_rows:\n",
    "                temp_df = pd.concat(all_data, ignore_index=True)\n",
    "                final_df = pd.concat([existing_df, temp_df], ignore_index=True)\n",
    "                final_df.to_csv(save_file, index=False)\n",
    "                print(f\"💾 Progress saved! {len(final_df)} total rows so far.\")\n",
    "                \n",
    "                # Stop fetching if we've reached the target\n",
    "                if total_entries >= target_rows:\n",
    "                    print(\"✅ Target row count reached. Stopping data collection.\")\n",
    "                    return\n",
    "\n",
    "            time.sleep(1.5)  # Sleep to avoid rate limits\n",
    "\n",
    "        except Exception as e:\n",
    "            print(f\"⚠️ Error fetching game {game_id}: {e}\")\n",
    "    \n",
    "    # Save final data\n",
    "    if all_data:\n",
    "        final_df = pd.concat([existing_df] + all_data, ignore_index=True)\n",
    "        final_df.to_csv(save_file, index=False)\n",
    "        print(f\"✅ Data saved! Total rows collected: {len(final_df)}\")\n",
    "\n",
    "# Run the function\n",
    "fetch_playbyplay(filtered_playoff_game_ids, SAVE_FILE, target_rows=15000)"
   ]
  },
  {
   "cell_type": "code",
   "execution_count": 19,
   "metadata": {},
   "outputs": [
    {
     "name": "stdout",
     "output_type": "stream",
     "text": [
      "🔹 Total Playoff Games: 190\n",
      "✅ Filtered Games for Analysis: 48 (Close & High-Scoring Games)\n"
     ]
    }
   ],
   "source": [
    "import pandas as pd\n",
    "import time\n",
    "import os\n",
    "from tqdm import tqdm\n",
    "from nba_api.stats.endpoints import leaguegamefinder, playbyplayv2\n",
    "\n",
    "# 🏀 CONFIGURATIONS\n",
    "SEASON = \"2023-24\"  # Change this for different seasons\n",
    "TARGET_ROWS = 20000  # Goal: 10,000 - 15,000 entries\n",
    "SAVE_FILE = \"filtered_playbyplay_playoffs.csv\"\n",
    "\n",
    "\n",
    "### 🔹 Step 1: Get All Playoff Game IDs (Filter for Relevance) ###\n",
    "def get_filtered_playoff_game_ids(season):\n",
    "    gamefinder = leaguegamefinder.LeagueGameFinder(\n",
    "        season_nullable=season, season_type_nullable=\"Playoffs\"\n",
    "    )\n",
    "    games = gamefinder.get_data_frames()[0]\n",
    "\n",
    "    # 🚀 Add Opponent Stats by Self-Merging\n",
    "    games_opponent = games.merge(\n",
    "        games, on=\"GAME_ID\", suffixes=(\"\", \"_OPP\")\n",
    "    )\n",
    "    games_opponent = games_opponent[games_opponent[\"TEAM_ID\"] != games_opponent[\"TEAM_ID_OPP\"]]\n",
    "\n",
    "    # 📌 Calculate Game Relevance\n",
    "    games_opponent[\"POINT_DIFF\"] = abs(games_opponent[\"PTS\"] - games_opponent[\"PTS_OPP\"])\n",
    "    games_opponent[\"TOTAL_POINTS\"] = games_opponent[\"PTS\"] + games_opponent[\"PTS_OPP\"]\n",
    "\n",
    "    # 🔥 Filter Criteria: Close, High-Scoring Games\n",
    "    filtered_games = games_opponent[\n",
    "        (games_opponent[\"POINT_DIFF\"] <= 15)  # Close Games\n",
    "        & (games_opponent[\"TOTAL_POINTS\"] >= 200)  # High Scoring\n",
    "    ]\n",
    "\n",
    "    game_ids = filtered_games[\"GAME_ID\"].unique().tolist()\n",
    "\n",
    "    print(f\"🔹 Total Playoff Games: {len(games)}\")\n",
    "    print(f\"✅ Filtered Games for Analysis: {len(game_ids)} (Close & High-Scoring Games)\")\n",
    "\n",
    "    return game_ids\n",
    "\n",
    "\n",
    "### 🔹 Step 2: Fetch Play-by-Play Data with Resume Feature ###\n",
    "def fetch_playbyplay(game_ids, save_file, target_rows=20000):\n",
    "    all_data = []\n",
    "\n",
    "    # 📌 Load Previously Saved Data\n",
    "    if os.path.exists(save_file):\n",
    "        existing_df = pd.read_csv(save_file)\n",
    "        completed_games = existing_df[\"GAME_ID\"].unique().tolist()\n",
    "        print(f\"🔄 Resuming from last saved progress ({len(completed_games)} games processed).\")\n",
    "    else:\n",
    "        existing_df = pd.DataFrame()\n",
    "        completed_games = []\n",
    "\n",
    "    # 🚀 Exclude Already Processed Games\n",
    "    pending_game_ids = [gid for gid in game_ids if gid not in completed_games]\n",
    "    print(f\"🎯 Fetching {len(pending_game_ids)} remaining games...\")\n",
    "\n",
    "    total_entries = len(existing_df)\n",
    "\n",
    "    for game_id in tqdm(pending_game_ids, desc=\"Fetching Play-by-Play Data\"):\n",
    "        try:\n",
    "            pbp = playbyplayv2.PlayByPlayV2(game_id=game_id)\n",
    "            df = pbp.get_data_frames()[0]\n",
    "            df[\"GAME_ID\"] = game_id  # Add Game ID for reference\n",
    "            all_data.append(df)\n",
    "            total_entries += len(df)\n",
    "\n",
    "            # 💾 Save Every 5 Games or on Target Row Count\n",
    "            if len(all_data) % 5 == 0 or total_entries >= target_rows:\n",
    "                temp_df = pd.concat(all_data, ignore_index=True)\n",
    "                final_df = pd.concat([existing_df, temp_df], ignore_index=True)\n",
    "                final_df.to_csv(save_file, index=False)\n",
    "                print(f\"💾 Progress saved! {len(final_df)} total rows.\")\n",
    "\n",
    "                # 🚀 Stop Fetching if Target Reached\n",
    "                if total_entries >= target_rows:\n",
    "                    print(\"✅ Target row count reached. Stopping data collection.\")\n",
    "                    return\n",
    "\n",
    "            time.sleep(1.5)  # ⏳ Prevent Rate Limits\n",
    "\n",
    "        except Exception as e:\n",
    "            print(f\"⚠️ Error fetching game {game_id}: {e}\")\n",
    "\n",
    "    # 💾 Final Save\n",
    "    if all_data:\n",
    "        final_df = pd.concat([existing_df] + all_data, ignore_index=True)\n",
    "        final_df.to_csv(save_file, index=False)\n",
    "        print(f\"✅ Data saved! Total rows collected: {len(final_df)}\")\n",
    "\n",
    "\n",
    "### 🔹 Step 3: Run the Pipeline ###\n",
    "filtered_playoff_game_ids = get_filtered_playoff_game_ids(SEASON)\n",
    "# fetch_playbyplay(filtered_playoff_game_ids, SAVE_FILE, TARGET_ROWS)\n"
   ]
  },
  {
   "cell_type": "code",
   "execution_count": 3,
   "metadata": {},
   "outputs": [
    {
     "name": "stdout",
     "output_type": "stream",
     "text": [
      "['0042300403', '0042300402', '0042300314', '0042300304', '0042300313', '0042300303', '0042300312', '0042300311', '0042300301', '0042300226', '0042300216', '0042300205', '0042300235', '0042300204', '0042300234', '0042300223', '0042300213', '0042300222', '0042300212', '0042300211', '0042300137', '0042300231', '0042300176', '0042300116', '0042300115', '0042300135', '0042300155', '0042300164', '0042300174', '0042300124', '0042300154', '0042300123', '0042300113', '0042300153', '0042300102', '0042300112', '0042300152', '0042300121', '0042300171', '0042300151', '0042300111', '2042300311', '2042300201', '2042300221', '2042300211', '2042300121', '2042300102', '2042300131']\n"
     ]
    }
   ],
   "source": [
    "print(filtered_playoff_game_ids)"
   ]
  },
  {
   "cell_type": "code",
   "execution_count": 6,
   "metadata": {},
   "outputs": [
    {
     "ename": "ConnectionError",
     "evalue": "('Connection aborted.', RemoteDisconnected('Remote end closed connection without response'))",
     "output_type": "error",
     "traceback": [
      "\u001b[1;31m---------------------------------------------------------------------------\u001b[0m",
      "\u001b[1;31mRemoteDisconnected\u001b[0m                        Traceback (most recent call last)",
      "File \u001b[1;32md:\\Cerberus\\Assets\\Code\\ML\\NCI\\DA For AI\\TABA\\taba\\lib\\site-packages\\urllib3\\connectionpool.py:787\u001b[0m, in \u001b[0;36mHTTPConnectionPool.urlopen\u001b[1;34m(self, method, url, body, headers, retries, redirect, assert_same_host, timeout, pool_timeout, release_conn, chunked, body_pos, preload_content, decode_content, **response_kw)\u001b[0m\n\u001b[0;32m    786\u001b[0m \u001b[38;5;66;03m# Make the request on the HTTPConnection object\u001b[39;00m\n\u001b[1;32m--> 787\u001b[0m response \u001b[38;5;241m=\u001b[39m \u001b[38;5;28mself\u001b[39m\u001b[38;5;241m.\u001b[39m_make_request(\n\u001b[0;32m    788\u001b[0m     conn,\n\u001b[0;32m    789\u001b[0m     method,\n\u001b[0;32m    790\u001b[0m     url,\n\u001b[0;32m    791\u001b[0m     timeout\u001b[38;5;241m=\u001b[39mtimeout_obj,\n\u001b[0;32m    792\u001b[0m     body\u001b[38;5;241m=\u001b[39mbody,\n\u001b[0;32m    793\u001b[0m     headers\u001b[38;5;241m=\u001b[39mheaders,\n\u001b[0;32m    794\u001b[0m     chunked\u001b[38;5;241m=\u001b[39mchunked,\n\u001b[0;32m    795\u001b[0m     retries\u001b[38;5;241m=\u001b[39mretries,\n\u001b[0;32m    796\u001b[0m     response_conn\u001b[38;5;241m=\u001b[39mresponse_conn,\n\u001b[0;32m    797\u001b[0m     preload_content\u001b[38;5;241m=\u001b[39mpreload_content,\n\u001b[0;32m    798\u001b[0m     decode_content\u001b[38;5;241m=\u001b[39mdecode_content,\n\u001b[0;32m    799\u001b[0m     \u001b[38;5;241m*\u001b[39m\u001b[38;5;241m*\u001b[39mresponse_kw,\n\u001b[0;32m    800\u001b[0m )\n\u001b[0;32m    802\u001b[0m \u001b[38;5;66;03m# Everything went great!\u001b[39;00m\n",
      "File \u001b[1;32md:\\Cerberus\\Assets\\Code\\ML\\NCI\\DA For AI\\TABA\\taba\\lib\\site-packages\\urllib3\\connectionpool.py:534\u001b[0m, in \u001b[0;36mHTTPConnectionPool._make_request\u001b[1;34m(self, conn, method, url, body, headers, retries, timeout, chunked, response_conn, preload_content, decode_content, enforce_content_length)\u001b[0m\n\u001b[0;32m    533\u001b[0m \u001b[38;5;28;01mtry\u001b[39;00m:\n\u001b[1;32m--> 534\u001b[0m     response \u001b[38;5;241m=\u001b[39m \u001b[43mconn\u001b[49m\u001b[38;5;241;43m.\u001b[39;49m\u001b[43mgetresponse\u001b[49m\u001b[43m(\u001b[49m\u001b[43m)\u001b[49m\n\u001b[0;32m    535\u001b[0m \u001b[38;5;28;01mexcept\u001b[39;00m (BaseSSLError, \u001b[38;5;167;01mOSError\u001b[39;00m) \u001b[38;5;28;01mas\u001b[39;00m e:\n",
      "File \u001b[1;32md:\\Cerberus\\Assets\\Code\\ML\\NCI\\DA For AI\\TABA\\taba\\lib\\site-packages\\urllib3\\connection.py:516\u001b[0m, in \u001b[0;36mHTTPConnection.getresponse\u001b[1;34m(self)\u001b[0m\n\u001b[0;32m    515\u001b[0m \u001b[38;5;66;03m# Get the response from http.client.HTTPConnection\u001b[39;00m\n\u001b[1;32m--> 516\u001b[0m httplib_response \u001b[38;5;241m=\u001b[39m \u001b[38;5;28;43msuper\u001b[39;49m\u001b[43m(\u001b[49m\u001b[43m)\u001b[49m\u001b[38;5;241;43m.\u001b[39;49m\u001b[43mgetresponse\u001b[49m\u001b[43m(\u001b[49m\u001b[43m)\u001b[49m\n\u001b[0;32m    518\u001b[0m \u001b[38;5;28;01mtry\u001b[39;00m:\n",
      "File \u001b[1;32m~\\AppData\\Local\\Programs\\Python\\Python310\\lib\\http\\client.py:1375\u001b[0m, in \u001b[0;36mHTTPConnection.getresponse\u001b[1;34m(self)\u001b[0m\n\u001b[0;32m   1374\u001b[0m \u001b[38;5;28;01mtry\u001b[39;00m:\n\u001b[1;32m-> 1375\u001b[0m     \u001b[43mresponse\u001b[49m\u001b[38;5;241;43m.\u001b[39;49m\u001b[43mbegin\u001b[49m\u001b[43m(\u001b[49m\u001b[43m)\u001b[49m\n\u001b[0;32m   1376\u001b[0m \u001b[38;5;28;01mexcept\u001b[39;00m \u001b[38;5;167;01mConnectionError\u001b[39;00m:\n",
      "File \u001b[1;32m~\\AppData\\Local\\Programs\\Python\\Python310\\lib\\http\\client.py:318\u001b[0m, in \u001b[0;36mHTTPResponse.begin\u001b[1;34m(self)\u001b[0m\n\u001b[0;32m    317\u001b[0m \u001b[38;5;28;01mwhile\u001b[39;00m \u001b[38;5;28;01mTrue\u001b[39;00m:\n\u001b[1;32m--> 318\u001b[0m     version, status, reason \u001b[38;5;241m=\u001b[39m \u001b[38;5;28;43mself\u001b[39;49m\u001b[38;5;241;43m.\u001b[39;49m\u001b[43m_read_status\u001b[49m\u001b[43m(\u001b[49m\u001b[43m)\u001b[49m\n\u001b[0;32m    319\u001b[0m     \u001b[38;5;28;01mif\u001b[39;00m status \u001b[38;5;241m!=\u001b[39m CONTINUE:\n",
      "File \u001b[1;32m~\\AppData\\Local\\Programs\\Python\\Python310\\lib\\http\\client.py:287\u001b[0m, in \u001b[0;36mHTTPResponse._read_status\u001b[1;34m(self)\u001b[0m\n\u001b[0;32m    284\u001b[0m \u001b[38;5;28;01mif\u001b[39;00m \u001b[38;5;129;01mnot\u001b[39;00m line:\n\u001b[0;32m    285\u001b[0m     \u001b[38;5;66;03m# Presumably, the server closed the connection before\u001b[39;00m\n\u001b[0;32m    286\u001b[0m     \u001b[38;5;66;03m# sending a valid response.\u001b[39;00m\n\u001b[1;32m--> 287\u001b[0m     \u001b[38;5;28;01mraise\u001b[39;00m RemoteDisconnected(\u001b[38;5;124m\"\u001b[39m\u001b[38;5;124mRemote end closed connection without\u001b[39m\u001b[38;5;124m\"\u001b[39m\n\u001b[0;32m    288\u001b[0m                              \u001b[38;5;124m\"\u001b[39m\u001b[38;5;124m response\u001b[39m\u001b[38;5;124m\"\u001b[39m)\n\u001b[0;32m    289\u001b[0m \u001b[38;5;28;01mtry\u001b[39;00m:\n",
      "\u001b[1;31mRemoteDisconnected\u001b[0m: Remote end closed connection without response",
      "\nDuring handling of the above exception, another exception occurred:\n",
      "\u001b[1;31mProtocolError\u001b[0m                             Traceback (most recent call last)",
      "File \u001b[1;32md:\\Cerberus\\Assets\\Code\\ML\\NCI\\DA For AI\\TABA\\taba\\lib\\site-packages\\requests\\adapters.py:667\u001b[0m, in \u001b[0;36mHTTPAdapter.send\u001b[1;34m(self, request, stream, timeout, verify, cert, proxies)\u001b[0m\n\u001b[0;32m    666\u001b[0m \u001b[38;5;28;01mtry\u001b[39;00m:\n\u001b[1;32m--> 667\u001b[0m     resp \u001b[38;5;241m=\u001b[39m \u001b[43mconn\u001b[49m\u001b[38;5;241;43m.\u001b[39;49m\u001b[43murlopen\u001b[49m\u001b[43m(\u001b[49m\n\u001b[0;32m    668\u001b[0m \u001b[43m        \u001b[49m\u001b[43mmethod\u001b[49m\u001b[38;5;241;43m=\u001b[39;49m\u001b[43mrequest\u001b[49m\u001b[38;5;241;43m.\u001b[39;49m\u001b[43mmethod\u001b[49m\u001b[43m,\u001b[49m\n\u001b[0;32m    669\u001b[0m \u001b[43m        \u001b[49m\u001b[43murl\u001b[49m\u001b[38;5;241;43m=\u001b[39;49m\u001b[43murl\u001b[49m\u001b[43m,\u001b[49m\n\u001b[0;32m    670\u001b[0m \u001b[43m        \u001b[49m\u001b[43mbody\u001b[49m\u001b[38;5;241;43m=\u001b[39;49m\u001b[43mrequest\u001b[49m\u001b[38;5;241;43m.\u001b[39;49m\u001b[43mbody\u001b[49m\u001b[43m,\u001b[49m\n\u001b[0;32m    671\u001b[0m \u001b[43m        \u001b[49m\u001b[43mheaders\u001b[49m\u001b[38;5;241;43m=\u001b[39;49m\u001b[43mrequest\u001b[49m\u001b[38;5;241;43m.\u001b[39;49m\u001b[43mheaders\u001b[49m\u001b[43m,\u001b[49m\n\u001b[0;32m    672\u001b[0m \u001b[43m        \u001b[49m\u001b[43mredirect\u001b[49m\u001b[38;5;241;43m=\u001b[39;49m\u001b[38;5;28;43;01mFalse\u001b[39;49;00m\u001b[43m,\u001b[49m\n\u001b[0;32m    673\u001b[0m \u001b[43m        \u001b[49m\u001b[43massert_same_host\u001b[49m\u001b[38;5;241;43m=\u001b[39;49m\u001b[38;5;28;43;01mFalse\u001b[39;49;00m\u001b[43m,\u001b[49m\n\u001b[0;32m    674\u001b[0m \u001b[43m        \u001b[49m\u001b[43mpreload_content\u001b[49m\u001b[38;5;241;43m=\u001b[39;49m\u001b[38;5;28;43;01mFalse\u001b[39;49;00m\u001b[43m,\u001b[49m\n\u001b[0;32m    675\u001b[0m \u001b[43m        \u001b[49m\u001b[43mdecode_content\u001b[49m\u001b[38;5;241;43m=\u001b[39;49m\u001b[38;5;28;43;01mFalse\u001b[39;49;00m\u001b[43m,\u001b[49m\n\u001b[0;32m    676\u001b[0m \u001b[43m        \u001b[49m\u001b[43mretries\u001b[49m\u001b[38;5;241;43m=\u001b[39;49m\u001b[38;5;28;43mself\u001b[39;49m\u001b[38;5;241;43m.\u001b[39;49m\u001b[43mmax_retries\u001b[49m\u001b[43m,\u001b[49m\n\u001b[0;32m    677\u001b[0m \u001b[43m        \u001b[49m\u001b[43mtimeout\u001b[49m\u001b[38;5;241;43m=\u001b[39;49m\u001b[43mtimeout\u001b[49m\u001b[43m,\u001b[49m\n\u001b[0;32m    678\u001b[0m \u001b[43m        \u001b[49m\u001b[43mchunked\u001b[49m\u001b[38;5;241;43m=\u001b[39;49m\u001b[43mchunked\u001b[49m\u001b[43m,\u001b[49m\n\u001b[0;32m    679\u001b[0m \u001b[43m    \u001b[49m\u001b[43m)\u001b[49m\n\u001b[0;32m    681\u001b[0m \u001b[38;5;28;01mexcept\u001b[39;00m (ProtocolError, \u001b[38;5;167;01mOSError\u001b[39;00m) \u001b[38;5;28;01mas\u001b[39;00m err:\n",
      "File \u001b[1;32md:\\Cerberus\\Assets\\Code\\ML\\NCI\\DA For AI\\TABA\\taba\\lib\\site-packages\\urllib3\\connectionpool.py:841\u001b[0m, in \u001b[0;36mHTTPConnectionPool.urlopen\u001b[1;34m(self, method, url, body, headers, retries, redirect, assert_same_host, timeout, pool_timeout, release_conn, chunked, body_pos, preload_content, decode_content, **response_kw)\u001b[0m\n\u001b[0;32m    839\u001b[0m     new_e \u001b[38;5;241m=\u001b[39m ProtocolError(\u001b[38;5;124m\"\u001b[39m\u001b[38;5;124mConnection aborted.\u001b[39m\u001b[38;5;124m\"\u001b[39m, new_e)\n\u001b[1;32m--> 841\u001b[0m retries \u001b[38;5;241m=\u001b[39m \u001b[43mretries\u001b[49m\u001b[38;5;241;43m.\u001b[39;49m\u001b[43mincrement\u001b[49m\u001b[43m(\u001b[49m\n\u001b[0;32m    842\u001b[0m \u001b[43m    \u001b[49m\u001b[43mmethod\u001b[49m\u001b[43m,\u001b[49m\u001b[43m \u001b[49m\u001b[43murl\u001b[49m\u001b[43m,\u001b[49m\u001b[43m \u001b[49m\u001b[43merror\u001b[49m\u001b[38;5;241;43m=\u001b[39;49m\u001b[43mnew_e\u001b[49m\u001b[43m,\u001b[49m\u001b[43m \u001b[49m\u001b[43m_pool\u001b[49m\u001b[38;5;241;43m=\u001b[39;49m\u001b[38;5;28;43mself\u001b[39;49m\u001b[43m,\u001b[49m\u001b[43m \u001b[49m\u001b[43m_stacktrace\u001b[49m\u001b[38;5;241;43m=\u001b[39;49m\u001b[43msys\u001b[49m\u001b[38;5;241;43m.\u001b[39;49m\u001b[43mexc_info\u001b[49m\u001b[43m(\u001b[49m\u001b[43m)\u001b[49m\u001b[43m[\u001b[49m\u001b[38;5;241;43m2\u001b[39;49m\u001b[43m]\u001b[49m\n\u001b[0;32m    843\u001b[0m \u001b[43m\u001b[49m\u001b[43m)\u001b[49m\n\u001b[0;32m    844\u001b[0m retries\u001b[38;5;241m.\u001b[39msleep()\n",
      "File \u001b[1;32md:\\Cerberus\\Assets\\Code\\ML\\NCI\\DA For AI\\TABA\\taba\\lib\\site-packages\\urllib3\\util\\retry.py:474\u001b[0m, in \u001b[0;36mRetry.increment\u001b[1;34m(self, method, url, response, error, _pool, _stacktrace)\u001b[0m\n\u001b[0;32m    473\u001b[0m \u001b[38;5;28;01mif\u001b[39;00m read \u001b[38;5;129;01mis\u001b[39;00m \u001b[38;5;28;01mFalse\u001b[39;00m \u001b[38;5;129;01mor\u001b[39;00m method \u001b[38;5;129;01mis\u001b[39;00m \u001b[38;5;28;01mNone\u001b[39;00m \u001b[38;5;129;01mor\u001b[39;00m \u001b[38;5;129;01mnot\u001b[39;00m \u001b[38;5;28mself\u001b[39m\u001b[38;5;241m.\u001b[39m_is_method_retryable(method):\n\u001b[1;32m--> 474\u001b[0m     \u001b[38;5;28;01mraise\u001b[39;00m \u001b[43mreraise\u001b[49m\u001b[43m(\u001b[49m\u001b[38;5;28;43mtype\u001b[39;49m\u001b[43m(\u001b[49m\u001b[43merror\u001b[49m\u001b[43m)\u001b[49m\u001b[43m,\u001b[49m\u001b[43m \u001b[49m\u001b[43merror\u001b[49m\u001b[43m,\u001b[49m\u001b[43m \u001b[49m\u001b[43m_stacktrace\u001b[49m\u001b[43m)\u001b[49m\n\u001b[0;32m    475\u001b[0m \u001b[38;5;28;01melif\u001b[39;00m read \u001b[38;5;129;01mis\u001b[39;00m \u001b[38;5;129;01mnot\u001b[39;00m \u001b[38;5;28;01mNone\u001b[39;00m:\n",
      "File \u001b[1;32md:\\Cerberus\\Assets\\Code\\ML\\NCI\\DA For AI\\TABA\\taba\\lib\\site-packages\\urllib3\\util\\util.py:38\u001b[0m, in \u001b[0;36mreraise\u001b[1;34m(tp, value, tb)\u001b[0m\n\u001b[0;32m     37\u001b[0m \u001b[38;5;28;01mif\u001b[39;00m value\u001b[38;5;241m.\u001b[39m__traceback__ \u001b[38;5;129;01mis\u001b[39;00m \u001b[38;5;129;01mnot\u001b[39;00m tb:\n\u001b[1;32m---> 38\u001b[0m     \u001b[38;5;28;01mraise\u001b[39;00m value\u001b[38;5;241m.\u001b[39mwith_traceback(tb)\n\u001b[0;32m     39\u001b[0m \u001b[38;5;28;01mraise\u001b[39;00m value\n",
      "File \u001b[1;32md:\\Cerberus\\Assets\\Code\\ML\\NCI\\DA For AI\\TABA\\taba\\lib\\site-packages\\urllib3\\connectionpool.py:787\u001b[0m, in \u001b[0;36mHTTPConnectionPool.urlopen\u001b[1;34m(self, method, url, body, headers, retries, redirect, assert_same_host, timeout, pool_timeout, release_conn, chunked, body_pos, preload_content, decode_content, **response_kw)\u001b[0m\n\u001b[0;32m    786\u001b[0m \u001b[38;5;66;03m# Make the request on the HTTPConnection object\u001b[39;00m\n\u001b[1;32m--> 787\u001b[0m response \u001b[38;5;241m=\u001b[39m \u001b[38;5;28mself\u001b[39m\u001b[38;5;241m.\u001b[39m_make_request(\n\u001b[0;32m    788\u001b[0m     conn,\n\u001b[0;32m    789\u001b[0m     method,\n\u001b[0;32m    790\u001b[0m     url,\n\u001b[0;32m    791\u001b[0m     timeout\u001b[38;5;241m=\u001b[39mtimeout_obj,\n\u001b[0;32m    792\u001b[0m     body\u001b[38;5;241m=\u001b[39mbody,\n\u001b[0;32m    793\u001b[0m     headers\u001b[38;5;241m=\u001b[39mheaders,\n\u001b[0;32m    794\u001b[0m     chunked\u001b[38;5;241m=\u001b[39mchunked,\n\u001b[0;32m    795\u001b[0m     retries\u001b[38;5;241m=\u001b[39mretries,\n\u001b[0;32m    796\u001b[0m     response_conn\u001b[38;5;241m=\u001b[39mresponse_conn,\n\u001b[0;32m    797\u001b[0m     preload_content\u001b[38;5;241m=\u001b[39mpreload_content,\n\u001b[0;32m    798\u001b[0m     decode_content\u001b[38;5;241m=\u001b[39mdecode_content,\n\u001b[0;32m    799\u001b[0m     \u001b[38;5;241m*\u001b[39m\u001b[38;5;241m*\u001b[39mresponse_kw,\n\u001b[0;32m    800\u001b[0m )\n\u001b[0;32m    802\u001b[0m \u001b[38;5;66;03m# Everything went great!\u001b[39;00m\n",
      "File \u001b[1;32md:\\Cerberus\\Assets\\Code\\ML\\NCI\\DA For AI\\TABA\\taba\\lib\\site-packages\\urllib3\\connectionpool.py:534\u001b[0m, in \u001b[0;36mHTTPConnectionPool._make_request\u001b[1;34m(self, conn, method, url, body, headers, retries, timeout, chunked, response_conn, preload_content, decode_content, enforce_content_length)\u001b[0m\n\u001b[0;32m    533\u001b[0m \u001b[38;5;28;01mtry\u001b[39;00m:\n\u001b[1;32m--> 534\u001b[0m     response \u001b[38;5;241m=\u001b[39m \u001b[43mconn\u001b[49m\u001b[38;5;241;43m.\u001b[39;49m\u001b[43mgetresponse\u001b[49m\u001b[43m(\u001b[49m\u001b[43m)\u001b[49m\n\u001b[0;32m    535\u001b[0m \u001b[38;5;28;01mexcept\u001b[39;00m (BaseSSLError, \u001b[38;5;167;01mOSError\u001b[39;00m) \u001b[38;5;28;01mas\u001b[39;00m e:\n",
      "File \u001b[1;32md:\\Cerberus\\Assets\\Code\\ML\\NCI\\DA For AI\\TABA\\taba\\lib\\site-packages\\urllib3\\connection.py:516\u001b[0m, in \u001b[0;36mHTTPConnection.getresponse\u001b[1;34m(self)\u001b[0m\n\u001b[0;32m    515\u001b[0m \u001b[38;5;66;03m# Get the response from http.client.HTTPConnection\u001b[39;00m\n\u001b[1;32m--> 516\u001b[0m httplib_response \u001b[38;5;241m=\u001b[39m \u001b[38;5;28;43msuper\u001b[39;49m\u001b[43m(\u001b[49m\u001b[43m)\u001b[49m\u001b[38;5;241;43m.\u001b[39;49m\u001b[43mgetresponse\u001b[49m\u001b[43m(\u001b[49m\u001b[43m)\u001b[49m\n\u001b[0;32m    518\u001b[0m \u001b[38;5;28;01mtry\u001b[39;00m:\n",
      "File \u001b[1;32m~\\AppData\\Local\\Programs\\Python\\Python310\\lib\\http\\client.py:1375\u001b[0m, in \u001b[0;36mHTTPConnection.getresponse\u001b[1;34m(self)\u001b[0m\n\u001b[0;32m   1374\u001b[0m \u001b[38;5;28;01mtry\u001b[39;00m:\n\u001b[1;32m-> 1375\u001b[0m     \u001b[43mresponse\u001b[49m\u001b[38;5;241;43m.\u001b[39;49m\u001b[43mbegin\u001b[49m\u001b[43m(\u001b[49m\u001b[43m)\u001b[49m\n\u001b[0;32m   1376\u001b[0m \u001b[38;5;28;01mexcept\u001b[39;00m \u001b[38;5;167;01mConnectionError\u001b[39;00m:\n",
      "File \u001b[1;32m~\\AppData\\Local\\Programs\\Python\\Python310\\lib\\http\\client.py:318\u001b[0m, in \u001b[0;36mHTTPResponse.begin\u001b[1;34m(self)\u001b[0m\n\u001b[0;32m    317\u001b[0m \u001b[38;5;28;01mwhile\u001b[39;00m \u001b[38;5;28;01mTrue\u001b[39;00m:\n\u001b[1;32m--> 318\u001b[0m     version, status, reason \u001b[38;5;241m=\u001b[39m \u001b[38;5;28;43mself\u001b[39;49m\u001b[38;5;241;43m.\u001b[39;49m\u001b[43m_read_status\u001b[49m\u001b[43m(\u001b[49m\u001b[43m)\u001b[49m\n\u001b[0;32m    319\u001b[0m     \u001b[38;5;28;01mif\u001b[39;00m status \u001b[38;5;241m!=\u001b[39m CONTINUE:\n",
      "File \u001b[1;32m~\\AppData\\Local\\Programs\\Python\\Python310\\lib\\http\\client.py:287\u001b[0m, in \u001b[0;36mHTTPResponse._read_status\u001b[1;34m(self)\u001b[0m\n\u001b[0;32m    284\u001b[0m \u001b[38;5;28;01mif\u001b[39;00m \u001b[38;5;129;01mnot\u001b[39;00m line:\n\u001b[0;32m    285\u001b[0m     \u001b[38;5;66;03m# Presumably, the server closed the connection before\u001b[39;00m\n\u001b[0;32m    286\u001b[0m     \u001b[38;5;66;03m# sending a valid response.\u001b[39;00m\n\u001b[1;32m--> 287\u001b[0m     \u001b[38;5;28;01mraise\u001b[39;00m RemoteDisconnected(\u001b[38;5;124m\"\u001b[39m\u001b[38;5;124mRemote end closed connection without\u001b[39m\u001b[38;5;124m\"\u001b[39m\n\u001b[0;32m    288\u001b[0m                              \u001b[38;5;124m\"\u001b[39m\u001b[38;5;124m response\u001b[39m\u001b[38;5;124m\"\u001b[39m)\n\u001b[0;32m    289\u001b[0m \u001b[38;5;28;01mtry\u001b[39;00m:\n",
      "\u001b[1;31mProtocolError\u001b[0m: ('Connection aborted.', RemoteDisconnected('Remote end closed connection without response'))",
      "\nDuring handling of the above exception, another exception occurred:\n",
      "\u001b[1;31mConnectionError\u001b[0m                           Traceback (most recent call last)",
      "Cell \u001b[1;32mIn[6], line 7\u001b[0m\n\u001b[0;32m      4\u001b[0m \u001b[38;5;28;01mfrom\u001b[39;00m\u001b[38;5;250m \u001b[39m\u001b[38;5;21;01mtqdm\u001b[39;00m\u001b[38;5;250m \u001b[39m\u001b[38;5;28;01mimport\u001b[39;00m tqdm  \u001b[38;5;66;03m# Progress bar for fetching data\u001b[39;00m\n\u001b[0;32m      6\u001b[0m season \u001b[38;5;241m=\u001b[39m \u001b[38;5;124m\"\u001b[39m\u001b[38;5;124m2023-24\u001b[39m\u001b[38;5;124m\"\u001b[39m\n\u001b[1;32m----> 7\u001b[0m gamefinder_playoffs \u001b[38;5;241m=\u001b[39m \u001b[43mleaguegamefinder\u001b[49m\u001b[38;5;241;43m.\u001b[39;49m\u001b[43mLeagueGameFinder\u001b[49m\u001b[43m(\u001b[49m\n\u001b[0;32m      8\u001b[0m \u001b[43m        \u001b[49m\u001b[43mseason_nullable\u001b[49m\u001b[38;5;241;43m=\u001b[39;49m\u001b[43mseason\u001b[49m\u001b[43m,\u001b[49m\n\u001b[0;32m      9\u001b[0m \u001b[43m        \u001b[49m\u001b[43mseason_type_nullable\u001b[49m\u001b[38;5;241;43m=\u001b[39;49m\u001b[38;5;124;43m\"\u001b[39;49m\u001b[38;5;124;43mRegular Season\u001b[39;49m\u001b[38;5;124;43m\"\u001b[39;49m\u001b[43m,\u001b[49m\n\u001b[0;32m     10\u001b[0m \u001b[43m        \u001b[49m\u001b[43mleague_id_nullable\u001b[49m\u001b[38;5;241;43m=\u001b[39;49m\u001b[38;5;124;43m\"\u001b[39;49m\u001b[38;5;124;43m00\u001b[39;49m\u001b[38;5;124;43m\"\u001b[39;49m\u001b[43m  \u001b[49m\u001b[38;5;66;43;03m# NBA league ID\u001b[39;49;00m\n\u001b[0;32m     11\u001b[0m \u001b[43m    \u001b[49m\u001b[43m)\u001b[49m\n\u001b[0;32m     12\u001b[0m playoff_games \u001b[38;5;241m=\u001b[39m gamefinder_playoffs\u001b[38;5;241m.\u001b[39mget_data_frames()[\u001b[38;5;241m0\u001b[39m]\n\u001b[0;32m     14\u001b[0m game_ids \u001b[38;5;241m=\u001b[39m playoff_games[\u001b[38;5;124m\"\u001b[39m\u001b[38;5;124mGAME_ID\u001b[39m\u001b[38;5;124m\"\u001b[39m]\u001b[38;5;241m.\u001b[39munique()\u001b[38;5;241m.\u001b[39mtolist()\n",
      "File \u001b[1;32md:\\Cerberus\\Assets\\Code\\ML\\NCI\\DA For AI\\TABA\\taba\\lib\\site-packages\\nba_api\\stats\\endpoints\\leaguegamefinder.py:249\u001b[0m, in \u001b[0;36mLeagueGameFinder.__init__\u001b[1;34m(self, player_or_team_abbreviation, conference_nullable, date_from_nullable, date_to_nullable, division_simple_nullable, draft_number_nullable, draft_round_nullable, draft_team_id_nullable, draft_year_nullable, eq_ast_nullable, eq_blk_nullable, eq_dd_nullable, eq_dreb_nullable, eq_fg3a_nullable, eq_fg3m_nullable, eq_fg3_pct_nullable, eq_fga_nullable, eq_fgm_nullable, eq_fg_pct_nullable, eq_fta_nullable, eq_ftm_nullable, eq_ft_pct_nullable, eq_minutes_nullable, eq_oreb_nullable, eq_pf_nullable, eq_pts_nullable, eq_reb_nullable, eq_stl_nullable, eq_td_nullable, eq_tov_nullable, game_id_nullable, gt_ast_nullable, gt_blk_nullable, gt_dd_nullable, gt_dreb_nullable, gt_fg3a_nullable, gt_fg3m_nullable, gt_fg3_pct_nullable, gt_fga_nullable, gt_fgm_nullable, gt_fg_pct_nullable, gt_fta_nullable, gt_ftm_nullable, gt_ft_pct_nullable, gt_minutes_nullable, gt_oreb_nullable, gt_pf_nullable, gt_pts_nullable, gt_reb_nullable, gt_stl_nullable, gt_td_nullable, gt_tov_nullable, league_id_nullable, location_nullable, lt_ast_nullable, lt_blk_nullable, lt_dd_nullable, lt_dreb_nullable, lt_fg3a_nullable, lt_fg3m_nullable, lt_fg3_pct_nullable, lt_fga_nullable, lt_fgm_nullable, lt_fg_pct_nullable, lt_fta_nullable, lt_ftm_nullable, lt_ft_pct_nullable, lt_minutes_nullable, lt_oreb_nullable, lt_pf_nullable, lt_pts_nullable, lt_reb_nullable, lt_stl_nullable, lt_td_nullable, lt_tov_nullable, outcome_nullable, po_round_nullable, player_id_nullable, rookie_year_nullable, season_nullable, season_segment_nullable, season_type_nullable, starter_bench_nullable, team_id_nullable, vs_conference_nullable, vs_division_nullable, vs_team_id_nullable, years_experience_nullable, proxy, headers, timeout, get_request)\u001b[0m\n\u001b[0;32m    158\u001b[0m \u001b[38;5;28mself\u001b[39m\u001b[38;5;241m.\u001b[39mparameters \u001b[38;5;241m=\u001b[39m {\n\u001b[0;32m    159\u001b[0m     \u001b[38;5;124m\"\u001b[39m\u001b[38;5;124mPlayerOrTeam\u001b[39m\u001b[38;5;124m\"\u001b[39m: player_or_team_abbreviation,\n\u001b[0;32m    160\u001b[0m     \u001b[38;5;124m\"\u001b[39m\u001b[38;5;124mConference\u001b[39m\u001b[38;5;124m\"\u001b[39m: conference_nullable,\n\u001b[1;32m   (...)\u001b[0m\n\u001b[0;32m    246\u001b[0m     \u001b[38;5;124m\"\u001b[39m\u001b[38;5;124mYearsExperience\u001b[39m\u001b[38;5;124m\"\u001b[39m: years_experience_nullable,\n\u001b[0;32m    247\u001b[0m }\n\u001b[0;32m    248\u001b[0m \u001b[38;5;28;01mif\u001b[39;00m get_request:\n\u001b[1;32m--> 249\u001b[0m     \u001b[38;5;28;43mself\u001b[39;49m\u001b[38;5;241;43m.\u001b[39;49m\u001b[43mget_request\u001b[49m\u001b[43m(\u001b[49m\u001b[43m)\u001b[49m\n",
      "File \u001b[1;32md:\\Cerberus\\Assets\\Code\\ML\\NCI\\DA For AI\\TABA\\taba\\lib\\site-packages\\nba_api\\stats\\endpoints\\leaguegamefinder.py:252\u001b[0m, in \u001b[0;36mLeagueGameFinder.get_request\u001b[1;34m(self)\u001b[0m\n\u001b[0;32m    251\u001b[0m \u001b[38;5;28;01mdef\u001b[39;00m\u001b[38;5;250m \u001b[39m\u001b[38;5;21mget_request\u001b[39m(\u001b[38;5;28mself\u001b[39m):\n\u001b[1;32m--> 252\u001b[0m     \u001b[38;5;28mself\u001b[39m\u001b[38;5;241m.\u001b[39mnba_response \u001b[38;5;241m=\u001b[39m \u001b[43mNBAStatsHTTP\u001b[49m\u001b[43m(\u001b[49m\u001b[43m)\u001b[49m\u001b[38;5;241;43m.\u001b[39;49m\u001b[43msend_api_request\u001b[49m\u001b[43m(\u001b[49m\n\u001b[0;32m    253\u001b[0m \u001b[43m        \u001b[49m\u001b[43mendpoint\u001b[49m\u001b[38;5;241;43m=\u001b[39;49m\u001b[38;5;28;43mself\u001b[39;49m\u001b[38;5;241;43m.\u001b[39;49m\u001b[43mendpoint\u001b[49m\u001b[43m,\u001b[49m\n\u001b[0;32m    254\u001b[0m \u001b[43m        \u001b[49m\u001b[43mparameters\u001b[49m\u001b[38;5;241;43m=\u001b[39;49m\u001b[38;5;28;43mself\u001b[39;49m\u001b[38;5;241;43m.\u001b[39;49m\u001b[43mparameters\u001b[49m\u001b[43m,\u001b[49m\n\u001b[0;32m    255\u001b[0m \u001b[43m        \u001b[49m\u001b[43mproxy\u001b[49m\u001b[38;5;241;43m=\u001b[39;49m\u001b[38;5;28;43mself\u001b[39;49m\u001b[38;5;241;43m.\u001b[39;49m\u001b[43mproxy\u001b[49m\u001b[43m,\u001b[49m\n\u001b[0;32m    256\u001b[0m \u001b[43m        \u001b[49m\u001b[43mheaders\u001b[49m\u001b[38;5;241;43m=\u001b[39;49m\u001b[38;5;28;43mself\u001b[39;49m\u001b[38;5;241;43m.\u001b[39;49m\u001b[43mheaders\u001b[49m\u001b[43m,\u001b[49m\n\u001b[0;32m    257\u001b[0m \u001b[43m        \u001b[49m\u001b[43mtimeout\u001b[49m\u001b[38;5;241;43m=\u001b[39;49m\u001b[38;5;28;43mself\u001b[39;49m\u001b[38;5;241;43m.\u001b[39;49m\u001b[43mtimeout\u001b[49m\u001b[43m,\u001b[49m\n\u001b[0;32m    258\u001b[0m \u001b[43m    \u001b[49m\u001b[43m)\u001b[49m\n\u001b[0;32m    259\u001b[0m     \u001b[38;5;28mself\u001b[39m\u001b[38;5;241m.\u001b[39mload_response()\n",
      "File \u001b[1;32md:\\Cerberus\\Assets\\Code\\ML\\NCI\\DA For AI\\TABA\\taba\\lib\\site-packages\\nba_api\\library\\http.py:160\u001b[0m, in \u001b[0;36mNBAHTTP.send_api_request\u001b[1;34m(self, endpoint, parameters, referer, proxy, headers, timeout, raise_exception_on_error)\u001b[0m\n\u001b[0;32m    157\u001b[0m         \u001b[38;5;28mprint\u001b[39m(\u001b[38;5;124m\"\u001b[39m\u001b[38;5;124mloading from file...\u001b[39m\u001b[38;5;124m\"\u001b[39m)\n\u001b[0;32m    159\u001b[0m \u001b[38;5;28;01mif\u001b[39;00m \u001b[38;5;129;01mnot\u001b[39;00m contents:\n\u001b[1;32m--> 160\u001b[0m     response \u001b[38;5;241m=\u001b[39m \u001b[38;5;28;43mself\u001b[39;49m\u001b[38;5;241;43m.\u001b[39;49m\u001b[43mget_session\u001b[49m\u001b[43m(\u001b[49m\u001b[43m)\u001b[49m\u001b[38;5;241;43m.\u001b[39;49m\u001b[43mget\u001b[49m\u001b[43m(\u001b[49m\n\u001b[0;32m    161\u001b[0m \u001b[43m        \u001b[49m\u001b[43murl\u001b[49m\u001b[38;5;241;43m=\u001b[39;49m\u001b[43mbase_url\u001b[49m\u001b[43m,\u001b[49m\n\u001b[0;32m    162\u001b[0m \u001b[43m        \u001b[49m\u001b[43mparams\u001b[49m\u001b[38;5;241;43m=\u001b[39;49m\u001b[43mparameters\u001b[49m\u001b[43m,\u001b[49m\n\u001b[0;32m    163\u001b[0m \u001b[43m        \u001b[49m\u001b[43mheaders\u001b[49m\u001b[38;5;241;43m=\u001b[39;49m\u001b[43mrequest_headers\u001b[49m\u001b[43m,\u001b[49m\n\u001b[0;32m    164\u001b[0m \u001b[43m        \u001b[49m\u001b[43mproxies\u001b[49m\u001b[38;5;241;43m=\u001b[39;49m\u001b[43mproxies\u001b[49m\u001b[43m,\u001b[49m\n\u001b[0;32m    165\u001b[0m \u001b[43m        \u001b[49m\u001b[43mtimeout\u001b[49m\u001b[38;5;241;43m=\u001b[39;49m\u001b[43mtimeout\u001b[49m\u001b[43m,\u001b[49m\n\u001b[0;32m    166\u001b[0m \u001b[43m    \u001b[49m\u001b[43m)\u001b[49m\n\u001b[0;32m    167\u001b[0m     url \u001b[38;5;241m=\u001b[39m response\u001b[38;5;241m.\u001b[39murl\n\u001b[0;32m    168\u001b[0m     status_code \u001b[38;5;241m=\u001b[39m response\u001b[38;5;241m.\u001b[39mstatus_code\n",
      "File \u001b[1;32md:\\Cerberus\\Assets\\Code\\ML\\NCI\\DA For AI\\TABA\\taba\\lib\\site-packages\\requests\\sessions.py:602\u001b[0m, in \u001b[0;36mSession.get\u001b[1;34m(self, url, **kwargs)\u001b[0m\n\u001b[0;32m    594\u001b[0m \u001b[38;5;250m\u001b[39m\u001b[38;5;124mr\u001b[39m\u001b[38;5;124;03m\"\"\"Sends a GET request. Returns :class:`Response` object.\u001b[39;00m\n\u001b[0;32m    595\u001b[0m \n\u001b[0;32m    596\u001b[0m \u001b[38;5;124;03m:param url: URL for the new :class:`Request` object.\u001b[39;00m\n\u001b[0;32m    597\u001b[0m \u001b[38;5;124;03m:param \\*\\*kwargs: Optional arguments that ``request`` takes.\u001b[39;00m\n\u001b[0;32m    598\u001b[0m \u001b[38;5;124;03m:rtype: requests.Response\u001b[39;00m\n\u001b[0;32m    599\u001b[0m \u001b[38;5;124;03m\"\"\"\u001b[39;00m\n\u001b[0;32m    601\u001b[0m kwargs\u001b[38;5;241m.\u001b[39msetdefault(\u001b[38;5;124m\"\u001b[39m\u001b[38;5;124mallow_redirects\u001b[39m\u001b[38;5;124m\"\u001b[39m, \u001b[38;5;28;01mTrue\u001b[39;00m)\n\u001b[1;32m--> 602\u001b[0m \u001b[38;5;28;01mreturn\u001b[39;00m \u001b[38;5;28mself\u001b[39m\u001b[38;5;241m.\u001b[39mrequest(\u001b[38;5;124m\"\u001b[39m\u001b[38;5;124mGET\u001b[39m\u001b[38;5;124m\"\u001b[39m, url, \u001b[38;5;241m*\u001b[39m\u001b[38;5;241m*\u001b[39mkwargs)\n",
      "File \u001b[1;32md:\\Cerberus\\Assets\\Code\\ML\\NCI\\DA For AI\\TABA\\taba\\lib\\site-packages\\requests\\sessions.py:589\u001b[0m, in \u001b[0;36mSession.request\u001b[1;34m(self, method, url, params, data, headers, cookies, files, auth, timeout, allow_redirects, proxies, hooks, stream, verify, cert, json)\u001b[0m\n\u001b[0;32m    584\u001b[0m send_kwargs \u001b[38;5;241m=\u001b[39m {\n\u001b[0;32m    585\u001b[0m     \u001b[38;5;124m\"\u001b[39m\u001b[38;5;124mtimeout\u001b[39m\u001b[38;5;124m\"\u001b[39m: timeout,\n\u001b[0;32m    586\u001b[0m     \u001b[38;5;124m\"\u001b[39m\u001b[38;5;124mallow_redirects\u001b[39m\u001b[38;5;124m\"\u001b[39m: allow_redirects,\n\u001b[0;32m    587\u001b[0m }\n\u001b[0;32m    588\u001b[0m send_kwargs\u001b[38;5;241m.\u001b[39mupdate(settings)\n\u001b[1;32m--> 589\u001b[0m resp \u001b[38;5;241m=\u001b[39m \u001b[38;5;28mself\u001b[39m\u001b[38;5;241m.\u001b[39msend(prep, \u001b[38;5;241m*\u001b[39m\u001b[38;5;241m*\u001b[39msend_kwargs)\n\u001b[0;32m    591\u001b[0m \u001b[38;5;28;01mreturn\u001b[39;00m resp\n",
      "File \u001b[1;32md:\\Cerberus\\Assets\\Code\\ML\\NCI\\DA For AI\\TABA\\taba\\lib\\site-packages\\requests\\sessions.py:703\u001b[0m, in \u001b[0;36mSession.send\u001b[1;34m(self, request, **kwargs)\u001b[0m\n\u001b[0;32m    700\u001b[0m start \u001b[38;5;241m=\u001b[39m preferred_clock()\n\u001b[0;32m    702\u001b[0m \u001b[38;5;66;03m# Send the request\u001b[39;00m\n\u001b[1;32m--> 703\u001b[0m r \u001b[38;5;241m=\u001b[39m adapter\u001b[38;5;241m.\u001b[39msend(request, \u001b[38;5;241m*\u001b[39m\u001b[38;5;241m*\u001b[39mkwargs)\n\u001b[0;32m    705\u001b[0m \u001b[38;5;66;03m# Total elapsed time of the request (approximately)\u001b[39;00m\n\u001b[0;32m    706\u001b[0m elapsed \u001b[38;5;241m=\u001b[39m preferred_clock() \u001b[38;5;241m-\u001b[39m start\n",
      "File \u001b[1;32md:\\Cerberus\\Assets\\Code\\ML\\NCI\\DA For AI\\TABA\\taba\\lib\\site-packages\\requests\\adapters.py:682\u001b[0m, in \u001b[0;36mHTTPAdapter.send\u001b[1;34m(self, request, stream, timeout, verify, cert, proxies)\u001b[0m\n\u001b[0;32m    667\u001b[0m     resp \u001b[38;5;241m=\u001b[39m conn\u001b[38;5;241m.\u001b[39murlopen(\n\u001b[0;32m    668\u001b[0m         method\u001b[38;5;241m=\u001b[39mrequest\u001b[38;5;241m.\u001b[39mmethod,\n\u001b[0;32m    669\u001b[0m         url\u001b[38;5;241m=\u001b[39murl,\n\u001b[1;32m   (...)\u001b[0m\n\u001b[0;32m    678\u001b[0m         chunked\u001b[38;5;241m=\u001b[39mchunked,\n\u001b[0;32m    679\u001b[0m     )\n\u001b[0;32m    681\u001b[0m \u001b[38;5;28;01mexcept\u001b[39;00m (ProtocolError, \u001b[38;5;167;01mOSError\u001b[39;00m) \u001b[38;5;28;01mas\u001b[39;00m err:\n\u001b[1;32m--> 682\u001b[0m     \u001b[38;5;28;01mraise\u001b[39;00m \u001b[38;5;167;01mConnectionError\u001b[39;00m(err, request\u001b[38;5;241m=\u001b[39mrequest)\n\u001b[0;32m    684\u001b[0m \u001b[38;5;28;01mexcept\u001b[39;00m MaxRetryError \u001b[38;5;28;01mas\u001b[39;00m e:\n\u001b[0;32m    685\u001b[0m     \u001b[38;5;28;01mif\u001b[39;00m \u001b[38;5;28misinstance\u001b[39m(e\u001b[38;5;241m.\u001b[39mreason, ConnectTimeoutError):\n\u001b[0;32m    686\u001b[0m         \u001b[38;5;66;03m# TODO: Remove this in 3.0.0: see #2811\u001b[39;00m\n",
      "\u001b[1;31mConnectionError\u001b[0m: ('Connection aborted.', RemoteDisconnected('Remote end closed connection without response'))"
     ]
    }
   ],
   "source": [
    "from nba_api.stats.endpoints import leaguegamefinder, boxscoreplayertrackv2\n",
    "import pandas as pd\n",
    "import time\n",
    "from tqdm import tqdm  # Progress bar for fetching data\n",
    "\n",
    "season = \"2023-24\"\n",
    "gamefinder_playoffs = leaguegamefinder.LeagueGameFinder(\n",
    "        season_nullable=season,\n",
    "        season_type_nullable=\"Regular Season\",\n",
    "        league_id_nullable=\"00\"  # NBA league ID\n",
    "    )\n",
    "playoff_games = gamefinder_playoffs.get_data_frames()[0]\n",
    "\n",
    "game_ids = playoff_games[\"GAME_ID\"].unique().tolist()\n",
    "print(f\"Total Games in the Season: {len(game_ids)}\")"
   ]
  },
  {
   "cell_type": "code",
   "execution_count": null,
   "metadata": {},
   "outputs": [
    {
     "name": "stderr",
     "output_type": "stream",
     "text": [
      "Fetching Player Tracking Data:  43%|████▎     | 530/1230 [17:32<2:00:39, 10.34s/it]"
     ]
    },
    {
     "name": "stdout",
     "output_type": "stream",
     "text": [
      "Error fetching Game ID 0022300671: HTTPSConnectionPool(host='stats.nba.com', port=443): Read timed out. (read timeout=30)\n"
     ]
    },
    {
     "name": "stderr",
     "output_type": "stream",
     "text": [
      "Fetching Player Tracking Data:  43%|████▎     | 531/1230 [18:03<3:11:03, 16.40s/it]"
     ]
    },
    {
     "name": "stdout",
     "output_type": "stream",
     "text": [
      "Error fetching Game ID 0022300669: HTTPSConnectionPool(host='stats.nba.com', port=443): Read timed out. (read timeout=30)\n"
     ]
    },
    {
     "name": "stderr",
     "output_type": "stream",
     "text": [
      "Fetching Player Tracking Data:  43%|████▎     | 531/1230 [18:33<24:25,  2.10s/it]  \n"
     ]
    },
    {
     "ename": "KeyboardInterrupt",
     "evalue": "",
     "output_type": "error",
     "traceback": [
      "\u001b[1;31m---------------------------------------------------------------------------\u001b[0m",
      "\u001b[1;31mTimeoutError\u001b[0m                              Traceback (most recent call last)",
      "File \u001b[1;32m~\\AppData\\Local\\Programs\\Python\\Python310\\lib\\ssl.py:1130\u001b[0m, in \u001b[0;36mSSLSocket.read\u001b[1;34m(self, len, buffer)\u001b[0m\n\u001b[0;32m   1129\u001b[0m \u001b[38;5;28;01mif\u001b[39;00m buffer \u001b[38;5;129;01mis\u001b[39;00m \u001b[38;5;129;01mnot\u001b[39;00m \u001b[38;5;28;01mNone\u001b[39;00m:\n\u001b[1;32m-> 1130\u001b[0m     \u001b[38;5;28;01mreturn\u001b[39;00m \u001b[38;5;28;43mself\u001b[39;49m\u001b[38;5;241;43m.\u001b[39;49m\u001b[43m_sslobj\u001b[49m\u001b[38;5;241;43m.\u001b[39;49m\u001b[43mread\u001b[49m\u001b[43m(\u001b[49m\u001b[38;5;28;43mlen\u001b[39;49m\u001b[43m,\u001b[49m\u001b[43m \u001b[49m\u001b[43mbuffer\u001b[49m\u001b[43m)\u001b[49m\n\u001b[0;32m   1131\u001b[0m \u001b[38;5;28;01melse\u001b[39;00m:\n",
      "\u001b[1;31mTimeoutError\u001b[0m: The read operation timed out",
      "\nDuring handling of the above exception, another exception occurred:\n",
      "\u001b[1;31mKeyboardInterrupt\u001b[0m                         Traceback (most recent call last)",
      "Cell \u001b[1;32mIn[28], line 5\u001b[0m\n\u001b[0;32m      3\u001b[0m \u001b[38;5;28;01mfor\u001b[39;00m game_id \u001b[38;5;129;01min\u001b[39;00m tqdm(game_ids, desc\u001b[38;5;241m=\u001b[39m\u001b[38;5;124m\"\u001b[39m\u001b[38;5;124mFetching Player Tracking Data\u001b[39m\u001b[38;5;124m\"\u001b[39m):\n\u001b[0;32m      4\u001b[0m     \u001b[38;5;28;01mtry\u001b[39;00m:\n\u001b[1;32m----> 5\u001b[0m         tracking_data \u001b[38;5;241m=\u001b[39m \u001b[43mboxscoreplayertrackv2\u001b[49m\u001b[38;5;241;43m.\u001b[39;49m\u001b[43mBoxScorePlayerTrackV2\u001b[49m\u001b[43m(\u001b[49m\u001b[43mgame_id\u001b[49m\u001b[38;5;241;43m=\u001b[39;49m\u001b[43mgame_id\u001b[49m\u001b[43m)\u001b[49m\n\u001b[0;32m      6\u001b[0m         df \u001b[38;5;241m=\u001b[39m tracking_data\u001b[38;5;241m.\u001b[39mget_data_frames()[\u001b[38;5;241m0\u001b[39m]  \u001b[38;5;66;03m# Convert response to DataFrame\u001b[39;00m\n\u001b[0;32m      8\u001b[0m         all_tracking_data\u001b[38;5;241m.\u001b[39mappend(df)\n",
      "File \u001b[1;32md:\\Cerberus\\Assets\\Code\\ML\\NCI\\DA For AI\\TABA\\taba\\lib\\site-packages\\nba_api\\stats\\endpoints\\boxscoreplayertrackv2.py:81\u001b[0m, in \u001b[0;36mBoxScorePlayerTrackV2.__init__\u001b[1;34m(self, game_id, proxy, headers, timeout, get_request)\u001b[0m\n\u001b[0;32m     79\u001b[0m \u001b[38;5;28mself\u001b[39m\u001b[38;5;241m.\u001b[39mparameters \u001b[38;5;241m=\u001b[39m {\u001b[38;5;124m\"\u001b[39m\u001b[38;5;124mGameID\u001b[39m\u001b[38;5;124m\"\u001b[39m: game_id}\n\u001b[0;32m     80\u001b[0m \u001b[38;5;28;01mif\u001b[39;00m get_request:\n\u001b[1;32m---> 81\u001b[0m     \u001b[38;5;28;43mself\u001b[39;49m\u001b[38;5;241;43m.\u001b[39;49m\u001b[43mget_request\u001b[49m\u001b[43m(\u001b[49m\u001b[43m)\u001b[49m\n",
      "File \u001b[1;32md:\\Cerberus\\Assets\\Code\\ML\\NCI\\DA For AI\\TABA\\taba\\lib\\site-packages\\nba_api\\stats\\endpoints\\boxscoreplayertrackv2.py:84\u001b[0m, in \u001b[0;36mBoxScorePlayerTrackV2.get_request\u001b[1;34m(self)\u001b[0m\n\u001b[0;32m     83\u001b[0m \u001b[38;5;28;01mdef\u001b[39;00m\u001b[38;5;250m \u001b[39m\u001b[38;5;21mget_request\u001b[39m(\u001b[38;5;28mself\u001b[39m):\n\u001b[1;32m---> 84\u001b[0m     \u001b[38;5;28mself\u001b[39m\u001b[38;5;241m.\u001b[39mnba_response \u001b[38;5;241m=\u001b[39m \u001b[43mNBAStatsHTTP\u001b[49m\u001b[43m(\u001b[49m\u001b[43m)\u001b[49m\u001b[38;5;241;43m.\u001b[39;49m\u001b[43msend_api_request\u001b[49m\u001b[43m(\u001b[49m\n\u001b[0;32m     85\u001b[0m \u001b[43m        \u001b[49m\u001b[43mendpoint\u001b[49m\u001b[38;5;241;43m=\u001b[39;49m\u001b[38;5;28;43mself\u001b[39;49m\u001b[38;5;241;43m.\u001b[39;49m\u001b[43mendpoint\u001b[49m\u001b[43m,\u001b[49m\n\u001b[0;32m     86\u001b[0m \u001b[43m        \u001b[49m\u001b[43mparameters\u001b[49m\u001b[38;5;241;43m=\u001b[39;49m\u001b[38;5;28;43mself\u001b[39;49m\u001b[38;5;241;43m.\u001b[39;49m\u001b[43mparameters\u001b[49m\u001b[43m,\u001b[49m\n\u001b[0;32m     87\u001b[0m \u001b[43m        \u001b[49m\u001b[43mproxy\u001b[49m\u001b[38;5;241;43m=\u001b[39;49m\u001b[38;5;28;43mself\u001b[39;49m\u001b[38;5;241;43m.\u001b[39;49m\u001b[43mproxy\u001b[49m\u001b[43m,\u001b[49m\n\u001b[0;32m     88\u001b[0m \u001b[43m        \u001b[49m\u001b[43mheaders\u001b[49m\u001b[38;5;241;43m=\u001b[39;49m\u001b[38;5;28;43mself\u001b[39;49m\u001b[38;5;241;43m.\u001b[39;49m\u001b[43mheaders\u001b[49m\u001b[43m,\u001b[49m\n\u001b[0;32m     89\u001b[0m \u001b[43m        \u001b[49m\u001b[43mtimeout\u001b[49m\u001b[38;5;241;43m=\u001b[39;49m\u001b[38;5;28;43mself\u001b[39;49m\u001b[38;5;241;43m.\u001b[39;49m\u001b[43mtimeout\u001b[49m\u001b[43m,\u001b[49m\n\u001b[0;32m     90\u001b[0m \u001b[43m    \u001b[49m\u001b[43m)\u001b[49m\n\u001b[0;32m     91\u001b[0m     \u001b[38;5;28mself\u001b[39m\u001b[38;5;241m.\u001b[39mload_response()\n",
      "File \u001b[1;32md:\\Cerberus\\Assets\\Code\\ML\\NCI\\DA For AI\\TABA\\taba\\lib\\site-packages\\nba_api\\library\\http.py:160\u001b[0m, in \u001b[0;36mNBAHTTP.send_api_request\u001b[1;34m(self, endpoint, parameters, referer, proxy, headers, timeout, raise_exception_on_error)\u001b[0m\n\u001b[0;32m    157\u001b[0m         \u001b[38;5;28mprint\u001b[39m(\u001b[38;5;124m\"\u001b[39m\u001b[38;5;124mloading from file...\u001b[39m\u001b[38;5;124m\"\u001b[39m)\n\u001b[0;32m    159\u001b[0m \u001b[38;5;28;01mif\u001b[39;00m \u001b[38;5;129;01mnot\u001b[39;00m contents:\n\u001b[1;32m--> 160\u001b[0m     response \u001b[38;5;241m=\u001b[39m \u001b[38;5;28;43mself\u001b[39;49m\u001b[38;5;241;43m.\u001b[39;49m\u001b[43mget_session\u001b[49m\u001b[43m(\u001b[49m\u001b[43m)\u001b[49m\u001b[38;5;241;43m.\u001b[39;49m\u001b[43mget\u001b[49m\u001b[43m(\u001b[49m\n\u001b[0;32m    161\u001b[0m \u001b[43m        \u001b[49m\u001b[43murl\u001b[49m\u001b[38;5;241;43m=\u001b[39;49m\u001b[43mbase_url\u001b[49m\u001b[43m,\u001b[49m\n\u001b[0;32m    162\u001b[0m \u001b[43m        \u001b[49m\u001b[43mparams\u001b[49m\u001b[38;5;241;43m=\u001b[39;49m\u001b[43mparameters\u001b[49m\u001b[43m,\u001b[49m\n\u001b[0;32m    163\u001b[0m \u001b[43m        \u001b[49m\u001b[43mheaders\u001b[49m\u001b[38;5;241;43m=\u001b[39;49m\u001b[43mrequest_headers\u001b[49m\u001b[43m,\u001b[49m\n\u001b[0;32m    164\u001b[0m \u001b[43m        \u001b[49m\u001b[43mproxies\u001b[49m\u001b[38;5;241;43m=\u001b[39;49m\u001b[43mproxies\u001b[49m\u001b[43m,\u001b[49m\n\u001b[0;32m    165\u001b[0m \u001b[43m        \u001b[49m\u001b[43mtimeout\u001b[49m\u001b[38;5;241;43m=\u001b[39;49m\u001b[43mtimeout\u001b[49m\u001b[43m,\u001b[49m\n\u001b[0;32m    166\u001b[0m \u001b[43m    \u001b[49m\u001b[43m)\u001b[49m\n\u001b[0;32m    167\u001b[0m     url \u001b[38;5;241m=\u001b[39m response\u001b[38;5;241m.\u001b[39murl\n\u001b[0;32m    168\u001b[0m     status_code \u001b[38;5;241m=\u001b[39m response\u001b[38;5;241m.\u001b[39mstatus_code\n",
      "File \u001b[1;32md:\\Cerberus\\Assets\\Code\\ML\\NCI\\DA For AI\\TABA\\taba\\lib\\site-packages\\requests\\sessions.py:602\u001b[0m, in \u001b[0;36mSession.get\u001b[1;34m(self, url, **kwargs)\u001b[0m\n\u001b[0;32m    594\u001b[0m \u001b[38;5;250m\u001b[39m\u001b[38;5;124mr\u001b[39m\u001b[38;5;124;03m\"\"\"Sends a GET request. Returns :class:`Response` object.\u001b[39;00m\n\u001b[0;32m    595\u001b[0m \n\u001b[0;32m    596\u001b[0m \u001b[38;5;124;03m:param url: URL for the new :class:`Request` object.\u001b[39;00m\n\u001b[0;32m    597\u001b[0m \u001b[38;5;124;03m:param \\*\\*kwargs: Optional arguments that ``request`` takes.\u001b[39;00m\n\u001b[0;32m    598\u001b[0m \u001b[38;5;124;03m:rtype: requests.Response\u001b[39;00m\n\u001b[0;32m    599\u001b[0m \u001b[38;5;124;03m\"\"\"\u001b[39;00m\n\u001b[0;32m    601\u001b[0m kwargs\u001b[38;5;241m.\u001b[39msetdefault(\u001b[38;5;124m\"\u001b[39m\u001b[38;5;124mallow_redirects\u001b[39m\u001b[38;5;124m\"\u001b[39m, \u001b[38;5;28;01mTrue\u001b[39;00m)\n\u001b[1;32m--> 602\u001b[0m \u001b[38;5;28;01mreturn\u001b[39;00m \u001b[38;5;28mself\u001b[39m\u001b[38;5;241m.\u001b[39mrequest(\u001b[38;5;124m\"\u001b[39m\u001b[38;5;124mGET\u001b[39m\u001b[38;5;124m\"\u001b[39m, url, \u001b[38;5;241m*\u001b[39m\u001b[38;5;241m*\u001b[39mkwargs)\n",
      "File \u001b[1;32md:\\Cerberus\\Assets\\Code\\ML\\NCI\\DA For AI\\TABA\\taba\\lib\\site-packages\\requests\\sessions.py:589\u001b[0m, in \u001b[0;36mSession.request\u001b[1;34m(self, method, url, params, data, headers, cookies, files, auth, timeout, allow_redirects, proxies, hooks, stream, verify, cert, json)\u001b[0m\n\u001b[0;32m    584\u001b[0m send_kwargs \u001b[38;5;241m=\u001b[39m {\n\u001b[0;32m    585\u001b[0m     \u001b[38;5;124m\"\u001b[39m\u001b[38;5;124mtimeout\u001b[39m\u001b[38;5;124m\"\u001b[39m: timeout,\n\u001b[0;32m    586\u001b[0m     \u001b[38;5;124m\"\u001b[39m\u001b[38;5;124mallow_redirects\u001b[39m\u001b[38;5;124m\"\u001b[39m: allow_redirects,\n\u001b[0;32m    587\u001b[0m }\n\u001b[0;32m    588\u001b[0m send_kwargs\u001b[38;5;241m.\u001b[39mupdate(settings)\n\u001b[1;32m--> 589\u001b[0m resp \u001b[38;5;241m=\u001b[39m \u001b[38;5;28mself\u001b[39m\u001b[38;5;241m.\u001b[39msend(prep, \u001b[38;5;241m*\u001b[39m\u001b[38;5;241m*\u001b[39msend_kwargs)\n\u001b[0;32m    591\u001b[0m \u001b[38;5;28;01mreturn\u001b[39;00m resp\n",
      "File \u001b[1;32md:\\Cerberus\\Assets\\Code\\ML\\NCI\\DA For AI\\TABA\\taba\\lib\\site-packages\\requests\\sessions.py:703\u001b[0m, in \u001b[0;36mSession.send\u001b[1;34m(self, request, **kwargs)\u001b[0m\n\u001b[0;32m    700\u001b[0m start \u001b[38;5;241m=\u001b[39m preferred_clock()\n\u001b[0;32m    702\u001b[0m \u001b[38;5;66;03m# Send the request\u001b[39;00m\n\u001b[1;32m--> 703\u001b[0m r \u001b[38;5;241m=\u001b[39m adapter\u001b[38;5;241m.\u001b[39msend(request, \u001b[38;5;241m*\u001b[39m\u001b[38;5;241m*\u001b[39mkwargs)\n\u001b[0;32m    705\u001b[0m \u001b[38;5;66;03m# Total elapsed time of the request (approximately)\u001b[39;00m\n\u001b[0;32m    706\u001b[0m elapsed \u001b[38;5;241m=\u001b[39m preferred_clock() \u001b[38;5;241m-\u001b[39m start\n",
      "File \u001b[1;32md:\\Cerberus\\Assets\\Code\\ML\\NCI\\DA For AI\\TABA\\taba\\lib\\site-packages\\requests\\adapters.py:667\u001b[0m, in \u001b[0;36mHTTPAdapter.send\u001b[1;34m(self, request, stream, timeout, verify, cert, proxies)\u001b[0m\n\u001b[0;32m    664\u001b[0m     timeout \u001b[38;5;241m=\u001b[39m TimeoutSauce(connect\u001b[38;5;241m=\u001b[39mtimeout, read\u001b[38;5;241m=\u001b[39mtimeout)\n\u001b[0;32m    666\u001b[0m \u001b[38;5;28;01mtry\u001b[39;00m:\n\u001b[1;32m--> 667\u001b[0m     resp \u001b[38;5;241m=\u001b[39m \u001b[43mconn\u001b[49m\u001b[38;5;241;43m.\u001b[39;49m\u001b[43murlopen\u001b[49m\u001b[43m(\u001b[49m\n\u001b[0;32m    668\u001b[0m \u001b[43m        \u001b[49m\u001b[43mmethod\u001b[49m\u001b[38;5;241;43m=\u001b[39;49m\u001b[43mrequest\u001b[49m\u001b[38;5;241;43m.\u001b[39;49m\u001b[43mmethod\u001b[49m\u001b[43m,\u001b[49m\n\u001b[0;32m    669\u001b[0m \u001b[43m        \u001b[49m\u001b[43murl\u001b[49m\u001b[38;5;241;43m=\u001b[39;49m\u001b[43murl\u001b[49m\u001b[43m,\u001b[49m\n\u001b[0;32m    670\u001b[0m \u001b[43m        \u001b[49m\u001b[43mbody\u001b[49m\u001b[38;5;241;43m=\u001b[39;49m\u001b[43mrequest\u001b[49m\u001b[38;5;241;43m.\u001b[39;49m\u001b[43mbody\u001b[49m\u001b[43m,\u001b[49m\n\u001b[0;32m    671\u001b[0m \u001b[43m        \u001b[49m\u001b[43mheaders\u001b[49m\u001b[38;5;241;43m=\u001b[39;49m\u001b[43mrequest\u001b[49m\u001b[38;5;241;43m.\u001b[39;49m\u001b[43mheaders\u001b[49m\u001b[43m,\u001b[49m\n\u001b[0;32m    672\u001b[0m \u001b[43m        \u001b[49m\u001b[43mredirect\u001b[49m\u001b[38;5;241;43m=\u001b[39;49m\u001b[38;5;28;43;01mFalse\u001b[39;49;00m\u001b[43m,\u001b[49m\n\u001b[0;32m    673\u001b[0m \u001b[43m        \u001b[49m\u001b[43massert_same_host\u001b[49m\u001b[38;5;241;43m=\u001b[39;49m\u001b[38;5;28;43;01mFalse\u001b[39;49;00m\u001b[43m,\u001b[49m\n\u001b[0;32m    674\u001b[0m \u001b[43m        \u001b[49m\u001b[43mpreload_content\u001b[49m\u001b[38;5;241;43m=\u001b[39;49m\u001b[38;5;28;43;01mFalse\u001b[39;49;00m\u001b[43m,\u001b[49m\n\u001b[0;32m    675\u001b[0m \u001b[43m        \u001b[49m\u001b[43mdecode_content\u001b[49m\u001b[38;5;241;43m=\u001b[39;49m\u001b[38;5;28;43;01mFalse\u001b[39;49;00m\u001b[43m,\u001b[49m\n\u001b[0;32m    676\u001b[0m \u001b[43m        \u001b[49m\u001b[43mretries\u001b[49m\u001b[38;5;241;43m=\u001b[39;49m\u001b[38;5;28;43mself\u001b[39;49m\u001b[38;5;241;43m.\u001b[39;49m\u001b[43mmax_retries\u001b[49m\u001b[43m,\u001b[49m\n\u001b[0;32m    677\u001b[0m \u001b[43m        \u001b[49m\u001b[43mtimeout\u001b[49m\u001b[38;5;241;43m=\u001b[39;49m\u001b[43mtimeout\u001b[49m\u001b[43m,\u001b[49m\n\u001b[0;32m    678\u001b[0m \u001b[43m        \u001b[49m\u001b[43mchunked\u001b[49m\u001b[38;5;241;43m=\u001b[39;49m\u001b[43mchunked\u001b[49m\u001b[43m,\u001b[49m\n\u001b[0;32m    679\u001b[0m \u001b[43m    \u001b[49m\u001b[43m)\u001b[49m\n\u001b[0;32m    681\u001b[0m \u001b[38;5;28;01mexcept\u001b[39;00m (ProtocolError, \u001b[38;5;167;01mOSError\u001b[39;00m) \u001b[38;5;28;01mas\u001b[39;00m err:\n\u001b[0;32m    682\u001b[0m     \u001b[38;5;28;01mraise\u001b[39;00m \u001b[38;5;167;01mConnectionError\u001b[39;00m(err, request\u001b[38;5;241m=\u001b[39mrequest)\n",
      "File \u001b[1;32md:\\Cerberus\\Assets\\Code\\ML\\NCI\\DA For AI\\TABA\\taba\\lib\\site-packages\\urllib3\\connectionpool.py:787\u001b[0m, in \u001b[0;36mHTTPConnectionPool.urlopen\u001b[1;34m(self, method, url, body, headers, retries, redirect, assert_same_host, timeout, pool_timeout, release_conn, chunked, body_pos, preload_content, decode_content, **response_kw)\u001b[0m\n\u001b[0;32m    784\u001b[0m response_conn \u001b[38;5;241m=\u001b[39m conn \u001b[38;5;28;01mif\u001b[39;00m \u001b[38;5;129;01mnot\u001b[39;00m release_conn \u001b[38;5;28;01melse\u001b[39;00m \u001b[38;5;28;01mNone\u001b[39;00m\n\u001b[0;32m    786\u001b[0m \u001b[38;5;66;03m# Make the request on the HTTPConnection object\u001b[39;00m\n\u001b[1;32m--> 787\u001b[0m response \u001b[38;5;241m=\u001b[39m \u001b[38;5;28mself\u001b[39m\u001b[38;5;241m.\u001b[39m_make_request(\n\u001b[0;32m    788\u001b[0m     conn,\n\u001b[0;32m    789\u001b[0m     method,\n\u001b[0;32m    790\u001b[0m     url,\n\u001b[0;32m    791\u001b[0m     timeout\u001b[38;5;241m=\u001b[39mtimeout_obj,\n\u001b[0;32m    792\u001b[0m     body\u001b[38;5;241m=\u001b[39mbody,\n\u001b[0;32m    793\u001b[0m     headers\u001b[38;5;241m=\u001b[39mheaders,\n\u001b[0;32m    794\u001b[0m     chunked\u001b[38;5;241m=\u001b[39mchunked,\n\u001b[0;32m    795\u001b[0m     retries\u001b[38;5;241m=\u001b[39mretries,\n\u001b[0;32m    796\u001b[0m     response_conn\u001b[38;5;241m=\u001b[39mresponse_conn,\n\u001b[0;32m    797\u001b[0m     preload_content\u001b[38;5;241m=\u001b[39mpreload_content,\n\u001b[0;32m    798\u001b[0m     decode_content\u001b[38;5;241m=\u001b[39mdecode_content,\n\u001b[0;32m    799\u001b[0m     \u001b[38;5;241m*\u001b[39m\u001b[38;5;241m*\u001b[39mresponse_kw,\n\u001b[0;32m    800\u001b[0m )\n\u001b[0;32m    802\u001b[0m \u001b[38;5;66;03m# Everything went great!\u001b[39;00m\n\u001b[0;32m    803\u001b[0m clean_exit \u001b[38;5;241m=\u001b[39m \u001b[38;5;28;01mTrue\u001b[39;00m\n",
      "File \u001b[1;32md:\\Cerberus\\Assets\\Code\\ML\\NCI\\DA For AI\\TABA\\taba\\lib\\site-packages\\urllib3\\connectionpool.py:534\u001b[0m, in \u001b[0;36mHTTPConnectionPool._make_request\u001b[1;34m(self, conn, method, url, body, headers, retries, timeout, chunked, response_conn, preload_content, decode_content, enforce_content_length)\u001b[0m\n\u001b[0;32m    532\u001b[0m \u001b[38;5;66;03m# Receive the response from the server\u001b[39;00m\n\u001b[0;32m    533\u001b[0m \u001b[38;5;28;01mtry\u001b[39;00m:\n\u001b[1;32m--> 534\u001b[0m     response \u001b[38;5;241m=\u001b[39m \u001b[43mconn\u001b[49m\u001b[38;5;241;43m.\u001b[39;49m\u001b[43mgetresponse\u001b[49m\u001b[43m(\u001b[49m\u001b[43m)\u001b[49m\n\u001b[0;32m    535\u001b[0m \u001b[38;5;28;01mexcept\u001b[39;00m (BaseSSLError, \u001b[38;5;167;01mOSError\u001b[39;00m) \u001b[38;5;28;01mas\u001b[39;00m e:\n\u001b[0;32m    536\u001b[0m     \u001b[38;5;28mself\u001b[39m\u001b[38;5;241m.\u001b[39m_raise_timeout(err\u001b[38;5;241m=\u001b[39me, url\u001b[38;5;241m=\u001b[39murl, timeout_value\u001b[38;5;241m=\u001b[39mread_timeout)\n",
      "File \u001b[1;32md:\\Cerberus\\Assets\\Code\\ML\\NCI\\DA For AI\\TABA\\taba\\lib\\site-packages\\urllib3\\connection.py:516\u001b[0m, in \u001b[0;36mHTTPConnection.getresponse\u001b[1;34m(self)\u001b[0m\n\u001b[0;32m    513\u001b[0m _shutdown \u001b[38;5;241m=\u001b[39m \u001b[38;5;28mgetattr\u001b[39m(\u001b[38;5;28mself\u001b[39m\u001b[38;5;241m.\u001b[39msock, \u001b[38;5;124m\"\u001b[39m\u001b[38;5;124mshutdown\u001b[39m\u001b[38;5;124m\"\u001b[39m, \u001b[38;5;28;01mNone\u001b[39;00m)\n\u001b[0;32m    515\u001b[0m \u001b[38;5;66;03m# Get the response from http.client.HTTPConnection\u001b[39;00m\n\u001b[1;32m--> 516\u001b[0m httplib_response \u001b[38;5;241m=\u001b[39m \u001b[38;5;28;43msuper\u001b[39;49m\u001b[43m(\u001b[49m\u001b[43m)\u001b[49m\u001b[38;5;241;43m.\u001b[39;49m\u001b[43mgetresponse\u001b[49m\u001b[43m(\u001b[49m\u001b[43m)\u001b[49m\n\u001b[0;32m    518\u001b[0m \u001b[38;5;28;01mtry\u001b[39;00m:\n\u001b[0;32m    519\u001b[0m     assert_header_parsing(httplib_response\u001b[38;5;241m.\u001b[39mmsg)\n",
      "File \u001b[1;32m~\\AppData\\Local\\Programs\\Python\\Python310\\lib\\http\\client.py:1375\u001b[0m, in \u001b[0;36mHTTPConnection.getresponse\u001b[1;34m(self)\u001b[0m\n\u001b[0;32m   1373\u001b[0m \u001b[38;5;28;01mtry\u001b[39;00m:\n\u001b[0;32m   1374\u001b[0m     \u001b[38;5;28;01mtry\u001b[39;00m:\n\u001b[1;32m-> 1375\u001b[0m         \u001b[43mresponse\u001b[49m\u001b[38;5;241;43m.\u001b[39;49m\u001b[43mbegin\u001b[49m\u001b[43m(\u001b[49m\u001b[43m)\u001b[49m\n\u001b[0;32m   1376\u001b[0m     \u001b[38;5;28;01mexcept\u001b[39;00m \u001b[38;5;167;01mConnectionError\u001b[39;00m:\n\u001b[0;32m   1377\u001b[0m         \u001b[38;5;28mself\u001b[39m\u001b[38;5;241m.\u001b[39mclose()\n",
      "File \u001b[1;32m~\\AppData\\Local\\Programs\\Python\\Python310\\lib\\http\\client.py:318\u001b[0m, in \u001b[0;36mHTTPResponse.begin\u001b[1;34m(self)\u001b[0m\n\u001b[0;32m    316\u001b[0m \u001b[38;5;66;03m# read until we get a non-100 response\u001b[39;00m\n\u001b[0;32m    317\u001b[0m \u001b[38;5;28;01mwhile\u001b[39;00m \u001b[38;5;28;01mTrue\u001b[39;00m:\n\u001b[1;32m--> 318\u001b[0m     version, status, reason \u001b[38;5;241m=\u001b[39m \u001b[38;5;28;43mself\u001b[39;49m\u001b[38;5;241;43m.\u001b[39;49m\u001b[43m_read_status\u001b[49m\u001b[43m(\u001b[49m\u001b[43m)\u001b[49m\n\u001b[0;32m    319\u001b[0m     \u001b[38;5;28;01mif\u001b[39;00m status \u001b[38;5;241m!=\u001b[39m CONTINUE:\n\u001b[0;32m    320\u001b[0m         \u001b[38;5;28;01mbreak\u001b[39;00m\n",
      "File \u001b[1;32m~\\AppData\\Local\\Programs\\Python\\Python310\\lib\\http\\client.py:279\u001b[0m, in \u001b[0;36mHTTPResponse._read_status\u001b[1;34m(self)\u001b[0m\n\u001b[0;32m    278\u001b[0m \u001b[38;5;28;01mdef\u001b[39;00m\u001b[38;5;250m \u001b[39m\u001b[38;5;21m_read_status\u001b[39m(\u001b[38;5;28mself\u001b[39m):\n\u001b[1;32m--> 279\u001b[0m     line \u001b[38;5;241m=\u001b[39m \u001b[38;5;28mstr\u001b[39m(\u001b[38;5;28;43mself\u001b[39;49m\u001b[38;5;241;43m.\u001b[39;49m\u001b[43mfp\u001b[49m\u001b[38;5;241;43m.\u001b[39;49m\u001b[43mreadline\u001b[49m\u001b[43m(\u001b[49m\u001b[43m_MAXLINE\u001b[49m\u001b[43m \u001b[49m\u001b[38;5;241;43m+\u001b[39;49m\u001b[43m \u001b[49m\u001b[38;5;241;43m1\u001b[39;49m\u001b[43m)\u001b[49m, \u001b[38;5;124m\"\u001b[39m\u001b[38;5;124miso-8859-1\u001b[39m\u001b[38;5;124m\"\u001b[39m)\n\u001b[0;32m    280\u001b[0m     \u001b[38;5;28;01mif\u001b[39;00m \u001b[38;5;28mlen\u001b[39m(line) \u001b[38;5;241m>\u001b[39m _MAXLINE:\n\u001b[0;32m    281\u001b[0m         \u001b[38;5;28;01mraise\u001b[39;00m LineTooLong(\u001b[38;5;124m\"\u001b[39m\u001b[38;5;124mstatus line\u001b[39m\u001b[38;5;124m\"\u001b[39m)\n",
      "File \u001b[1;32m~\\AppData\\Local\\Programs\\Python\\Python310\\lib\\socket.py:705\u001b[0m, in \u001b[0;36mSocketIO.readinto\u001b[1;34m(self, b)\u001b[0m\n\u001b[0;32m    703\u001b[0m \u001b[38;5;28;01mwhile\u001b[39;00m \u001b[38;5;28;01mTrue\u001b[39;00m:\n\u001b[0;32m    704\u001b[0m     \u001b[38;5;28;01mtry\u001b[39;00m:\n\u001b[1;32m--> 705\u001b[0m         \u001b[38;5;28;01mreturn\u001b[39;00m \u001b[38;5;28;43mself\u001b[39;49m\u001b[38;5;241;43m.\u001b[39;49m\u001b[43m_sock\u001b[49m\u001b[38;5;241;43m.\u001b[39;49m\u001b[43mrecv_into\u001b[49m\u001b[43m(\u001b[49m\u001b[43mb\u001b[49m\u001b[43m)\u001b[49m\n\u001b[0;32m    706\u001b[0m     \u001b[38;5;28;01mexcept\u001b[39;00m timeout:\n\u001b[0;32m    707\u001b[0m         \u001b[38;5;28mself\u001b[39m\u001b[38;5;241m.\u001b[39m_timeout_occurred \u001b[38;5;241m=\u001b[39m \u001b[38;5;28;01mTrue\u001b[39;00m\n",
      "File \u001b[1;32m~\\AppData\\Local\\Programs\\Python\\Python310\\lib\\ssl.py:1274\u001b[0m, in \u001b[0;36mSSLSocket.recv_into\u001b[1;34m(self, buffer, nbytes, flags)\u001b[0m\n\u001b[0;32m   1270\u001b[0m     \u001b[38;5;28;01mif\u001b[39;00m flags \u001b[38;5;241m!=\u001b[39m \u001b[38;5;241m0\u001b[39m:\n\u001b[0;32m   1271\u001b[0m         \u001b[38;5;28;01mraise\u001b[39;00m \u001b[38;5;167;01mValueError\u001b[39;00m(\n\u001b[0;32m   1272\u001b[0m           \u001b[38;5;124m\"\u001b[39m\u001b[38;5;124mnon-zero flags not allowed in calls to recv_into() on \u001b[39m\u001b[38;5;132;01m%s\u001b[39;00m\u001b[38;5;124m\"\u001b[39m \u001b[38;5;241m%\u001b[39m\n\u001b[0;32m   1273\u001b[0m           \u001b[38;5;28mself\u001b[39m\u001b[38;5;241m.\u001b[39m\u001b[38;5;18m__class__\u001b[39m)\n\u001b[1;32m-> 1274\u001b[0m     \u001b[38;5;28;01mreturn\u001b[39;00m \u001b[38;5;28;43mself\u001b[39;49m\u001b[38;5;241;43m.\u001b[39;49m\u001b[43mread\u001b[49m\u001b[43m(\u001b[49m\u001b[43mnbytes\u001b[49m\u001b[43m,\u001b[49m\u001b[43m \u001b[49m\u001b[43mbuffer\u001b[49m\u001b[43m)\u001b[49m\n\u001b[0;32m   1275\u001b[0m \u001b[38;5;28;01melse\u001b[39;00m:\n\u001b[0;32m   1276\u001b[0m     \u001b[38;5;28;01mreturn\u001b[39;00m \u001b[38;5;28msuper\u001b[39m()\u001b[38;5;241m.\u001b[39mrecv_into(buffer, nbytes, flags)\n",
      "File \u001b[1;32m~\\AppData\\Local\\Programs\\Python\\Python310\\lib\\ssl.py:1130\u001b[0m, in \u001b[0;36mSSLSocket.read\u001b[1;34m(self, len, buffer)\u001b[0m\n\u001b[0;32m   1128\u001b[0m \u001b[38;5;28;01mtry\u001b[39;00m:\n\u001b[0;32m   1129\u001b[0m     \u001b[38;5;28;01mif\u001b[39;00m buffer \u001b[38;5;129;01mis\u001b[39;00m \u001b[38;5;129;01mnot\u001b[39;00m \u001b[38;5;28;01mNone\u001b[39;00m:\n\u001b[1;32m-> 1130\u001b[0m         \u001b[38;5;28;01mreturn\u001b[39;00m \u001b[38;5;28;43mself\u001b[39;49m\u001b[38;5;241;43m.\u001b[39;49m\u001b[43m_sslobj\u001b[49m\u001b[38;5;241;43m.\u001b[39;49m\u001b[43mread\u001b[49m\u001b[43m(\u001b[49m\u001b[38;5;28;43mlen\u001b[39;49m\u001b[43m,\u001b[49m\u001b[43m \u001b[49m\u001b[43mbuffer\u001b[49m\u001b[43m)\u001b[49m\n\u001b[0;32m   1131\u001b[0m     \u001b[38;5;28;01melse\u001b[39;00m:\n\u001b[0;32m   1132\u001b[0m         \u001b[38;5;28;01mreturn\u001b[39;00m \u001b[38;5;28mself\u001b[39m\u001b[38;5;241m.\u001b[39m_sslobj\u001b[38;5;241m.\u001b[39mread(\u001b[38;5;28mlen\u001b[39m)\n",
      "\u001b[1;31mKeyboardInterrupt\u001b[0m: "
     ]
    }
   ],
   "source": [
    "all_tracking_data = []\n",
    "\n",
    "for game_id in tqdm(game_ids, desc=\"Fetching Player Tracking Data\"):\n",
    "    try:\n",
    "        tracking_data = boxscoreplayertrackv2.BoxScorePlayerTrackV2(game_id=game_id)\n",
    "        df = tracking_data.get_data_frames()[0]  # Convert response to DataFrame\n",
    "        \n",
    "        all_tracking_data.append(df)\n",
    "\n",
    "        time.sleep(1)  # Sleep to avoid rate limits\n",
    "    except Exception as e:\n",
    "        print(f\"Error fetching Game ID {game_id}: {e}\")\n",
    "\n",
    "# Combine all data\n",
    "tracking_df = pd.concat(all_tracking_data, ignore_index=True)\n",
    "\n",
    "# Save to CSV\n",
    "tracking_df.to_csv(\"full_season_player_tracking.csv\", index=False)\n",
    "\n",
    "print(\"✅ Full season player tracking data saved!\")"
   ]
  },
  {
   "cell_type": "code",
   "execution_count": 6,
   "metadata": {},
   "outputs": [
    {
     "name": "stdout",
     "output_type": "stream",
     "text": [
      "Total Games in the Season: 1230\n"
     ]
    }
   ],
   "source": [
    "from nba_api.stats.endpoints import leaguegamefinder, boxscoreplayertrackv2\n",
    "import pandas as pd\n",
    "import time\n",
    "import os\n",
    "from tqdm import tqdm\n",
    "\n",
    "# Define season and file name for saving progress\n",
    "season = \"2023-24\"\n",
    "file_name = \"player_tracking_data.csv\"\n",
    "\n",
    "# Get the list of playoff games\n",
    "gamefinder = leaguegamefinder.LeagueGameFinder(\n",
    "    season_nullable=season,\n",
    "    season_type_nullable=\"Regular Season\",\n",
    "    league_id_nullable=\"00\"  # NBA league ID\n",
    ")\n",
    "games_df = gamefinder.get_data_frames()[0]\n",
    "game_ids = games_df[\"GAME_ID\"].unique().tolist()\n",
    "\n",
    "print(f\"Total Games in the Season: {len(game_ids)}\")\n",
    "\n",
    "# Load existing progress if file exists\n",
    "if os.path.exists(file_name):\n",
    "    existing_data = pd.read_csv(file_name)\n",
    "    completed_games = set(existing_data[\"GAME_ID\"].unique())\n",
    "else:\n",
    "    completed_games = set()\n",
    "\n",
    "# Iterate over game IDs while handling rate limits & resuming progress"
   ]
  },
  {
   "cell_type": "code",
   "execution_count": 7,
   "metadata": {},
   "outputs": [
    {
     "name": "stdout",
     "output_type": "stream",
     "text": [
      "1230\n"
     ]
    }
   ],
   "source": [
    "print(len(completed_games))"
   ]
  },
  {
   "cell_type": "code",
   "execution_count": null,
   "metadata": {},
   "outputs": [
    {
     "name": "stdout",
     "output_type": "stream",
     "text": [
      "['0022301196', '0022301188', '0022301192', '0022301187', '0022301190', '0022301195', '0022301200', '0022301197', '0022301189', '0022301194', '0022301193', '0022301199', '0022301186', '0022301191', '0022301198', '0022301171', '0022301183', '0022301182', '0022301184', '0022301177', '0022301179', '0022301176', '0022301175', '0022301178', '0022301173', '0022301180', '0022301172', '0022301181', '0022301185', '0022301174', '0022301166', '0022301167', '0022301170', '0022301168', '0022301169', '0022301159', '0022301160', '0022301158', '0022301162', '0022301165', '0022301163', '0022301164', '0022301161', '0022301156', '0022301153', '0022301146', '0022301157', '0022301148', '0022301144', '0022301154', '0022301147', '0022301152', '0022301149', '0022301145', '0022301151', '0022301155', '0022301150', '0022301140', '0022301142', '0022301136', '0022301143', '0022301141', '0022301134', '0022301135', '0022301132', '0022301139', '0022301138', '0022301137', '0022301131', '0022301133', '0022301130', '0022301129', '0022301127', '0022301128', '0022301115', '0022301097', '0022301121', '0022301122', '0022301125', '0022301116', '0022301117', '0022301123', '0022301118', '0022301126', '0022301120', '0022301119', '0022301112', '0022301113', '0022301111', '0022301114', '0022301124', '0022301106', '0022301104', '0022301108', '0022301102', '0022301110', '0022301103', '0022301105', '0022301107', '0022301109', '0022301100', '0022300589', '0022301094', '0022301098', '0022301099', '0022301096', '0022301093', '0022301095', '0022301101', '0022301092', '0022301090', '0022301091', '0022301088', '0022301087', '0022301089', '0022301081', '0022301086', '0022301078', '0022301082', '0022301079', '0022301084', '0022301085', '0022301077', '0022301083', '0022301080', '0022301075', '0022301076', '0022301074', '0022301064', '0022301062', '0022301073', '0022301065', '0022301072', '0022301071', '0022301063', '0022301067', '0022301068', '0022301069', '0022301066', '0022301070', '0022301061', '0022301060', '0022301057', '0022301050', '0022301048', '0022301055', '0022301056', '0022301054', '0022301051', '0022301053', '0022301049', '0022301058', '0022301059', '0022301052', '0022301044', '0022301046', '0022301047', '0022301045', '0022301038', '0022301041', '0022301033', '0022301037', '0022301035', '0022301039', '0022301034', '0022301042', '0022301036', '0022301040', '0022301043', '0022301030', '0022301027', '0022301032', '0022301028', '0022301031', '0022301029', '0022301023', '0022301021', '0022301024', '0022301025', '0022301020', '0022301026', '0022301019', '0022301022', '0022301013', '0022301011', '0022301014', '0022301017', '0022301015', '0022301016', '0022301018', '0022301012', '0022301007', '0022301008', '0022301010', '0022301004', '0022301006', '0022301009', '0022301005', '0022301001', '0022301003', '0022301000', '0022300999', '0022300996', '0022300998', '0022301002', '0022300997', '0022300992', '0022300991', '0022300994', '0022300995', '0022300993', '0022300989', '0022300983', '0022300985', '0022300988', '0022300987', '0022300984', '0022300990', '0022300986', '0022300982', '0022300981', '0022300979', '0022300980', '0022300977', '0022300976', '0022300978', '0022300969', '0022300971', '0022300973', '0022300967', '0022300972', '0022300974', '0022300970', '0022300975', '0022300968', '0022300964', '0022300965', '0022300963', '0022300962', '0022300966', '0022300961', '0022300959', '0022300955', '0022300957', '0022300960', '0022300956', '0022300958', '0022300953', '0022300948', '0022300947', '0022300949', '0022300952', '0022300950', '0022300954', '0022300951', '0022300946', '0022300939', '0022300942', '0022300943', '0022300940', '0022300944', '0022300941', '0022300945', '0022300934', '0022300935', '0022300933', '0022300937', '0022300936', '0022300938', '0022300925', '0022300924', '0022300926', '0022300932', '0022300927', '0022300931', '0022300929', '0022300928', '0022300930', '0022300920', '0022300922', '0022300918', '0022300917', '0022300919', '0022300923', '0022300921', '0022300913', '0022300911', '0022300915', '0022300912', '0022300914', '0022300910', '0022300916', '0022300909', '0022300903', '0022300906', '0022300907', '0022300905', '0022300904', '0022300902', '0022300908', '0022300897', '0022300900', '0022300901', '0022300899', '0022300895', '0022300894', '0022300898', '0022300896', '0022300889', '0022300893', '0022300892', '0022300886', '0022300890', '0022300891', '0022300885', '0022300887', '0022300888', '0022300879', '0022300884', '0022300881', '0022300883', '0022300880', '0022300882', '0022300877', '0022300874', '0022300878', '0022300876', '0022300872', '0022300871', '0022300875', '0022300873', '0022300866', '0022300870', '0022300867', '0022300869', '0022300868', '0022300864', '0022300860', '0022300857', '0022300858', '0022300859', '0022300863', '0022300862', '0022300861', '0022300865', '0022300852', '0022300853', '0022300850', '0022300849', '0022300856', '0022300854', '0022300851', '0022300855', '0022300846', '0022300844', '0022300847', '0022300843', '0022300848', '0022300845', '0022300840', '0022300834', '0022300837', '0022300841', '0022300839', '0022300842', '0022300832', '0022300838', '0022300833', '0022300835', '0022300836', '0022300829', '0022300830', '0022300828', '0022300831', '0022300824', '0022300817', '0022300822', '0022300823', '0022300818', '0022300825', '0022300827', '0022300820', '0022300819', '0022300826', '0022300821', '0022300816', '0022300814', '0022300815', '0022300804', '0022300806', '0022300809', '0022300807', '0022300813', '0022300805', '0022300808', '0022300812', '0022300810', '0022300811', '0022300803', '0022300796', '0022300794', '0022300802', '0022300801', '0022300799', '0022300798', '0022300800', '0022300797', '0022300792', '0022300795', '0022300793', '0022300791', '0022300576', '0022300790', '0022300783', '0022300782', '0022300789', '0022300788', '0022300780', '0022300781', '0022300787', '0022300779', '0022300777', '0022300784', '0022300778', '0022300786', '0022300785', '0022300775', '0022300776', '0022300773', '0022300774', '0022300771', '0022300772', '0022300764', '0022300763', '0022300766', '0022300767', '0022300761', '0022300768', '0022300762', '0022300769', '0022300765', '0022300770', '0022300760', '0022300759', '0022300753', '0022300750', '0022300756', '0022300749', '0022300751', '0022300755', '0022300757', '0022300758', '0022300752', '0022300748', '0022300754', '0022300747', '0022300746', '0022300744', '0022300743', '0022300745', '0022300742', '0022300741', '0022300733', '0022300735', '0022300738', '0022300734', '0022300737', '0022300736', '0022300739', '0022300740', '0022300728', '0022300727', '0022300732', '0022300729', '0022300731', '0022300730', '0022300726', '0022300724', '0022300725', '0022300720', '0022300721', '0022300719', '0022300722', '0022300723', '0022300715', '0022300713', '0022300717', '0022300714', '0022300716', '0022300718', '0022300705', '0022300706', '0022300709', '0022300711', '0022300710', '0022300704', '0022300708', '0022300707', '0022300712', '0022300699', '0022300702', '0022300700', '0022300698', '0022300701', '0022300703', '0022300697', '0022300690', '0022300695', '0022300694', '0022300696', '0022300688', '0022300689', '0022300691', '0022300693', '0022300692', '0022300684', '0022300685', '0022300687', '0022300686', '0022300679', '0022300677', '0022300678', '0022300680', '0022300674', '0022300675', '0022300683', '0022300681', '0022300682', '0022300676', '0022300671', '0022300670', '0022300672', '0022300673', '0022300669', '0022300663', '0022300664', '0022300661', '0022300659', '0022300658', '0022300660', '0022300657', '0022300668', '0022300662', '0022300665', '0022300666', '0022300667', '0022300652', '0022300656', '0022300654', '0022300653', '0022300655', '0022300645', '0022300651', '0022300642', '0022300644', '0022300650', '0022300646', '0022300649', '0022300643', '0022300647', '0022300648', '0022300637', '0022300641', '0022300638', '0022300636', '0022300640', '0022300639', '0022300634', '0022300635', '0022300633', '0022300630', '0022300632', '0022300629', '0022300627', '0022300628', '0022300631', '0022300621', '0022300622', '0022300619', '0022300626', '0022300625', '0022300624', '0022300623', '0022300620', '0022300615', '0022300618', '0022300617', '0022300614', '0022300616', '0022300607', '0022300611', '0022300606', '0022300609', '0022300610', '0022300613', '0022300612', '0022300608', '0022300603', '0022300602', '0022300601', '0022300604', '0022300605', '0022300600', '0022300593', '0022300596', '0022300595', '0022300599', '0022300594', '0022300592', '0022300597', '0022300598', '0022300590', '0022300591', '0022300585', '0022300584', '0022300587', '0022300588', '0022300586', '0022300579', '0022300583', '0022300582', '0022300580', '0022300581', '0022300577', '0022300570', '0022300574', '0022300569', '0022300572', '0022300573', '0022300578', '0022300571', '0022300575', '0022300566', '0022300567', '0022300568', '0022300555', '0022300561', '0022300562', '0022300564', '0022300557', '0022300559', '0022300556', '0022300560', '0022300565', '0022300563', '0022300558', '0022300553', '0022300551', '0022300550', '0022300554', '0022300552', '0022300547', '0022300549', '0022300543', '0022300544', '0022300548', '0022300546', '0022300542', '0022300545', '0022300538', '0022300535', '0022300532', '0022300539', '0022300533', '0022300534', '0022300540', '0022300536', '0022300537', '0022300541', '0022300530', '0022300529', '0022300531', '0022300527', '0022300528', '0022300526', '0022300518', '0022300520', '0022300525', '0022300522', '0022300521', '0022300517', '0022300519', '0022300524', '0022300523', '0022300514', '0022300512', '0022300516', '0022300513', '0022300515', '0022300509', '0022300506', '0022300508', '0022300507', '0022300510', '0022300511', '0022300501', '0022300500', '0022300497', '0022300502', '0022300498', '0022300503', '0022300499', '0022300505', '0022300504', '0022300496', '0022300493', '0022300495', '0022300494', '0022300490', '0022300488', '0022300487', '0022300489', '0022300492', '0022300483', '0022300481', '0022300479', '0022300480', '0022300484', '0022300485', '0022300486', '0022300482', '0022300491', '0022300477', '0022300478', '0022300465', '0022300476', '0022300471', '0022300469', '0022300466', '0022300474', '0022300467', '0022300475', '0022300470', '0022300468', '0022300472', '0022300473', '0022300461', '0022300460', '0022300463', '0022300464', '0022300459', '0022300462', '0022300458', '0022300454', '0022300457', '0022300453', '0022300451', '0022300456', '0022300455', '0022300452', '0022300447', '0022300446', '0022300445', '0022300448', '0022300449', '0022300450', '0022300441', '0022300439', '0022300442', '0022300443', '0022300440', '0022300444', '0022300436', '0022300433', '0022300432', '0022300431', '0022300429', '0022300437', '0022300434', '0022300438', '0022300435', '0022300430', '0022300423', '0022300428', '0022300421', '0022300426', '0022300422', '0022300425', '0022300427', '0022300424', '0022300418', '0022300419', '0022300417', '0022300420', '0022300416', '0022300415', '0022300408', '0022300410', '0022300412', '0022300407', '0022300413', '0022300409', '0022300406', '0022300414', '0022300411', '0022300402', '0022300403', '0022300401', '0022300405', '0022300404', '0022300390', '0022300388', '0022300398', '0022300392', '0022300399', '0022300394', '0022300391', '0022300397', '0022300395', '0022300393', '0022300389', '0022300396', '0022300400', '0022300387', '0022300385', '0022300382', '0022300386', '0022300383', '0022300384', '0022300381', '0022300378', '0022300379', '0022300377', '0022300374', '0022300375', '0022300380', '0022300376', '0022300370', '0022300371', '0022300368', '0022300373', '0022300366', '0022300364', '0022300367', '0022300365', '0022300369', '0022300372', '0022300362', '0022300363', '0022300360', '0022300361', '0022300358', '0022300359', '0022300355', '0022300354', '0022300349', '0022300350', '0022300352', '0022300353', '0022300357', '0022300351', '0022300356', '0022300346', '0022300348', '0022300345', '0022300347', '0022300344', '0022300341', '0022300342', '0022300337', '0022300339', '0022300336', '0022300338', '0022300340', '0022300335', '0022300334', '0022300343', '0022300328', '0022300326', '0022300331', '0022300332', '0022300329', '0022300333', '0022300330', '0022300327', '0022300324', '0022300321', '0022300320', '0022300319', '0022300323', '0022300322', '0022300325', '0022300316', '0022300310', '0022300314', '0022300311', '0022300313', '0022300315', '0022300318', '0022300312', '0022300317', '0022300306', '0022300309', '0022300307', '0022300305', '0022300308', '0022300299', '0022300303', '0022300301', '0022300295', '0022300292', '0022300293', '0022300300', '0022300296', '0022300297', '0022300304', '0022300298', '0022300294', '0022300302', '0022301218', '0022301219', '0022301217', '0022301226', '0022301228', '0022301227', '0022301222', '0022301216', '0022301224', '0022301223', '0022301225', '0022301221', '0022301220', '0022301230', '0022301229', '0022301207', '0022301212', '0022301215', '0022301205', '0022301214', '0022301208', '0022301211', '0022301209', '0022301206', '0022301213', '0022301210', '0022301203', '0022301201', '0022301204', '0022301202', '0022300288', '0022300282', '0022300287', '0022300290', '0022300283', '0022300281', '0022300289', '0022300286', '0022300285', '0022300280', '0022300284', '0022300291', '0022300276', '0022300275', '0022300277', '0022300278', '0022300279', '0022300274', '0022300270', '0022300265', '0022300273', '0022300272', '0022300269', '0022300266', '0022300268', '0022300267', '0022300271', '0022300259', '0022300263', '0022300261', '0022300258', '0022300264', '0022300260', '0022300262', '0022300056', '0022300060', '0022300057', '0022300059', '0022300058', '0022300054', '0022300053', '0022300055', '0022300254', '0022300253', '0022300256', '0022300255', '0022300257', '0022300247', '0022300246', '0022300249', '0022300245', '0022300251', '0022300248', '0022300252', '0022300250', '0022300241', '0022300244', '0022300242', '0022300243', '0022300239', '0022300240', '0022300051', '0022300048', '0022300046', '0022300047', '0022300052', '0022300049', '0022300050', '0022300045', '0022300043', '0022300044', '0022300226', '0022300232', '0022300238', '0022300230', '0022300229', '0022300225', '0022300234', '0022300237', '0022300228', '0022300227', '0022300235', '0022300231', '0022300233', '0022300236', '0022300038', '0022300040', '0022300041', '0022300039', '0022300042', '0022300218', '0022300217', '0022300220', '0022300224', '0022300222', '0022300221', '0022300219', '0022300223', '0022300216', '0022300212', '0022300214', '0022300215', '0022300208', '0022300209', '0022300210', '0022300213', '0022300211', '0022300206', '0022300207', '0022300204', '0022300205', '0022300203', '0022300202', '0022300037', '0022300030', '0022300034', '0022300029', '0022300032', '0022300027', '0022300035', '0022300036', '0022300028', '0022300031', '0022300033', '0022300200', '0022300201', '0022300192', '0022300197', '0022300194', '0022300199', '0022300193', '0022300196', '0022300195', '0022300198', '0022300022', '0022300021', '0022300018', '0022300024', '0022300019', '0022300026', '0022300017', '0022300023', '0022300020', '0022300025', '0022300191', '0022300188', '0022300189', '0022300190', '0022300180', '0022300185', '0022300184', '0022300181', '0022300182', '0022300178', '0022300187', '0022300177', '0022300183', '0022300186', '0022300179', '0022300173', '0022300174', '0022300176', '0022300175', '0022300015', '0022300008', '0022300014', '0022300012', '0022300011', '0022300010', '0022300016', '0022300013', '0022300009', '0022300172', '0022300171', '0022300159', '0022300162', '0022300166', '0022300163', '0022300157', '0022300161', '0022300160', '0022300167', '0022300168', '0022300169', '0022300158', '0022300165', '0022300164', '0022300170', '0022300150', '0022300153', '0022300147', '0022300154', '0022300151', '0022300146', '0022300152', '0022300148', '0022300156', '0022300145', '0022300149', '0022300155', '0022300143', '0022300142', '0022300141', '0022300140', '0022300144', '0022300138', '0022300137', '0022300135', '0022300139', '0022300132', '0022300134', '0022300133', '0022300136', '0022300005', '0022300001', '0022300007', '0022300002', '0022300004', '0022300006', '0022300003', '0022300131', '0022300130', '0022300128', '0022300129', '0022300116', '0022300117', '0022300119', '0022300127', '0022300115', '0022300118', '0022300125', '0022300121', '0022300124', '0022300120', '0022300122', '0022300123', '0022300126', '0022300112', '0022300113', '0022300114', '0022300104', '0022300103', '0022300106', '0022300105', '0022300108', '0022300111', '0022300107', '0022300101', '0022300109', '0022300110', '0022300102', '0022300096', '0022300097', '0022300099', '0022300098', '0022300100', '0022300095', '0022300088', '0022300090', '0022300089', '0022300093', '0022300094', '0022300091', '0022300092', '0022300087', '0022300084', '0022300085', '0022300083', '0022300081', '0022300086', '0022300082', '0022300079', '0022300078', '0022300077', '0022300080', '0022300076', '0022300075', '0022300067', '0022300070', '0022300072', '0022300065', '0022300066', '0022300074', '0022300073', '0022300071', '0022300063', '0022300068', '0022300064', '0022300069', '0022300061', '0022300062']\n"
     ]
    }
   ],
   "source": [
    "game_ids_int = [int(game_id) for game_id in game_ids]"
   ]
  },
  {
   "cell_type": "code",
   "execution_count": 13,
   "metadata": {},
   "outputs": [
    {
     "name": "stdout",
     "output_type": "stream",
     "text": [
      "{22300672, 22300673, 22300674, 22300675, 22300676, 22300677, 22300678, 22300679, 22300680, 22300681, 22300682, 22300683, 22300684, 22300685, 22300686, 22300687, 22300688, 22300689, 22300690, 22300691, 22300692, 22300693, 22300694, 22300695, 22300696, 22300697, 22300698, 22300699, 22300700, 22300701, 22300702, 22300703, 22300704, 22300705, 22300706, 22300707, 22300708, 22300709, 22300710, 22300711, 22300712, 22300713, 22300714, 22300715, 22300716, 22300717, 22300718, 22300719, 22300720, 22300721, 22300722, 22300723, 22300724, 22300725, 22300726, 22300727, 22300728, 22300729, 22300730, 22300731, 22300732, 22300733, 22300734, 22300735, 22300736, 22300737, 22300738, 22300739, 22300740, 22300741, 22300742, 22300743, 22300744, 22300745, 22300746, 22300747, 22300748, 22300749, 22300750, 22300751, 22300752, 22300753, 22300754, 22300755, 22300756, 22300757, 22300758, 22300759, 22300760, 22300761, 22300762, 22300763, 22300764, 22300765, 22300766, 22300767, 22300768, 22300769, 22300770, 22300771, 22300772, 22300773, 22300774, 22300775, 22300776, 22300777, 22300778, 22300779, 22300780, 22300781, 22300782, 22300783, 22300784, 22300785, 22300786, 22300787, 22300788, 22300789, 22300790, 22300791, 22300792, 22300793, 22300794, 22300795, 22300796, 22300797, 22300798, 22300799, 22300800, 22300801, 22300802, 22300803, 22300804, 22300805, 22300806, 22300807, 22300808, 22300809, 22300810, 22300811, 22300812, 22300813, 22300814, 22300815, 22300816, 22300817, 22300818, 22300819, 22300820, 22300821, 22300822, 22300823, 22300824, 22300825, 22300826, 22300827, 22300828, 22300829, 22300830, 22300831, 22300832, 22300833, 22300834, 22300835, 22300836, 22300837, 22300838, 22300839, 22300840, 22300841, 22300842, 22300843, 22300844, 22300845, 22300846, 22300847, 22300848, 22300849, 22300850, 22300851, 22300852, 22300853, 22300854, 22300855, 22300856, 22300857, 22300858, 22300859, 22300860, 22300861, 22300862, 22300863, 22300864, 22300865, 22300866, 22300867, 22300868, 22300869, 22300870, 22300871, 22300872, 22300873, 22300874, 22300875, 22300876, 22300877, 22300878, 22300879, 22300880, 22300881, 22300882, 22300883, 22300884, 22300885, 22300886, 22300887, 22300888, 22300889, 22300890, 22300891, 22300892, 22300893, 22300894, 22300895, 22300896, 22300897, 22300898, 22300899, 22300900, 22300901, 22300902, 22300903, 22300904, 22300905, 22300906, 22300907, 22300908, 22300909, 22300910, 22300911, 22300912, 22300913, 22300914, 22300915, 22300916, 22300917, 22300918, 22300919, 22300920, 22300921, 22300922, 22300923, 22300924, 22300925, 22300926, 22300927, 22300928, 22300929, 22300930, 22300931, 22300932, 22300933, 22300934, 22300935, 22300936, 22300937, 22300938, 22300939, 22300940, 22300941, 22300942, 22300943, 22300944, 22300945, 22300946, 22300947, 22300948, 22300949, 22300950, 22300951, 22300952, 22300953, 22300954, 22300955, 22300956, 22300957, 22300958, 22300959, 22300960, 22300961, 22300962, 22300963, 22300964, 22300965, 22300966, 22300967, 22300968, 22300969, 22300970, 22300971, 22300972, 22300973, 22300974, 22300975, 22300976, 22300977, 22300978, 22300979, 22300980, 22300981, 22300982, 22300983, 22300984, 22300985, 22300986, 22300987, 22300988, 22300989, 22300990, 22300991, 22300992, 22300993, 22300994, 22300995, 22300996, 22300997, 22300998, 22300999, 22301000, 22301001, 22301002, 22301003, 22301004, 22301005, 22301006, 22301007, 22301008, 22301009, 22301010, 22301011, 22301012, 22301013, 22301014, 22301015, 22301016, 22301017, 22301018, 22301019, 22301020, 22301021, 22301022, 22301023, 22301024, 22301025, 22301026, 22301027, 22301028, 22301029, 22301030, 22301031, 22301032, 22301033, 22301034, 22301035, 22301036, 22301037, 22301038, 22301039, 22301040, 22301041, 22301042, 22301043, 22301044, 22301045, 22301046, 22301047, 22301048, 22301049, 22301050, 22301051, 22301052, 22301053, 22301054, 22301055, 22301056, 22301057, 22301058, 22301059, 22301060, 22301061, 22301062, 22301063, 22301064, 22301065, 22301066, 22301067, 22301068, 22301069, 22301070, 22301071, 22301072, 22301073, 22301074, 22301075, 22301076, 22301077, 22301078, 22301079, 22301080, 22301081, 22301082, 22301083, 22301084, 22301085, 22301086, 22301087, 22301088, 22301089, 22301090, 22301091, 22301092, 22301093, 22301094, 22301095, 22301096, 22301097, 22301098, 22301099, 22301100, 22301101, 22301102, 22301103, 22301104, 22301105, 22301106, 22301107, 22301108, 22301109, 22301110, 22301111, 22301112, 22301113, 22301114, 22301115, 22301116, 22301117, 22301118, 22301119, 22301120, 22301121, 22301122, 22301123, 22301124, 22301125, 22301126, 22301127, 22301128, 22301129, 22301130, 22301131, 22301132, 22301133, 22301134, 22301135, 22301136, 22301137, 22301138, 22301139, 22301140, 22301141, 22301142, 22301143, 22301144, 22301145, 22301146, 22301147, 22301148, 22301149, 22301150, 22301151, 22301152, 22301153, 22301154, 22301155, 22301156, 22301157, 22301158, 22301159, 22301160, 22301161, 22301162, 22301163, 22301164, 22301165, 22301166, 22301167, 22301168, 22301169, 22301170, 22301171, 22301172, 22301173, 22301174, 22301175, 22301176, 22301177, 22301178, 22301179, 22301180, 22301181, 22301182, 22301183, 22301184, 22301185, 22301186, 22301187, 22301188, 22301189, 22301190, 22301191, 22301192, 22301193, 22301194, 22301195, 22301196, 22301197, 22301198, 22301199, 22301200, 22300576, 22300589, 22300600, 22300603, 22300604, 22300606, 22300607, 22300608, 22300609, 22300610, 22300611, 22300612, 22300613, 22300614, 22300615, 22300616, 22300617, 22300618, 22300619, 22300620, 22300621, 22300622, 22300623, 22300624, 22300625, 22300626, 22300627, 22300628, 22300629, 22300630, 22300631, 22300632, 22300633, 22300634, 22300635, 22300636, 22300637, 22300638, 22300639, 22300640, 22300641, 22300642, 22300643, 22300644, 22300645, 22300646, 22300647, 22300648, 22300649, 22300650, 22300651, 22300652, 22300653, 22300654, 22300655, 22300656, 22300657, 22300658, 22300659, 22300660, 22300661, 22300662, 22300663, 22300664, 22300665, 22300666, 22300667, 22300668, 22300669, 22300670, 22300671}\n"
     ]
    }
   ],
   "source": [
    "print(completed_games)"
   ]
  },
  {
   "cell_type": "code",
   "execution_count": 5,
   "metadata": {},
   "outputs": [
    {
     "name": "stderr",
     "output_type": "stream",
     "text": [
      "Fetching Player Tracking Data:   0%|          | 0/1230 [00:00<?, ?it/s]"
     ]
    },
    {
     "name": "stderr",
     "output_type": "stream",
     "text": [
      "Fetching Player Tracking Data: 100%|██████████| 1230/1230 [01:57<00:00, 10.45it/s] "
     ]
    },
    {
     "name": "stdout",
     "output_type": "stream",
     "text": [
      "✅ Player tracking data saved successfully!\n"
     ]
    },
    {
     "name": "stderr",
     "output_type": "stream",
     "text": [
      "\n"
     ]
    }
   ],
   "source": [
    "for game_id in tqdm(game_ids, desc=\"Fetching Player Tracking Data\"):\n",
    "    if int(game_id) in completed_games:\n",
    "        continue  # Skip if already processed\n",
    "\n",
    "    attempt = 0\n",
    "    while attempt < 5:  # Retry up to 5 times if API call fails\n",
    "        try:\n",
    "            tracking_data = boxscoreplayertrackv2.BoxScorePlayerTrackV2(game_id=game_id)\n",
    "            df = tracking_data.get_data_frames()[0]\n",
    "            df[\"GAME_ID\"] = game_id  # Ensure GAME_ID is included\n",
    "\n",
    "            # Append directly to the CSV file\n",
    "            df.to_csv(file_name, mode='a', header=not os.path.exists(file_name), index=False)\n",
    "\n",
    "            time.sleep(1.5)  # Avoid hitting rate limits\n",
    "            break  # Exit retry loop after success\n",
    "\n",
    "        except Exception as e:\n",
    "            attempt += 1\n",
    "            wait_time = 2 ** attempt  # Exponential backoff\n",
    "            print(f\"⚠️ Error fetching {game_id}, retrying in {wait_time}s... ({attempt}/5)\")\n",
    "            time.sleep(wait_time)\n",
    "\n",
    "print(\"✅ Player tracking data saved successfully!\")\n"
   ]
  },
  {
   "cell_type": "code",
   "execution_count": null,
   "metadata": {},
   "outputs": [
    {
     "name": "stderr",
     "output_type": "stream",
     "text": [
      "Fetching Team Lineup Data:   3%|▎         | 1/29 [00:19<09:07, 19.56s/it]"
     ]
    },
    {
     "name": "stdout",
     "output_type": "stream",
     "text": [
      "Error fetching Team ID 1610612737: ('Connection aborted.', RemoteDisconnected('Remote end closed connection without response'))\n"
     ]
    },
    {
     "name": "stderr",
     "output_type": "stream",
     "text": [
      "Fetching Team Lineup Data:   7%|▋         | 2/29 [00:49<11:39, 25.90s/it]"
     ]
    },
    {
     "name": "stdout",
     "output_type": "stream",
     "text": [
      "Error fetching Team ID 1610612738: HTTPSConnectionPool(host='stats.nba.com', port=443): Read timed out. (read timeout=30)\n"
     ]
    },
    {
     "name": "stderr",
     "output_type": "stream",
     "text": [
      "Fetching Team Lineup Data:  10%|█         | 3/29 [01:20<12:09, 28.07s/it]"
     ]
    },
    {
     "name": "stdout",
     "output_type": "stream",
     "text": [
      "Error fetching Team ID 1610612739: HTTPSConnectionPool(host='stats.nba.com', port=443): Read timed out. (read timeout=30)\n"
     ]
    }
   ],
   "source": [
    "from nba_api.stats.endpoints import teamdashlineups, leaguegamefinder\n",
    "import pandas as pd\n",
    "import time\n",
    "from tqdm import tqdm  # For progress bar\n",
    "\n",
    "# Fetch team lineup data for the full season\n",
    "season = \"2023-24\"  # Change to the required season\n",
    "\n",
    "all_team_data = []\n",
    "\n",
    "teams = [str(team_id) for team_id in range(1610612737, 1610612766)]  # NBA team IDs\n",
    "\n",
    "for team_id in tqdm(teams, desc=\"Fetching Team Lineup Data\"):\n",
    "    try:\n",
    "        lineup_data = teamdashlineups.TeamDashLineups(team_id=team_id, season=season)\n",
    "        df = lineup_data.get_data_frames()[0]  # Convert response to DataFrame\n",
    "\n",
    "        all_team_data.append(df)\n",
    "\n",
    "        time.sleep(1)  # Sleep to avoid rate limits\n",
    "    except Exception as e:\n",
    "        print(f\"Error fetching Team ID {team_id}: {e}\")\n",
    "\n",
    "# Combine all data\n",
    "lineup_df = pd.concat(all_team_data, ignore_index=True)\n",
    "\n",
    "# Save to CSV\n",
    "lineup_df.to_csv(\"team_lineups_season.csv\", index=False)"
   ]
  },
  {
   "cell_type": "code",
   "execution_count": null,
   "metadata": {},
   "outputs": [],
   "source": [
    "from nba_api.stats.endpoints import playbyplayv2\n",
    "\n",
    "pbp = playbyplayv2.PlayByPlayV2(game_id='0022100123')\n",
    "pbp_df = pbp.get_data_frames()[0]\n",
    "\n",
    "# Filter for substitution events\n",
    "subs = pbp_df[pbp_df['HOMEDESCRIPTION'].str.contains('SUB', na=False) | \n",
    "             pbp_df['VISITORDESCRIPTION'].str.contains('SUB', na=False)]"
   ]
  }
 ],
 "metadata": {
  "kernelspec": {
   "display_name": "taba",
   "language": "python",
   "name": "python3"
  },
  "language_info": {
   "codemirror_mode": {
    "name": "ipython",
    "version": 3
   },
   "file_extension": ".py",
   "mimetype": "text/x-python",
   "name": "python",
   "nbconvert_exporter": "python",
   "pygments_lexer": "ipython3",
   "version": "3.10.11"
  }
 },
 "nbformat": 4,
 "nbformat_minor": 2
}
