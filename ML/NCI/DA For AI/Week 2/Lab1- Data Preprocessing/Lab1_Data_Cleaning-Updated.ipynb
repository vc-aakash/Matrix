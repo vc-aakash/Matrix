{
 "cells": [
  {
   "cell_type": "code",
   "execution_count": 1,
   "metadata": {
    "colab": {
     "base_uri": "https://localhost:8080/"
    },
    "id": "L8LMOMX_xuAp",
    "outputId": "cb68766a-77a5-4dfd-8643-c4ac48e6d14c"
   },
   "outputs": [],
   "source": [
    "import pandas as pd\n",
    "import numpy as np\n",
    "import matplotlib.pyplot as plt\n",
    "import seaborn as sns\n",
    "from sklearn.model_selection import train_test_split\n",
    "from sklearn.linear_model import LinearRegression\n",
    "from sklearn.metrics import mean_squared_error, r2_score\n",
    "\n",
    "#use below if running in google collab\n",
    "#from google.colab import drive\n",
    "#drive.mount('/content/drive')"
   ]
  },
  {
   "cell_type": "code",
   "execution_count": 2,
   "metadata": {
    "id": "XFp2L0fC9wx5"
   },
   "outputs": [],
   "source": [
    "# Dataset Link :Card Payments Statistics (Central Bank of Ireland)\n",
    "# Download Link: https://opendata.centralbank.ie/dataset/card-payments/resource/a59de450-a461-4188-8bc6-1177c47237c8\n",
    "#file_path = \"/content/drive/MyDrive/card_payments.csv\"  # Replace with the downloaded dataset path (Use this if running in Google Collab)\n",
    "\n",
    "file_path = \"card_payments.csv\"  #Keep the data file in same folder\n",
    "\n",
    "data = pd.read_csv(file_path)"
   ]
  },
  {
   "cell_type": "code",
   "execution_count": 3,
   "metadata": {
    "colab": {
     "base_uri": "https://localhost:8080/"
    },
    "id": "yIct07Zn92lw",
    "outputId": "c0eed473-a98a-4a2e-8c25-ec354aa2faaf"
   },
   "outputs": [
    {
     "name": "stdout",
     "output_type": "stream",
     "text": [
      "Initial Dataset Overview:\n",
      "\n",
      "Shape of the dataset: (9801, 9)\n",
      "\n",
      "First five rows of the dataset:\n",
      "  Reporting date     Card Type            Category  \\\n",
      "0        2015-01           All  Gross Transactions   \n",
      "1        2015-01   Debit Cards  Gross Transactions   \n",
      "2        2015-01   Debit Cards  Gross Transactions   \n",
      "3        2015-01   Debit Cards  Gross Transactions   \n",
      "4        2015-01  Credit Cards  Gross Transactions   \n",
      "\n",
      "                                  Series Description Sector Sub-sector  \\\n",
      "0   Total New Spending during the Month on all Cards    NaN        NaN   \n",
      "1  Total New Spending during the Month on Debit C...    NaN        NaN   \n",
      "2                                   ATM Transactions    NaN        NaN   \n",
      "3                                   POS Transactions    NaN        NaN   \n",
      "4  Total New Spending during the Month on all Cre...    NaN        NaN   \n",
      "\n",
      "   ObservationType   Observation Scale    Value  \n",
      "0             Value     Euro Thousands  3934406  \n",
      "1             Value     Euro Thousands  3103099  \n",
      "2             Value     Euro Thousands  1268549  \n",
      "3             Value     Euro Thousands  1834550  \n",
      "4             Value     Euro Thousands   831307  \n",
      "\n",
      "Column data types:\n",
      "Reporting date        object\n",
      "Card Type             object\n",
      "Category              object\n",
      "Series Description    object\n",
      "Sector                object\n",
      "Sub-sector            object\n",
      " ObservationType      object\n",
      " Observation Scale    object\n",
      "Value                  int64\n",
      "dtype: object\n"
     ]
    }
   ],
   "source": [
    "# Step 1: Initial Data Inspection\n",
    "# Overview of the dataset: This step helps us understand the dataset size, structure, and content.\n",
    "print(\"Initial Dataset Overview:\\n\")\n",
    "print(\"Shape of the dataset:\", data.shape)  # Provides the dimensions of the dataset\n",
    "print(\"\\nFirst five rows of the dataset:\")\n",
    "print(data.head())  # Displays the first few records for a quick glance\n",
    "\n",
    "print(\"\\nColumn data types:\")\n",
    "print(data.dtypes)  # Shows the types of data in each column to identify numerical/categorical columns"
   ]
  },
  {
   "cell_type": "code",
   "execution_count": 4,
   "metadata": {
    "colab": {
     "base_uri": "https://localhost:8080/"
    },
    "id": "B80gm2Kg972D",
    "outputId": "87795e72-5566-41e4-f1c4-c8a768f04345"
   },
   "outputs": [
    {
     "name": "stdout",
     "output_type": "stream",
     "text": [
      "\n",
      "Missing values count:\n",
      "Reporting date           0\n",
      "Card Type                0\n",
      "Category                 0\n",
      "Series Description       0\n",
      "Sector                3960\n",
      "Sub-sector            3960\n",
      " ObservationType         0\n",
      " Observation Scale       0\n",
      "Value                    0\n",
      "dtype: int64\n"
     ]
    }
   ],
   "source": [
    "# Checking for missing values\n",
    "print(\"\\nMissing values count:\")\n",
    "print(data.isnull().sum())  # Counts missing values in each column to identify incomplete data"
   ]
  },
  {
   "cell_type": "code",
   "execution_count": 5,
   "metadata": {
    "colab": {
     "base_uri": "https://localhost:8080/"
    },
    "id": "LYiFBNSh98CW",
    "outputId": "2dbeb1c6-99dd-47a3-a840-a14e4c1b832a"
   },
   "outputs": [
    {
     "name": "stdout",
     "output_type": "stream",
     "text": [
      "\n",
      "Dropped irrelevant columns.\n"
     ]
    }
   ],
   "source": [
    "# Step 2: Dropping Irrelevant Columns\n",
    "# Dropping columns that are not useful for analysis/modeling (e.g., ID fields or redundant columns)\n",
    "drop_columns = ['Transaction_Type', 'Card_Type']  # Example irrelevant columns\n",
    "data.drop(columns=drop_columns, inplace=True, errors='ignore')\n",
    "print(\"\\nDropped irrelevant columns.\")"
   ]
  },
  {
   "cell_type": "code",
   "execution_count": 6,
   "metadata": {
    "colab": {
     "base_uri": "https://localhost:8080/"
    },
    "id": "T96coAxC-GW3",
    "outputId": "178b6725-bb32-499d-c011-6ee1a7f2e4b8"
   },
   "outputs": [
    {
     "name": "stdout",
     "output_type": "stream",
     "text": [
      "\n",
      "Missing Data Handling:\n",
      "Rows with more than 50% missing data dropped.\n",
      "New Shape: (9801, 9)\n"
     ]
    }
   ],
   "source": [
    "# Step 3: Handling Missing Data\n",
    "print(\"\\nMissing Data Handling:\")\n",
    "\n",
    "# Dropping rows with more than 50% missing values\n",
    "# Rows with excessive missing values often carry insufficient information\n",
    "threshold = len(data.columns) * 0.5\n",
    "data = data.dropna(thresh=threshold, axis=0)\n",
    "print(\"Rows with more than 50% missing data dropped.\\nNew Shape:\", data.shape)"
   ]
  },
  {
   "cell_type": "code",
   "execution_count": 7,
   "metadata": {
    "id": "b2drGIcY-Gae"
   },
   "outputs": [],
   "source": [
    "# Imputing missing values for numerical columns with median\n",
    "# Median is robust to outliers and provides a central tendency measure\n",
    "for col in data.select_dtypes(include=np.number).columns:\n",
    "    if data[col].isnull().sum() > 0:\n",
    "        data[col].fillna(data[col].median(), inplace=True)\n",
    "        print(f\"Missing values in '{col}' filled with median.\")"
   ]
  },
  {
   "cell_type": "code",
   "execution_count": 8,
   "metadata": {
    "id": "-uiwLo8b-Gsc"
   },
   "outputs": [
    {
     "name": "stdout",
     "output_type": "stream",
     "text": [
      "Missing values in 'Sector' filled with mode.\n",
      "Missing values in 'Sub-sector' filled with mode.\n"
     ]
    }
   ],
   "source": [
    "# Imputing missing values for categorical columns with mode\n",
    "# Mode is commonly used for categorical data to maintain consistency\n",
    "for col in data.select_dtypes(include='object').columns:\n",
    "    if data[col].isnull().sum() > 0:\n",
    "        data[col].fillna(data[col].mode()[0], inplace=True)\n",
    "        print(f\"Missing values in '{col}' filled with mode.\")"
   ]
  },
  {
   "cell_type": "code",
   "execution_count": 9,
   "metadata": {
    "colab": {
     "base_uri": "https://localhost:8080/"
    },
    "id": "Rgnv3UaL-ZLU",
    "outputId": "15fdd8eb-3d61-4859-f7ba-003c871654d3"
   },
   "outputs": [
    {
     "name": "stdout",
     "output_type": "stream",
     "text": [
      "\n",
      "Removed duplicates, if any. New Shape: (9801, 9)\n"
     ]
    }
   ],
   "source": [
    "# Step 4: Handling Duplicates\n",
    "# Duplicate rows can lead to biased results in analysis or modeling\n",
    "data.drop_duplicates(inplace=True)\n",
    "print(\"\\nRemoved duplicates, if any. New Shape:\", data.shape)"
   ]
  },
  {
   "cell_type": "code",
   "execution_count": 1,
   "metadata": {
    "colab": {
     "base_uri": "https://localhost:8080/"
    },
    "id": "pPc5zshD-ZPc",
    "outputId": "4aa644ae-210a-4d08-8f5d-09de8bfa4a57"
   },
   "outputs": [
    {
     "name": "stdout",
     "output_type": "stream",
     "text": [
      "\n",
      "Outlier Detection and Treatment:\n"
     ]
    },
    {
     "ename": "NameError",
     "evalue": "name 'data' is not defined",
     "output_type": "error",
     "traceback": [
      "\u001b[1;31m---------------------------------------------------------------------------\u001b[0m",
      "\u001b[1;31mNameError\u001b[0m                                 Traceback (most recent call last)",
      "Cell \u001b[1;32mIn[1], line 6\u001b[0m\n\u001b[0;32m      2\u001b[0m \u001b[38;5;28mprint\u001b[39m(\u001b[38;5;124m\"\u001b[39m\u001b[38;5;130;01m\\n\u001b[39;00m\u001b[38;5;124mOutlier Detection and Treatment:\u001b[39m\u001b[38;5;124m\"\u001b[39m)\n\u001b[0;32m      4\u001b[0m \u001b[38;5;66;03m# Using IQR to detect and remove outliers\u001b[39;00m\n\u001b[0;32m      5\u001b[0m \u001b[38;5;66;03m# IQR is effective for identifying extreme values in numerical data\u001b[39;00m\n\u001b[1;32m----> 6\u001b[0m \u001b[38;5;28;01mfor\u001b[39;00m col \u001b[38;5;129;01min\u001b[39;00m \u001b[43mdata\u001b[49m\u001b[38;5;241m.\u001b[39mselect_dtypes(include\u001b[38;5;241m=\u001b[39mnp\u001b[38;5;241m.\u001b[39mnumber)\u001b[38;5;241m.\u001b[39mcolumns:\n\u001b[0;32m      7\u001b[0m     Q1 \u001b[38;5;241m=\u001b[39m data[col]\u001b[38;5;241m.\u001b[39mquantile(\u001b[38;5;241m0.25\u001b[39m)\n\u001b[0;32m      8\u001b[0m     Q3 \u001b[38;5;241m=\u001b[39m data[col]\u001b[38;5;241m.\u001b[39mquantile(\u001b[38;5;241m0.75\u001b[39m)\n",
      "\u001b[1;31mNameError\u001b[0m: name 'data' is not defined"
     ]
    }
   ],
   "source": [
    "# Step 5: Outlier Detection and Treatment\n",
    "print(\"\\nOutlier Detection and Treatment:\")\n",
    "\n",
    "# Using IQR to detect and remove outliers\n",
    "# IQR is effective for identifying extreme values in numerical data\n",
    "for col in data.select_dtypes(include=np.number).columns:\n",
    "    Q1 = data[col].quantile(0.25)\n",
    "    Q3 = data[col].quantile(0.75)\n",
    "    IQR = Q3 - Q1\n",
    "    lower_bound = Q1 - 1.5 * IQR\n",
    "    upper_bound = Q3 + 1.5 * IQR\n",
    "    outliers = data[(data[col] < lower_bound) | (data[col] > upper_bound)]\n",
    "    print(outliers)\n",
    "    if not outliers.empty:\n",
    "        print(f\"{len(outliers)} outliers detected in '{col}'.\")\n",
    "        # Removing outliers\n",
    "        data = data[(data[col] >= lower_bound) & (data[col] <= upper_bound)]\n",
    "        print(f\"Outliers in '{col}' removed. New Shape: {data.shape}\")"
   ]
  },
  {
   "cell_type": "code",
   "execution_count": 11,
   "metadata": {
    "colab": {
     "base_uri": "https://localhost:8080/"
    },
    "id": "ysun_5tF-ZR4",
    "outputId": "8e50214d-83ea-425a-a939-4523c896b93e"
   },
   "outputs": [
    {
     "name": "stdout",
     "output_type": "stream",
     "text": [
      "\n",
      "Categorical variables encoded using one-hot encoding.\n"
     ]
    }
   ],
   "source": [
    "# Step 6: Encoding Categorical Variables\n",
    "# Transforming categorical variables into numerical representations for modeling\n",
    "# One-Hot Encoding is used here to avoid ordinal assumptions\n",
    "categorical_columns = data.select_dtypes(include='object').columns\n",
    "data = pd.get_dummies(data, columns=categorical_columns, drop_first=True)\n",
    "print(\"\\nCategorical variables encoded using one-hot encoding.\")"
   ]
  },
  {
   "cell_type": "code",
   "execution_count": 12,
   "metadata": {
    "colab": {
     "base_uri": "https://localhost:8080/"
    },
    "id": "yms3Tveu-nRI",
    "outputId": "0810b5d5-6306-4d6b-89bd-6e172e3f8476"
   },
   "outputs": [
    {
     "name": "stdout",
     "output_type": "stream",
     "text": [
      "\n",
      "Numerical features normalized.\n"
     ]
    }
   ],
   "source": [
    "# Step 7: Normalizing Numerical Features\n",
    "# Scaling ensures numerical columns are on a similar scale, improving model performance\n",
    "from sklearn.preprocessing import StandardScaler\n",
    "numerical_columns = data.select_dtypes(include=np.number).columns\n",
    "scaler = StandardScaler()\n",
    "data[numerical_columns] = scaler.fit_transform(data[numerical_columns])\n",
    "print(\"\\nNumerical features normalized.\")"
   ]
  },
  {
   "cell_type": "code",
   "execution_count": 13,
   "metadata": {
    "colab": {
     "base_uri": "https://localhost:8080/"
    },
    "id": "CeStyoiX-nT6",
    "outputId": "173ad1d2-8c80-443d-bdda-3e86c0694f9d"
   },
   "outputs": [
    {
     "name": "stdout",
     "output_type": "stream",
     "text": [
      "Cleaned data saved at: cleaned_card_payments.csv\n"
     ]
    }
   ],
   "source": [
    "# Step 8: Saving Cleaned Data\n",
    "# Saving the cleaned dataset for future use\n",
    "cleaned_file_path = \"cleaned_card_payments.csv\"  # Replace with your local path\n",
    "data.to_csv(cleaned_file_path, index=False)\n",
    "print(f\"Cleaned data saved at: {cleaned_file_path}\")"
   ]
  },
  {
   "cell_type": "code",
   "execution_count": 14,
   "metadata": {
    "id": "0ObYSnjn-nXO"
   },
   "outputs": [],
   "source": [
    "# Step 9: Building a Model to Compare Before and After Cleaning\n",
    "# Splitting data for modeling\n",
    "# 'Amount' column is assumed as the target variable for illustration\n",
    "X = data.drop('Amount', axis=1, errors='ignore')\n",
    "Y = data['Amount'] if 'Amount' in data.columns else np.zeros(len(data))"
   ]
  },
  {
   "cell_type": "code",
   "execution_count": 15,
   "metadata": {
    "colab": {
     "base_uri": "https://localhost:8080/",
     "height": 633
    },
    "id": "NHz2Pk65z9-W",
    "outputId": "9244a32d-1ba5-477d-8b06-65a740653fff"
   },
   "outputs": [
    {
     "name": "stdout",
     "output_type": "stream",
     "text": [
      "\n",
      "Model Evaluation:\n",
      "Mean Squared Error: 0.0\n",
      "R-squared: 1.0\n"
     ]
    },
    {
     "data": {
      "image/png": "[encoded data removed]",
      "text/plain": [
       "<Figure size 720x432 with 1 Axes>"
      ]
     },
     "metadata": {
      "needs_background": "light"
     },
     "output_type": "display_data"
    }
   ],
   "source": [
    "# Train-Test Split\n",
    "# Separating data into training and testing sets to evaluate model performance\n",
    "X_train, X_test, Y_train, Y_test = train_test_split(X, Y, test_size=0.2, random_state=42)\n",
    "\n",
    "# Building a Simple Model\n",
    "# Linear Regression is chosen for its simplicity and interpretability\n",
    "model = LinearRegression()\n",
    "model.fit(X_train, Y_train)\n",
    "\n",
    "# Predictions\n",
    "Y_pred = model.predict(X_test)\n",
    "\n",
    "# Evaluating the Model\n",
    "# Using Mean Squared Error (MSE) and R-squared (R2) to assess model performance\n",
    "mse = mean_squared_error(Y_test, Y_pred)\n",
    "r2 = r2_score(Y_test, Y_pred)\n",
    "print(\"\\nModel Evaluation:\")\n",
    "print(f\"Mean Squared Error: {mse}\")\n",
    "print(f\"R-squared: {r2}\")\n",
    "\n",
    "# Visualizing the Predictions vs Actual\n",
    "# Scatter plot to visually compare actual vs predicted values\n",
    "plt.figure(figsize=(10, 6))\n",
    "plt.scatter(Y_test, Y_pred, alpha=0.7, color='blue')\n",
    "plt.plot([Y_test.min(), Y_test.max()], [Y_test.min(), Y_test.max()], color='red', linestyle='--')\n",
    "plt.title(\"Predictions vs Actual Values\")\n",
    "plt.xlabel(\"Actual Values\")\n",
    "plt.ylabel(\"Predicted Values\")\n",
    "plt.show()\n"
   ]
  },
  {
   "cell_type": "code",
   "execution_count": 16,
   "metadata": {
    "colab": {
     "base_uri": "https://localhost:8080/"
    },
    "id": "B7xb9bjGGqQx",
    "outputId": "72fddaf5-f0af-4bb5-f718-c313a2c1383b"
   },
   "outputs": [
    {
     "name": "stdout",
     "output_type": "stream",
     "text": [
      "\n",
      "Comparison of Uncleaned vs Cleaned Data:\n",
      "Original Data Shape: (9801, 9)\n",
      "Cleaned Data Shape: (8595, 152)\n",
      "\n",
      "Original Data Summary:\n",
      "       Reporting date     Card Type            Category  \\\n",
      "count            9801          9801                9801   \n",
      "unique             99             3                   3   \n",
      "top           2015-01  Credit Cards  Gross Transactions   \n",
      "freq               99          4950                8316   \n",
      "mean              NaN           NaN                 NaN   \n",
      "std               NaN           NaN                 NaN   \n",
      "min               NaN           NaN                 NaN   \n",
      "25%               NaN           NaN                 NaN   \n",
      "50%               NaN           NaN                 NaN   \n",
      "75%               NaN           NaN                 NaN   \n",
      "max               NaN           NaN                 NaN   \n",
      "\n",
      "                                Series Description    Sector Sub-sector  \\\n",
      "count                                         9801      5841       5841   \n",
      "unique                                          38         4         14   \n",
      "top     Sectoral Spending on Personal Credit Cards  Services      Total   \n",
      "freq                                          1584      2475       1584   \n",
      "mean                                           NaN       NaN        NaN   \n",
      "std                                            NaN       NaN        NaN   \n",
      "min                                            NaN       NaN        NaN   \n",
      "25%                                            NaN       NaN        NaN   \n",
      "50%                                            NaN       NaN        NaN   \n",
      "75%                                            NaN       NaN        NaN   \n",
      "max                                            NaN       NaN        NaN   \n",
      "\n",
      "        ObservationType   Observation Scale         Value  \n",
      "count               9801               9801  9.801000e+03  \n",
      "unique                 2                  2           NaN  \n",
      "top                Value     Euro Thousands           NaN  \n",
      "freq                7623               7623           NaN  \n",
      "mean                 NaN                NaN  3.838098e+06  \n",
      "std                  NaN                NaN  1.737614e+07  \n",
      "min                  NaN                NaN -1.104000e+03  \n",
      "25%                  NaN                NaN  6.116100e+04  \n",
      "50%                  NaN                NaN  2.054630e+05  \n",
      "75%                  NaN                NaN  9.581120e+05  \n",
      "max                  NaN                NaN  1.732273e+08  \n",
      "\n",
      "Cleaned Data Summary:\n",
      "              Value  Reporting date_2015-02  Reporting date_2015-03  \\\n",
      "count  8.595000e+03            8.595000e+03            8.595000e+03   \n",
      "mean  -3.352757e-16           -8.910492e-16           -5.636852e-16   \n",
      "std    1.000058e+00            1.000058e+00            1.000058e+00   \n",
      "min   -7.643655e-01           -1.022898e-01           -1.022898e-01   \n",
      "25%   -6.645983e-01           -1.022898e-01           -1.022898e-01   \n",
      "50%   -4.420901e-01           -1.022898e-01           -1.022898e-01   \n",
      "75%    1.234397e-01           -1.022898e-01           -1.022898e-01   \n",
      "max    3.842176e+00            9.776146e+00            9.776146e+00   \n",
      "\n",
      "       Reporting date_2015-04  Reporting date_2015-05  Reporting date_2015-06  \\\n",
      "count            8.595000e+03            8.595000e+03            8.595000e+03   \n",
      "mean            -2.263880e-16            1.009760e-16            4.283530e-16   \n",
      "std              1.000058e+00            1.000058e+00            1.000058e+00   \n",
      "min             -1.022898e-01           -1.022898e-01           -1.022898e-01   \n",
      "25%             -1.022898e-01           -1.022898e-01           -1.022898e-01   \n",
      "50%             -1.022898e-01           -1.022898e-01           -1.022898e-01   \n",
      "75%             -1.022898e-01           -1.022898e-01           -1.022898e-01   \n",
      "max              9.776146e+00            9.776146e+00            9.776146e+00   \n",
      "\n",
      "       Reporting date_2015-07  Reporting date_2015-08  Reporting date_2015-09  \\\n",
      "count            8.595000e+03            8.595000e+03            8.595000e+03   \n",
      "mean             7.656373e-16            1.106241e-15            1.443506e-15   \n",
      "std              1.000058e+00            1.000058e+00            1.000058e+00   \n",
      "min             -1.022898e-01           -1.022898e-01           -1.022898e-01   \n",
      "25%             -1.022898e-01           -1.022898e-01           -1.022898e-01   \n",
      "50%             -1.022898e-01           -1.022898e-01           -1.022898e-01   \n",
      "75%             -1.022898e-01           -1.022898e-01           -1.022898e-01   \n",
      "max              9.776146e+00            9.776146e+00            9.776146e+00   \n",
      "\n",
      "       Reporting date_2015-10  ...  Sub-sector_Groceries/\\nPerishables  \\\n",
      "count            8.595000e+03  ...                        8.595000e+03   \n",
      "mean             1.772550e-15  ...                        3.811966e-15   \n",
      "std              1.000058e+00  ...                        1.000058e+00   \n",
      "min             -1.022898e-01  ...                       -1.891871e-01   \n",
      "25%             -1.022898e-01  ...                       -1.891871e-01   \n",
      "50%             -1.022898e-01  ...                       -1.891871e-01   \n",
      "75%             -1.022898e-01  ...                       -1.891871e-01   \n",
      "max              9.776146e+00  ...                        5.285773e+00   \n",
      "\n",
      "       Sub-sector_Hardware  Sub-sector_Health  \\\n",
      "count         8.595000e+03       8.595000e+03   \n",
      "mean          3.805352e-15       3.805352e-15   \n",
      "std           1.000058e+00       1.000058e+00   \n",
      "min          -1.891871e-01      -1.891871e-01   \n",
      "25%          -1.891871e-01      -1.891871e-01   \n",
      "50%          -1.891871e-01      -1.891871e-01   \n",
      "75%          -1.891871e-01      -1.891871e-01   \n",
      "max           5.285773e+00       5.285773e+00   \n",
      "\n",
      "       Sub-sector_Professional Services  Sub-sector_Restaurants/\\nDining  \\\n",
      "count                      8.595000e+03                     8.595000e+03   \n",
      "mean                       2.771224e-15                     2.771224e-15   \n",
      "std                        1.000058e+00                     1.000058e+00   \n",
      "min                       -2.197694e-01                    -2.197694e-01   \n",
      "25%                       -2.197694e-01                    -2.197694e-01   \n",
      "50%                       -2.197694e-01                    -2.197694e-01   \n",
      "75%                       -2.197694e-01                    -2.197694e-01   \n",
      "max                        4.550225e+00                     4.550225e+00   \n",
      "\n",
      "       Sub-sector_Total  Sub-sector_Transport  Sub-sector_Utilities  \\\n",
      "count      8.595000e+03          8.595000e+03          8.595000e+03   \n",
      "mean       1.140167e-14          2.771224e-15          3.811966e-15   \n",
      "std        1.000058e+00          1.000058e+00          1.000058e+00   \n",
      "min       -1.009469e+00         -2.197694e-01         -1.891871e-01   \n",
      "25%       -1.009469e+00         -2.197694e-01         -1.891871e-01   \n",
      "50%        9.906199e-01         -2.197694e-01         -1.891871e-01   \n",
      "75%        9.906199e-01         -2.197694e-01         -1.891871e-01   \n",
      "max        9.906199e-01          4.550225e+00          5.285773e+00   \n",
      "\n",
      "        ObservationType _Value   Observation Scale_Number Units  \n",
      "count             8.595000e+03                     8.595000e+03  \n",
      "mean             -9.592430e-15                     9.592430e-15  \n",
      "std               1.000058e+00                     1.000058e+00  \n",
      "min              -2.280636e+00                    -4.384743e-01  \n",
      "25%               4.384743e-01                    -4.384743e-01  \n",
      "50%               4.384743e-01                    -4.384743e-01  \n",
      "75%               4.384743e-01                    -4.384743e-01  \n",
      "max               4.384743e-01                     2.280636e+00  \n",
      "\n",
      "[8 rows x 152 columns]\n"
     ]
    }
   ],
   "source": [
    "# Step 10: Comparing Uncleaned and Cleaned Data\n",
    "# Re-load original dataset for comparison\n",
    "original_data = pd.read_csv(file_path)\n",
    "\n",
    "print(\"\\nComparison of Uncleaned vs Cleaned Data:\")\n",
    "print(\"Original Data Shape:\", original_data.shape)\n",
    "print(\"Cleaned Data Shape:\", data.shape)\n",
    "\n",
    "# Summary Statistics Before Cleaning\n",
    "print(\"\\nOriginal Data Summary:\")\n",
    "print(original_data.describe(include='all'))\n",
    "\n",
    "# Summary Statistics After Cleaning\n",
    "print(\"\\nCleaned Data Summary:\")\n",
    "print(data.describe(include='all'))"
   ]
  },
  {
   "cell_type": "code",
   "execution_count": 17,
   "metadata": {
    "id": "Zz1DapGD9qRJ"
   },
   "outputs": [
    {
     "name": "stdout",
     "output_type": "stream",
     "text": [
      "The dataset does not contain the 'Amount' column for the use case demonstration.\n"
     ]
    }
   ],
   "source": [
    "# Step 11: Use Case Demonstration - Predicting Total Amount Based on Features\n",
    "# Description: This use case focuses on predicting the total transaction amount (Amount) using relevant features\n",
    "if 'Amount' in data.columns:\n",
    "    print(\"\\nDemonstrating a relevant use case with the cleaned data:\")\n",
    "    print(\"Goal: Predict the transaction Amount using the cleaned features.\")\n",
    "\n",
    "    # Splitting the cleaned data into training and test sets\n",
    "    X_use_case = data.drop('Amount', axis=1)\n",
    "    Y_use_case = data['Amount']\n",
    "    X_train_uc, X_test_uc, Y_train_uc, Y_test_uc = train_test_split(X_use_case, Y_use_case, test_size=0.2, random_state=42)\n",
    "\n",
    "    # Model training and prediction\n",
    "    use_case_model = LinearRegression()\n",
    "    use_case_model.fit(X_train_uc, Y_train_uc)\n",
    "    Y_pred_uc = use_case_model.predict(X_test_uc)\n",
    "\n",
    "    # Evaluating the model for the use case\n",
    "    mse_uc = mean_squared_error(Y_test_uc, Y_pred_uc)\n",
    "    r2_uc = r2_score(Y_test_uc, Y_pred_uc)\n",
    "\n",
    "    print(f\"\\nUse Case Model Evaluation:\")\n",
    "    print(f\"Mean Squared Error: {mse_uc}\")\n",
    "    print(f\"R-squared: {r2_uc}\")\n",
    "\n",
    "    # Visualization for the use case\n",
    "    plt.figure(figsize=(10, 6))\n",
    "    plt.scatter(Y_test_uc, Y_pred_uc, alpha=0.7, color='green')\n",
    "    plt.plot([Y_test_uc.min(), Y_test_uc.max()], [Y_test_uc.min(), Y_test_uc.max()], color='red', linestyle='--')\n",
    "    plt.title(\"Use Case: Predictions vs Actual Values\")\n",
    "    plt.xlabel(\"Actual Values\")\n",
    "    plt.ylabel(\"Predicted Values\")\n",
    "    plt.show()\n",
    "else:\n",
    "    print(\"The dataset does not contain the 'Amount' column for the use case demonstration.\")"
   ]
  },
  {
   "cell_type": "code",
   "execution_count": null,
   "metadata": {
    "id": "8O5aTcCc1KrV"
   },
   "outputs": [],
   "source": []
  },
  {
   "cell_type": "markdown",
   "metadata": {
    "id": "4pNtoy8JHdLd"
   },
   "source": []
  },
  {
   "cell_type": "markdown",
   "metadata": {
    "id": "18072Zl8HZPe"
   },
   "source": [
    "This code performs data cleaning and preprocessing on a card payment dataset, followed by model building and evaluation.  Here's a breakdown:\n",
    "\n",
    "1. **Data Loading and Inspection:** Loads the dataset, checks its shape, displays initial rows, data types, and counts missing values.\n",
    "\n",
    "2. **Data Cleaning:**\n",
    "    * Drops irrelevant columns.\n",
    "    * Handles missing values by removing rows with too many missing values and imputing the rest using median (numerical) and mode (categorical).\n",
    "    * Removes duplicate rows.\n",
    "    * Detects and removes outliers using the Interquartile Range (IQR) method.\n",
    "\n",
    "3. **Feature Engineering:**\n",
    "    * Encodes categorical variables using one-hot encoding.\n",
    "    * Normalizes numerical features using `StandardScaler`.\n",
    "\n",
    "4. **Model Building and Evaluation:**\n",
    "    * Splits the data into training and testing sets.\n",
    "    * Trains a linear regression model on the training data and makes predictions on the test set.\n",
    "    * Evaluates model performance using Mean Squared Error (MSE) and R-squared (R2).\n",
    "    * Visualizes the predicted vs. actual values.\n",
    "\n",
    "5. **Comparison (Before/After Cleaning):**  Compares the shape and summary statistics of the original and cleaned datasets.\n",
    "\n",
    "6. **Use Case Demonstration:** Demonstrates a prediction use case (predicting transaction amounts), trains a separate model, and evaluates performance.\n",
    "\n",
    "In essence, the code cleans the data to improve model accuracy and provides a demonstration of how the cleaned data can be used for prediction.\n"
   ]
  },
  {
   "cell_type": "code",
   "execution_count": 18,
   "metadata": {},
   "outputs": [
    {
     "data": {
      "image/png": "[encoded data removed]",
      "text/plain": [
       "<Figure size 864x288 with 2 Axes>"
      ]
     },
     "metadata": {
      "needs_background": "light"
     },
     "output_type": "display_data"
    }
   ],
   "source": [
    "# Step 12: Additional Comprehensive Visualizations and Analysis\n",
    "\n",
    "# Visualizing distributions of key numerical features in original vs. cleaned data\n",
    "import matplotlib.gridspec as gridspec\n",
    "\n",
    "# Re-load original data (if needed)\n",
    "original_data = pd.read_csv(file_path)\n",
    "\n",
    "# List of key numerical columns\n",
    "numerical_cols = original_data.select_dtypes(include=np.number).columns.tolist()\n",
    "\n",
    "# Create subplots with len(numerical_cols) rows and 2 columns\n",
    "fig, axes = plt.subplots(len(numerical_cols), 2, figsize=(12, 4*len(numerical_cols)))\n",
    "\n",
    "# Fix: Ensure axes is a 2D array even if there's only one numerical column\n",
    "if len(numerical_cols) == 1:\n",
    "    axes = np.atleast_2d(axes)\n",
    "\n",
    "fig.suptitle(\"Distribution of Numerical Features: Original vs Cleaned Data\", fontsize=16)\n",
    "\n",
    "for i, col in enumerate(numerical_cols):\n",
    "    # Original data histogram\n",
    "    axes[i, 0].hist(original_data[col].dropna(), bins=30, color='skyblue', edgecolor='black')\n",
    "    axes[i, 0].set_title(f\"Original {col}\")\n",
    "    axes[i, 0].set_xlabel(col)\n",
    "    axes[i, 0].set_ylabel(\"Frequency\")\n",
    "    \n",
    "    # Cleaned data histogram (if the column exists)\n",
    "    if col in data.columns:\n",
    "        axes[i, 1].hist(data[col].dropna(), bins=30, color='lightgreen', edgecolor='black')\n",
    "        axes[i, 1].set_title(f\"Cleaned {col}\")\n",
    "        axes[i, 1].set_xlabel(col)\n",
    "        axes[i, 1].set_ylabel(\"Frequency\")\n",
    "    else:\n",
    "        axes[i, 1].text(0.5, 0.5, \"Not available\", horizontalalignment='center', verticalalignment='center')\n",
    "        axes[i, 1].set_title(f\"Cleaned {col}\")\n",
    "\n",
    "plt.tight_layout(rect=[0, 0, 1, 0.96])\n",
    "plt.show()\n",
    "\n"
   ]
  },
  {
   "cell_type": "code",
   "execution_count": 19,
   "metadata": {},
   "outputs": [
    {
     "data": {
      "text/plain": [
       "Text(0.5, 1.0, 'Original Data Correlation Matrix')"
      ]
     },
     "execution_count": 19,
     "metadata": {},
     "output_type": "execute_result"
    },
    {
     "data": {
      "image/png": "[encoded data removed]",
      "text/plain": [
       "<Figure size 1008x432 with 2 Axes>"
      ]
     },
     "metadata": {
      "needs_background": "light"
     },
     "output_type": "display_data"
    }
   ],
   "source": [
    "plt.figure(figsize=(14, 6))\n",
    "plt.subplot(1, 2, 1)\n",
    "sns.heatmap(original_data.corr(), annot=True, fmt=\".2f\", cmap=\"coolwarm\")\n",
    "plt.title(\"Original Data Correlation Matrix\")"
   ]
  },
  {
   "cell_type": "code",
   "execution_count": 25,
   "metadata": {},
   "outputs": [
    {
     "data": {
      "image/png": "[encoded data removed]",
      "text/plain": [
       "<Figure size 432x288 with 2 Axes>"
      ]
     },
     "metadata": {
      "needs_background": "light"
     },
     "output_type": "display_data"
    }
   ],
   "source": [
    "plt.subplot(1, 2, 2)\n",
    "sns.heatmap(data.corr(), annot=True, fmt=\".2f\", cmap=\"coolwarm\")\n",
    "plt.title(\"Cleaned Data Correlation Matrix\")\n",
    "plt.tight_layout(rect=[0, 0, 1, 0.95])\n",
    "plt.show()"
   ]
  },
  {
   "cell_type": "code",
   "execution_count": null,
   "metadata": {},
   "outputs": [],
   "source": [
    "#Pairplot for visualizing relationships in the cleaned data\n",
    "sns.pairplot(data, diag_kind=\"pair\")\n",
    "plt.suptitle(\"Pairplot for Cleaned Data\", y=1.02)\n",
    "plt.tight_layout()\n",
    "plt.show()"
   ]
  },
  {
   "cell_type": "code",
   "execution_count": 22,
   "metadata": {},
   "outputs": [
    {
     "data": {
      "image/png": "[encoded data removed]",
      "text/plain": [
       "<Figure size 1080x864 with 3 Axes>"
      ]
     },
     "metadata": {
      "needs_background": "light"
     },
     "output_type": "display_data"
    }
   ],
   "source": [
    "# Dashboard-style summary - composite visualization using subplots\n",
    "fig = plt.figure(figsize=(15, 12))\n",
    "gs = gridspec.GridSpec(2, 2)\n",
    "\n",
    "ax1 = fig.add_subplot(gs[0, 0])\n",
    "sns.histplot(original_data['Amount'] if 'Amount' in original_data.columns else np.zeros(len(original_data)), bins=30, ax=ax1, color='skyblue')\n",
    "ax1.set_title(\"Original Data: Amount Distribution\")\n",
    "\n",
    "ax2 = fig.add_subplot(gs[0, 1])\n",
    "sns.histplot(data['Amount'] if 'Amount' in data.columns else np.zeros(len(data)), bins=30, ax=ax2, color='lightgreen')\n",
    "ax2.set_title(\"Cleaned Data: Amount Distribution\")\n",
    "\n",
    "ax3 = fig.add_subplot(gs[1, :])\n",
    "sns.boxplot(data=original_data.select_dtypes(include=np.number))\n",
    "ax3.set_title(\"Original Data: Boxplot of Numerical Features\")\n",
    "\n",
    "plt.tight_layout()\n",
    "plt.show()"
   ]
  },
  {
   "cell_type": "code",
   "execution_count": 23,
   "metadata": {},
   "outputs": [
    {
     "name": "stdout",
     "output_type": "stream",
     "text": [
      "\n",
      "--- Comprehensive Summary ---\n",
      "Original data had shape: (9801, 9)\n",
      "Cleaned data has shape: (8595, 152)\n",
      "\n",
      "Summary statistics for key features (Original Data):\n",
      "       Reporting date     Card Type            Category  \\\n",
      "count            9801          9801                9801   \n",
      "unique             99             3                   3   \n",
      "top           2015-01  Credit Cards  Gross Transactions   \n",
      "freq               99          4950                8316   \n",
      "mean              NaN           NaN                 NaN   \n",
      "std               NaN           NaN                 NaN   \n",
      "min               NaN           NaN                 NaN   \n",
      "25%               NaN           NaN                 NaN   \n",
      "50%               NaN           NaN                 NaN   \n",
      "75%               NaN           NaN                 NaN   \n",
      "max               NaN           NaN                 NaN   \n",
      "\n",
      "                                Series Description    Sector Sub-sector  \\\n",
      "count                                         9801      5841       5841   \n",
      "unique                                          38         4         14   \n",
      "top     Sectoral Spending on Personal Credit Cards  Services      Total   \n",
      "freq                                          1584      2475       1584   \n",
      "mean                                           NaN       NaN        NaN   \n",
      "std                                            NaN       NaN        NaN   \n",
      "min                                            NaN       NaN        NaN   \n",
      "25%                                            NaN       NaN        NaN   \n",
      "50%                                            NaN       NaN        NaN   \n",
      "75%                                            NaN       NaN        NaN   \n",
      "max                                            NaN       NaN        NaN   \n",
      "\n",
      "        ObservationType   Observation Scale         Value  \n",
      "count               9801               9801  9.801000e+03  \n",
      "unique                 2                  2           NaN  \n",
      "top                Value     Euro Thousands           NaN  \n",
      "freq                7623               7623           NaN  \n",
      "mean                 NaN                NaN  3.838098e+06  \n",
      "std                  NaN                NaN  1.737614e+07  \n",
      "min                  NaN                NaN -1.104000e+03  \n",
      "25%                  NaN                NaN  6.116100e+04  \n",
      "50%                  NaN                NaN  2.054630e+05  \n",
      "75%                  NaN                NaN  9.581120e+05  \n",
      "max                  NaN                NaN  1.732273e+08  \n",
      "\n",
      "Summary statistics for key features (Cleaned Data):\n",
      "              Value  Reporting date_2015-02  Reporting date_2015-03  \\\n",
      "count  8.595000e+03            8.595000e+03            8.595000e+03   \n",
      "mean  -3.352757e-16           -8.910492e-16           -5.636852e-16   \n",
      "std    1.000058e+00            1.000058e+00            1.000058e+00   \n",
      "min   -7.643655e-01           -1.022898e-01           -1.022898e-01   \n",
      "25%   -6.645983e-01           -1.022898e-01           -1.022898e-01   \n",
      "50%   -4.420901e-01           -1.022898e-01           -1.022898e-01   \n",
      "75%    1.234397e-01           -1.022898e-01           -1.022898e-01   \n",
      "max    3.842176e+00            9.776146e+00            9.776146e+00   \n",
      "\n",
      "       Reporting date_2015-04  Reporting date_2015-05  Reporting date_2015-06  \\\n",
      "count            8.595000e+03            8.595000e+03            8.595000e+03   \n",
      "mean            -2.263880e-16            1.009760e-16            4.283530e-16   \n",
      "std              1.000058e+00            1.000058e+00            1.000058e+00   \n",
      "min             -1.022898e-01           -1.022898e-01           -1.022898e-01   \n",
      "25%             -1.022898e-01           -1.022898e-01           -1.022898e-01   \n",
      "50%             -1.022898e-01           -1.022898e-01           -1.022898e-01   \n",
      "75%             -1.022898e-01           -1.022898e-01           -1.022898e-01   \n",
      "max              9.776146e+00            9.776146e+00            9.776146e+00   \n",
      "\n",
      "       Reporting date_2015-07  Reporting date_2015-08  Reporting date_2015-09  \\\n",
      "count            8.595000e+03            8.595000e+03            8.595000e+03   \n",
      "mean             7.656373e-16            1.106241e-15            1.443506e-15   \n",
      "std              1.000058e+00            1.000058e+00            1.000058e+00   \n",
      "min             -1.022898e-01           -1.022898e-01           -1.022898e-01   \n",
      "25%             -1.022898e-01           -1.022898e-01           -1.022898e-01   \n",
      "50%             -1.022898e-01           -1.022898e-01           -1.022898e-01   \n",
      "75%             -1.022898e-01           -1.022898e-01           -1.022898e-01   \n",
      "max              9.776146e+00            9.776146e+00            9.776146e+00   \n",
      "\n",
      "       Reporting date_2015-10  ...  Sub-sector_Groceries/\\nPerishables  \\\n",
      "count            8.595000e+03  ...                        8.595000e+03   \n",
      "mean             1.772550e-15  ...                        3.811966e-15   \n",
      "std              1.000058e+00  ...                        1.000058e+00   \n",
      "min             -1.022898e-01  ...                       -1.891871e-01   \n",
      "25%             -1.022898e-01  ...                       -1.891871e-01   \n",
      "50%             -1.022898e-01  ...                       -1.891871e-01   \n",
      "75%             -1.022898e-01  ...                       -1.891871e-01   \n",
      "max              9.776146e+00  ...                        5.285773e+00   \n",
      "\n",
      "       Sub-sector_Hardware  Sub-sector_Health  \\\n",
      "count         8.595000e+03       8.595000e+03   \n",
      "mean          3.805352e-15       3.805352e-15   \n",
      "std           1.000058e+00       1.000058e+00   \n",
      "min          -1.891871e-01      -1.891871e-01   \n",
      "25%          -1.891871e-01      -1.891871e-01   \n",
      "50%          -1.891871e-01      -1.891871e-01   \n",
      "75%          -1.891871e-01      -1.891871e-01   \n",
      "max           5.285773e+00       5.285773e+00   \n",
      "\n",
      "       Sub-sector_Professional Services  Sub-sector_Restaurants/\\nDining  \\\n",
      "count                      8.595000e+03                     8.595000e+03   \n",
      "mean                       2.771224e-15                     2.771224e-15   \n",
      "std                        1.000058e+00                     1.000058e+00   \n",
      "min                       -2.197694e-01                    -2.197694e-01   \n",
      "25%                       -2.197694e-01                    -2.197694e-01   \n",
      "50%                       -2.197694e-01                    -2.197694e-01   \n",
      "75%                       -2.197694e-01                    -2.197694e-01   \n",
      "max                        4.550225e+00                     4.550225e+00   \n",
      "\n",
      "       Sub-sector_Total  Sub-sector_Transport  Sub-sector_Utilities  \\\n",
      "count      8.595000e+03          8.595000e+03          8.595000e+03   \n",
      "mean       1.140167e-14          2.771224e-15          3.811966e-15   \n",
      "std        1.000058e+00          1.000058e+00          1.000058e+00   \n",
      "min       -1.009469e+00         -2.197694e-01         -1.891871e-01   \n",
      "25%       -1.009469e+00         -2.197694e-01         -1.891871e-01   \n",
      "50%        9.906199e-01         -2.197694e-01         -1.891871e-01   \n",
      "75%        9.906199e-01         -2.197694e-01         -1.891871e-01   \n",
      "max        9.906199e-01          4.550225e+00          5.285773e+00   \n",
      "\n",
      "        ObservationType _Value   Observation Scale_Number Units  \n",
      "count             8.595000e+03                     8.595000e+03  \n",
      "mean             -9.592430e-15                     9.592430e-15  \n",
      "std               1.000058e+00                     1.000058e+00  \n",
      "min              -2.280636e+00                    -4.384743e-01  \n",
      "25%               4.384743e-01                    -4.384743e-01  \n",
      "50%               4.384743e-01                    -4.384743e-01  \n",
      "75%               4.384743e-01                    -4.384743e-01  \n",
      "max               4.384743e-01                     2.280636e+00  \n",
      "\n",
      "[8 rows x 152 columns]\n"
     ]
    }
   ],
   "source": [
    "#Comprehensive summary of results\n",
    "print(\"\\n--- Comprehensive Summary ---\")\n",
    "print(\"Original data had shape:\", original_data.shape)\n",
    "print(\"Cleaned data has shape:\", data.shape)\n",
    "print(\"\\nSummary statistics for key features (Original Data):\")\n",
    "print(original_data.describe(include='all'))\n",
    "print(\"\\nSummary statistics for key features (Cleaned Data):\")\n",
    "print(data.describe(include='all'))"
   ]
  },
  {
   "cell_type": "code",
   "execution_count": null,
   "metadata": {},
   "outputs": [],
   "source": []
  }
 ],
 "metadata": {
  "colab": {
   "provenance": []
  },
  "kernelspec": {
   "display_name": "ml_env",
   "language": "python",
   "name": "python3"
  },
  "language_info": {
   "codemirror_mode": {
    "name": "ipython",
    "version": 3
   },
   "file_extension": ".py",
   "mimetype": "text/x-python",
   "name": "python",
   "nbconvert_exporter": "python",
   "pygments_lexer": "ipython3",
   "version": "3.10.11"
  }
 },
 "nbformat": 4,
 "nbformat_minor": 1
}
