{
 "cells": [
  {
   "cell_type": "code",
   "execution_count": 2,
   "id": "1366e5d3",
   "metadata": {},
   "outputs": [
    {
     "data": {
      "text/html": [
       "<div>\n",
       "<style scoped>\n",
       "    .dataframe tbody tr th:only-of-type {\n",
       "        vertical-align: middle;\n",
       "    }\n",
       "\n",
       "    .dataframe tbody tr th {\n",
       "        vertical-align: top;\n",
       "    }\n",
       "\n",
       "    .dataframe thead th {\n",
       "        text-align: right;\n",
       "    }\n",
       "</style>\n",
       "<table border=\"1\" class=\"dataframe\">\n",
       "  <thead>\n",
       "    <tr style=\"text-align: right;\">\n",
       "      <th></th>\n",
       "      <th>Lead</th>\n",
       "      <th>Title</th>\n",
       "      <th>Phone</th>\n",
       "      <th>Notes</th>\n",
       "    </tr>\n",
       "  </thead>\n",
       "  <tbody>\n",
       "    <tr>\n",
       "      <th>0</th>\n",
       "      <td>Jim Grayson</td>\n",
       "      <td>Senior Manager</td>\n",
       "      <td>(555)761-2385</td>\n",
       "      <td>Spoke Tuesday, he's interested</td>\n",
       "    </tr>\n",
       "    <tr>\n",
       "      <th>1</th>\n",
       "      <td>Prescilla Winston</td>\n",
       "      <td>Development Director</td>\n",
       "      <td>(555)218-3981</td>\n",
       "      <td>said to call again next week</td>\n",
       "    </tr>\n",
       "    <tr>\n",
       "      <th>2</th>\n",
       "      <td>Melissa Potter</td>\n",
       "      <td>Head of Accounts</td>\n",
       "      <td>(555)791-3471</td>\n",
       "      <td>Not interested, gave referral</td>\n",
       "    </tr>\n",
       "  </tbody>\n",
       "</table>\n",
       "</div>"
      ],
      "text/plain": [
       "                Lead                 Title          Phone  \\\n",
       "0        Jim Grayson        Senior Manager  (555)761-2385   \n",
       "1  Prescilla Winston  Development Director  (555)218-3981   \n",
       "2     Melissa Potter      Head of Accounts  (555)791-3471   \n",
       "\n",
       "                            Notes  \n",
       "0  Spoke Tuesday, he's interested  \n",
       "1    said to call again next week  \n",
       "2   Not interested, gave referral  "
      ]
     },
     "execution_count": 2,
     "metadata": {},
     "output_type": "execute_result"
    }
   ],
   "source": [
    "import pandas as pd\n",
    "df = pd.read_csv('CSVExample.csv', sep =',')\n",
    "df"
   ]
  },
  {
   "cell_type": "code",
   "execution_count": 4,
   "id": "4249af4f",
   "metadata": {},
   "outputs": [
    {
     "name": "stdout",
     "output_type": "stream",
     "text": [
      "      0     1   2           3   4    5\n",
      "0  This  file  is  seaparated  by  tab\n"
     ]
    }
   ],
   "source": [
    "import pandas as pd\n",
    "# Tab separated file\n",
    "df = pd.read_csv('datatab.txt', sep='\\t', header = None)\n",
    "\n",
    "# columns are separated by space \n",
    "#df = pd.read_csv('data.txt', sep = ' ', header = None)\n",
    "print(df)"
   ]
  },
  {
   "cell_type": "code",
   "execution_count": 33,
   "id": "fc262b14",
   "metadata": {},
   "outputs": [
    {
     "name": "stdout",
     "output_type": "stream",
     "text": [
      "<_io.TextIOWrapper name='C:/Users/asahni/Documents/DAAI/labs/data.txt' mode='r' encoding='cp1252'>\n"
     ]
    }
   ],
   "source": [
    "file_name = 'C:/Users/asahni/Documents/DAAI/labs/data.txt'\n",
    "with open(file_name, mode = 'r') as file:\n",
    "   df = file\n",
    "print(df)"
   ]
  }
 ],
 "metadata": {
  "kernelspec": {
   "display_name": "Python 3 (ipykernel)",
   "language": "python",
   "name": "python3"
  },
  "language_info": {
   "codemirror_mode": {
    "name": "ipython",
    "version": 3
   },
   "file_extension": ".py",
   "mimetype": "text/x-python",
   "name": "python",
   "nbconvert_exporter": "python",
   "pygments_lexer": "ipython3",
   "version": "3.9.13"
  }
 },
 "nbformat": 4,
 "nbformat_minor": 5
}
