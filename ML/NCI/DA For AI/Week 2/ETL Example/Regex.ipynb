{
 "cells": [
  {
   "cell_type": "markdown",
   "metadata": {},
   "source": [
    "# Regular Expressions\n",
    "\n",
    "## 1. Characters and Character Classes\n",
    "\n",
    "| Character or Character Class | Meaning |\n",
    "| :-: | :- |\n",
    "| . | any character except a newline |\n",
    "| \\d | a single digit character |\n",
    "| \\D | a single non-digit character |\n",
    "| \\s | a single whitespace character |\n",
    "| \\S | a single non-whitespace character |\n",
    "| \\n | a new line character |\n",
    "| \\t | a tab character |\n",
    "| a | the character 'a' |\n",
    "| \\w | any alphanumeric character from the set [a-zA-Z0-9]|\n",
    "| \\W | any non-alphanumeric character |\n",
    "| [abcd] | a character from the set [a,b,c,d] | \n",
    "| [^abcd] | a character not from the set [a,b,c,d] |\n",
    "| [a-z] | all characters from the set a to z |\n",
    "| [^a-z] | all characters not from the set a to z |\n",
    "\n",
    "### Examples\n",
    "\n",
    "a) Match a single character that is immediately followed by the letter 'f'"
   ]
  },
  {
   "cell_type": "code",
   "execution_count": 1,
   "metadata": {},
   "outputs": [
    {
     "data": {
      "text/plain": [
       "['of']"
      ]
     },
     "execution_count": 1,
     "metadata": {},
     "output_type": "execute_result"
    }
   ],
   "source": [
    "import re\n",
    "\n",
    "text = '''Diddle, diddle, dumpling, my son John.\n",
    "Went to bed with his trousers on.\n",
    "One shoe off, and the other shoe on.\n",
    "Diddle, diddle, dumpling, my son John.'''\n",
    "\n",
    "re.findall(r'.f',text)"
   ]
  },
  {
   "cell_type": "markdown",
   "metadata": {},
   "source": [
    "b) Match any single lower case character that is immediately followed by the letter 'l'"
   ]
  },
  {
   "cell_type": "code",
   "execution_count": 2,
   "metadata": {
    "scrolled": true
   },
   "outputs": [
    {
     "data": {
      "text/plain": [
       "['dl', 'dl', 'pl', 'dl', 'dl', 'pl']"
      ]
     },
     "execution_count": 2,
     "metadata": {},
     "output_type": "execute_result"
    }
   ],
   "source": [
    "re.findall(r'[a-z]l',text)"
   ]
  },
  {
   "cell_type": "markdown",
   "metadata": {},
   "source": [
    "c) Match any character 'a' followed by a character that is not in the set [a,f,h,n,s]."
   ]
  },
  {
   "cell_type": "code",
   "execution_count": 3,
   "metadata": {},
   "outputs": [
    {
     "data": {
      "text/plain": [
       "[]"
      ]
     },
     "execution_count": 3,
     "metadata": {},
     "output_type": "execute_result"
    }
   ],
   "source": [
    "re.findall(r'a[^afhns]',text)"
   ]
  },
  {
   "cell_type": "markdown",
   "metadata": {},
   "source": [
    "d) Match the character 'o' when it is not followed by a character in the set g to l or the set A-Z."
   ]
  },
  {
   "cell_type": "code",
   "execution_count": 4,
   "metadata": {},
   "outputs": [
    {
     "data": {
      "text/plain": [
       "['on', 'o ', 'ou', 'on', 'oe', 'of', 'ot', 'oe', 'on', 'on']"
      ]
     },
     "execution_count": 4,
     "metadata": {},
     "output_type": "execute_result"
    }
   ],
   "source": [
    "re.findall(r'o[^g-lA-Z]',text)"
   ]
  },
  {
   "cell_type": "markdown",
   "metadata": {},
   "source": [
    "e) Find all digit characters"
   ]
  },
  {
   "cell_type": "code",
   "execution_count": 5,
   "metadata": {},
   "outputs": [
    {
     "data": {
      "text/plain": [
       "['1', '8', '1', '9', '9', '6', '4', '2']"
      ]
     },
     "execution_count": 5,
     "metadata": {},
     "output_type": "execute_result"
    }
   ],
   "source": [
    "re.findall(r'\\d','He was aged 18 in 1996. He is now 42.')"
   ]
  },
  {
   "cell_type": "markdown",
   "metadata": {},
   "source": [
    "## 2. Repetition Operators (Quantifiers)\n",
    "\n",
    "| Quantifier | Meaning |\n",
    "| :-: | :- |\n",
    "| ? | **Zero or one** occurences of the preceeding expression |\n",
    "| * | **Zero or more** occurences of the preceeding expression |\n",
    "| + | **One or more** occurences of the preceeding expression |\n",
    "| {n} | **Exactly *n*** occurences of the preceeding expression |\n",
    "| {n,m} | **Between *n* and *m*** occurences of the preceeding expression |\n",
    "| {n,} | ***n* or more** occurences of the preceeding expression |\n",
    "| {,m} | **Up to *n*** occurences of the preceeding expression |\n",
    "\n",
    "### Examples\n",
    "\n",
    "1) Match zero or one occurences of the character 'n'. Note the empty 'zero' occurences in the result."
   ]
  },
  {
   "cell_type": "code",
   "execution_count": 6,
   "metadata": {},
   "outputs": [
    {
     "data": {
      "text/plain": [
       "['',\n",
       " '',\n",
       " '',\n",
       " '',\n",
       " '',\n",
       " '',\n",
       " '',\n",
       " '',\n",
       " '',\n",
       " '',\n",
       " '',\n",
       " '',\n",
       " '',\n",
       " '',\n",
       " '',\n",
       " '',\n",
       " '',\n",
       " '',\n",
       " '',\n",
       " '',\n",
       " '',\n",
       " '',\n",
       " 'n',\n",
       " '',\n",
       " '',\n",
       " '',\n",
       " '',\n",
       " '',\n",
       " '',\n",
       " '',\n",
       " '',\n",
       " 'n',\n",
       " '',\n",
       " '',\n",
       " '',\n",
       " '',\n",
       " 'n',\n",
       " '',\n",
       " '',\n",
       " '',\n",
       " '',\n",
       " 'n',\n",
       " '',\n",
       " '',\n",
       " '',\n",
       " '',\n",
       " '',\n",
       " '',\n",
       " '',\n",
       " '',\n",
       " '',\n",
       " '',\n",
       " '',\n",
       " '',\n",
       " '',\n",
       " '',\n",
       " '',\n",
       " '',\n",
       " '',\n",
       " '',\n",
       " '',\n",
       " '',\n",
       " '',\n",
       " '',\n",
       " '',\n",
       " '',\n",
       " '',\n",
       " '',\n",
       " '',\n",
       " '',\n",
       " 'n',\n",
       " '',\n",
       " '',\n",
       " '',\n",
       " 'n',\n",
       " '',\n",
       " '',\n",
       " '',\n",
       " '',\n",
       " '',\n",
       " '',\n",
       " '',\n",
       " '',\n",
       " '',\n",
       " '',\n",
       " '',\n",
       " '',\n",
       " '',\n",
       " 'n',\n",
       " '',\n",
       " '',\n",
       " '',\n",
       " '',\n",
       " '',\n",
       " '',\n",
       " '',\n",
       " '',\n",
       " '',\n",
       " '',\n",
       " '',\n",
       " '',\n",
       " '',\n",
       " '',\n",
       " '',\n",
       " '',\n",
       " '',\n",
       " '',\n",
       " 'n',\n",
       " '',\n",
       " '',\n",
       " '',\n",
       " '',\n",
       " '',\n",
       " '',\n",
       " '',\n",
       " '',\n",
       " '',\n",
       " '',\n",
       " '',\n",
       " '',\n",
       " '',\n",
       " '',\n",
       " '',\n",
       " '',\n",
       " '',\n",
       " '',\n",
       " '',\n",
       " '',\n",
       " '',\n",
       " '',\n",
       " '',\n",
       " '',\n",
       " 'n',\n",
       " '',\n",
       " '',\n",
       " '',\n",
       " '',\n",
       " '',\n",
       " '',\n",
       " '',\n",
       " '',\n",
       " 'n',\n",
       " '',\n",
       " '',\n",
       " '',\n",
       " '',\n",
       " 'n',\n",
       " '',\n",
       " '']"
      ]
     },
     "execution_count": 6,
     "metadata": {},
     "output_type": "execute_result"
    }
   ],
   "source": [
    "re.findall(r'n?',text)"
   ]
  },
  {
   "cell_type": "markdown",
   "metadata": {},
   "source": [
    "2) Match single and multiple occurences of the character 'n'."
   ]
  },
  {
   "cell_type": "code",
   "execution_count": 7,
   "metadata": {},
   "outputs": [
    {
     "data": {
      "text/plain": [
       "['n', 'n', 'n', 'n', 'n', 'n', 'n', 'n', 'n', 'n', 'n']"
      ]
     },
     "execution_count": 7,
     "metadata": {},
     "output_type": "execute_result"
    }
   ],
   "source": [
    "re.findall(r'n+',text)"
   ]
  },
  {
   "cell_type": "markdown",
   "metadata": {},
   "source": [
    "2) Match only when the character 'd' occurs twice in succession."
   ]
  },
  {
   "cell_type": "code",
   "execution_count": 8,
   "metadata": {},
   "outputs": [
    {
     "data": {
      "text/plain": [
       "['dd', 'dd', 'dd', 'dd']"
      ]
     },
     "execution_count": 8,
     "metadata": {},
     "output_type": "execute_result"
    }
   ],
   "source": [
    "re.findall(r'd{2}',text)"
   ]
  },
  {
   "cell_type": "markdown",
   "metadata": {},
   "source": [
    "## 3. Position Anchors\n",
    "\n",
    "| Anchor | Meaning |\n",
    "| :-: | :- |\n",
    "| ^ | Matches the expression that follows at the start of the line only |\n",
    "| $ | Matches the preceeding expression at the end of the line only |\n",
    "| \\b | Matches the word boundary (start or end of a word) |\n",
    "| \\B | Matches an expression not at the word boundary |\n",
    "\n",
    "### Examples\n",
    "\n",
    "a) Match the text 'on' as a complete word only"
   ]
  },
  {
   "cell_type": "code",
   "execution_count": 9,
   "metadata": {},
   "outputs": [
    {
     "data": {
      "text/plain": [
       "['on', 'on']"
      ]
     },
     "execution_count": 9,
     "metadata": {},
     "output_type": "execute_result"
    }
   ],
   "source": [
    "re.findall(r'\\bon\\b',text)"
   ]
  },
  {
   "cell_type": "markdown",
   "metadata": {},
   "source": [
    "b) Match the text 'on' when it is the end of a larger word.\n"
   ]
  },
  {
   "cell_type": "code",
   "execution_count": 10,
   "metadata": {},
   "outputs": [
    {
     "data": {
      "text/plain": [
       "['on', 'on']"
      ]
     },
     "execution_count": 10,
     "metadata": {},
     "output_type": "execute_result"
    }
   ],
   "source": [
    "re.findall(r'\\Bon\\b',text)"
   ]
  },
  {
   "cell_type": "markdown",
   "metadata": {},
   "source": [
    "c) Match the text 'Peter' when it occurs at the start of a line."
   ]
  },
  {
   "cell_type": "code",
   "execution_count": 23,
   "metadata": {},
   "outputs": [
    {
     "data": {
      "text/plain": [
       "['Peter']"
      ]
     },
     "execution_count": 23,
     "metadata": {},
     "output_type": "execute_result"
    }
   ],
   "source": [
    "text = '''Peter Piper picked a peck of pickled peppers\\n\n",
    "A peck of pickled peppers Peter Piper picked\\n\n",
    "If Peter Piper picked a peck of pickled peppers\\n\n",
    "Where’s the peck of pickled peppers Peter Piper picked?'''\n",
    "\n",
    "re.compile(r'^Peter',re.M).findall(text) # needed to permit MULTILINE mode"
   ]
  },
  {
   "cell_type": "markdown",
   "metadata": {},
   "source": [
    "d) Match the text 'peppers' or the text 'picked' when it occurs at the end of a line."
   ]
  },
  {
   "cell_type": "code",
   "execution_count": 28,
   "metadata": {},
   "outputs": [
    {
     "data": {
      "text/plain": [
       "['peppers', 'picked', 'peppers']"
      ]
     },
     "execution_count": 28,
     "metadata": {},
     "output_type": "execute_result"
    }
   ],
   "source": [
    "re.compile(r'picked$|peppers$',re.M).findall(text)"
   ]
  }
 ],
 "metadata": {
  "kernelspec": {
   "display_name": "Python 3 (ipykernel)",
   "language": "python",
   "name": "python3"
  },
  "language_info": {
   "codemirror_mode": {
    "name": "ipython",
    "version": 3
   },
   "file_extension": ".py",
   "mimetype": "text/x-python",
   "name": "python",
   "nbconvert_exporter": "python",
   "pygments_lexer": "ipython3",
   "version": "3.9.13"
  }
 },
 "nbformat": 4,
 "nbformat_minor": 4
}
