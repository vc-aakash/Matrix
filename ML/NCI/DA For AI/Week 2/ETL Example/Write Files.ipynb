{
 "cells": [
  {
   "cell_type": "code",
   "execution_count": 7,
   "id": "aadbd26e",
   "metadata": {},
   "outputs": [
    {
     "name": "stdout",
     "output_type": "stream",
     "text": [
      "['Lead', 'Title', 'Phone', 'Notes']\n",
      "['Jim Grayson', 'Senior Manager', '(555)761-2385', \"Spoke Tuesday, he's interested\"]\n",
      "['Prescilla Winston', 'Development Director', '(555)218-3981', 'said to call again next week']\n",
      "['Melissa Potter', 'Head of Accounts', '(555)791-3471', 'Not interested, gave referral']\n"
     ]
    }
   ],
   "source": [
    "import csv\n",
    "with open('CSVExample.csv', 'r', newline='') as csvfile:\n",
    "    reader = csv.reader(csvfile)\n",
    "    for row in reader:\n",
    "        print(row)\n",
    "csvfile.close()"
   ]
  },
  {
   "cell_type": "code",
   "execution_count": 15,
   "id": "c9976549",
   "metadata": {},
   "outputs": [
    {
     "name": "stdout",
     "output_type": "stream",
     "text": [
      "['Person', 'Age']\n",
      "['Peter', '22']\n",
      "['Jasmine', '21']\n",
      "['Sam', '24']\n",
      "['Person', 'Age']\n",
      "['Peter', '22']\n",
      "['Jasmine', '21']\n",
      "['Sam', '24']\n",
      "['Person', 'Age']\n",
      "['Peter', '22']\n",
      "['Jasmine', '21']\n",
      "['Sam', '24']\n",
      "['Person', 'Age']\n",
      "['Peter', '22']\n",
      "['Jasmine', '21']\n",
      "['Sam', '24']\n"
     ]
    }
   ],
   "source": [
    "import csv\n",
    "csvData = [['Person', 'Age'], ['Peter', '22'],\n",
    "['Jasmine', '21'], ['Sam', '24']]\n",
    "with open('data.csv', 'a', newline='') as csvfile:\n",
    "    writer = csv.writer(csvfile)\n",
    "    writer.writerows(csvData)\n",
    "#with open('data.csv', 'r', newline='') as csvfile:\n",
    "    #reader = csv.reader(csvfile)\n",
    "    #for row in reader:\n",
    "        #print(row)\n",
    "csvfile.close()\n"
   ]
  },
  {
   "cell_type": "code",
   "execution_count": 16,
   "id": "b4ef4b06",
   "metadata": {},
   "outputs": [
    {
     "name": "stdout",
     "output_type": "stream",
     "text": [
      "Name: Chuck\n"
     ]
    }
   ],
   "source": [
    "import xml.etree.ElementTree as ET\n",
    "data = '''<person>\n",
    "<name>Chuck</name>\n",
    "<phone type=\"intl\">\n",
    "+1 734 303 4456\n",
    "</phone>\n",
    "<email hide=\"yes\"/>\n",
    "</person>'''\n",
    "tree = ET.fromstring(data)\n",
    "print('Name:',tree.find('name').text)\n"
   ]
  },
  {
   "cell_type": "code",
   "execution_count": 18,
   "id": "82785ada",
   "metadata": {},
   "outputs": [
    {
     "name": "stdout",
     "output_type": "stream",
     "text": [
      "Name Chuck\n",
      "Id 001\n",
      "Attribute 2\n",
      "Name Brett\n",
      "Id 009\n",
      "Attribute 7\n"
     ]
    }
   ],
   "source": [
    "import xml.etree.ElementTree as ET\n",
    "input = '''<data><users>\n",
    "<user x=\"2\"><id>001</id><name>Chuck</name></user>\n",
    "<user x=\"7\"><id>009</id><name>Brett</name></user>\n",
    "</users></data>'''\n",
    "xmldata = ET.fromstring(input)\n",
    "userlist = xmldata.findall('users/user')\n",
    "for user in userlist:\n",
    "    print('Name', user.find('name').text)\n",
    "    print('Id', user.find('id').text)\n",
    "    print('Attribute', user.get(\"x\"))\n"
   ]
  }
 ],
 "metadata": {
  "kernelspec": {
   "display_name": "Python 3 (ipykernel)",
   "language": "python",
   "name": "python3"
  },
  "language_info": {
   "codemirror_mode": {
    "name": "ipython",
    "version": 3
   },
   "file_extension": ".py",
   "mimetype": "text/x-python",
   "name": "python",
   "nbconvert_exporter": "python",
   "pygments_lexer": "ipython3",
   "version": "3.9.13"
  }
 },
 "nbformat": 4,
 "nbformat_minor": 5
}
