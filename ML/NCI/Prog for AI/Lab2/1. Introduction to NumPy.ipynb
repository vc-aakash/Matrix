{
 "cells": [
  {
   "cell_type": "markdown",
   "metadata": {},
   "source": [
    "# Introduction to Numpy\n"
   ]
  },
  {
   "cell_type": "markdown",
   "metadata": {},
   "source": [
    "- NumPy is an open-source add-on module to Python that provides routines for __manipulating large arrays__ and matrices of numeric data in __pre-compiled__, fast functions (parallelization).\n",
    "\n",
    "\n",
    "\n",
    "- NumPy arrays facilitate a wide range of mathematical and other types of operations on large amounts of data.\n",
    "\n",
    "1. Typically, such operations are executed more efficiently and with less code than is possible using Python’s built-in sequences.\n",
    "2. Further, NumPy implements an array language, so that it attempts to minimise the need for loops.\n",
    "\n",
    "\n",
    "\n",
    "- There are several important differences between NumPy arrays and the standard Python lists\n",
    "\n",
    "1. NumPy arrays have a fixed size at creation, unlike Python lists (which can grow dynamically). Changing the size of an ndarray will create a new array and delete the original\n",
    "2. The elements in a NumPy array are all required to be of the same data type."
   ]
  },
  {
   "cell_type": "code",
   "execution_count": 7,
   "metadata": {},
   "outputs": [
    {
     "name": "stdout",
     "output_type": "stream",
     "text": [
      "31.698795180722893\n"
     ]
    }
   ],
   "source": [
    "import numpy as np\n",
    "import time\n",
    "startPython = int(round(time.time() * 1000))\n",
    "\n",
    "# Creates a list c by adding the elements of a and b\n",
    "\n",
    "a1 = list(range(10000000))\n",
    "b1 = list(range(10000000))\n",
    "\n",
    "c = []\n",
    "\n",
    "#This code can take up to 5 seconds to run depending on the type of machine you're using\n",
    "\n",
    "for i in range(len(a1)):\n",
    "    c.append(a1[i] + b1[i])\n",
    "    \n",
    "stopPython = int(round(time.time() * 1000))\n",
    "\n",
    "# Below code does exactly the same thing but with Numpy Arrays\n",
    "\n",
    "startNumpy = int(round(time.time() * 1000))\n",
    "\n",
    "a2 = np.arange(10000000, dtype=int)\n",
    "b2 = np.arange(10000000, dtype=int) # The Numpy code by comparison is shorter, doesn’t need a loop and it is almost instantaneous by comparison\n",
    "c2 = a2 + b2\n",
    "\n",
    "stopNumPy = int(round(time.time() * 1000))\n",
    "\n",
    "\n",
    "# Here we express the time take by NumPy as a frac tion of the time taken by Python to perform the same operation\n",
    "\n",
    "print ((stopPython-startPython)/(stopNumPy-startNumpy))"
   ]
  },
  {
   "cell_type": "markdown",
   "metadata": {},
   "source": [
    "1. Array can be accessed using the square bracket notation just as with a list"
   ]
  },
  {
   "cell_type": "code",
   "execution_count": 4,
   "metadata": {},
   "outputs": [
    {
     "name": "stdout",
     "output_type": "stream",
     "text": [
      "5.5\n",
      "[ 5.  45.6  3.2]\n"
     ]
    }
   ],
   "source": [
    "import numpy as np\n",
    "arr = np.array([5.5, 45.6, 3.2], float)\n",
    "print (arr[0])\n",
    "\n",
    "# b = [5.5, 45.6, 3.2]\n",
    "# print (b[0])\n",
    "\n",
    "arr[0] = 5\n",
    "print (arr)"
   ]
  },
  {
   "cell_type": "markdown",
   "metadata": {},
   "source": [
    "2. Arrays can be multidimensional. Elements are accessed using [__row__, __column__] format inside bracket notation"
   ]
  },
  {
   "cell_type": "code",
   "execution_count": 1,
   "metadata": {},
   "outputs": [
    {
     "name": "stdout",
     "output_type": "stream",
     "text": [
      "[[1. 2. 3.]\n",
      " [4. 5. 6.]]\n",
      "1.0\n",
      "6.0\n"
     ]
    }
   ],
   "source": [
    "import numpy as np\n",
    "arr = np.array([[1, 2, 3], [4, 5, 6]],\n",
    "float)\n",
    "print (arr)\n",
    "print (arr[0, 0])\n",
    "print (arr[1, 2])"
   ]
  },
  {
   "cell_type": "markdown",
   "metadata": {},
   "source": [
    "3. A single index value provided to a multi-dimensional array will refer to an entire row"
   ]
  },
  {
   "cell_type": "code",
   "execution_count": 10,
   "metadata": {},
   "outputs": [
    {
     "name": "stdout",
     "output_type": "stream",
     "text": [
      "[[ 1.  12.2  3. ]\n",
      " [ 4.   5.   6. ]]\n",
      "[4. 5. 6.]\n",
      "[[12.2 12.2 12.2]\n",
      " [ 4.   5.   6. ]]\n"
     ]
    }
   ],
   "source": [
    "import numpy as np\n",
    "arr = np.array([[1, 2, 3], [4, 5, 6]], float)\n",
    "arr[0, 1] = 12.2\n",
    "print (arr)\n",
    "\n",
    "print (arr[1]) \n",
    "arr[0] = 12.2 \n",
    "print (arr)"
   ]
  },
  {
   "cell_type": "markdown",
   "metadata": {},
   "source": [
    "# NumPy – Slicing Operations\n",
    "\n",
    "- Slice: a span of items that are taken from a sequence\n",
    "\n",
    "- Slicing format: array[start : end]\n",
    "\n",
    "- Span is a list containing copies of elements from start up to, but not including, end.\n",
    "\n",
    "- Slicing expressions can include a step value in the format\n",
    "\n",
    " 1. array[start : stop : step]\n",
    " \n",
    "- It is also really important to understand that we can leave either start stop or step blank. If we leave:\n",
    "\n",
    "- Start blank it’s going to default to index 0\n",
    "\n",
    "- Stop blank then it will default to len of the array\n",
    "\n",
    "- Step blank it defaults to 1"
   ]
  },
  {
   "cell_type": "code",
   "execution_count": 7,
   "metadata": {},
   "outputs": [
    {
     "name": "stdout",
     "output_type": "stream",
     "text": [
      "[2. 4.]\n",
      "[ 2.  6. 10.]\n",
      "arrb\n",
      "[2. 8.]\n"
     ]
    }
   ],
   "source": [
    "import numpy as np\n",
    "arr = np.array([2, 4, 6, 8, 10], float)\n",
    "print (arr[0:2])\n",
    "\n",
    "print (arr[0:5:2])\n",
    "\n",
    "arrb = np.array([2, 4, 6, 8, 10, 12, 13, 15], float)\n",
    "\n",
    "print (\"arrb\")\n",
    "print (arrb[0:6:3])\n",
    "\n",
    "#print (arr[3:])\n",
    "#print (arr[:4])\n",
    "#print (arr[:])"
   ]
  },
  {
   "cell_type": "markdown",
   "metadata": {},
   "source": [
    "# NumPy – Slicing Operations in 2D Arrays\n",
    "\n",
    "- We can just as easily use slicing operations on 2D arrays as well.\n",
    "\n",
    "- Rather than specifying an integer index for a specific dimension we can specify the slice for that dimension.\n",
    "\n",
    "- array[start1:stop1, start2:stop2]"
   ]
  },
  {
   "cell_type": "code",
   "execution_count": 13,
   "metadata": {},
   "outputs": [
    {
     "name": "stdout",
     "output_type": "stream",
     "text": [
      "first [[1. 2. 3. 4.]]\n",
      "second [[1. 3.]\n",
      " [5. 7.]]\n",
      "third [[ 1.  2.]\n",
      " [ 5.  6.]\n",
      " [ 9. 10.]]\n",
      "fourth [[ 1.  4.]\n",
      " [ 5.  8.]\n",
      " [ 9. 12.]]\n"
     ]
    }
   ],
   "source": [
    "import numpy as np\n",
    "\n",
    "arr = np.array([[1, 2, 3, 4], [5, 6, 7, 8],[9, 10, 11, 12]], float)\n",
    "\n",
    "print (\"first\", arr[0:1, 0:4] )\n",
    "\n",
    "print (\"second\", arr[0:2, 0:4:2]) \n",
    "\n",
    "print (\"third\", arr[:, 0:2])\n",
    "\n",
    "print (\"fourth\", arr[:, [0,3]])"
   ]
  },
  {
   "cell_type": "markdown",
   "metadata": {},
   "source": [
    "# Important consideration when slicing!\n",
    "\n",
    "- However, when performing slicing on a NumPy array it will return a view of the original array. In other words while it is a subset of the array it is still pointing at the same data in memory as the original array.\n",
    "\n",
    "- NumPy documentation defines a view as “An array that does not own its data, but refers to another array’s data instead.” This is one area in which NumPy array slicing differs from Python list slicing: in lists, slices will be copies.\n",
    "\n",
    "- Using integers and slices is what is called Basic Indexing in Python. This rule does not hold for what we refer to as Advanced Indexing.\n"
   ]
  },
  {
   "cell_type": "code",
   "execution_count": 9,
   "metadata": {},
   "outputs": [
    {
     "name": "stdout",
     "output_type": "stream",
     "text": [
      "[[200. 200. 200.]\n",
      " [  2.   4.   5.]\n",
      " [  4.   5.   7.]\n",
      " [  6.   2.   3.]]\n",
      "[[200. 200. 200.]\n",
      " [  2.   4.   5.]\n",
      " [  4.   5.   7.]\n",
      " [  6.   2.   3.]]\n"
     ]
    }
   ],
   "source": [
    "import numpy as np\n",
    "\n",
    "data = np.array([[1, 2, 3], [2, 4, 5], [4, 5, 7],[6, 2, 3]], float)\n",
    "\n",
    "resultA = data[:, 0:3]\n",
    "resultA[0] = 200\n",
    "print (resultA)\n",
    "print (data)\n",
    "\n"
   ]
  },
  {
   "cell_type": "markdown",
   "metadata": {},
   "source": [
    "# Use of len Function in M-D Arrays\n",
    "\n",
    "- len function can be used to obtain the number of rows or the number of columns\n",
    "\n",
    "- len of 2D array will return the number of rows\n",
    "\n",
    "- len of 2D row will return the number of columns within that row"
   ]
  },
  {
   "cell_type": "code",
   "execution_count": 10,
   "metadata": {},
   "outputs": [
    {
     "name": "stdout",
     "output_type": "stream",
     "text": [
      "2\n",
      "3\n"
     ]
    }
   ],
   "source": [
    "import numpy as np\n",
    "\n",
    "arr = np.array([[14.4, 2.4, 56.4], [54.3, 34.4,98.22]], float) \n",
    "\n",
    "print (len(arr)) \n",
    "print (len(arr[0]))"
   ]
  },
  {
   "cell_type": "markdown",
   "metadata": {},
   "source": [
    "# Writing and Reading Data From a File\n",
    "\n",
    "- Data can be read from and written to files of various formats by using :\n",
    "\n",
    "1. np.genfromtxt allows you to read from files\n",
    "2. np.savetxt allows you to save data to a file.\n",
    "\n",
    "3. np.arange allow you to create a flat numpy array rising in value from 0 to the argument specified.\n",
    "\n",
    "4. Resize is a really useful function that allows you to resize an existing 2D array. The second argument specifies the new dimensional of arr."
   ]
  },
  {
   "cell_type": "code",
   "execution_count": 14,
   "metadata": {},
   "outputs": [
    {
     "name": "stdout",
     "output_type": "stream",
     "text": [
      "[[ 0  1  2  3  4]\n",
      " [ 5  6  7  8  9]\n",
      " [10 11 12 13 14]\n",
      " [15 16 17 18 19]\n",
      " [20 21 22 23 24]\n",
      " [25 26 27 28 29]\n",
      " [30 31 32 33 34]\n",
      " [35 36 37 38 39]\n",
      " [40 41 42 43 44]\n",
      " [45 46 47 48 49]]\n",
      "[[ 0.  1.  2.  3.  4.]\n",
      " [ 5.  6.  7.  8.  9.]\n",
      " [10. 11. 12. 13. 14.]\n",
      " [15. 16. 17. 18. 19.]\n",
      " [20. 21. 22. 23. 24.]\n",
      " [25. 26. 27. 28. 29.]\n",
      " [30. 31. 32. 33. 34.]\n",
      " [35. 36. 37. 38. 39.]\n",
      " [40. 41. 42. 43. 44.]\n",
      " [45. 46. 47. 48. 49.]]\n"
     ]
    }
   ],
   "source": [
    "import numpy as np\n",
    "arr = np.arange(50)\n",
    "\n",
    "\n",
    "arr2 = np.resize(arr, (10,5))\n",
    "\n",
    "print (arr2)\n",
    "\n",
    "np.savetxt(\"numbers.txt\", arr2, fmt=\"%d\", delimiter=\",\")\n",
    "\n",
    "data = np.genfromtxt(\"numbers.txt\", delimiter=\",\")\n",
    "print (data)\n"
   ]
  },
  {
   "cell_type": "markdown",
   "metadata": {},
   "source": [
    "# Performing Operations on a Specific Axis\n",
    "\n",
    "- NumPy provides a wide range of operations that we can perform on data.\n",
    "\n",
    "- One very important element of this NumPy functionality is that it allows you to specify the __axis (dimension)__ on which you want to perform the operation."
   ]
  },
  {
   "cell_type": "markdown",
   "metadata": {},
   "source": [
    "# NumPy – Appending to MD Arrays\n",
    "\n",
    "We can add elements using append to MD arrays in NumPy\n",
    "\n",
    "_numpy.append(arr, values, axis=None)_\n",
    "\n",
    "1. arr - Values are appended to a copy of this array.\n",
    "2. values - These values are appended to a copy of arr. It must be of the correct shape\n",
    "3. axis - The axis along which values are appended. If axis is not given, both arr and values are flattened before use.\n",
    "4. In Numpy dimensions are called axes."
   ]
  },
  {
   "cell_type": "code",
   "execution_count": 17,
   "metadata": {},
   "outputs": [
    {
     "name": "stdout",
     "output_type": "stream",
     "text": [
      "[[1. 2. 3.]\n",
      " [4. 5. 6.]]\n",
      "[1. 2. 3. 4. 5. 6. 7. 8. 9.]\n",
      "After specifying axis\n",
      "[[1. 2. 3.]\n",
      " [4. 5. 6.]\n",
      " [7. 8. 9.]]\n",
      "[[1. 2. 3. 7.]\n",
      " [4. 5. 6. 8.]]\n"
     ]
    }
   ],
   "source": [
    "import numpy as np\n",
    "arr = np.array([[1, 2, 3], [4, 5, 6]], float)\n",
    "print (arr)\n",
    "arr1 = np.append(arr, [[7, 8, 9]])\n",
    "print (arr1)  # Notice the output array has been flattened. This is because no axis was specified\n",
    "\n",
    "print (\"After specifying axis\")\n",
    "arr1 = np.append(arr, [[7, 8, 9]], axis = 0)\n",
    "print (arr1)\n",
    "\n",
    "\n",
    "# Add a column containing the values [7, 8, 9] to axis = 1       \n",
    "# arr1 = np.append(arr, [[7, 8, 9]], axis = 1) \n",
    "# print (arr1)\n",
    "\n",
    "# The above code Generates an error specifying array dimensions don’t match because each column only contains two values (not three) [[ 1. 2. 3.] [ 4. 5. 6.]]\n",
    "\n",
    "# Try -->\n",
    "arr1 = np.append(arr, [[7], [8]], axis = 1)\n",
    "print(arr1)"
   ]
  },
  {
   "cell_type": "markdown",
   "metadata": {},
   "source": [
    "# Basic Array Operations\n",
    "\n",
    "- Many functions exist for extracting whole-array properties.\n",
    "- Large number of mathematical functional available.\n",
    "- If axis is 0 then think of it as collapsing down the rows.\n",
    "\n",
    " http://docs.scipy.org/doc/numpy/reference/routines.math.html\n",
    " http://docs.scipy.org/doc/numpy/reference/routines.statistics.html"
   ]
  },
  {
   "cell_type": "code",
   "execution_count": 5,
   "metadata": {},
   "outputs": [
    {
     "name": "stdout",
     "output_type": "stream",
     "text": [
      "[[1. 2. 4.]\n",
      " [3. 4. 2.]]\n",
      "16.0\n",
      "192.0\n",
      "[4. 6. 6.]\n",
      "mean\n",
      "[2. 3. 3.]\n",
      "[2.33333333 3.        ]\n"
     ]
    }
   ],
   "source": [
    "import numpy as np\n",
    "arr1 = np.array([[1, 2, 4],[3, 4, 2]], float)\n",
    "print (arr1)\n",
    "print (np.sum(arr1))\n",
    "print (np.product(arr1))\n",
    "print (np.sum(arr1, axis = 0))\n",
    "\n",
    "print (\"mean\")\n",
    "print (np.mean(arr1, axis = 0))\n",
    "print (np.mean(arr1, axis = 1))"
   ]
  },
  {
   "cell_type": "markdown",
   "metadata": {},
   "source": [
    "# Array Mathematical Operations\n",
    "\n",
    "- When standard mathematical operations are used with two arrays, they are applied on an element by-element basis.\n",
    "\n",
    "- This means that the arrays should be the same size when performing addition, subtraction, etc.\n",
    "\n",
    "- We will later mention an exception to this rule.\n",
    "\n",
    "- NumPy arrays support the typical range of operators +,-, *, /, %, **\n",
    "\n",
    "- NumPY also allows us to use the above operators with a NumPy array and a single operand value\n",
    "\n",
    "- An error is thrown if arrays don’t match in size\n",
    "\n",
    "- For two-dimensional arrays, multiplication remains element-wise and does not correspond to matrix multiplication."
   ]
  },
  {
   "cell_type": "code",
   "execution_count": 6,
   "metadata": {},
   "outputs": [
    {
     "name": "stdout",
     "output_type": "stream",
     "text": [
      "[[11. 22.]\n",
      " [33. 44.]]\n",
      "[[20. 40.]\n",
      " [60. 80.]]\n",
      "[[ 5. 10.]\n",
      " [15. 20.]]\n"
     ]
    }
   ],
   "source": [
    "import numpy as np\n",
    "arr1 = np.array([[10,20], [30, 40]], float)\n",
    "arr2 = np.array([[1,2], [3,4]], float)\n",
    "print (arr1+arr2)\n",
    "print (arr1*2)\n",
    "print (arr1/2)"
   ]
  },
  {
   "cell_type": "markdown",
   "metadata": {},
   "source": [
    "# Example\n",
    "Assume we have a basic csv file called testData.csv, containing 20 columns of\n",
    "numerical data. The tenth column (index 9) contains total student attendance for\n",
    "each day in the academic year. I want to quickly find out the average student\n",
    "attendance."
   ]
  },
  {
   "cell_type": "code",
   "execution_count": 18,
   "metadata": {},
   "outputs": [
    {
     "ename": "FileNotFoundError",
     "evalue": "testData.csv not found.",
     "output_type": "error",
     "traceback": [
      "\u001b[1;31m---------------------------------------------------------------------------\u001b[0m",
      "\u001b[1;31mFileNotFoundError\u001b[0m                         Traceback (most recent call last)",
      "Cell \u001b[1;32mIn[18], line 2\u001b[0m\n\u001b[0;32m      1\u001b[0m \u001b[38;5;28;01mimport\u001b[39;00m\u001b[38;5;250m \u001b[39m\u001b[38;5;21;01mnumpy\u001b[39;00m\u001b[38;5;250m \u001b[39m\u001b[38;5;28;01mas\u001b[39;00m\u001b[38;5;250m \u001b[39m\u001b[38;5;21;01mnp\u001b[39;00m\n\u001b[1;32m----> 2\u001b[0m data \u001b[38;5;241m=\u001b[39m \u001b[43mnp\u001b[49m\u001b[38;5;241;43m.\u001b[39;49m\u001b[43mgenfromtxt\u001b[49m\u001b[43m(\u001b[49m\u001b[38;5;124;43m'\u001b[39;49m\u001b[38;5;124;43mtestData.csv\u001b[39;49m\u001b[38;5;124;43m'\u001b[39;49m\u001b[43m,\u001b[49m\u001b[43m \u001b[49m\u001b[43mdtype\u001b[49m\u001b[38;5;241;43m=\u001b[39;49m\u001b[38;5;28;43mfloat\u001b[39;49m\u001b[43m,\u001b[49m\u001b[43m \u001b[49m\u001b[43mdelimiter\u001b[49m\u001b[43m \u001b[49m\u001b[38;5;241;43m=\u001b[39;49m\u001b[43m \u001b[49m\u001b[38;5;124;43m'\u001b[39;49m\u001b[38;5;124;43m,\u001b[39;49m\u001b[38;5;124;43m'\u001b[39;49m\u001b[43m)\u001b[49m\n\u001b[0;32m      3\u001b[0m \u001b[38;5;28mprint\u001b[39m ( np\u001b[38;5;241m.\u001b[39mmean( data[:, \u001b[38;5;241m9\u001b[39m] ) )\n",
      "File \u001b[1;32md:\\Cerberus\\Assets\\Code\\ML\\ml_env\\lib\\site-packages\\numpy\\lib\\_npyio_impl.py:1989\u001b[0m, in \u001b[0;36mgenfromtxt\u001b[1;34m(fname, dtype, comments, delimiter, skip_header, skip_footer, converters, missing_values, filling_values, usecols, names, excludelist, deletechars, replace_space, autostrip, case_sensitive, defaultfmt, unpack, usemask, loose, invalid_raise, max_rows, encoding, ndmin, like)\u001b[0m\n\u001b[0;32m   1987\u001b[0m     fname \u001b[38;5;241m=\u001b[39m os\u001b[38;5;241m.\u001b[39mfspath(fname)\n\u001b[0;32m   1988\u001b[0m \u001b[38;5;28;01mif\u001b[39;00m \u001b[38;5;28misinstance\u001b[39m(fname, \u001b[38;5;28mstr\u001b[39m):\n\u001b[1;32m-> 1989\u001b[0m     fid \u001b[38;5;241m=\u001b[39m \u001b[43mnp\u001b[49m\u001b[38;5;241;43m.\u001b[39;49m\u001b[43mlib\u001b[49m\u001b[38;5;241;43m.\u001b[39;49m\u001b[43m_datasource\u001b[49m\u001b[38;5;241;43m.\u001b[39;49m\u001b[43mopen\u001b[49m\u001b[43m(\u001b[49m\u001b[43mfname\u001b[49m\u001b[43m,\u001b[49m\u001b[43m \u001b[49m\u001b[38;5;124;43m'\u001b[39;49m\u001b[38;5;124;43mrt\u001b[39;49m\u001b[38;5;124;43m'\u001b[39;49m\u001b[43m,\u001b[49m\u001b[43m \u001b[49m\u001b[43mencoding\u001b[49m\u001b[38;5;241;43m=\u001b[39;49m\u001b[43mencoding\u001b[49m\u001b[43m)\u001b[49m\n\u001b[0;32m   1990\u001b[0m     fid_ctx \u001b[38;5;241m=\u001b[39m contextlib\u001b[38;5;241m.\u001b[39mclosing(fid)\n\u001b[0;32m   1991\u001b[0m \u001b[38;5;28;01melse\u001b[39;00m:\n",
      "File \u001b[1;32md:\\Cerberus\\Assets\\Code\\ML\\ml_env\\lib\\site-packages\\numpy\\lib\\_datasource.py:192\u001b[0m, in \u001b[0;36mopen\u001b[1;34m(path, mode, destpath, encoding, newline)\u001b[0m\n\u001b[0;32m    155\u001b[0m \u001b[38;5;250m\u001b[39m\u001b[38;5;124;03m\"\"\"\u001b[39;00m\n\u001b[0;32m    156\u001b[0m \u001b[38;5;124;03mOpen `path` with `mode` and return the file object.\u001b[39;00m\n\u001b[0;32m    157\u001b[0m \n\u001b[1;32m   (...)\u001b[0m\n\u001b[0;32m    188\u001b[0m \n\u001b[0;32m    189\u001b[0m \u001b[38;5;124;03m\"\"\"\u001b[39;00m\n\u001b[0;32m    191\u001b[0m ds \u001b[38;5;241m=\u001b[39m DataSource(destpath)\n\u001b[1;32m--> 192\u001b[0m \u001b[38;5;28;01mreturn\u001b[39;00m \u001b[43mds\u001b[49m\u001b[38;5;241;43m.\u001b[39;49m\u001b[43mopen\u001b[49m\u001b[43m(\u001b[49m\u001b[43mpath\u001b[49m\u001b[43m,\u001b[49m\u001b[43m \u001b[49m\u001b[43mmode\u001b[49m\u001b[43m,\u001b[49m\u001b[43m \u001b[49m\u001b[43mencoding\u001b[49m\u001b[38;5;241;43m=\u001b[39;49m\u001b[43mencoding\u001b[49m\u001b[43m,\u001b[49m\u001b[43m \u001b[49m\u001b[43mnewline\u001b[49m\u001b[38;5;241;43m=\u001b[39;49m\u001b[43mnewline\u001b[49m\u001b[43m)\u001b[49m\n",
      "File \u001b[1;32md:\\Cerberus\\Assets\\Code\\ML\\ml_env\\lib\\site-packages\\numpy\\lib\\_datasource.py:532\u001b[0m, in \u001b[0;36mDataSource.open\u001b[1;34m(self, path, mode, encoding, newline)\u001b[0m\n\u001b[0;32m    529\u001b[0m     \u001b[38;5;28;01mreturn\u001b[39;00m _file_openers[ext](found, mode\u001b[38;5;241m=\u001b[39mmode,\n\u001b[0;32m    530\u001b[0m                               encoding\u001b[38;5;241m=\u001b[39mencoding, newline\u001b[38;5;241m=\u001b[39mnewline)\n\u001b[0;32m    531\u001b[0m \u001b[38;5;28;01melse\u001b[39;00m:\n\u001b[1;32m--> 532\u001b[0m     \u001b[38;5;28;01mraise\u001b[39;00m \u001b[38;5;167;01mFileNotFoundError\u001b[39;00m(\u001b[38;5;124mf\u001b[39m\u001b[38;5;124m\"\u001b[39m\u001b[38;5;132;01m{\u001b[39;00mpath\u001b[38;5;132;01m}\u001b[39;00m\u001b[38;5;124m not found.\u001b[39m\u001b[38;5;124m\"\u001b[39m)\n",
      "\u001b[1;31mFileNotFoundError\u001b[0m: testData.csv not found."
     ]
    }
   ],
   "source": [
    "import numpy as np\n",
    "data = np.genfromtxt('testData.csv', dtype=float, delimiter = ',')\n",
    "print ( np.mean( data[:, 9] ) )"
   ]
  },
  {
   "cell_type": "markdown",
   "metadata": {},
   "source": [
    "# Advanced Indexing\n",
    "\n",
    "- In NumPy advanced indexing occurs when we pass an array containing booleans or integers as an index.\n",
    "\n",
    "- Advanced indexing always returns a copy of the data (in contrast with basic slicing that returns a view).\n",
    "\n",
    "- We have already seen that, like lists, individual elements and slices of arrays can be selected using bracket notation. Unlike lists, however, arrays also permit selection using other arrays.\n",
    "\n",
    "- In NumPy this is referred to as advanced indexing (sometimes called Fancy Indexing)\n",
    "\n",
    "- This allows us to build up expressive filters for the data we are using. Before we illustrate this idea we will first look at the use of comparison operators in Python."
   ]
  },
  {
   "cell_type": "markdown",
   "metadata": {},
   "source": [
    "# Comparison operators \n",
    "\n",
    "Boolean comparisons can be used to compare members element-wise on arrays of equal size.\n",
    "\n",
    "- These operators (<,>, >=, <=, ==) return a Boolean array as a result.\n",
    "- Note the arrays need to be of the same size."
   ]
  },
  {
   "cell_type": "code",
   "execution_count": 8,
   "metadata": {},
   "outputs": [
    {
     "name": "stdout",
     "output_type": "stream",
     "text": [
      "[False  True False]\n",
      "[ True False False]\n"
     ]
    }
   ],
   "source": [
    "import numpy as np\n",
    "arr1 = np.array([1, 3, 0], float)\n",
    "arr2 = np.array([1, 2, 3], float)\n",
    "resultArr = arr1>arr2\n",
    "print (resultArr)\n",
    "print (arr1== arr2)"
   ]
  },
  {
   "cell_type": "markdown",
   "metadata": {},
   "source": [
    "# Array Selectors\n",
    "- We can use a Boolean array to filter the contents of another array.\n",
    "- Below we use a Boolean array to select a subset of element from the NumPy array. This is our first example of advanced indexing."
   ]
  },
  {
   "cell_type": "code",
   "execution_count": 9,
   "metadata": {},
   "outputs": [
    {
     "name": "stdout",
     "output_type": "stream",
     "text": [
      "[45.  2. 67.]\n"
     ]
    }
   ],
   "source": [
    "import numpy as np\n",
    "arr1 = np.array([45, 3, 2, 5, 67], float)\n",
    "boolArr1 = np.array([True, False, True, False, True], bool)\n",
    "print (arr1[boolArr1])\n",
    "\n",
    "#[ 45. 2. 67.] Notice the program only returns the elements in arr1, where the corresponding element in the Boolean array is true"
   ]
  },
  {
   "cell_type": "markdown",
   "metadata": {},
   "source": [
    "# Array Selectors\n",
    "- Can you remember what happens when we provide a single integer value\n",
    "as an index to a 2D array?\n"
   ]
  },
  {
   "cell_type": "code",
   "execution_count": 13,
   "metadata": {},
   "outputs": [
    {
     "name": "stdout",
     "output_type": "stream",
     "text": [
      "[12. 43. 73. 36.]\n",
      "[[45.  3. 67. 34.]]\n",
      "[45. 67. 12. 43. 36.]\n"
     ]
    }
   ],
   "source": [
    "import numpy as np\n",
    "arr2D = np.array([[45, 3, 67, 34],[12, 43, 73, 36]], float)\n",
    "print (arr2D[1])\n",
    "\n",
    "# If we provide a 1D Boolean array as an index to a 2D array the boolean values refer to rows\n",
    "\n",
    "boolArr3 = np.array([True, False], bool)\n",
    "print (arr2D[boolArr3])\n",
    "\n",
    "# If we provide a matching Boolean array it will select individual values and return a flat array\n",
    "\n",
    "arr2D = np.array([[45, 3, 67, 34],[12, 43, 73, 36]], float)\n",
    "boolArr3 = np.array([[True, False, True, False],[True, True,False, True]], bool)\n",
    "\n",
    "print (arr2D[boolArr3])\n",
    "\n",
    "# The example illustrates the impact of using Boolean arrays to filter 2D arrays.\n"
   ]
  },
  {
   "cell_type": "markdown",
   "metadata": {},
   "source": [
    "# Selecting Columns from 2D Array\n",
    "\n",
    "Here we use booleans to select\n",
    "particular columns from a 2D array.\n",
    "We specify all rows using : and we\n",
    "select the first and last column for\n",
    "selection"
   ]
  },
  {
   "cell_type": "code",
   "execution_count": 14,
   "metadata": {},
   "outputs": [
    {
     "name": "stdout",
     "output_type": "stream",
     "text": [
      "[[45. 67.]\n",
      " [12. 73.]]\n"
     ]
    }
   ],
   "source": [
    "import numpy as np\n",
    "arr2D = np.array([[45, 3, 67],[12, 43, 73]], float)\n",
    "boolArr4 = np.array([True, False, True], bool)\n",
    "print ( arr2D[:,boolArr4] )"
   ]
  },
  {
   "cell_type": "markdown",
   "metadata": {},
   "source": [
    "# Comparison operators\n",
    "\n",
    "Notice here we combine comparison\n",
    "operators and boolean selection.\n",
    "This will print out all those values in\n",
    "arr1 that are greater than the\n",
    "corresponding value in arr2 (very\n",
    "useful)"
   ]
  },
  {
   "cell_type": "code",
   "execution_count": 16,
   "metadata": {},
   "outputs": [
    {
     "name": "stdout",
     "output_type": "stream",
     "text": [
      "[ 3. 20. 78.]\n"
     ]
    }
   ],
   "source": [
    "import numpy as np\n",
    "arr1 = np.array([1, 3, 20, 5, 6, 78], float)\n",
    "arr2 = np.array([1, 2, 3, 67, 56, 32], float)\n",
    "resultArr = arr1>arr2\n",
    "print (arr1[resultArr])"
   ]
  },
  {
   "cell_type": "markdown",
   "metadata": {},
   "source": [
    "# Example \n",
    "\n",
    "Lets go back to our example where we have a basic csv file called testData.csv,\n",
    "containing 20 columns of numerical data. The tenth column (index 9) contains\n",
    "total student attendance for each day in the academic year. I want to extract all\n",
    "rows from the dataset where the student attendance was lower than the average"
   ]
  },
  {
   "cell_type": "code",
   "execution_count": 18,
   "metadata": {},
   "outputs": [
    {
     "ename": "SyntaxError",
     "evalue": "invalid character in identifier (<ipython-input-18-1bef19a60e3d>, line 2)",
     "output_type": "error",
     "traceback": [
      "\u001b[0;36m  File \u001b[0;32m\"<ipython-input-18-1bef19a60e3d>\"\u001b[0;36m, line \u001b[0;32m2\u001b[0m\n\u001b[0;31m    data = np.genfromtxt(‘testData.csv', dtype=float,delimiter = ',')\u001b[0m\n\u001b[0m                                 ^\u001b[0m\n\u001b[0;31mSyntaxError\u001b[0m\u001b[0;31m:\u001b[0m invalid character in identifier\n"
     ]
    }
   ],
   "source": [
    "import numpy as np\n",
    "data = np.genfromtxt(‘testData.csv', dtype=float,delimiter = ',')\n",
    "                     \n",
    "# calculate average student attendence\n",
    "avgAtt = np.mean( data[:, 9] )\n",
    "                     \n",
    "# comparison operator will return True if columnvalue is less than average\n",
    "                     \n",
    "dataFilter = data[:, 9] < avgAtt\n",
    "                     \n",
    "# extract all rows where attendance is less than average\n",
    "                     \n",
    "subsetData = data[dataFilter]\n",
    "                     \n",
    "# We used the boolean array to obtain the rows in the data array where the value in 10 th column is less than the average attendence"
   ]
  },
  {
   "cell_type": "markdown",
   "metadata": {},
   "source": [
    "# Comparison Operators\n",
    "\n",
    "- You will often find that the Boolean  comparison and the index appear in the same line (as shown below)"
   ]
  },
  {
   "cell_type": "code",
   "execution_count": 19,
   "metadata": {},
   "outputs": [
    {
     "name": "stdout",
     "output_type": "stream",
     "text": [
      "[[1. 2. 3.]\n",
      " [2. 4. 5.]\n",
      " [4. 5. 7.]\n",
      " [6. 2. 3.]]\n",
      "[[1. 2. 3.]\n",
      " [6. 2. 3.]]\n"
     ]
    }
   ],
   "source": [
    "import numpy as np\n",
    "data = np.array([[1, 2, 3], [2, 4, 5], [4, 5, 7],[6, 2, 3]], float)\n",
    "\n",
    "print (data)\n",
    "\n",
    "# return all rows in array where the element at index 1 in a row equals 2\n",
    "newdata = data[data[:,1] == 2.]\n",
    "\n",
    "print (newdata)\n",
    "\n",
    "# Returns all rows in the 2D array such that the value of the column with index 1 in that row contains the value 2"
   ]
  },
  {
   "cell_type": "markdown",
   "metadata": {},
   "source": [
    "# Logical Operators\n",
    "- You can combine multiple conditions using logical operators.\n",
    "- Unlike standard Python the logical operators used are & and |"
   ]
  },
  {
   "cell_type": "code",
   "execution_count": 25,
   "metadata": {},
   "outputs": [
    {
     "name": "stdout",
     "output_type": "stream",
     "text": [
      "[False False  True  True]\n",
      "[False False  True False]\n",
      "[[4. 5. 7.]]\n"
     ]
    }
   ],
   "source": [
    "import numpy as np\n",
    "\n",
    "data = np.array([[1, 2, 3], [2, 4, 5],[4, 5, 7], [6, 2, 3]], float)\n",
    "\n",
    "resultA = data[:,0]>3\n",
    "resultB = data[:,2]>6\n",
    "\n",
    "print (resultA)\n",
    "print (resultB)\n",
    "\n",
    "print (data[resultA & resultB])\n",
    "\n",
    "# Notice in the code we combine two conditions using & (we could chain as many conditions as we wish)"
   ]
  },
  {
   "cell_type": "markdown",
   "metadata": {},
   "source": [
    "# Advanced Indexing with Integer Arrays\n",
    "\n",
    "- In addition to Boolean selection, it is possible to select using integer arrays.\n",
    "- In this example the new array c is composed by selecting the elements from a using the index specified by the elements of b."
   ]
  },
  {
   "cell_type": "code",
   "execution_count": 26,
   "metadata": {},
   "outputs": [
    {
     "name": "stdout",
     "output_type": "stream",
     "text": [
      "[2. 2. 4. 8. 6. 4.]\n"
     ]
    }
   ],
   "source": [
    "import numpy as np\n",
    "a = np.array([2, 4, 6, 8], float)\n",
    "b = np.array([0, 0, 1, 3, 2, 1], int)\n",
    "c = a[b]\n",
    "print (c)"
   ]
  },
  {
   "cell_type": "code",
   "execution_count": 29,
   "metadata": {},
   "outputs": [
    {
     "name": "stdout",
     "output_type": "stream",
     "text": [
      "[1 4 5]\n"
     ]
    }
   ],
   "source": [
    "# From each row, a specific element should be selected. \n",
    "#The row index is just [0, 1, 2] and the column index specifies the element to choose \n",
    "# for the corresponding row, here [0, 1, 0]. \n",
    "\n",
    "\n",
    "x = np.array([[1, 2], [3, 4], [5, 6]])\n",
    "\n",
    "a = x[[0, 1, 2], [0, 1, 0]]\n",
    "\n",
    "print (a)"
   ]
  },
  {
   "cell_type": "markdown",
   "metadata": {},
   "source": []
  },
  {
   "cell_type": "code",
   "execution_count": 3,
   "metadata": {},
   "outputs": [
    {
     "name": "stdout",
     "output_type": "stream",
     "text": [
      "[1]\n",
      "[0]\n"
     ]
    }
   ],
   "source": []
  },
  {
   "cell_type": "markdown",
   "metadata": {},
   "source": []
  },
  {
   "cell_type": "code",
   "execution_count": 4,
   "metadata": {},
   "outputs": [
    {
     "name": "stdout",
     "output_type": "stream",
     "text": [
      "[1]\n"
     ]
    }
   ],
   "source": []
  },
  {
   "cell_type": "code",
   "execution_count": null,
   "metadata": {},
   "outputs": [],
   "source": []
  }
 ],
 "metadata": {
  "kernelspec": {
   "display_name": "ml_env",
   "language": "python",
   "name": "python3"
  },
  "language_info": {
   "codemirror_mode": {
    "name": "ipython",
    "version": 3
   },
   "file_extension": ".py",
   "mimetype": "text/x-python",
   "name": "python",
   "nbconvert_exporter": "python",
   "pygments_lexer": "ipython3",
   "version": "3.10.11"
  },
  "toc": {
   "base_numbering": 1,
   "nav_menu": {},
   "number_sections": true,
   "sideBar": true,
   "skip_h1_title": false,
   "title_cell": "Table of Contents",
   "title_sidebar": "Contents",
   "toc_cell": false,
   "toc_position": {},
   "toc_section_display": true,
   "toc_window_display": false
  }
 },
 "nbformat": 4,
 "nbformat_minor": 5
}
