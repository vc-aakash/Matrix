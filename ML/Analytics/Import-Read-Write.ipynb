{
 "cells": [
  {
   "cell_type": "code",
   "execution_count": 10,
   "metadata": {},
   "outputs": [],
   "source": [
    "import csv\n",
    "import xml.etree.ElementTree as ET"
   ]
  },
  {
   "cell_type": "code",
   "execution_count": 3,
   "metadata": {},
   "outputs": [
    {
     "name": "stdout",
     "output_type": "stream",
     "text": [
      "['0', '1', '2', '3', '4']\n",
      "['5', '6', '7', '8', '9']\n",
      "['10', '11', '12', '13', '14']\n",
      "['15', '16', '17', '18', '19']\n",
      "['20', '21', '22', '23', '24']\n",
      "['25', '26', '27', '28', '29']\n",
      "['30', '31', '32', '33', '34']\n",
      "['35', '36', '37', '38', '39']\n",
      "['40', '41', '42', '43', '44']\n",
      "['45', '46', '47', '48', '49']\n"
     ]
    }
   ],
   "source": [
    "with open(\"nums.txt\", \"r\", newline=\"\") as csvFile:\n",
    "    reader = csv.reader(csvFile)\n",
    "    for row in reader:\n",
    "        print(row)\n",
    "csvFile.close()"
   ]
  },
  {
   "cell_type": "code",
   "execution_count": 5,
   "metadata": {},
   "outputs": [
    {
     "name": "stdout",
     "output_type": "stream",
     "text": [
      "['Person', 'Age']\n",
      "['Peter', '22']\n",
      "['Jasmine', '21']\n",
      "['Sam', '24']\n",
      "['Person', 'Age']\n",
      "['Peter', '22']\n",
      "['Jasmine', '21']\n",
      "['Sam', '24']\n"
     ]
    }
   ],
   "source": [
    "csvData = [['Person', 'Age'], ['Peter', '22'],\n",
    "['Jasmine', '21'], ['Sam', '24']]\n",
    "\n",
    "with open(\"data.csv\", \"a\", newline=\"\") as csvfile:\n",
    "    writer = csv.writer(csvfile)\n",
    "    writer.writerows(csvData)\n",
    "\n",
    "with open(\"data.csv\", \"r\", newline=\"\") as csvFile:\n",
    "    reader = csv.reader(csvFile)\n",
    "    for row in reader:\n",
    "        print(row)\n",
    "csvFile.close()"
   ]
  },
  {
   "cell_type": "code",
   "execution_count": 9,
   "metadata": {},
   "outputs": [
    {
     "name": "stdout",
     "output_type": "stream",
     "text": [
      "Name: Chuck\n"
     ]
    }
   ],
   "source": [
    "data = '''<person>\n",
    "<name>Chuck</name>\n",
    "<phone type=\"intl\">\n",
    "+1 734 303 4456\n",
    "</phone>\n",
    "<email hide=\"yes\"/>\n",
    "</person>'''\n",
    "\n",
    "tree = ET.fromstring(data)\n",
    "print(\"Name:\", tree.find(\"name\").text)"
   ]
  },
  {
   "cell_type": "code",
   "execution_count": 13,
   "metadata": {},
   "outputs": [
    {
     "name": "stdout",
     "output_type": "stream",
     "text": [
      "Name: Chuck\n",
      "Id: 001\n",
      "Attribute: 2\n",
      "Name: Brett\n",
      "Id: 009\n",
      "Attribute: 7\n"
     ]
    }
   ],
   "source": [
    "input = '''<data><users>\n",
    "<user x=\"2\"><id>001</id><name>Chuck</name></user>\n",
    "<user x=\"7\"><id>009</id><name>Brett</name></user>\n",
    "</users></data>'''\n",
    "\n",
    "xmldata = ET.fromstring(input)\n",
    "userList = xmldata.findall(\"users/user\")\n",
    "for user in userList:\n",
    "    print(\"Name:\", user.find(\"name\").text)\n",
    "    print(\"Id:\", user.find(\"id\").text)\n",
    "    print(\"Attribute:\", user.get(\"x\"))"
   ]
  }
 ],
 "metadata": {
  "kernelspec": {
   "display_name": "ml_env",
   "language": "python",
   "name": "python3"
  },
  "language_info": {
   "codemirror_mode": {
    "name": "ipython",
    "version": 3
   },
   "file_extension": ".py",
   "mimetype": "text/x-python",
   "name": "python",
   "nbconvert_exporter": "python",
   "pygments_lexer": "ipython3",
   "version": "3.10.11"
  }
 },
 "nbformat": 4,
 "nbformat_minor": 2
}
